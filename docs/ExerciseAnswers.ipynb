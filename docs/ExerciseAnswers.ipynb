{
  "cells": [
    {
      "cell_type": "markdown",
      "metadata": {
        "id": "c6wrfd48wn0C"
      },
      "source": [
        "<a href=\"https://colab.research.google.com/github/travisormsby/python-tips-tricks/blob/main/docs/ExerciseAnswers.ipynb\" target=\"_parent\"><img src=\"https://colab.research.google.com/assets/colab-badge.svg\" alt=\"Open In Colab\"/></a>"
      ]
    },
    {
      "cell_type": "markdown",
      "metadata": {
        "id": "gDijWs6_wn0D"
      },
      "source": [
        "# Exercise Answers"
      ]
    },
    {
      "cell_type": "markdown",
      "metadata": {
        "id": "JmQ9r_bqwn0E"
      },
      "source": [
        "The code cells below are example answers to the workshop exercises. They are useful if you get stuck and need a hint or if you want to use them as a comparison with your own attempts"
      ]
    },
    {
      "cell_type": "markdown",
      "metadata": {
        "id": "gpUrQn55wn0E"
      },
      "source": [
        "## 1.1) Use unpacking for pretty printing"
      ]
    },
    {
      "cell_type": "code",
      "execution_count": null,
      "metadata": {
        "id": "kdWpAi9twn0E",
        "outputId": "2b29a425-9900-4677-afc9-44413d26b14e"
      },
      "outputs": [
        {
          "name": "stdout",
          "output_type": "stream",
          "text": [
            "Anoka\n",
            "Dakota\n",
            "Carver\n",
            "Hennepin\n",
            "Ramsey\n",
            "Scott\n",
            "Washington\n"
          ]
        }
      ],
      "source": [
        "counties = [\"Anoka\", \"Dakota\", \"Carver\", \"Hennepin\", \"Ramsey\", \"Scott\", \"Washington\"]\n",
        "print(*counties, sep='\\n')"
      ]
    },
    {
      "cell_type": "markdown",
      "metadata": {
        "id": "mKHkYMFCwn0F"
      },
      "source": [
        "## 1.2) Use try/except"
      ]
    },
    {
      "cell_type": "code",
      "execution_count": null,
      "metadata": {
        "id": "F5D8ujzBwn0F",
        "outputId": "d7ed0006-e952-4fd6-dac8-9d26a51910b9"
      },
      "outputs": [
        {
          "name": "stdout",
          "output_type": "stream",
          "text": [
            "25.0\n",
            "inf\n"
          ]
        }
      ],
      "source": [
        "from math import inf\n",
        "from typing import NamedTuple\n",
        "\n",
        "class Record(NamedTuple):\n",
        "    total_population: int\n",
        "    population_in_poverty: int\n",
        "\n",
        "record1 = Record(5000, 200)\n",
        "record2 = Record(200, 0)\n",
        "\n",
        "for field in Record._fields:\n",
        "    try:\n",
        "        ratio = getattr(record1, field) / getattr(record2, field)\n",
        "    except ZeroDivisionError:\n",
        "        ratio = inf\n",
        "    print(ratio)"
      ]
    },
    {
      "cell_type": "markdown",
      "metadata": {
        "id": "6kcVy6-uwn0F"
      },
      "source": [
        "## 1.3) Use standard library data classes"
      ]
    },
    {
      "cell_type": "code",
      "execution_count": null,
      "metadata": {
        "id": "XhzGMhIIwn0F",
        "outputId": "c61ea3c6-34c1-446c-8269-d1760c40620e"
      },
      "outputs": [
        {
          "name": "stdout",
          "output_type": "stream",
          "text": [
            "Record(total_population=6000, population_in_poverty=200)\n"
          ]
        }
      ],
      "source": [
        "from dataclasses import dataclass\n",
        "\n",
        "@dataclass\n",
        "class Record:\n",
        "    total_population: int\n",
        "    population_in_poverty: int\n",
        "\n",
        "record = Record(5000, 200)\n",
        "record.total_population = 6000\n",
        "print(record)"
      ]
    },
    {
      "cell_type": "markdown",
      "metadata": {
        "id": "26AzguB7wn0F"
      },
      "source": [
        "## 1.4) Use the built-in min and max functions"
      ]
    },
    {
      "cell_type": "code",
      "execution_count": null,
      "metadata": {
        "id": "8F3Tax2Swn0G",
        "outputId": "62ec3983-c7a9-4541-910b-ef3de8c60bb3"
      },
      "outputs": [
        {
          "name": "stdout",
          "output_type": "stream",
          "text": [
            "891 -899\n"
          ]
        }
      ],
      "source": [
        "from random import randint\n",
        "\n",
        "nums = [randint(-1000, 1000) for i in range(20)]\n",
        "\n",
        "print(max(nums), min(nums))"
      ]
    },
    {
      "cell_type": "markdown",
      "metadata": {
        "id": "HfbsXnB2wn0G"
      },
      "source": [
        "## 1.5) Open a file with a context manager"
      ]
    },
    {
      "cell_type": "code",
      "execution_count": null,
      "metadata": {
        "id": "rU_h7r4Lwn0G"
      },
      "outputs": [],
      "source": [
        "with open(\"exercise.txt\", \"w\") as f:\n",
        "    f.write(\"This is example text for an exercise.\")"
      ]
    },
    {
      "cell_type": "markdown",
      "metadata": {
        "id": "MB3VpUcLwn0G"
      },
      "source": [
        "## 2.1) Tuple-based storage"
      ]
    },
    {
      "cell_type": "code",
      "execution_count": 1,
      "metadata": {
        "colab": {
          "base_uri": "https://localhost:8080/"
        },
        "id": "_EAH39RBwn0G",
        "outputId": "a6f733b2-a4e3-43e3-c673-afb2e5607d2f"
      },
      "outputs": [
        {
          "output_type": "stream",
          "name": "stdout",
          "text": [
            "(1900, 1901, 1902, 1903, 1904, 1905, 1906, 1907, 1908, 1909, 1910, 1911, 1912, 1913, 1914, 1915, 1916, 1917, 1918, 1919, 1920, 1921, 1922, 1923, 1924, 1925, 1926, 1927, 1928, 1929, 1930, 1931, 1932, 1933, 1934, 1935, 1936, 1937, 1938, 1939, 1940, 1941, 1942, 1943, 1944, 1945, 1946, 1947, 1948, 1949, 1950, 1951, 1952, 1953, 1954, 1955, 1956, 1957, 1958, 1959, 1960, 1961, 1962, 1963, 1964, 1965, 1966, 1967, 1968, 1969, 1970, 1971, 1972, 1973, 1974, 1975, 1976, 1977, 1978, 1979, 1980, 1981, 1982, 1983, 1984, 1985, 1986, 1987, 1988, 1989, 1990, 1991, 1992, 1993, 1994, 1995, 1996, 1997, 1998, 1999, 2000, 2001, 2002, 2003, 2004, 2005, 2006, 2007, 2008, 2009, 2010, 2011, 2012, 2013, 2014, 2015, 2016, 2017, 2018, 2019, 2020, 2021, 2022, 2023, 2024, 2025, 2026, 2027, 2028, 2029, 2030)\n",
            "Bytes used:  1088\n"
          ]
        }
      ],
      "source": [
        "import sys\n",
        "\n",
        "def tupleFromRange(r1, r2):\n",
        "  \"\"\"Create a tuple from a range of values\"\"\"\n",
        "  return tuple(range(r1, r2+1))\n",
        "\n",
        "start = 1900\n",
        "end = 2030\n",
        "\n",
        "studyYears = tupleFromRange(start, end)\n",
        "\n",
        "print(studyYears)\n",
        "print(\"Bytes used: \", sys.getsizeof(studyYears))"
      ]
    },
    {
      "cell_type": "markdown",
      "metadata": {
        "id": "XfTJT-mwwn0G"
      },
      "source": [
        "## 2.2) Set-based look-up"
      ]
    },
    {
      "cell_type": "code",
      "execution_count": 2,
      "metadata": {
        "id": "QkWbGutFwn0G"
      },
      "outputs": [],
      "source": [
        "placeNames_list = [\"Kinshasa\", \"Duluth\", \"Uruguay\", \"Doherty Residence\", \"Dinkytown\", \"Khazad-dûm\"]\n",
        "placeNames_set = set(placeNames_list)\n",
        "\n",
        "# Set look-up\n",
        "if \"Dinkytown\" not in placeNames_set:\n",
        "    print(\"Missing.\")  # O(1) look-up"
      ]
    },
    {
      "cell_type": "markdown",
      "metadata": {
        "id": "GEZbK6hUwn0G"
      },
      "source": [
        "## 2.3) Generator expression"
      ]
    },
    {
      "cell_type": "code",
      "execution_count": 3,
      "metadata": {
        "colab": {
          "base_uri": "https://localhost:8080/"
        },
        "id": "X95o7WA7wn0G",
        "outputId": "cba7f526-d764-41e6-bbac-a43bb69e9ab4"
      },
      "outputs": [
        {
          "output_type": "stream",
          "name": "stdout",
          "text": [
            "['qwUYHnBg', 'yypGsKIi', 'bRVmubKp', 'RbEdRWKF', 'zCRwzvBG', 'swaWiWNs', 'gXndKiBa', 'acRnakiC', 'kuElpvqh', 'fvyfTINZ']\n",
            "qwuyhnbg\n",
            "yypgskii\n",
            "brvmubkp\n",
            "rbedrwkf\n",
            "zcrwzvbg\n",
            "swawiwns\n",
            "gxndkiba\n",
            "acrnakic\n",
            "kuelpvqh\n",
            "fvyftinz\n"
          ]
        }
      ],
      "source": [
        "import random\n",
        "import string\n",
        "\n",
        "# Input dataset: A list of random strings. Each string is 8 letters long.\n",
        "randomStrings = [''.join(random.choices(string.ascii_letters, k=8)) for i in range(10)]\n",
        "print(randomStrings)\n",
        "\n",
        "# Convert all strings to lowercase\n",
        "lowerCase_gen = (x.lower() for x in randomStrings)\n",
        "for x in lowerCase_gen:\n",
        "  print(x)"
      ]
    },
    {
      "cell_type": "markdown",
      "metadata": {
        "id": "E8Imgplmwn0G"
      },
      "source": [
        "## 2.4) Generator"
      ]
    },
    {
      "cell_type": "code",
      "execution_count": 4,
      "metadata": {
        "colab": {
          "base_uri": "https://localhost:8080/"
        },
        "id": "O1TqOdzown0G",
        "outputId": "aa0fd786-4319-4add-8544-d3523d7b3a37"
      },
      "outputs": [
        {
          "output_type": "stream",
          "name": "stdout",
          "text": [
            "[4, 4, 100, 0, 1, -7, 2]\n",
            "[-1, 3, 137, 10, 6, 24, 4]\n"
          ]
        }
      ],
      "source": [
        "# The list that each dataset will be compared to.\n",
        "primary = [4, 7, 140, 55, 7, 91, 6]\n",
        "\n",
        "# Input datasets\n",
        "inputs = (\n",
        " [0, 3, 40, 55, 6, 98, 4],\n",
        " [5, 4, 3, 45, 1, 67, 2],\n",
        " [7, 150, 0.5, 1]\n",
        " )\n",
        "\n",
        "def matchingStructure_gen(inputsList, primList):\n",
        "  \"\"\"\n",
        "  This generator compares the length of each input collection to the primary\n",
        "  list. An input that matches in length gets multiplied by the primary list and\n",
        "  yielded.\n",
        "  \"\"\"\n",
        "  for item in inputsList:\n",
        "    if len(item) == len(primList):\n",
        "      multiplied = [b - a for a, b in zip(item, primList)]\n",
        "      yield multiplied\n",
        "\n",
        "for item in matchingStructure_gen(inputs, primary):\n",
        "  print(item)"
      ]
    },
    {
      "cell_type": "markdown",
      "metadata": {
        "id": "e9cXOZB-wn0G"
      },
      "source": [
        "## 2.5) Compare differences in speed using `timeit`"
      ]
    },
    {
      "cell_type": "markdown",
      "source": [
        "### 2.5.1) `%timeit` line magic"
      ],
      "metadata": {
        "id": "-Oo3x042x8h1"
      }
    },
    {
      "cell_type": "code",
      "execution_count": 5,
      "metadata": {
        "colab": {
          "base_uri": "https://localhost:8080/"
        },
        "id": "06Pd2yxPwn0H",
        "outputId": "3bfa7eb3-d817-4268-9853-82949cf4dc60"
      },
      "outputs": [
        {
          "output_type": "stream",
          "name": "stdout",
          "text": [
            "4.2 µs ± 833 ns per loop (mean ± std. dev. of 7 runs, 100000 loops each)\n",
            "505 ns ± 19.3 ns per loop (mean ± std. dev. of 7 runs, 1000000 loops each)\n"
          ]
        }
      ],
      "source": [
        "%timeit [i for i in range(50) if i % 2 == 0]\n",
        "%timeit (i for i in range(50) if i % 2 == 0)"
      ]
    },
    {
      "cell_type": "markdown",
      "source": [
        "### 2.5.2) `%%timeit` cell magic"
      ],
      "metadata": {
        "id": "Gdau7lmbyAjp"
      }
    },
    {
      "cell_type": "code",
      "source": [
        "%%timeit -n 1 -r 1\n",
        "\n",
        "employeeDatabase = [\n",
        "  {'lastName': 'Knope', 'rate': 72000, 'pay_class': 'annual'},\n",
        "  {'lastName': 'Gergich', 'rate': 17, 'pay_class': 'hourly'},\n",
        "  {'lastName': 'Ludgate', 'rate': 60000, 'pay_class': 'annual'},\n",
        "  {'lastName': 'Swanson', 'rate': 'redacted', 'pay_class': 'redacted'},\n",
        "  {'lastName': 'Haverford', 'rate': 52000, 'pay_class': 'annual'}\n",
        "]\n",
        "\n",
        "def hourly_rate(payments):\n",
        "  \"\"\"Function that returns each salaried workers' hourly rate.\"\"\"\n",
        "  hourlyRates = []\n",
        "  for worker in payments:\n",
        "    if worker.get('pay_class') == 'annual':\n",
        "      hourly = worker['rate'] / 2080\n",
        "      hourlyRates.append(hourly)\n",
        "  return hourlyRates\n",
        "\n",
        "# Sum hourly rates for those receiving an annual salary.\n",
        "salariesPerHour = sum(hourly_rate(employeeDatabase))\n",
        "\n",
        "print(f\"Total dispersments per hour for salaried employees: ${salariesPerHour:.2f}\")"
      ],
      "metadata": {
        "colab": {
          "base_uri": "https://localhost:8080/"
        },
        "id": "3e7PvtrwyD2O",
        "outputId": "4598eb22-8fc3-4e7e-841c-d5ac2b200e14"
      },
      "execution_count": 6,
      "outputs": [
        {
          "output_type": "stream",
          "name": "stdout",
          "text": [
            "Total dispersments per hour for salaried employees: $88.46\n",
            "79.4 µs ± 0 ns per loop (mean ± std. dev. of 1 run, 1 loop each)\n"
          ]
        }
      ]
    },
    {
      "cell_type": "markdown",
      "metadata": {
        "id": "r-Gm1LPawn0H"
      },
      "source": [
        "## 2.6) Check for speed bottlenecks in detail with `cProfile`"
      ]
    },
    {
      "cell_type": "code",
      "execution_count": 7,
      "metadata": {
        "colab": {
          "base_uri": "https://localhost:8080/"
        },
        "id": "QEHdNWXdwn0H",
        "outputId": "5ab61cb7-7268-414c-b92e-f737a99de320"
      },
      "outputs": [
        {
          "output_type": "stream",
          "name": "stdout",
          "text": [
            "         30000008 function calls in 4.517 seconds\n",
            "\n",
            "   Ordered by: cumulative time\n",
            "\n",
            "   ncalls  tottime  percall  cumtime  percall filename:lineno(function)\n",
            " 10000000    1.981    0.000    1.981    0.000 <ipython-input-7-233c72c0aca7>:5(<genexpr>)\n",
            " 19999998    1.670    0.000    1.670    0.000 {method 'append' of 'list' objects}\n",
            "        1    0.866    0.866    0.866    0.866 <ipython-input-7-233c72c0aca7>:4(<listcomp>)\n",
            "        1    0.000    0.000    0.000    0.000 cProfile.py:41(print_stats)\n",
            "        1    0.000    0.000    0.000    0.000 pstats.py:108(__init__)\n",
            "        1    0.000    0.000    0.000    0.000 pstats.py:118(init)\n",
            "        1    0.000    0.000    0.000    0.000 pstats.py:137(load_stats)\n",
            "        1    0.000    0.000    0.000    0.000 cProfile.py:51(create_stats)\n",
            "        1    0.000    0.000    0.000    0.000 {built-in method builtins.isinstance}\n",
            "        1    0.000    0.000    0.000    0.000 {method 'disable' of '_lsprof.Profiler' objects}\n",
            "        1    0.000    0.000    0.000    0.000 {built-in method builtins.len}\n",
            "        1    0.000    0.000    0.000    0.000 {built-in method builtins.hasattr}\n",
            "\n",
            "\n"
          ]
        }
      ],
      "source": [
        "import cProfile\n",
        "\n",
        "with cProfile.Profile() as pr:\n",
        "  dataList = [x for x in range(1, 10_000_000)]\n",
        "  dataTuple = tuple(x for x in range(1, 10_000_000))\n",
        "\n",
        "  listFromList = []\n",
        "  listFromTuple = []\n",
        "\n",
        "  for item in dataList:\n",
        "    new = item + 1\n",
        "    listFromList.append(new)\n",
        "\n",
        "  for item in dataTuple:\n",
        "    new = item + 1\n",
        "    listFromTuple.append(new)\n",
        "\n",
        "  pr.print_stats('cumtime')"
      ]
    },
    {
      "cell_type": "markdown",
      "source": [
        "## 2.7) Stretch goal: Raster generator"
      ],
      "metadata": {
        "id": "RM833PQYxya8"
      }
    },
    {
      "cell_type": "code",
      "source": [
        "# # # Exercise solution, version 1 # # #\n",
        "import numpy as np\n",
        "\n",
        "# Starting dataset: 80x80 grid of people per 500m².\n",
        "highResPop = np.ones((80, 80)) * 5\n",
        "\n",
        "def densityKM_gen(popArray):\n",
        "    \"\"\"\n",
        "    Generator that yields rows of population density per km² cells from a\n",
        "    500 m² resolution population source.\n",
        "\n",
        "    Input:  500x500m 2D array\n",
        "    Output: Each yield output is a 1D array representing one row of densities.\n",
        "    \"\"\"\n",
        "    group_size = 20\n",
        "    rows, cols = popArray.shape\n",
        "\n",
        "    # Aggregate\n",
        "    kmArray = popArray.reshape(\n",
        "        rows // group_size, group_size,\n",
        "        cols // group_size, group_size\n",
        "    )\n",
        "\n",
        "    # Sum over each group\n",
        "    kmDensity = kmArray.sum(axis=(1, 3))\n",
        "\n",
        "    for row in kmDensity:\n",
        "        yield row  # Now yields an array\n",
        "\n",
        "\n",
        "for row in densityKM_gen(highResPop):\n",
        "    print(row)"
      ],
      "metadata": {
        "colab": {
          "base_uri": "https://localhost:8080/"
        },
        "id": "Vh6E2XFDx4uI",
        "outputId": "6ba4a9c7-0ec5-4f51-c3df-3824986c387d"
      },
      "execution_count": 8,
      "outputs": [
        {
          "output_type": "stream",
          "name": "stdout",
          "text": [
            "[2000. 2000. 2000. 2000.]\n",
            "[2000. 2000. 2000. 2000.]\n",
            "[2000. 2000. 2000. 2000.]\n",
            "[2000. 2000. 2000. 2000.]\n"
          ]
        }
      ]
    },
    {
      "cell_type": "code",
      "source": [
        "# # # Exercise solution, version 2 (even more memory efficient) # # #\n",
        "import numpy as np\n",
        "\n",
        "# Starting dataset: 80x80 grid of people per 500m².\n",
        "highResPop = np.ones((80, 80)) * 5\n",
        "\n",
        "def densityKM_gen2(popArray):\n",
        "    \"\"\"\n",
        "    Generator that yields rows of population density per km² cells from a\n",
        "    500 m² resolution population source.\n",
        "    Unlike Solution Version 1, this generator does not create the entire km²\n",
        "    array in memory. It saves memory by processing one group of 20x20\n",
        "    cells at a time.\n",
        "\n",
        "    Input:  500x500m 2D array\n",
        "    Output: Each yield is a 1D NumPy array representing one row of km²\n",
        "    densities, processed group by group.\n",
        "    \"\"\"\n",
        "    import numpy as np\n",
        "\n",
        "    group_size = 20\n",
        "    rows, cols = popArray.shape\n",
        "\n",
        "    num_row_blocks = rows // group_size\n",
        "    num_col_blocks = cols // group_size\n",
        "\n",
        "    for i in range(num_row_blocks):\n",
        "        row_densities = []\n",
        "        row_start = i * group_size\n",
        "\n",
        "        for j in range(num_col_blocks):\n",
        "            col_start = j * group_size\n",
        "            block = popArray[row_start:row_start + group_size,\n",
        "                             col_start:col_start + group_size]\n",
        "            density = block.sum()\n",
        "            row_densities.append(density)\n",
        "\n",
        "        yield np.array(row_densities)\n",
        "\n",
        "\n",
        "for row in densityKM_gen2(highResPop):\n",
        "    print(row)"
      ],
      "metadata": {
        "colab": {
          "base_uri": "https://localhost:8080/"
        },
        "id": "yOE-81uZzkle",
        "outputId": "69c13d08-8aed-4584-d71e-2af479ad48ce"
      },
      "execution_count": 9,
      "outputs": [
        {
          "output_type": "stream",
          "name": "stdout",
          "text": [
            "[2000. 2000. 2000. 2000.]\n",
            "[2000. 2000. 2000. 2000.]\n",
            "[2000. 2000. 2000. 2000.]\n",
            "[2000. 2000. 2000. 2000.]\n"
          ]
        }
      ]
    }
  ],
  "metadata": {
    "kernelspec": {
      "display_name": ".venv",
      "language": "python",
      "name": "python3"
    },
    "language_info": {
      "codemirror_mode": {
        "name": "ipython",
        "version": 3
      },
      "file_extension": ".py",
      "mimetype": "text/x-python",
      "name": "python",
      "nbconvert_exporter": "python",
      "pygments_lexer": "ipython3",
      "version": "3.13.1"
    },
    "colab": {
      "provenance": []
    }
  },
  "nbformat": 4,
  "nbformat_minor": 0
}