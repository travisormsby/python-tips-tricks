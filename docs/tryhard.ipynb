{
 "cells": [
  {
   "cell_type": "markdown",
   "metadata": {},
   "source": [
    "<a href=\"https://colab.research.google.com/github/travisormsby/python-tips-tricks/blob/main/docs/tryhard.ipynb\" target=\"_parent\"><img src=\"https://colab.research.google.com/assets/colab-badge.svg\" alt=\"Open In Colab\"/></a>"
   ]
  },
  {
   "cell_type": "markdown",
   "metadata": {},
   "source": [
    "# Use Python idioms"
   ]
  },
  {
   "cell_type": "markdown",
   "metadata": {},
   "source": [
    "When presented with a problem, our first instinct might be to write code that reflects how we would solve the problem manually. That's good because we can take advantage of our existing knowledge. But it's also bad because it's likely to be harder to implement than a solution that takes full advantages of Python's capabilities. \n",
    "\n",
    "You are probably working harder than you need to when you implement solutions that match your manual process. For many types of problems, Python has solved them already. Learning the Pythonic way to address a problem will be easier than coming up with your own. It will also be easier for other people to understand your code, because you are using the well-known idioms of Python instead of your own idiosyncratic implementation."
   ]
  },
  {
   "cell_type": "markdown",
   "metadata": {},
   "source": [
    "## Unpack values "
   ]
  },
  {
   "cell_type": "markdown",
   "metadata": {},
   "source": [
    "An analyst has a tuple of three values that represent the x, y, and z coordinates of a location. The analyst has a distance function that takes three arguments, one for each coordinate."
   ]
  },
  {
   "cell_type": "code",
   "execution_count": null,
   "metadata": {},
   "outputs": [],
   "source": [
    "coordinates = (2, 5, 4)\n",
    "\n",
    "def distance_from_origin(x, y, z):\n",
    "    return (x**2 + y**2 + z**2) ** 0.5"
   ]
  },
  {
   "cell_type": "markdown",
   "metadata": {},
   "source": [
    "The analyst needs to pass the values from the tuple to the function. One way to do that is to use the index of each value with bracket notation."
   ]
  },
  {
   "cell_type": "code",
   "execution_count": null,
   "metadata": {},
   "outputs": [],
   "source": [
    "x = coordinates[0]\n",
    "y = coordinates[1]\n",
    "z = coordinates[2]\n",
    "\n",
    "distance_from_origin(x, y, z)"
   ]
  },
  {
   "cell_type": "markdown",
   "metadata": {},
   "source": [
    "That works, but it has two problems:\n",
    "\n",
    "* Repetition of `coodinates` is error prone and tough to refactor.\n",
    "* Overuse of brackets makes code harder to read.\n",
    "\n",
    "You can use unpacking to fix both problems."
   ]
  },
  {
   "cell_type": "code",
   "execution_count": null,
   "metadata": {},
   "outputs": [],
   "source": [
    "x, y, z = coordinates\n",
    "\n",
    "distance_from_origin(x, y, z)"
   ]
  },
  {
   "cell_type": "markdown",
   "metadata": {},
   "source": [
    "Variable unpacking takes a collection of values on the right-hand side of `=` and assigns each value in order to an equal number of names on the left hand side. Importantly, the number of names on the left must match the number of values in the collection on the right.  "
   ]
  },
  {
   "cell_type": "code",
   "execution_count": null,
   "metadata": {},
   "outputs": [],
   "source": [
    "x, y, z, m = coordinates"
   ]
  },
  {
   "cell_type": "code",
   "execution_count": null,
   "metadata": {},
   "outputs": [],
   "source": [
    "x, y = coordinates"
   ]
  },
  {
   "cell_type": "markdown",
   "metadata": {},
   "source": [
    "Unpacking to names is useful, but you can go a step further when the values you need to unpack will be passed to a function or class constructor. "
   ]
  },
  {
   "cell_type": "code",
   "execution_count": null,
   "metadata": {},
   "outputs": [],
   "source": [
    "distance_from_origin(*coordinates)"
   ]
  },
  {
   "cell_type": "markdown",
   "metadata": {},
   "source": [
    "The `*` in front of the variable name unpacks the values so that each value in order is assigned to the parameters of the function. \n",
    "\n",
    "One disadvantage of unpacking a collection into arguments this way is that it relies on parameter order. That means it only works when you can use positional arguments and doesn't work when you need to specify keyword arguments. \n",
    "\n",
    "But if the values to unpack are in a dictionary where each key matches a parameter name, you can unpack them as keyword arguments with `**`. Then the order of values no longer matters."
   ]
  },
  {
   "cell_type": "code",
   "execution_count": null,
   "metadata": {},
   "outputs": [],
   "source": [
    "coordinates_dict = {\n",
    "    \"z\": 4,\n",
    "    \"y\": 5,\n",
    "    \"x\": 2\n",
    "}\n",
    "\n",
    "distance_from_origin(**coordinates_dict)"
   ]
  },
  {
   "cell_type": "markdown",
   "metadata": {},
   "source": [
    "**Big Takeaway:** Unpacking reduces the amount of code you have to write and makes your code easier to read. Take advantage of it wherever you can."
   ]
  },
  {
   "cell_type": "markdown",
   "metadata": {},
   "source": [
    "## Use comprehensions judiciously"
   ]
  },
  {
   "cell_type": "markdown",
   "metadata": {},
   "source": [
    "An analyst has a list of population densities in people per km<sup>2</sup>. They need to transform those values in people per mi<sup>2</sup>.\n",
    "\n",
    "One way to do that is to loop over all the values, apply a transformation function, and append the transformed value to a new list."
   ]
  },
  {
   "cell_type": "code",
   "execution_count": null,
   "metadata": {},
   "outputs": [],
   "source": [
    "people_per_km2 = (5, 40, 200, 17, 8000)\n",
    "people_per_mi2 = []\n",
    "for density in people_per_km2:\n",
    "    mi2_density = density * 2.59\n",
    "    people_per_mi2.append(mi2_density)\n",
    "people_per_mi2\n"
   ]
  },
  {
   "cell_type": "markdown",
   "metadata": {},
   "source": [
    "That code is correct, but it is more verbose than necessary, which can hurt readability.\n",
    "\n",
    "When you see a pattern where you loop over something, do something to the values, then append new values to an empty list, you should consider replacing it with a [list comprehension](https://docs.python.org/3/tutorial/datastructures.html#list-comprehensions)."
   ]
  },
  {
   "cell_type": "code",
   "execution_count": null,
   "metadata": {},
   "outputs": [],
   "source": [
    "people_per_mi2 = [density * 2.59 for density in people_per_km2]\n",
    "people_per_mi2"
   ]
  },
  {
   "cell_type": "markdown",
   "metadata": {},
   "source": [
    "List comprehensions are more readable, but only for people who are familiar with them, so be aware of your audience when using them. They are also a little bit faster than using a `for` loop.\n",
    "\n",
    "But comprehensions are bad when the transformation is complex. Imagine we have a list of quantitative values that we want to transform to qualitative values.\n",
    "\n",
    "List comprehensions let you do that in a single line. But it is an abomination."
   ]
  },
  {
   "cell_type": "code",
   "execution_count": null,
   "metadata": {},
   "outputs": [],
   "source": [
    "quantitative = [100, 50, 317, 21]\n",
    "\n",
    "qualitative = [\"S\" if val < 100 else \"M\" if val <= 200 else \"L\" for val in quantitative]\n"
   ]
  },
  {
   "cell_type": "markdown",
   "metadata": {},
   "source": [
    "For more complex operations, it is much better to use an explicit loop."
   ]
  },
  {
   "cell_type": "code",
   "execution_count": null,
   "metadata": {},
   "outputs": [],
   "source": [
    "qualitative = []\n",
    "\n",
    "for val in quantitative:\n",
    "    if val < 100:\n",
    "        qualitative.append(\"S\")\n",
    "    elif val <= 200:\n",
    "        qualitative.append(\"M\")\n",
    "    else:\n",
    "        qualitative.append(\"L\")\n",
    "qualitative"
   ]
  },
  {
   "cell_type": "markdown",
   "metadata": {},
   "source": [
    "An analyst has tract-level census data where each tract has three values: \n",
    "\n",
    "* Land Area in km<sup>2</sup>\n",
    "* Population"
   ]
  },
  {
   "cell_type": "markdown",
   "metadata": {},
   "source": [
    "## Use more of the standard library"
   ]
  },
  {
   "cell_type": "markdown",
   "metadata": {},
   "source": [
    "An analyst has tract-level census data records. Each tract has two values: population and households. The analyst could model a single tract as a dictionary."
   ]
  },
  {
   "cell_type": "code",
   "execution_count": null,
   "metadata": {},
   "outputs": [],
   "source": [
    "tract1 = {\n",
    "    \"population\": 1000,\n",
    "    \"households\": 500\n",
    "}"
   ]
  },
  {
   "cell_type": "markdown",
   "metadata": {},
   "source": [
    "That looks appropriate because it clearly links each value to a key that explains what the value means. But a dictionary is usually not a good data structure for a single record from a table. For one thing, there is a substantial amount of repetition if you need to model many records."
   ]
  },
  {
   "cell_type": "code",
   "execution_count": null,
   "metadata": {},
   "outputs": [],
   "source": [
    "tract2 = {\n",
    "    \"population\": 2000,\n",
    "    \"households\": 800\n",
    "}\n",
    "\n",
    "tract3 = {\n",
    "    \"population\": 5000,\n",
    "    \"households\": 3000\n",
    "}"
   ]
  },
  {
   "cell_type": "markdown",
   "metadata": {},
   "source": [
    "Another problem is that dictionaries are mutable, which means the keys can change and cause the dictionary to no longer fit the same data schema."
   ]
  },
  {
   "cell_type": "code",
   "execution_count": null,
   "metadata": {},
   "outputs": [],
   "source": [
    "del tract2[\"households\"]\n",
    "tract2"
   ]
  },
  {
   "cell_type": "markdown",
   "metadata": {},
   "source": [
    "Dictionaries are optimized for fast access of a value by key. This is not usually an important goal for an individual record. Using a dictionary to model records is unecessarily hard. A better data structure for a record is a tuple."
   ]
  },
  {
   "cell_type": "code",
   "execution_count": null,
   "metadata": {},
   "outputs": [],
   "source": [
    "tract1 = (1000, 500)\n",
    "tract2 = (2000, 800)\n",
    "tract3 = (5000, 3000)"
   ]
  },
  {
   "cell_type": "markdown",
   "metadata": {},
   "source": [
    "The problem with tuples, however, is the lack of context for each value represents. An even better data structure for a record is a named tuple, which you can import from the standard library.\n",
    "\n",
    "To use a named tuple, create a class that inherits from `NamedTuple`. For this kind of class, you only need to specify the field names and the datatype the values in each field should have. You can then create instances of that named tuple by passing the appropriate values to the constructor."
   ]
  },
  {
   "cell_type": "code",
   "execution_count": null,
   "metadata": {},
   "outputs": [],
   "source": [
    "from typing import NamedTuple\n",
    "\n",
    "class Tract(NamedTuple):\n",
    "    population: int\n",
    "    households: int\n",
    "\n",
    "tract1 = Tract(1000, 500)\n",
    "tract2 = Tract(2000, 800)\n",
    "tract3 = Tract(5000, 3000)"
   ]
  },
  {
   "cell_type": "markdown",
   "metadata": {},
   "source": [
    "You can access the value in a field using dot notation."
   ]
  },
  {
   "cell_type": "code",
   "execution_count": null,
   "metadata": {},
   "outputs": [],
   "source": [
    "tract1.households"
   ]
  },
  {
   "cell_type": "markdown",
   "metadata": {},
   "source": [
    "**Big takeaway**: The standard library has classes and functions that make your life easier without having to install additional packages. You should use them more. Named tuples are just one example. The [official documentation](https://docs.python.org/3/library/index.html) lists them all, but some highlights include:\n",
    "\n",
    "* [csv](https://docs.python.org/3/library/csv.html) for working with csv files\n",
    "* [dataclasses](https://docs.python.org/3/library/dataclasses.html) for creating dataclasses (like `NamedTuple`, but editable)\n",
    "* [datetime](https://docs.python.org/3/library/datetime.html) for working with dates and times\n",
    "* [itertools](https://docs.python.org/3/library/itertools.html) for efficient looping\n",
    "* [math](https://docs.python.org/3/library/math.html) for Mathematical functions\n",
    "* [pprint](https://docs.python.org/3/library/pprint.html) for nicely printing complex data structures\n",
    "* [pathlib](https://docs.python.org/3/library/pathlib.html) and [os.path](https://docs.python.org/3/library/os.path.html) for working with file paths"
   ]
  },
  {
   "cell_type": "markdown",
   "metadata": {},
   "source": [
    "## Use more built-ins"
   ]
  },
  {
   "cell_type": "markdown",
   "metadata": {},
   "source": [
    "The analyst wants to know the average number of people per household across all tracts. That is not the same as averaging the number of people per household per tract. The analyst needs to divide the total population across tracts by the total number of households across tracts.\n",
    "\n",
    "One way to get the right answer is to loop over each tract, keeping a running total of the population househould values. Then calculate the the ratio."
   ]
  },
  {
   "cell_type": "code",
   "execution_count": null,
   "metadata": {},
   "outputs": [],
   "source": [
    "population = 0\n",
    "households = 0\n",
    "tracts = [tract1, tract2, tract3]\n",
    "for tract in tracts:\n",
    "    population += tract.population\n",
    "    households += tract.households\n",
    "\n",
    "population / households"
   ]
  },
  {
   "cell_type": "markdown",
   "metadata": {},
   "source": [
    "That gives the correct answer, but keeping running totals obscures the goal, which is to create the sums of the total population and households across tracts. \n",
    "\n",
    "Summing values is a common pattern, and for many common patterns, Python has some built-in capability to make it easier to accomplish. Built-ins differ from the standard library in that you don't have to import anything to get access to built-ins. \n",
    "\n",
    "Code that is is considered *Pythonic* makes good use of these built-in capabilities. In this case, there is the [`sum`](https://docs.python.org/3/library/functions.html#sum) function. This has the advantage of making it more explicit to the reader that the code is summing values in a collection."
   ]
  },
  {
   "cell_type": "code",
   "execution_count": null,
   "metadata": {},
   "outputs": [],
   "source": [
    "population_values = []\n",
    "household_values = []\n",
    "tracts = [tract1, tract2, tract3]\n",
    "for tract in tracts:\n",
    "    population_values.append(tract.population)\n",
    "    household_values.append(tract.households)\n",
    "\n",
    "sum(population_values) / sum(household_values)"
   ]
  },
  {
   "cell_type": "markdown",
   "metadata": {},
   "source": [
    "While you could use a list comprehension, there's actually an even better way. \n",
    "\n",
    "Imagine each tract is a row in a table that has population and household fields. We want to get the sum of each column. But we don't actually have columns, we only have the rows. \n",
    "\n",
    "This turns out to be a very common type of problem where we have a group of pairs (or triples, etc), and we want a pair (or triple, etc) of groups. For these problems, use the built-in [`zip`](https://docs.python.org/3/library/functions.html#zip) function. \n",
    "\n",
    "By using `zip`, you can save yourself a little bit of typing and a significant amount of thinking about the correct implementation. Using `zip` also makes your code easier to explain to other people familiar with Python because they don't have to reason through your implementation to make sure it's been done correctly."
   ]
  },
  {
   "cell_type": "code",
   "execution_count": null,
   "metadata": {},
   "outputs": [],
   "source": [
    "population_values, household_values = zip(tract1, tract2, tract3)\n",
    "\n",
    "sum(population_values) / sum(household_values)"
   ]
  },
  {
   "cell_type": "markdown",
   "metadata": {},
   "source": [
    "**Big Takeaway:** Python built-ins can make your life easier, without even having to import additional libraries. `sum`, list comprehensions, and `zip` are among the more useful built-in capabilities of Python you should be using more. The [official documentation](https://docs.python.org/3/library/functions.html) has the complete list, but some other useful built-in functions include:\n",
    "\n",
    "* [`abs`](https://docs.python.org/3/library/functions.html#abs) for returning the absolute value of a number.\n",
    "* [`all`](https://docs.python.org/3/library/functions.html#all) and [`any`](https://docs.python.org/3/library/functions.html#any) for testing the truth of a collection of values.\n",
    "* [`dir`](https://docs.python.org/3/library/functions.html#any) for listing the attributes of an object\n",
    "* [`enumerate`](https://docs.python.org/3/library/functions.html#enumerate) for getting both the index and a value from a collection. Useful for complex loops.\n",
    "* [`help`](https://docs.python.org/3/library/functions.html#help) for getting information about a Python object.\n",
    "* [`isinstance`](https://docs.python.org/3/library/functions.html#enumerate) and [`type`](https://docs.python.org/3/library/functions.html#type) for getting information about an object's type\n",
    "* [`len`](https://docs.python.org/3/library/functions.html#len) for getting the length of a collection, such as a string or list.\n",
    "* [`max`](https://docs.python.org/3/library/functions.html#max) and [`min`](https://docs.python.org/3/library/functions.html#min) for getting the maximum or minimum value from a group of values.\n",
    "* [`open`](https://docs.python.org/3/library/functions.html#open) for opening files.\n",
    "* [`range`](https://docs.python.org/3/library/functions.html#func-range) for creating a collection of values in a given range.\n"
   ]
  },
  {
   "cell_type": "markdown",
   "metadata": {},
   "source": [
    "## Beg forgiveness. Don't ask permission"
   ]
  },
  {
   "cell_type": "markdown",
   "metadata": {},
   "source": [
    "\n",
    "The analyst writes a function to calculate the population density in people per km<sup>2</sup> of land area. "
   ]
  },
  {
   "cell_type": "code",
   "execution_count": null,
   "metadata": {},
   "outputs": [],
   "source": [
    "tract1 = {\n",
    "    \"land_area\": 20,\n",
    "    \"population\": 1000\n",
    "}"
   ]
  },
  {
   "cell_type": "code",
   "execution_count": null,
   "metadata": {},
   "outputs": [],
   "source": [
    "def pop_density(tract):\n",
    "    return tract[\"population\"] / tract[\"land_area\"]\n",
    "\n",
    "pop_density(tract1)"
   ]
  },
  {
   "cell_type": "markdown",
   "metadata": {},
   "source": [
    "There are a few ways this could go wrong. What if the record is missing a `population` key because no people live there?"
   ]
  },
  {
   "cell_type": "code",
   "execution_count": null,
   "metadata": {},
   "outputs": [],
   "source": [
    "tract2 = {\n",
    "    \"land_area\": 10\n",
    "}\n",
    "\n",
    "pop_density(tract2)"
   ]
  },
  {
   "cell_type": "markdown",
   "metadata": {},
   "source": [
    "What if it's missing a `land_area` key because it's all water?"
   ]
  },
  {
   "cell_type": "code",
   "execution_count": null,
   "metadata": {},
   "outputs": [],
   "source": [
    "tract3 = {\n",
    "    \"population\": 0\n",
    "}\n",
    "pop_density(tract3)"
   ]
  },
  {
   "cell_type": "markdown",
   "metadata": {},
   "source": [
    "What if it has a land area value of 0 because it's all water?"
   ]
  },
  {
   "cell_type": "code",
   "execution_count": null,
   "metadata": {},
   "outputs": [],
   "source": [
    "tract4 = {\n",
    "    \"land_area\": 0,\n",
    "    \"population\": 0\n",
    "}\n",
    "pop_density(tract4)"
   ]
  },
  {
   "cell_type": "markdown",
   "metadata": {},
   "source": [
    "One way to deal with potential bad values to is to check for them ahead of time with conditional logic."
   ]
  },
  {
   "cell_type": "code",
   "execution_count": null,
   "metadata": {},
   "outputs": [],
   "source": [
    "def pop_density2(tract):\n",
    "    if \"population\" not in tract.keys():\n",
    "        return 0\n",
    "    elif \"land_area\" not in tract.keys():\n",
    "        return 0\n",
    "    elif tract[\"land_area\"] == 0:\n",
    "        return 0\n",
    "    else:\n",
    "        return tract[\"population\"] / tract[\"land_area\"]\n",
    "        \n",
    "for tract in (tract1, tract2, tract3, tract4):\n",
    "    print(pop_density2(tract))"
   ]
  },
  {
   "cell_type": "markdown",
   "metadata": {},
   "source": [
    "But using conditional logic like this is not great. You need to put in the checks before you get to your core logic, which hurts both performance and readability. \n",
    "\n",
    "You will also inevitably run into edge cases that you didn't anticipate. What if a tract with no people has the `population` key set to `None`?"
   ]
  },
  {
   "cell_type": "code",
   "execution_count": null,
   "metadata": {},
   "outputs": [],
   "source": [
    "tract5 = {\n",
    "    \"land_area\": 20,\n",
    "    \"population\": None\n",
    "}\n",
    "\n",
    "pop_density2(tract5)"
   ]
  },
  {
   "cell_type": "markdown",
   "metadata": {},
   "source": [
    "Instead of writing an exploding mess of spaghetti code to deal with a never-ending parade of edge cases, it is better to use `try` and `except`. Python will attempt to run the code in the `try` block. If that code throws an exception, Python will run the code in the `except` block that matches the type of exception. "
   ]
  },
  {
   "cell_type": "code",
   "execution_count": null,
   "metadata": {},
   "outputs": [],
   "source": [
    "def pop_density3(tract):\n",
    "    try:\n",
    "        return tract[\"population\"] / tract[\"land_area\"]\n",
    "    except (KeyError, ZeroDivisionError, TypeError):\n",
    "        return 0\n",
    "\n",
    "for tract in (tract1, tract2, tract3, tract4, tract5):\n",
    "    print(pop_density3(tract))"
   ]
  },
  {
   "cell_type": "markdown",
   "metadata": {},
   "source": [
    "This code is still somewhat fragile. For example, it won't correctly handle records that store values as strings instead of numeric types. But it is usually easier to deal with those complexities as they arise by using `try`/`except` rather than `if` statements. If you do really need some complex conditional logic to handle edge cases, banish it to the `except` block instead of distracting the reader by putting it up front.\n",
    "\n",
    "**Big takeaway:** You can just try things. It's usually easier, faster, and more readable to put the common case in a `try` block, and handle exceptions for edge cases where the common case doesn't work. "
   ]
  },
  {
   "cell_type": "markdown",
   "metadata": {},
   "source": [
    "## Use context managers"
   ]
  },
  {
   "cell_type": "markdown",
   "metadata": {},
   "source": [
    "If you want to open a file with Python, you had better make sure you close it, or bad things can happen."
   ]
  },
  {
   "cell_type": "code",
   "execution_count": null,
   "metadata": {},
   "outputs": [],
   "source": [
    "f = open(\"file.txt\", \"w\")\n",
    "f.write(\"Here is some text\")\n",
    "f.close()"
   ]
  },
  {
   "cell_type": "markdown",
   "metadata": {},
   "source": [
    "This has two problems:\n",
    "- It's easy to forget to close it, especially because most of the time it doesn't actually cause problems when you don't\n",
    "- If your code crashes after you open the file but before you close it, it doesn't close properly\n",
    "\n",
    "Instead, you may already know you should do it like this so that the file closes automatically:\n"
   ]
  },
  {
   "cell_type": "code",
   "execution_count": null,
   "metadata": {},
   "outputs": [],
   "source": [
    "with open(\"file.txt\", \"w\") as f:\n",
    "    f.write(\"Here is some different text\")"
   ]
  },
  {
   "cell_type": "markdown",
   "metadata": {},
   "source": [
    "This isn't magic, it's a context manager. A context manager provides setup and tear down code. The setup code always runs at the beginning of the `with` block before anything inside the block. The teardown code always runs when the `with` block exits, even if it exited because of an error.\n",
    "\n",
    "Context managers are useful for reducing the amount of repetitive boilerplate code you have to write to make sure things are set up and torn down correctly. \n",
    "\n",
    "For example, you may want to write some data to a database, but you want to make sure the transaction gets rolled back if there's a problem with some part of the write.\n",
    "\n",
    "The code below:\n",
    "- Connects to a sqlite database\n",
    "- Puts the data writing code into a `try` block using an explicit transaction\n",
    "- Handles errors in the `except` block by rolling back the transation (`conn.commit` is never reached if there is an error before that)\n",
    "- Closes the connection"
   ]
  },
  {
   "cell_type": "code",
   "execution_count": null,
   "metadata": {},
   "outputs": [],
   "source": [
    "import sqlite3\n",
    "\n",
    "conn = sqlite3.connect(\"test.db\")\n",
    "\n",
    "try:\n",
    "    cursor = conn.cursor()\n",
    "    cursor.execute(\"BEGIN TRANSACTION\")\n",
    "    cursor.execute(\"CREATE TABLE IF NOT EXISTS test (id INTEGER PRIMARY KEY, country TEXT)\")\n",
    "    cursor.execute(\"INSERT INTO test (country) VALUES('Argentina')\")\n",
    "    conn.commit()\n",
    "except Exception as e:\n",
    "    print(f\"Error {e}: Rolling back transaction\")\n",
    "    conn.rollback\n",
    "\n",
    "conn.close()"
   ]
  },
  {
   "cell_type": "markdown",
   "metadata": {},
   "source": [
    "It turns out that sqlite has a context manager that creates the connection and rolls back transactions if there's an exception. \n",
    "\n",
    "It's important to know exactly what kind of setup and teardown a particular context manager does. This particular context manager creates the connection, but it does not automatically close it. You still have to remember to close it yourself."
   ]
  },
  {
   "cell_type": "code",
   "execution_count": null,
   "metadata": {},
   "outputs": [],
   "source": [
    "db_path = \"test.db\"\n",
    "\n",
    "with sqlite3.connect(db_path) as conn:\n",
    "    cursor = conn.cursor()\n",
    "    cursor.execute(\"CREATE TABLE IF NOT EXISTS test (id INTEGER PRIMARY KEY, country TEXT)\")\n",
    "    cursor.execute(\"INSERT INTO test (country) VALUES('Argentina')\")\n",
    "    conn.commit()\n",
    "\n",
    "conn.close()"
   ]
  },
  {
   "cell_type": "markdown",
   "metadata": {},
   "source": [
    "**Big takeaway**: If you are working with objects that support context managers, you should use those context managers. Pay attention to how the context manager works though, because it may not do everything you expect."
   ]
  },
  {
   "cell_type": "markdown",
   "metadata": {},
   "source": [
    "## Exercises"
   ]
  },
  {
   "cell_type": "markdown",
   "metadata": {},
   "source": [
    "The exercises below invite you to practice applying the different strategies outlined above. They follow the order of the concepts presented, but you can attempt them in any order. Start with the ones that seem most applicable to the work you need to do.\n",
    "\n",
    "You can find example answers in the ExerciseAnswers.ipynb notebook."
   ]
  },
  {
   "cell_type": "markdown",
   "metadata": {},
   "source": [
    "### 1) Use unpacking for pretty printing\n",
    "\n",
    "The code below uses a loop to print each value in a collection on a separate line."
   ]
  },
  {
   "cell_type": "code",
   "execution_count": null,
   "metadata": {},
   "outputs": [],
   "source": [
    "counties = [\"Anoka\", \"Dakota\", \"Carver\", \"Hennepin\", \"Ramsey\", \"Scott\", \"Washington\"]\n",
    "for county in counties:\n",
    "    print(county)"
   ]
  },
  {
   "cell_type": "markdown",
   "metadata": {},
   "source": [
    "Write a different implementation that uses unpacking to print each value on a separate line using a single call to the [`print`](https://docs.python.org/3/library/functions.html#print) function instead of a loop.\n",
    "\n",
    "Hint: The `print` function's first parameter is `*objects`, which is accepts any number of positional arguments (similar to `*args` in other functions). These arguments are what will be printed. The second parameter is `sep`, which defines the character to put in between the values to print. The default value of `sep` is a single space (`' '`), but it could be a newline character (`'\\n'`). "
   ]
  },
  {
   "cell_type": "code",
   "execution_count": null,
   "metadata": {},
   "outputs": [],
   "source": []
  },
  {
   "cell_type": "markdown",
   "metadata": {},
   "source": [
    "### 2) Use standard library data classes\n",
    "\n",
    "The code below uses a dictionary to define a record, then changes one of the values in that record."
   ]
  },
  {
   "cell_type": "code",
   "execution_count": null,
   "metadata": {},
   "outputs": [],
   "source": [
    "record = {\n",
    "    \"total_population\": 5000,\n",
    "    \"population_in_poverty\": 200\n",
    "}\n",
    "\n",
    "record[\"total_population\"] = 6000\n",
    "\n",
    "print(record)"
   ]
  },
  {
   "cell_type": "markdown",
   "metadata": {},
   "source": [
    "This pattern cannot be implented using a named tuple, because named tuples are immutable. A [data class](https://docs.python.org/3/library/dataclasses.html) is a standard library class that is similar to a named tuple, but it can be editable. Write a different implementation of the code above to use data classes instead of dictionaries\n",
    "\n",
    "Hint: The official Python documentation may be hard to understand. You may want to search for a tutorial on data classes specifically."
   ]
  },
  {
   "cell_type": "code",
   "execution_count": null,
   "metadata": {},
   "outputs": [],
   "source": []
  },
  {
   "cell_type": "markdown",
   "metadata": {},
   "source": [
    "### 3) Use the built-in min and max functions\n",
    "\n",
    "The code below creates a list of 20 random numbers between -1000 and 1000. "
   ]
  },
  {
   "cell_type": "code",
   "execution_count": null,
   "metadata": {},
   "outputs": [],
   "source": [
    "from random import randint\n",
    "\n",
    "nums = [randint(-1000, 1000) for i in range(20)]"
   ]
  },
  {
   "cell_type": "markdown",
   "metadata": {},
   "source": [
    "The code below finds the maximum and minimum values of `nums` using conditional logic and explicit comparisons to running values."
   ]
  },
  {
   "cell_type": "code",
   "execution_count": null,
   "metadata": {},
   "outputs": [],
   "source": [
    "min_num = 1000\n",
    "max_num = -1000\n",
    "\n",
    "for num in nums:\n",
    "    if num > max_num:\n",
    "        max_num = num\n",
    "    if num < min_num:\n",
    "        min_num = num\n",
    "\n",
    "print(max_num, min_num)"
   ]
  },
  {
   "cell_type": "markdown",
   "metadata": {},
   "source": [
    "Write a different implementation that uses the built-in [`max`](https://docs.python.org/3/library/functions.html#max) and [`min`](https://docs.python.org/3/library/functions.html#min) functions instead."
   ]
  },
  {
   "cell_type": "code",
   "execution_count": null,
   "metadata": {},
   "outputs": [],
   "source": []
  },
  {
   "cell_type": "markdown",
   "metadata": {},
   "source": [
    "### 4) Just do things\n",
    "\n",
    "The code below defines three records using a named tuple."
   ]
  },
  {
   "cell_type": "code",
   "execution_count": null,
   "metadata": {},
   "outputs": [],
   "source": [
    "from typing import NamedTuple\n",
    "\n",
    "class Record(NamedTuple):\n",
    "    total_population: int\n",
    "    population_in_poverty: int\n",
    "\n",
    "record1 = Record(5000, 2000)\n",
    "record2 = Record(200, 10)\n",
    "record3 = Record(\"400\", \"30\")"
   ]
  },
  {
   "cell_type": "markdown",
   "metadata": {},
   "source": [
    "The code below calculates the poverty rate, first checking that the values in the record are the correct type, and transforming them if not."
   ]
  },
  {
   "cell_type": "code",
   "execution_count": null,
   "metadata": {},
   "outputs": [],
   "source": [
    "def poverty_rate(record):\n",
    "    total_pop, pop_in_poverty = record\n",
    "    if not isinstance(total_pop, int):\n",
    "        total_pop = int(record.total_population)\n",
    "    if not isinstance(pop_in_poverty, int):\n",
    "        pop_in_poverty = int(record.population_in_poverty)\n",
    "    return pop_in_poverty / total_pop\n",
    "\n",
    "for record in (record1, record2, record3):\n",
    "    print(poverty_rate(record))"
   ]
  },
  {
   "cell_type": "markdown",
   "metadata": {},
   "source": [
    "Write a different implementation that doesn't use `if` to check datatypes ahead of time.\n",
    "\n",
    "Hint: You may find it useful to first write the code without any error handling to see what type of error occurs."
   ]
  },
  {
   "cell_type": "code",
   "execution_count": null,
   "metadata": {},
   "outputs": [],
   "source": []
  },
  {
   "cell_type": "markdown",
   "metadata": {},
   "source": [
    "For an even better way to solve this kind of problem, look into [Pydantic](https://docs.pydantic.dev/latest/) models. These models are not built-in or in the standard library, so you have to install the Pydantic library to get them. Pydantic models are like named tuples that guarantee the records will have the correct data type. "
   ]
  },
  {
   "cell_type": "markdown",
   "metadata": {},
   "source": [
    "### 5) Use Pythonic patterns for setup and teardown boilerplate"
   ]
  },
  {
   "cell_type": "markdown",
   "metadata": {},
   "source": [
    "The code below opens `data.csv` and writes some information to the file. Then an exception occurs before the file is closed. The code creates `data.csv` if it didn't exist before, but if you open the file, you will notice that the data has not been written to the file (In a Google Colab notebook, there is a files icon on the left where you can double-click to open a file in the web interface)"
   ]
  },
  {
   "cell_type": "code",
   "execution_count": null,
   "metadata": {},
   "outputs": [],
   "source": [
    "f = open(\"data.csv\", \"w\")\n",
    "f.write(\"Important data\")\n",
    "raise ValueError\n",
    "f.close()"
   ]
  },
  {
   "cell_type": "markdown",
   "metadata": {},
   "source": [
    "Rewrite this code so that the data is written to the file even though it raises an exception."
   ]
  },
  {
   "cell_type": "code",
   "execution_count": null,
   "metadata": {},
   "outputs": [],
   "source": [
    "\n"
   ]
  }
 ],
 "metadata": {
  "kernelspec": {
   "display_name": ".venv",
   "language": "python",
   "name": "python3"
  },
  "language_info": {
   "codemirror_mode": {
    "name": "ipython",
    "version": 3
   },
   "file_extension": ".py",
   "mimetype": "text/x-python",
   "name": "python",
   "nbconvert_exporter": "python",
   "pygments_lexer": "ipython3",
   "version": "3.13.1"
  }
 },
 "nbformat": 4,
 "nbformat_minor": 2
}
