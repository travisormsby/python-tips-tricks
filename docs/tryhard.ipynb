{
 "cells": [
  {
   "cell_type": "markdown",
   "metadata": {},
   "source": [
    "# You're trying too hard"
   ]
  },
  {
   "cell_type": "markdown",
   "metadata": {},
   "source": [
    "When first presented with a problem, our first instinct might be to write code that reflects how we would solve the problem manually. That's good because we can take advantage of our existing knowledge. But it's also bad because it's likely harder to implement than a solution that takes advantages of Python's full capabilities. You are probably working harder than you need to. For many types of problems, Python has solved them already. Learning the Pythonic way to address a solution will be easier than coming up with your own. It will also be easier for other people to understand your code, because you are using the well-known idioms of Python instead of your own idiosyncratic implementation."
   ]
  },
  {
   "cell_type": "markdown",
   "metadata": {},
   "source": [
    "## Unpack values "
   ]
  },
  {
   "cell_type": "markdown",
   "metadata": {},
   "source": [
    "An analyst has a tuple of three values that represent the x, y, and z coordinates of a location. The analyst has a function that takes three arguments, one for each coordinate."
   ]
  },
  {
   "cell_type": "code",
   "execution_count": 236,
   "metadata": {},
   "outputs": [],
   "source": [
    "coordinates = (2, 5, 4)\n",
    "\n",
    "def distance_from_origin(x, y, z):\n",
    "    \"\"\"calculate the distance to a set of x, y, z coordinates from (0, 0, 0)\"\"\"\n",
    "\n",
    "    return (x**2 + y**2 + z**2) ** 0.5"
   ]
  },
  {
   "cell_type": "markdown",
   "metadata": {},
   "source": [
    "The analyst needs to pass the values from the tuple to the function. One way to do that is to use the index of each value with bracket notation."
   ]
  },
  {
   "cell_type": "code",
   "execution_count": 232,
   "metadata": {},
   "outputs": [
    {
     "data": {
      "text/plain": [
       "6.708203932499369"
      ]
     },
     "execution_count": 232,
     "metadata": {},
     "output_type": "execute_result"
    }
   ],
   "source": [
    "x = coordinates[0]\n",
    "y = coordinates[1]\n",
    "z = coordinates[2]\n",
    "\n",
    "distance_from_origin(x, y, z)"
   ]
  },
  {
   "cell_type": "markdown",
   "metadata": {},
   "source": [
    "That works, but it has two problems:\n",
    "\n",
    "* Repetitively typing `coodinates` is error prone and tough to refactor.\n",
    "* Overuse of brackets makes code harder to read.\n",
    "\n",
    "You can use unpacking to fix both problems."
   ]
  },
  {
   "cell_type": "code",
   "execution_count": 233,
   "metadata": {},
   "outputs": [
    {
     "data": {
      "text/plain": [
       "6.708203932499369"
      ]
     },
     "execution_count": 233,
     "metadata": {},
     "output_type": "execute_result"
    }
   ],
   "source": [
    "x, y, z = coordinates\n",
    "\n",
    "distance_from_origin(x, y, z)"
   ]
  },
  {
   "cell_type": "markdown",
   "metadata": {},
   "source": [
    "Variable unpacking takes a collection of values on the right-hand side of `=` and assigns each value in order to an equal number of names on the left hand side. Importantly, the number of names on the left must match the number of values in the collection on the right.  "
   ]
  },
  {
   "cell_type": "code",
   "execution_count": 234,
   "metadata": {},
   "outputs": [
    {
     "ename": "ValueError",
     "evalue": "too many values to unpack (expected 2)",
     "output_type": "error",
     "traceback": [
      "\u001b[31m---------------------------------------------------------------------------\u001b[39m",
      "\u001b[31mValueError\u001b[39m                                Traceback (most recent call last)",
      "\u001b[36mCell\u001b[39m\u001b[36m \u001b[39m\u001b[32mIn[234]\u001b[39m\u001b[32m, line 1\u001b[39m\n\u001b[32m----> \u001b[39m\u001b[32m1\u001b[39m x, y = coordinates\n",
      "\u001b[31mValueError\u001b[39m: too many values to unpack (expected 2)"
     ]
    }
   ],
   "source": [
    "x, y = coordinates"
   ]
  },
  {
   "cell_type": "code",
   "execution_count": 235,
   "metadata": {},
   "outputs": [
    {
     "ename": "ValueError",
     "evalue": "not enough values to unpack (expected 4, got 3)",
     "output_type": "error",
     "traceback": [
      "\u001b[31m---------------------------------------------------------------------------\u001b[39m",
      "\u001b[31mValueError\u001b[39m                                Traceback (most recent call last)",
      "\u001b[36mCell\u001b[39m\u001b[36m \u001b[39m\u001b[32mIn[235]\u001b[39m\u001b[32m, line 1\u001b[39m\n\u001b[32m----> \u001b[39m\u001b[32m1\u001b[39m x, y, z, m = coordinates\n",
      "\u001b[31mValueError\u001b[39m: not enough values to unpack (expected 4, got 3)"
     ]
    }
   ],
   "source": [
    "x, y, z, m = coordinates"
   ]
  },
  {
   "cell_type": "markdown",
   "metadata": {},
   "source": [
    "Unpacking to names is useful, but you can go a step further when the values you need to unpack will be passed to a function or class constructor. "
   ]
  },
  {
   "cell_type": "code",
   "execution_count": 237,
   "metadata": {},
   "outputs": [
    {
     "data": {
      "text/plain": [
       "6.708203932499369"
      ]
     },
     "execution_count": 237,
     "metadata": {},
     "output_type": "execute_result"
    }
   ],
   "source": [
    "distance_from_origin(*coordinates)"
   ]
  },
  {
   "cell_type": "markdown",
   "metadata": {},
   "source": [
    "The `*` in front of the variable name unpacks the values so that each value in order is assigned to the parameters of the function. \n",
    "\n",
    "One disadvantage of unpacking a collection into arguments this way is that it relies on implicit parameter order. That means it doesn't work well when you need to specify keyword arguments. For example, the version of the function below requires keyword arguments (any parameters after `*` in the function definition must use keywords)"
   ]
  },
  {
   "cell_type": "code",
   "execution_count": 240,
   "metadata": {},
   "outputs": [
    {
     "ename": "TypeError",
     "evalue": "distance_from_origin_kw() takes 0 positional arguments but 3 were given",
     "output_type": "error",
     "traceback": [
      "\u001b[31m---------------------------------------------------------------------------\u001b[39m",
      "\u001b[31mTypeError\u001b[39m                                 Traceback (most recent call last)",
      "\u001b[36mCell\u001b[39m\u001b[36m \u001b[39m\u001b[32mIn[240]\u001b[39m\u001b[32m, line 6\u001b[39m\n\u001b[32m      2\u001b[39m \u001b[38;5;250m    \u001b[39m\u001b[33;03m\"\"\"calculate the distance to a set of x, y, z coordinates from (0, 0, 0)\"\"\"\u001b[39;00m\n\u001b[32m      4\u001b[39m     \u001b[38;5;28;01mreturn\u001b[39;00m (x**\u001b[32m2\u001b[39m + y**\u001b[32m2\u001b[39m + z**\u001b[32m2\u001b[39m) ** \u001b[32m0.5\u001b[39m\n\u001b[32m----> \u001b[39m\u001b[32m6\u001b[39m \u001b[43mdistance_from_origin_kw\u001b[49m\u001b[43m(\u001b[49m\u001b[43m*\u001b[49m\u001b[43mcoordinates\u001b[49m\u001b[43m)\u001b[49m\n",
      "\u001b[31mTypeError\u001b[39m: distance_from_origin_kw() takes 0 positional arguments but 3 were given"
     ]
    }
   ],
   "source": [
    "def distance_from_origin_kw(*, x, y, z):\n",
    "    \"\"\"calculate the distance to a set of x, y, z coordinates from (0, 0, 0)\"\"\"\n",
    "\n",
    "    return (x**2 + y**2 + z**2) ** 0.5\n",
    "\n",
    "distance_from_origin_kw(*coordinates)"
   ]
  },
  {
   "cell_type": "markdown",
   "metadata": {},
   "source": [
    "But if the values to unpack are in a dictionary where each key matches a parameter name, you can unpack them as keyword arguments with `**`."
   ]
  },
  {
   "cell_type": "code",
   "execution_count": 241,
   "metadata": {},
   "outputs": [
    {
     "data": {
      "text/plain": [
       "6.708203932499369"
      ]
     },
     "execution_count": 241,
     "metadata": {},
     "output_type": "execute_result"
    }
   ],
   "source": [
    "coordinates_dict = {\n",
    "    \"x\": 2,\n",
    "    \"y\": 5,\n",
    "    \"z\": 4\n",
    "}\n",
    "\n",
    "distance_from_origin_kw(**coordinates_dict)"
   ]
  },
  {
   "cell_type": "markdown",
   "metadata": {},
   "source": [
    "If you have ever seen a function defintion with `*args` and `**kwargs`, that's related to unpacking. The `*args` parameter means the function can be called with any number of positional arguments. The `**kwargs` means the function can be called with any keyword arguments.\n",
    "\n",
    "**Big Takeaway:** Unpacking reduces the amount of code you have to write and makes your code easier to read. Take advantage of it wherever you can."
   ]
  },
  {
   "cell_type": "markdown",
   "metadata": {},
   "source": [
    "## Beg forgiveness. Don't ask permission"
   ]
  },
  {
   "cell_type": "markdown",
   "metadata": {},
   "source": [
    "An analyst has tract-level census data where each tract has three values: \n",
    "\n",
    "* Total Area in km<sup>2</sup>\n",
    "* Water Area in km<sup>2</sup>\n",
    "* Population"
   ]
  },
  {
   "cell_type": "code",
   "execution_count": 146,
   "metadata": {},
   "outputs": [],
   "source": [
    "tract1 = {\n",
    "    \"area\": 100,\n",
    "    \"area_water\": 20,\n",
    "    \"population\": 1000\n",
    "}"
   ]
  },
  {
   "cell_type": "markdown",
   "metadata": {},
   "source": [
    "\n",
    "The analyst writes a function to calculate the population density in people per km<sup>2</sup>. "
   ]
  },
  {
   "cell_type": "code",
   "execution_count": 148,
   "metadata": {},
   "outputs": [
    {
     "data": {
      "text/plain": [
       "12.5"
      ]
     },
     "execution_count": 148,
     "metadata": {},
     "output_type": "execute_result"
    }
   ],
   "source": [
    "def pop_density(tract):\n",
    "    area_land = tract[\"area\"] - tract[\"area_water\"]\n",
    "    return tract[\"population\"] / area_land\n",
    "\n",
    "pop_density(tract1)"
   ]
  },
  {
   "cell_type": "markdown",
   "metadata": {},
   "source": [
    "But some records don't have a value for the water area because they are all land. Passing those records to the function causes a `KeyError` exception."
   ]
  },
  {
   "cell_type": "code",
   "execution_count": 149,
   "metadata": {},
   "outputs": [
    {
     "ename": "KeyError",
     "evalue": "'area_water'",
     "output_type": "error",
     "traceback": [
      "\u001b[31m---------------------------------------------------------------------------\u001b[39m",
      "\u001b[31mKeyError\u001b[39m                                  Traceback (most recent call last)",
      "\u001b[36mCell\u001b[39m\u001b[36m \u001b[39m\u001b[32mIn[149]\u001b[39m\u001b[32m, line 6\u001b[39m\n\u001b[32m      1\u001b[39m tract2 = {\n\u001b[32m      2\u001b[39m     \u001b[33m\"\u001b[39m\u001b[33marea\u001b[39m\u001b[33m\"\u001b[39m: \u001b[32m100\u001b[39m,\n\u001b[32m      3\u001b[39m     \u001b[33m\"\u001b[39m\u001b[33mpopulation\u001b[39m\u001b[33m\"\u001b[39m: \u001b[32m1000\u001b[39m\n\u001b[32m      4\u001b[39m }\n\u001b[32m----> \u001b[39m\u001b[32m6\u001b[39m \u001b[43mpop_density\u001b[49m\u001b[43m(\u001b[49m\u001b[43mtract2\u001b[49m\u001b[43m)\u001b[49m\n",
      "\u001b[36mCell\u001b[39m\u001b[36m \u001b[39m\u001b[32mIn[148]\u001b[39m\u001b[32m, line 2\u001b[39m, in \u001b[36mpop_density\u001b[39m\u001b[34m(tract)\u001b[39m\n\u001b[32m      1\u001b[39m \u001b[38;5;28;01mdef\u001b[39;00m\u001b[38;5;250m \u001b[39m\u001b[34mpop_density\u001b[39m(tract):\n\u001b[32m----> \u001b[39m\u001b[32m2\u001b[39m     area_land = tract[\u001b[33m\"\u001b[39m\u001b[33marea\u001b[39m\u001b[33m\"\u001b[39m] - \u001b[43mtract\u001b[49m\u001b[43m[\u001b[49m\u001b[33;43m\"\u001b[39;49m\u001b[33;43marea_water\u001b[39;49m\u001b[33;43m\"\u001b[39;49m\u001b[43m]\u001b[49m\n\u001b[32m      3\u001b[39m     \u001b[38;5;28;01mreturn\u001b[39;00m tract[\u001b[33m\"\u001b[39m\u001b[33mpopulation\u001b[39m\u001b[33m\"\u001b[39m] / area_land\n",
      "\u001b[31mKeyError\u001b[39m: 'area_water'"
     ]
    }
   ],
   "source": [
    "tract2 = {\n",
    "    \"area\": 100,\n",
    "    \"population\": 1000\n",
    "}\n",
    "\n",
    "pop_density(tract2)"
   ]
  },
  {
   "cell_type": "markdown",
   "metadata": {},
   "source": [
    "One way to deal with potential bad values to is to check ahead of time with conditional logic (`if`/`elif`/`else`)."
   ]
  },
  {
   "cell_type": "code",
   "execution_count": 150,
   "metadata": {},
   "outputs": [
    {
     "data": {
      "text/plain": [
       "10.0"
      ]
     },
     "execution_count": 150,
     "metadata": {},
     "output_type": "execute_result"
    }
   ],
   "source": [
    "def pop_density2(tract):\n",
    "    if \"area_water\" not in tract.keys():\n",
    "        area_land = tract[\"area\"]\n",
    "    else:\n",
    "        area_land = tract[\"area\"] - tract[\"area_water\"]\n",
    "    return tract[\"population\"] / area_land\n",
    "\n",
    "pop_density2(tract2)"
   ]
  },
  {
   "cell_type": "markdown",
   "metadata": {},
   "source": [
    "But using conditional logic like this is not great. You need to put in the checks before you get to your core logic, which hurts both performance and readability. You will also run into edge cases that you didn't anticipate that cause your code to fail or return the wrong answer. For example, some records without any water have explicitly set the `\"area_water\"` value to `None`. Passing a record like that to the function causes a `TypeError`."
   ]
  },
  {
   "cell_type": "code",
   "execution_count": 151,
   "metadata": {},
   "outputs": [
    {
     "ename": "TypeError",
     "evalue": "unsupported operand type(s) for -: 'int' and 'NoneType'",
     "output_type": "error",
     "traceback": [
      "\u001b[31m---------------------------------------------------------------------------\u001b[39m",
      "\u001b[31mTypeError\u001b[39m                                 Traceback (most recent call last)",
      "\u001b[36mCell\u001b[39m\u001b[36m \u001b[39m\u001b[32mIn[151]\u001b[39m\u001b[32m, line 7\u001b[39m\n\u001b[32m      1\u001b[39m tract3 = {\n\u001b[32m      2\u001b[39m     \u001b[33m\"\u001b[39m\u001b[33marea\u001b[39m\u001b[33m\"\u001b[39m: \u001b[32m100\u001b[39m,\n\u001b[32m      3\u001b[39m     \u001b[33m\"\u001b[39m\u001b[33marea_water\u001b[39m\u001b[33m\"\u001b[39m: \u001b[38;5;28;01mNone\u001b[39;00m,\n\u001b[32m      4\u001b[39m     \u001b[33m\"\u001b[39m\u001b[33mpopulation\u001b[39m\u001b[33m\"\u001b[39m: \u001b[32m1000\u001b[39m\n\u001b[32m      5\u001b[39m }\n\u001b[32m----> \u001b[39m\u001b[32m7\u001b[39m \u001b[43mpop_density2\u001b[49m\u001b[43m(\u001b[49m\u001b[43mtract3\u001b[49m\u001b[43m)\u001b[49m\n",
      "\u001b[36mCell\u001b[39m\u001b[36m \u001b[39m\u001b[32mIn[150]\u001b[39m\u001b[32m, line 5\u001b[39m, in \u001b[36mpop_density2\u001b[39m\u001b[34m(tract)\u001b[39m\n\u001b[32m      3\u001b[39m     area_land = tract[\u001b[33m\"\u001b[39m\u001b[33marea\u001b[39m\u001b[33m\"\u001b[39m]\n\u001b[32m      4\u001b[39m \u001b[38;5;28;01melse\u001b[39;00m:\n\u001b[32m----> \u001b[39m\u001b[32m5\u001b[39m     area_land = \u001b[43mtract\u001b[49m\u001b[43m[\u001b[49m\u001b[33;43m\"\u001b[39;49m\u001b[33;43marea\u001b[39;49m\u001b[33;43m\"\u001b[39;49m\u001b[43m]\u001b[49m\u001b[43m \u001b[49m\u001b[43m-\u001b[49m\u001b[43m \u001b[49m\u001b[43mtract\u001b[49m\u001b[43m[\u001b[49m\u001b[33;43m\"\u001b[39;49m\u001b[33;43marea_water\u001b[39;49m\u001b[33;43m\"\u001b[39;49m\u001b[43m]\u001b[49m\n\u001b[32m      6\u001b[39m \u001b[38;5;28;01mreturn\u001b[39;00m tract[\u001b[33m\"\u001b[39m\u001b[33mpopulation\u001b[39m\u001b[33m\"\u001b[39m] / area_land\n",
      "\u001b[31mTypeError\u001b[39m: unsupported operand type(s) for -: 'int' and 'NoneType'"
     ]
    }
   ],
   "source": [
    "tract3 = {\n",
    "    \"area\": 100,\n",
    "    \"area_water\": None,\n",
    "    \"population\": 1000\n",
    "}\n",
    "\n",
    "pop_density2(tract3)"
   ]
  },
  {
   "cell_type": "markdown",
   "metadata": {},
   "source": [
    "Your code gets more complicated as you deal with those edge cases."
   ]
  },
  {
   "cell_type": "code",
   "execution_count": 152,
   "metadata": {},
   "outputs": [
    {
     "data": {
      "text/plain": [
       "10.0"
      ]
     },
     "execution_count": 152,
     "metadata": {},
     "output_type": "execute_result"
    }
   ],
   "source": [
    "def pop_density3(tract):\n",
    "    if \"area_water\" not in tract.keys() or tract[\"area_water\"] is None: \n",
    "        area_land = tract[\"area\"]\n",
    "    else:\n",
    "        area_land = tract[\"area\"] - tract[\"area_water\"]\n",
    "    return tract[\"population\"] / area_land\n",
    "\n",
    "pop_density3(tract3)"
   ]
  },
  {
   "cell_type": "markdown",
   "metadata": {},
   "source": [
    "No matter how many edge cases you anticipate, there will probably be another one you didn't. For example, passing a record that is all water causes a `ZeroDivisionError`."
   ]
  },
  {
   "cell_type": "code",
   "execution_count": 153,
   "metadata": {},
   "outputs": [
    {
     "ename": "ZeroDivisionError",
     "evalue": "division by zero",
     "output_type": "error",
     "traceback": [
      "\u001b[31m---------------------------------------------------------------------------\u001b[39m",
      "\u001b[31mZeroDivisionError\u001b[39m                         Traceback (most recent call last)",
      "\u001b[36mCell\u001b[39m\u001b[36m \u001b[39m\u001b[32mIn[153]\u001b[39m\u001b[32m, line 7\u001b[39m\n\u001b[32m      1\u001b[39m tract4 = {\n\u001b[32m      2\u001b[39m     \u001b[33m\"\u001b[39m\u001b[33marea\u001b[39m\u001b[33m\"\u001b[39m: \u001b[32m100\u001b[39m,\n\u001b[32m      3\u001b[39m     \u001b[33m\"\u001b[39m\u001b[33marea_water\u001b[39m\u001b[33m\"\u001b[39m: \u001b[32m100\u001b[39m,\n\u001b[32m      4\u001b[39m     \u001b[33m\"\u001b[39m\u001b[33mpopulation\u001b[39m\u001b[33m\"\u001b[39m: \u001b[32m0\u001b[39m\n\u001b[32m      5\u001b[39m }\n\u001b[32m----> \u001b[39m\u001b[32m7\u001b[39m \u001b[43mpop_density3\u001b[49m\u001b[43m(\u001b[49m\u001b[43mtract4\u001b[49m\u001b[43m)\u001b[49m\n",
      "\u001b[36mCell\u001b[39m\u001b[36m \u001b[39m\u001b[32mIn[152]\u001b[39m\u001b[32m, line 6\u001b[39m, in \u001b[36mpop_density3\u001b[39m\u001b[34m(tract)\u001b[39m\n\u001b[32m      4\u001b[39m \u001b[38;5;28;01melse\u001b[39;00m:\n\u001b[32m      5\u001b[39m     area_land = tract[\u001b[33m\"\u001b[39m\u001b[33marea\u001b[39m\u001b[33m\"\u001b[39m] - tract[\u001b[33m\"\u001b[39m\u001b[33marea_water\u001b[39m\u001b[33m\"\u001b[39m]\n\u001b[32m----> \u001b[39m\u001b[32m6\u001b[39m \u001b[38;5;28;01mreturn\u001b[39;00m \u001b[43mtract\u001b[49m\u001b[43m[\u001b[49m\u001b[33;43m\"\u001b[39;49m\u001b[33;43mpopulation\u001b[39;49m\u001b[33;43m\"\u001b[39;49m\u001b[43m]\u001b[49m\u001b[43m \u001b[49m\u001b[43m/\u001b[49m\u001b[43m \u001b[49m\u001b[43marea_land\u001b[49m\n",
      "\u001b[31mZeroDivisionError\u001b[39m: division by zero"
     ]
    }
   ],
   "source": [
    "tract4 = {\n",
    "    \"area\": 100,\n",
    "    \"area_water\": 100,\n",
    "    \"population\": 0\n",
    "}\n",
    "\n",
    "pop_density3(tract4)"
   ]
  },
  {
   "cell_type": "markdown",
   "metadata": {},
   "source": [
    "Instead of writing an exploding mess of spaghetti code to deal with a never-ending parade of edge cases, it is better to use `try` and `except`. Python will attempt to run the code in the `try` block. If that code throws and exception, Python will run the code in the `except` block that matches the type of exception. "
   ]
  },
  {
   "cell_type": "code",
   "execution_count": 154,
   "metadata": {},
   "outputs": [
    {
     "name": "stdout",
     "output_type": "stream",
     "text": [
      "12.5\n",
      "10.0\n",
      "10.0\n",
      "0\n"
     ]
    }
   ],
   "source": [
    "def pop_density4(tract):\n",
    "    try:\n",
    "        area_land = tract[\"area\"] - tract[\"area_water\"]\n",
    "        return tract[\"population\"] / area_land\n",
    "    except (KeyError, TypeError):\n",
    "        return tract[\"population\"] / tract[\"area\"]\n",
    "    except ZeroDivisionError:\n",
    "        return 0\n",
    "\n",
    "for tract in [tract1, tract2, tract3, tract4]:\n",
    "    print(pop_density4(tract))"
   ]
  },
  {
   "cell_type": "markdown",
   "metadata": {},
   "source": [
    "This pattern puts your core logic at the top, and deals with edge cases afterward, making your code more performant and readable. It also gives you the option to handle different types of errors differently. The first `except` block handles both the `KeyError` and `TypeError` problems by using the total area to calculate population density. The second `except` block handles the `ZeroDivisionError` by appropriately returning `0`.\n",
    "\n",
    "**Big takeaway:** You can just try things. It's usually easier, faster, and more readable to put the common case in a `try` block, and handle exceptions for edge cases where the common case doesn't work. "
   ]
  },
  {
   "cell_type": "markdown",
   "metadata": {},
   "source": [
    "## Use more of the standard library"
   ]
  },
  {
   "cell_type": "markdown",
   "metadata": {},
   "source": [
    "An analyst has tract-level census data records. Each tract has two values: population and households. The analyst could model a single tract as a dictionary."
   ]
  },
  {
   "cell_type": "code",
   "execution_count": 161,
   "metadata": {},
   "outputs": [],
   "source": [
    "tract1 = {\n",
    "    \"population\": 1000,\n",
    "    \"households\": 500\n",
    "}"
   ]
  },
  {
   "cell_type": "markdown",
   "metadata": {},
   "source": [
    "That looks appropriate because it clearly links each value to a key that explains what the value means. But a dictionary is usually not a good data structure for a single record from a table. For one thing, there is a substantial amount of repetition if you need to model many records."
   ]
  },
  {
   "cell_type": "code",
   "execution_count": 163,
   "metadata": {},
   "outputs": [],
   "source": [
    "tract2 = {\n",
    "    \"population\": 2000,\n",
    "    \"households\": 800\n",
    "}\n",
    "\n",
    "tract3 = {\n",
    "    \"population\": 5000,\n",
    "    \"households\": 3000\n",
    "}"
   ]
  },
  {
   "cell_type": "markdown",
   "metadata": {},
   "source": [
    "Another problem is that dictionaries are mutable, which means the keys can change and cause the dictionary to no longer fit the same data schema."
   ]
  },
  {
   "cell_type": "code",
   "execution_count": 164,
   "metadata": {},
   "outputs": [
    {
     "data": {
      "text/plain": [
       "{'population': 2000}"
      ]
     },
     "execution_count": 164,
     "metadata": {},
     "output_type": "execute_result"
    }
   ],
   "source": [
    "del tract2[\"households\"]\n",
    "tract2"
   ]
  },
  {
   "cell_type": "markdown",
   "metadata": {},
   "source": [
    "Dictionaries are optimized for fast access of a value by key. This is not usually an important goal for an individual record. Using a dictionary to model records is unecessarily hard. A better data structure for a record is a tuple."
   ]
  },
  {
   "cell_type": "code",
   "execution_count": 165,
   "metadata": {},
   "outputs": [],
   "source": [
    "tract1 = (1000, 500)\n",
    "tract2 = (2000, 800)\n",
    "tract3 = (5000, 3000)"
   ]
  },
  {
   "cell_type": "markdown",
   "metadata": {},
   "source": [
    "A glaring omission from a tuple, however, is the lack of context for each value represents. An even better data structure for a record is a named tuple, which you can import from the standard library.\n",
    "\n",
    "To use a named tuple, create a class that inherits from `NamedTuple`. For this kind of class, you only need to specify the field names and the datatype the values in each field should have. You can then create instances of that named tuple by passing the appropriate values to the constructor."
   ]
  },
  {
   "cell_type": "code",
   "execution_count": 177,
   "metadata": {},
   "outputs": [],
   "source": [
    "from typing import NamedTuple\n",
    "\n",
    "class Tract(NamedTuple):\n",
    "    population: int\n",
    "    households: int\n",
    "\n",
    "tract1 = Tract(1000, 500)\n",
    "tract2 = Tract(2000, 800)\n",
    "tract3 = Tract(5000, 3000)"
   ]
  },
  {
   "cell_type": "markdown",
   "metadata": {},
   "source": [
    "You can access the value in a field using dot notation."
   ]
  },
  {
   "cell_type": "code",
   "execution_count": null,
   "metadata": {},
   "outputs": [
    {
     "data": {
      "text/plain": [
       "500"
      ]
     },
     "execution_count": 168,
     "metadata": {},
     "output_type": "execute_result"
    }
   ],
   "source": [
    "tract1.households"
   ]
  },
  {
   "cell_type": "markdown",
   "metadata": {},
   "source": [
    "**Big takeaway**: The standard library has classes and functions that make your life easier without having to install additional packages. You should use them more. Named tuples are just one example. The [official documentation](https://docs.python.org/3/library/index.html) lists them all, but some highlights include:\n",
    "\n",
    "* [csv](https://docs.python.org/3/library/csv.html) for working with csv files\n",
    "* [dataclasses](https://docs.python.org/3/library/dataclasses.html) for creating dataclasses (like `NamedTuple`, but editable)\n",
    "* [datetime](https://docs.python.org/3/library/datetime.html) for working with dates and times\n",
    "* [itertools](https://docs.python.org/3/library/itertools.html) for efficient looping\n",
    "* [math](https://docs.python.org/3/library/math.html) for Mathematical functions\n",
    "* [pprint](https://docs.python.org/3/library/pprint.html) for nicely printing complex data structures\n",
    "* [pathlib](https://docs.python.org/3/library/pathlib.html) and [os.path](https://docs.python.org/3/library/os.path.html) for working with file paths"
   ]
  },
  {
   "cell_type": "markdown",
   "metadata": {},
   "source": [
    "## Use more built-ins"
   ]
  },
  {
   "cell_type": "markdown",
   "metadata": {},
   "source": [
    "The analyst wants to know the average number of people per household across all tracts. That is not the same as averaging the number of people per household per tract. The analyst needs to divide the total population across tracts by the total number of households across tracts.\n",
    "\n",
    "One way to get the right answer is to loop over each tract, keeping a running total of the population househould values. Then calculate the the ratio."
   ]
  },
  {
   "cell_type": "code",
   "execution_count": 205,
   "metadata": {},
   "outputs": [
    {
     "data": {
      "text/plain": [
       "1.8604651162790697"
      ]
     },
     "execution_count": 205,
     "metadata": {},
     "output_type": "execute_result"
    }
   ],
   "source": [
    "population = 0\n",
    "households = 0\n",
    "tracts = [tract1, tract2, tract3]\n",
    "for tract in tracts:\n",
    "    population += tract.population\n",
    "    households += tract.households\n",
    "\n",
    "population / households"
   ]
  },
  {
   "cell_type": "markdown",
   "metadata": {},
   "source": [
    "That gives the correct answer, but keeping running totals obscures the goal, which is to create a sum of the total population and households across tracts. Summing values is a common pattern, and for many common patterns, Python has some built-in capability to make it easier to accomplish. Built-ins differ from the functionality from the standard library in that you don't have to import anything to get access to built-ins. Code that is is considered *Pythonic* makes good use of these built-in capabilities. In this case, there is the [`sum`](https://docs.python.org/3/library/functions.html#sum) function. This has the advantage of making it more explicit to the reader that the code is summing values in a collection."
   ]
  },
  {
   "cell_type": "code",
   "execution_count": 206,
   "metadata": {},
   "outputs": [
    {
     "data": {
      "text/plain": [
       "1.8604651162790697"
      ]
     },
     "execution_count": 206,
     "metadata": {},
     "output_type": "execute_result"
    }
   ],
   "source": [
    "population_values = []\n",
    "household_values = []\n",
    "tracts = [tract1, tract2, tract3]\n",
    "for tract in tracts:\n",
    "    population_values.append(tract.population)\n",
    "    household_values.append(tract.households)\n",
    "\n",
    "sum(population_values) / sum(household_values)"
   ]
  },
  {
   "cell_type": "markdown",
   "metadata": {},
   "source": [
    "Appending values to a list in a loop is also a very common pattern. For this case, Python has [list comprehensions](https://docs.python.org/3/library/functions.html#zip). List comprehensions are shorter and more readable (once you get used to them) than explicit loops. They also execute faster than the equivalent loop."
   ]
  },
  {
   "cell_type": "code",
   "execution_count": 199,
   "metadata": {},
   "outputs": [
    {
     "data": {
      "text/plain": [
       "1.8604651162790697"
      ]
     },
     "execution_count": 199,
     "metadata": {},
     "output_type": "execute_result"
    }
   ],
   "source": [
    "tracts = [tract1, tract2, tract3]\n",
    "population_values = [tract.population for tract in tracts]\n",
    "household_values = [tract.households for tract in tracts]\n",
    "\n",
    "sum(population_values) / sum(household_values)"
   ]
  },
  {
   "cell_type": "markdown",
   "metadata": {},
   "source": [
    "In this particular case, a list comprehension is not so great because we had to iterate over the tracts twice. You could create a nested comprehension to loop over the tracts for for each value in a tract, which would get some effeciencies if you had a lot of tracts."
   ]
  },
  {
   "cell_type": "code",
   "execution_count": 202,
   "metadata": {},
   "outputs": [
    {
     "data": {
      "text/plain": [
       "1.8604651162790697"
      ]
     },
     "execution_count": 202,
     "metadata": {},
     "output_type": "execute_result"
    }
   ],
   "source": [
    "population_values, household_values = [[tract[i] for tract in tracts] for i in range(len(tract1))]\n",
    "\n",
    "sum(population_values) / sum(household_values)"
   ]
  },
  {
   "cell_type": "markdown",
   "metadata": {},
   "source": [
    "But this is an abomination. While comprehensions are generally awesome, resist the temptation to make complicated comprehensions. In such cases, it would be better to use an explicit loop instead.\n",
    "\n",
    "Even better is to know that recombining a group of pairs into a pair of groups (or vice versa) is also a common pattern. Once again, Python has a built-in function, [`zip`](https://docs.python.org/3/library/functions.html#zip), to do that for you. By using `zip`, you can save yourself a little bit of typing and a significant amount of thinking about the correct implementation. Using `zip` also makes your code easier to explain to other people familiar with Python because they don't have to reason through your implementation to make sure it's been done correctly."
   ]
  },
  {
   "cell_type": "code",
   "execution_count": 200,
   "metadata": {},
   "outputs": [
    {
     "data": {
      "text/plain": [
       "1.8604651162790697"
      ]
     },
     "execution_count": 200,
     "metadata": {},
     "output_type": "execute_result"
    }
   ],
   "source": [
    "population_values, household_values = zip(tract1, tract2, tract3)\n",
    "\n",
    "sum(population_values) / sum(household_values)"
   ]
  },
  {
   "cell_type": "markdown",
   "metadata": {},
   "source": [
    "**Big Takeaway:** Python built-ins can make your life easier, without even having to import additional libraries. `sum`, list comprehensions, and `zip` are among the more useful built-in capabilities of Python you should be using more. The [official documentation](https://docs.python.org/3/library/functions.html) has the complete list, but some other useful built-in functions include:\n",
    "\n",
    "* [`abs`](https://docs.python.org/3/library/functions.html#abs) for returning the absolute value of a number\n",
    "* [`all`](https://docs.python.org/3/library/functions.html#all) and [`any`](https://docs.python.org/3/library/functions.html#any) for testing the truth of a collection of values\n",
    "* [`dir`](https://docs.python.org/3/library/functions.html#any) for listing the attributes of an object\n",
    "* [`enumerate`](https://docs.python.org/3/library/functions.html#enumerate) for getting both the index and a value from a collection. Useful for complex loops\n",
    "* [`isinstance`](https://docs.python.org/3/library/functions.html#enumerate) and [`type`](https://docs.python.org/3/library/functions.html#type) for getting information about an object's type\n",
    "* [`len`](https://docs.python.org/3/library/functions.html#len) for getting the length of a collection, such as a string or list.\n",
    "* [`max`](https://docs.python.org/3/library/functions.html#max) and [`min`](https://docs.python.org/3/library/functions.html#min) for getting the maximum or minimum value from a group of values\n",
    "* [`open`](https://docs.python.org/3/library/functions.html#open) for opening files\n",
    "* [`range`](https://docs.python.org/3/library/functions.html#func-range) for creating a collection of values in a given range\n"
   ]
  },
  {
   "cell_type": "markdown",
   "metadata": {},
   "source": [
    "## Exercises"
   ]
  },
  {
   "cell_type": "markdown",
   "metadata": {},
   "source": [
    "### 1) Use unpacking for pretty printing\n",
    "\n",
    "The code below uses a loop to print each value in a collection on a separate line."
   ]
  },
  {
   "cell_type": "code",
   "execution_count": 243,
   "metadata": {},
   "outputs": [
    {
     "name": "stdout",
     "output_type": "stream",
     "text": [
      "Anoka\n",
      "Dakota\n",
      "Carver\n",
      "Hennepin\n",
      "Ramsey\n",
      "Scott\n",
      "Washington\n"
     ]
    }
   ],
   "source": [
    "counties = [\"Anoka\", \"Dakota\", \"Carver\", \"Hennepin\", \"Ramsey\", \"Scott\", \"Washington\"]\n",
    "for county in counties:\n",
    "    print(county)"
   ]
  },
  {
   "cell_type": "markdown",
   "metadata": {},
   "source": [
    "Write a different implementation that uses unpacking to print each value on a separate line using a single call to the `print` function instead of a loop.\n",
    "\n",
    "Hint: The `print` function's first parameter is `*objects`, which is equivalent to `*args`. Its second parameter is `sep`, which defines the character to put in between the values to print. The default value of `sep` is a single space (`' '`), but it could be a newline character (`'\\n'`). "
   ]
  },
  {
   "cell_type": "code",
   "execution_count": null,
   "metadata": {},
   "outputs": [],
   "source": []
  },
  {
   "cell_type": "markdown",
   "metadata": {},
   "source": [
    "### 2) Use try/except\n",
    "\n",
    "The code below defines two records using named tuples."
   ]
  },
  {
   "cell_type": "code",
   "execution_count": 216,
   "metadata": {},
   "outputs": [],
   "source": [
    "from typing import NamedTuple\n",
    "\n",
    "class Record(NamedTuple):\n",
    "    total_population: int\n",
    "    population_in_poverty: int\n",
    "\n",
    "record1 = Record(5000, 200)\n",
    "record2 = Record(200, 0)"
   ]
  },
  {
   "cell_type": "markdown",
   "metadata": {},
   "source": [
    "The code below calculates the ratio of each value in the first record to the corresponding value in the second record. It uses conditional logic to catch potential errors. "
   ]
  },
  {
   "cell_type": "code",
   "execution_count": 222,
   "metadata": {},
   "outputs": [
    {
     "name": "stdout",
     "output_type": "stream",
     "text": [
      "25.0\n",
      "inf\n"
     ]
    }
   ],
   "source": [
    "from math import inf\n",
    "\n",
    "for field in Record._fields:\n",
    "    if getattr(record2, field) != 0:\n",
    "        ratio = getattr(record1, field) / getattr(record2, field)\n",
    "    else:\n",
    "        ratio = inf\n",
    "    print(ratio)"
   ]
  },
  {
   "cell_type": "markdown",
   "metadata": {},
   "source": [
    "Write a different implementation that uses `try` and `except` instead.\n",
    "\n",
    "Hint: You may find it useful to first write the code without any error handling to see what type of error occurs."
   ]
  },
  {
   "cell_type": "code",
   "execution_count": null,
   "metadata": {},
   "outputs": [],
   "source": []
  },
  {
   "cell_type": "markdown",
   "metadata": {},
   "source": [
    "### 3) Use standard library data classes\n",
    "\n",
    "The code below uses a dictionary to define a record, then changes one of the values in that record."
   ]
  },
  {
   "cell_type": "code",
   "execution_count": 224,
   "metadata": {},
   "outputs": [
    {
     "name": "stdout",
     "output_type": "stream",
     "text": [
      "{'total_population': 6000, 'population_in_poverty': 200}\n"
     ]
    }
   ],
   "source": [
    "record = {\n",
    "    \"total_population\": 5000,\n",
    "    \"population_in_poverty\": 200\n",
    "}\n",
    "\n",
    "record[\"total_population\"] = 6000\n",
    "\n",
    "print(record)"
   ]
  },
  {
   "cell_type": "markdown",
   "metadata": {},
   "source": [
    "This pattern cannot be implented using a named tuple, because named tuples are immutable. A [data class](https://docs.python.org/3/library/dataclasses.html) is a standard library class that is similar to a named tuple, but it can be editable. Write a different implementation of the code above to use data classes instead of dictionaries\n",
    "\n",
    "Hint: The official Python documentation may be hard to understand. You may want to search for a tutorial on data classes specifically."
   ]
  },
  {
   "cell_type": "code",
   "execution_count": null,
   "metadata": {},
   "outputs": [],
   "source": []
  },
  {
   "cell_type": "markdown",
   "metadata": {},
   "source": [
    "### 4) Use the built-in min and max functions\n",
    "\n",
    "The code below creates a list of 20 random numbers between -1000 and 1000. "
   ]
  },
  {
   "cell_type": "code",
   "execution_count": 211,
   "metadata": {},
   "outputs": [],
   "source": [
    "from random import randint\n",
    "\n",
    "nums = [randint(-1000, 1000) for i in range(20)]"
   ]
  },
  {
   "cell_type": "markdown",
   "metadata": {},
   "source": [
    "The code below finds the maximum and minimum values of `nums` using conditional logic and explicit comparisons to running values."
   ]
  },
  {
   "cell_type": "code",
   "execution_count": 225,
   "metadata": {},
   "outputs": [
    {
     "name": "stdout",
     "output_type": "stream",
     "text": [
      "992 -952\n"
     ]
    }
   ],
   "source": [
    "min_num = 1000\n",
    "max_num = -1000\n",
    "\n",
    "for num in nums:\n",
    "    if num > max_num:\n",
    "        max_num = num\n",
    "    if num < min_num:\n",
    "        min_num = num\n",
    "\n",
    "print(max_num, min_num)"
   ]
  },
  {
   "cell_type": "markdown",
   "metadata": {},
   "source": [
    "Write a different implementation that uses the built-in [`max`](https://docs.python.org/3/library/functions.html#max) and [`min`](https://docs.python.org/3/library/functions.html#min) functions instead."
   ]
  },
  {
   "cell_type": "code",
   "execution_count": null,
   "metadata": {},
   "outputs": [],
   "source": []
  }
 ],
 "metadata": {
  "kernelspec": {
   "display_name": ".venv",
   "language": "python",
   "name": "python3"
  },
  "language_info": {
   "codemirror_mode": {
    "name": "ipython",
    "version": 3
   },
   "file_extension": ".py",
   "mimetype": "text/x-python",
   "name": "python",
   "nbconvert_exporter": "python",
   "pygments_lexer": "ipython3",
   "version": "3.13.1"
  }
 },
 "nbformat": 4,
 "nbformat_minor": 2
}
