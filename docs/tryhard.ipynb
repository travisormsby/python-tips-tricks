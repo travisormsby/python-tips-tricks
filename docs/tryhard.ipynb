{
 "cells": [
  {
   "cell_type": "markdown",
   "metadata": {},
   "source": [
    "<a href=\"https://colab.research.google.com/github/travisormsby/python-tips-tricks/blob/main/docs/tryhard.ipynb\" target=\"_parent\"><img src=\"https://colab.research.google.com/assets/colab-badge.svg\" alt=\"Open In Colab\"/></a>"
   ]
  },
  {
   "cell_type": "markdown",
   "metadata": {},
   "source": [
    "# Don't try so hard"
   ]
  },
  {
   "cell_type": "markdown",
   "metadata": {},
   "source": [
    "When presented with a problem, our first instinct might be to write code that reflects how we would solve the problem manually. That's good because we can take advantage of our existing knowledge. But it's also bad because it's likely to be harder to implement than a solution that takes full advantages of Python's capabilities. \n",
    "\n",
    "You are probably working harder than you need to when you implement solutions that match your manual process. For many types of problems, Python has solved them already. Learning the Pythonic way to address a problem will be easier than coming up with your own. It will also be easier for other people to understand your code, because you are using the well-known idioms of Python instead of your own idiosyncratic implementation."
   ]
  },
  {
   "cell_type": "markdown",
   "metadata": {},
   "source": [
    "## Unpack values "
   ]
  },
  {
   "cell_type": "markdown",
   "metadata": {},
   "source": [
    "An analyst has a tuple of three values that represent the x, y, and z coordinates of a location. The analyst has a distance function that takes three arguments, one for each coordinate."
   ]
  },
  {
   "cell_type": "code",
   "execution_count": null,
   "metadata": {},
   "outputs": [],
   "source": [
    "coordinates = (2, 5, 4)\n",
    "\n",
    "def distance_from_origin(x, y, z):\n",
    "    return (x**2 + y**2 + z**2) ** 0.5"
   ]
  },
  {
   "cell_type": "markdown",
   "metadata": {},
   "source": [
    "The analyst needs to pass the values from the tuple to the function. One way to do that is to use the index of each value with bracket notation."
   ]
  },
  {
   "cell_type": "code",
   "execution_count": null,
   "metadata": {},
   "outputs": [],
   "source": [
    "x = coordinates[0]\n",
    "y = coordinates[1]\n",
    "z = coordinates[2]\n",
    "\n",
    "distance_from_origin(x, y, z)"
   ]
  },
  {
   "cell_type": "markdown",
   "metadata": {},
   "source": [
    "That works, but it has two problems:\n",
    "\n",
    "* Repetition of `coodinates` is error prone and tough to refactor.\n",
    "* Overuse of brackets makes code harder to read.\n",
    "\n",
    "You can use unpacking to fix both problems."
   ]
  },
  {
   "cell_type": "code",
   "execution_count": null,
   "metadata": {},
   "outputs": [],
   "source": [
    "x, y, z = coordinates\n",
    "\n",
    "distance_from_origin(x, y, z)"
   ]
  },
  {
   "cell_type": "markdown",
   "metadata": {},
   "source": [
    "Variable unpacking takes a collection of values on the right-hand side of `=` and assigns each value in order to an equal number of names on the left hand side. Importantly, the number of names on the left must match the number of values in the collection on the right.  "
   ]
  },
  {
   "cell_type": "code",
   "execution_count": null,
   "metadata": {},
   "outputs": [],
   "source": [
    "x, y, z, m = coordinates"
   ]
  },
  {
   "cell_type": "code",
   "execution_count": null,
   "metadata": {},
   "outputs": [],
   "source": [
    "x, y = coordinates"
   ]
  },
  {
   "cell_type": "markdown",
   "metadata": {},
   "source": [
    "Unpacking to names is useful, but you can go a step further when the values you need to unpack will be passed to a function or class constructor. "
   ]
  },
  {
   "cell_type": "code",
   "execution_count": null,
   "metadata": {},
   "outputs": [],
   "source": [
    "distance_from_origin(*coordinates)"
   ]
  },
  {
   "cell_type": "markdown",
   "metadata": {},
   "source": [
    "The `*` in front of the variable name unpacks the values so that each value in order is assigned to the parameters of the function. \n",
    "\n",
    "One disadvantage of unpacking a collection into arguments this way is that it relies on parameter order. That means it only works when you can use positional arguments and doesn't work when you need to specify keyword arguments. \n",
    "\n",
    "But if the values to unpack are in a dictionary where each key matches a parameter name, you can unpack them as keyword arguments with `**`. Then the order of values no longer matters."
   ]
  },
  {
   "cell_type": "code",
   "execution_count": null,
   "metadata": {},
   "outputs": [],
   "source": [
    "coordinates_dict = {\n",
    "    \"z\": 4,\n",
    "    \"y\": 5,\n",
    "    \"x\": 2\n",
    "}\n",
    "\n",
    "distance_from_origin(**coordinates_dict)"
   ]
  },
  {
   "cell_type": "markdown",
   "metadata": {},
   "source": [
    "If you have ever seen a function defintion with `*args` and `**kwargs`, that's related to unpacking. The `*args` parameter means the function can be called with any number of positional arguments. The `**kwargs` means the function can be called with any keyword arguments.\n",
    "\n",
    "**Big Takeaway:** Unpacking reduces the amount of code you have to write and makes your code easier to read. Take advantage of it wherever you can."
   ]
  },
  {
   "cell_type": "markdown",
   "metadata": {},
   "source": [
    "## Beg forgiveness. Don't ask permission"
   ]
  },
  {
   "cell_type": "markdown",
   "metadata": {},
   "source": [
    "An analyst has tract-level census data where each tract has three values: \n",
    "\n",
    "* Land Area in km<sup>2</sup>\n",
    "* Population"
   ]
  },
  {
   "cell_type": "code",
   "execution_count": null,
   "metadata": {},
   "outputs": [],
   "source": [
    "tract1 = {\n",
    "    \"land_area\": 20,\n",
    "    \"population\": 1000\n",
    "}"
   ]
  },
  {
   "cell_type": "markdown",
   "metadata": {},
   "source": [
    "\n",
    "The analyst writes a function to calculate the population density in people per km<sup>2</sup> of land area. "
   ]
  },
  {
   "cell_type": "code",
   "execution_count": null,
   "metadata": {},
   "outputs": [],
   "source": [
    "def pop_density(tract):\n",
    "    return tract[\"population\"] / tract[\"land_area\"]\n",
    "\n",
    "pop_density(tract1)"
   ]
  },
  {
   "cell_type": "markdown",
   "metadata": {},
   "source": [
    "There are a few ways this could go wrong. What if the record is missing a `population` key because no people live there?"
   ]
  },
  {
   "cell_type": "code",
   "execution_count": null,
   "metadata": {},
   "outputs": [],
   "source": [
    "tract2 = {\n",
    "    \"land_area\": 10\n",
    "}\n",
    "\n",
    "pop_density(tract2)"
   ]
  },
  {
   "cell_type": "markdown",
   "metadata": {},
   "source": [
    "What if it's missing a `land_area` key because it's all water?"
   ]
  },
  {
   "cell_type": "code",
   "execution_count": null,
   "metadata": {},
   "outputs": [],
   "source": [
    "tract3 = {\n",
    "    \"population\": 0\n",
    "}\n",
    "pop_density(tract3)"
   ]
  },
  {
   "cell_type": "markdown",
   "metadata": {},
   "source": [
    "What if it has a land area value of 0 because it's all water?"
   ]
  },
  {
   "cell_type": "code",
   "execution_count": null,
   "metadata": {},
   "outputs": [],
   "source": [
    "tract4 = {\n",
    "    \"land_area\": 0,\n",
    "    \"population\": 0\n",
    "}\n",
    "pop_density(tract4)"
   ]
  },
  {
   "cell_type": "markdown",
   "metadata": {},
   "source": [
    "One way to deal with potential bad values to is to check for them ahead of time with conditional logic (`if`/`elif`/`else`)."
   ]
  },
  {
   "cell_type": "code",
   "execution_count": null,
   "metadata": {},
   "outputs": [],
   "source": [
    "def pop_density2(tract):\n",
    "    if \"population\" not in tract.keys():\n",
    "        return 0\n",
    "    elif \"land_area\" not in tract.keys():\n",
    "        return 0\n",
    "    elif tract[\"land_area\"] == 0:\n",
    "        return 0\n",
    "    else:\n",
    "        return tract[\"population\"] / tract[\"land_area\"]\n",
    "        \n",
    "for tract in (tract1, tract2, tract3, tract4):\n",
    "    print(pop_density2(tract))"
   ]
  },
  {
   "cell_type": "markdown",
   "metadata": {},
   "source": [
    "But using conditional logic like this is not great. You need to put in the checks before you get to your core logic, which hurts both performance and readability. \n",
    "\n",
    "You will also inevitably run into edge cases that you didn't anticipate. What if a tract with no people has the `population` key set to `None`?"
   ]
  },
  {
   "cell_type": "code",
   "execution_count": null,
   "metadata": {},
   "outputs": [],
   "source": [
    "tract5 = {\n",
    "    \"land_area\": 20,\n",
    "    \"population\": None\n",
    "}\n",
    "\n",
    "pop_density2(tract5)"
   ]
  },
  {
   "cell_type": "markdown",
   "metadata": {},
   "source": [
    "Instead of writing an exploding mess of spaghetti code to deal with a never-ending parade of edge cases, it is better to use `try` and `except`. Python will attempt to run the code in the `try` block. If that code throws and exception, Python will run the code in the `except` block that matches the type of exception. "
   ]
  },
  {
   "cell_type": "code",
   "execution_count": null,
   "metadata": {},
   "outputs": [],
   "source": [
    "def pop_density3(tract):\n",
    "    try:\n",
    "        return tract[\"population\"] / tract[\"land_area\"]\n",
    "    except (KeyError, ZeroDivisionError, TypeError):\n",
    "        return 0\n",
    "\n",
    "for tract in (tract1, tract2, tract3, tract4, tract5):\n",
    "    print(pop_density3(tract))"
   ]
  },
  {
   "cell_type": "markdown",
   "metadata": {},
   "source": [
    "This code is still somewhat fragile. For example, it won't correctly handle records that store values as strings instead of numeric types. But it is easier to deal with those complexities as they arise by using `try`/`except` rather than `if` statements.\n",
    "\n",
    "**Big takeaway:** You can just try things. It's usually easier, faster, and more readable to put the common case in a `try` block, and handle exceptions for edge cases where the common case doesn't work. "
   ]
  },
  {
   "cell_type": "markdown",
   "metadata": {},
   "source": [
    "## Use more of the standard library"
   ]
  },
  {
   "cell_type": "markdown",
   "metadata": {},
   "source": [
    "An analyst has tract-level census data records. Each tract has two values: population and households. The analyst could model a single tract as a dictionary."
   ]
  },
  {
   "cell_type": "code",
   "execution_count": null,
   "metadata": {},
   "outputs": [],
   "source": [
    "tract1 = {\n",
    "    \"population\": 1000,\n",
    "    \"households\": 500\n",
    "}"
   ]
  },
  {
   "cell_type": "markdown",
   "metadata": {},
   "source": [
    "That looks appropriate because it clearly links each value to a key that explains what the value means. But a dictionary is usually not a good data structure for a single record from a table. For one thing, there is a substantial amount of repetition if you need to model many records."
   ]
  },
  {
   "cell_type": "code",
   "execution_count": null,
   "metadata": {},
   "outputs": [],
   "source": [
    "tract2 = {\n",
    "    \"population\": 2000,\n",
    "    \"households\": 800\n",
    "}\n",
    "\n",
    "tract3 = {\n",
    "    \"population\": 5000,\n",
    "    \"households\": 3000\n",
    "}"
   ]
  },
  {
   "cell_type": "markdown",
   "metadata": {},
   "source": [
    "Another problem is that dictionaries are mutable, which means the keys can change and cause the dictionary to no longer fit the same data schema."
   ]
  },
  {
   "cell_type": "code",
   "execution_count": null,
   "metadata": {},
   "outputs": [],
   "source": [
    "del tract2[\"households\"]\n",
    "tract2"
   ]
  },
  {
   "cell_type": "markdown",
   "metadata": {},
   "source": [
    "Dictionaries are optimized for fast access of a value by key. This is not usually an important goal for an individual record. Using a dictionary to model records is unecessarily hard. A better data structure for a record is a tuple."
   ]
  },
  {
   "cell_type": "code",
   "execution_count": null,
   "metadata": {},
   "outputs": [],
   "source": [
    "tract1 = (1000, 500)\n",
    "tract2 = (2000, 800)\n",
    "tract3 = (5000, 3000)"
   ]
  },
  {
   "cell_type": "markdown",
   "metadata": {},
   "source": [
    "A glaring omission from a tuple, however, is the lack of context for each value represents. An even better data structure for a record is a named tuple, which you can import from the standard library.\n",
    "\n",
    "To use a named tuple, create a class that inherits from `NamedTuple`. For this kind of class, you only need to specify the field names and the datatype the values in each field should have. You can then create instances of that named tuple by passing the appropriate values to the constructor."
   ]
  },
  {
   "cell_type": "code",
   "execution_count": null,
   "metadata": {},
   "outputs": [],
   "source": [
    "from typing import NamedTuple\n",
    "\n",
    "class Tract(NamedTuple):\n",
    "    population: int\n",
    "    households: int\n",
    "\n",
    "tract1 = Tract(1000, 500)\n",
    "tract2 = Tract(2000, 800)\n",
    "tract3 = Tract(5000, 3000)"
   ]
  },
  {
   "cell_type": "markdown",
   "metadata": {},
   "source": [
    "You can access the value in a field using dot notation."
   ]
  },
  {
   "cell_type": "code",
   "execution_count": null,
   "metadata": {},
   "outputs": [],
   "source": [
    "tract1.households"
   ]
  },
  {
   "cell_type": "markdown",
   "metadata": {},
   "source": [
    "**Big takeaway**: The standard library has classes and functions that make your life easier without having to install additional packages. You should use them more. Named tuples are just one example. The [official documentation](https://docs.python.org/3/library/index.html) lists them all, but some highlights include:\n",
    "\n",
    "* [csv](https://docs.python.org/3/library/csv.html) for working with csv files\n",
    "* [dataclasses](https://docs.python.org/3/library/dataclasses.html) for creating dataclasses (like `NamedTuple`, but editable)\n",
    "* [datetime](https://docs.python.org/3/library/datetime.html) for working with dates and times\n",
    "* [itertools](https://docs.python.org/3/library/itertools.html) for efficient looping\n",
    "* [math](https://docs.python.org/3/library/math.html) for Mathematical functions\n",
    "* [pprint](https://docs.python.org/3/library/pprint.html) for nicely printing complex data structures\n",
    "* [pathlib](https://docs.python.org/3/library/pathlib.html) and [os.path](https://docs.python.org/3/library/os.path.html) for working with file paths"
   ]
  },
  {
   "cell_type": "markdown",
   "metadata": {},
   "source": [
    "## Use more built-ins"
   ]
  },
  {
   "cell_type": "markdown",
   "metadata": {},
   "source": [
    "The analyst wants to know the average number of people per household across all tracts. That is not the same as averaging the number of people per household per tract. The analyst needs to divide the total population across tracts by the total number of households across tracts.\n",
    "\n",
    "One way to get the right answer is to loop over each tract, keeping a running total of the population househould values. Then calculate the the ratio."
   ]
  },
  {
   "cell_type": "code",
   "execution_count": null,
   "metadata": {},
   "outputs": [],
   "source": [
    "population = 0\n",
    "households = 0\n",
    "tracts = [tract1, tract2, tract3]\n",
    "for tract in tracts:\n",
    "    population += tract.population\n",
    "    households += tract.households\n",
    "\n",
    "population / households"
   ]
  },
  {
   "cell_type": "markdown",
   "metadata": {},
   "source": [
    "That gives the correct answer, but keeping running totals obscures the goal, which is to create a sum of the total population and households across tracts. \n",
    "\n",
    "Summing values is a common pattern, and for many common patterns, Python has some built-in capability to make it easier to accomplish. Built-ins differ from the standard library in that you don't have to import anything to get access to built-ins. \n",
    "\n",
    "Code that is is considered *Pythonic* makes good use of these built-in capabilities. In this case, there is the [`sum`](https://docs.python.org/3/library/functions.html#sum) function. This has the advantage of making it more explicit to the reader that the code is summing values in a collection."
   ]
  },
  {
   "cell_type": "code",
   "execution_count": null,
   "metadata": {},
   "outputs": [],
   "source": [
    "population_values = []\n",
    "household_values = []\n",
    "tracts = [tract1, tract2, tract3]\n",
    "for tract in tracts:\n",
    "    population_values.append(tract.population)\n",
    "    household_values.append(tract.households)\n",
    "\n",
    "sum(population_values) / sum(household_values)"
   ]
  },
  {
   "cell_type": "markdown",
   "metadata": {},
   "source": [
    "Appending values to a list in a loop is also a very common pattern. For this case, Python has [list comprehensions](https://docs.python.org/3/library/functions.html#zip). List comprehensions are shorter and more readable (once you get used to them) than explicit loops. They also execute faster than the equivalent loop."
   ]
  },
  {
   "cell_type": "code",
   "execution_count": null,
   "metadata": {},
   "outputs": [],
   "source": [
    "tracts = [tract1, tract2, tract3]\n",
    "population_values = [tract.population for tract in tracts]\n",
    "household_values = [tract.households for tract in tracts]\n",
    "\n",
    "sum(population_values) / sum(household_values)"
   ]
  },
  {
   "cell_type": "markdown",
   "metadata": {},
   "source": [
    "In this particular case, a list comprehension is not so great because we had to iterate over the tracts twice. \n",
    "\n",
    "It is possible to do this is in a single list comprehension, but the result would be an abomination. While comprehensions are generally awesome, resist the temptation to make complicated comprehensions. In such cases, it would be better to use an explicit loop instead.\n",
    "\n",
    "The best approach is to know that recombining a group of pairs into a pair of groups (or vice versa) is also a common pattern. Once again, Python has a built-in function, [`zip`](https://docs.python.org/3/library/functions.html#zip), to do that for you. \n",
    "\n",
    "By using `zip`, you can save yourself a little bit of typing and a significant amount of thinking about the correct implementation. Using `zip` also makes your code easier to explain to other people familiar with Python because they don't have to reason through your implementation to make sure it's been done correctly."
   ]
  },
  {
   "cell_type": "code",
   "execution_count": null,
   "metadata": {},
   "outputs": [],
   "source": [
    "population_values, household_values = zip(tract1, tract2, tract3)\n",
    "\n",
    "sum(population_values) / sum(household_values)"
   ]
  },
  {
   "cell_type": "markdown",
   "metadata": {},
   "source": [
    "**Big Takeaway:** Python built-ins can make your life easier, without even having to import additional libraries. `sum`, list comprehensions, and `zip` are among the more useful built-in capabilities of Python you should be using more. The [official documentation](https://docs.python.org/3/library/functions.html) has the complete list, but some other useful built-in functions include:\n",
    "\n",
    "* [`abs`](https://docs.python.org/3/library/functions.html#abs) for returning the absolute value of a number.\n",
    "* [`all`](https://docs.python.org/3/library/functions.html#all) and [`any`](https://docs.python.org/3/library/functions.html#any) for testing the truth of a collection of values.\n",
    "* [`dir`](https://docs.python.org/3/library/functions.html#any) for listing the attributes of an object\n",
    "* [`enumerate`](https://docs.python.org/3/library/functions.html#enumerate) for getting both the index and a value from a collection. Useful for complex loops.\n",
    "* [`help`](https://docs.python.org/3/library/functions.html#help) for getting information about a Python object.\n",
    "* [`isinstance`](https://docs.python.org/3/library/functions.html#enumerate) and [`type`](https://docs.python.org/3/library/functions.html#type) for getting information about an object's type\n",
    "* [`len`](https://docs.python.org/3/library/functions.html#len) for getting the length of a collection, such as a string or list.\n",
    "* [`max`](https://docs.python.org/3/library/functions.html#max) and [`min`](https://docs.python.org/3/library/functions.html#min) for getting the maximum or minimum value from a group of values.\n",
    "* [`open`](https://docs.python.org/3/library/functions.html#open) for opening files.\n",
    "* [`range`](https://docs.python.org/3/library/functions.html#func-range) for creating a collection of values in a given range.\n"
   ]
  },
  {
   "cell_type": "markdown",
   "metadata": {},
   "source": [
    "## Context managers"
   ]
  },
  {
   "cell_type": "markdown",
   "metadata": {},
   "source": [
    "An analyst needs to write some values to a csv file. They open the file, write the content, then close the file."
   ]
  },
  {
   "cell_type": "code",
   "execution_count": null,
   "metadata": {},
   "outputs": [],
   "source": [
    "rows = (\"x,y,z\", \"2,4,5\")\n",
    "f = open('data.csv', 'w')\n",
    "f.write(\"\\n\".join(rows))\n",
    "f.close()"
   ]
  },
  {
   "cell_type": "markdown",
   "metadata": {},
   "source": [
    "That works, but it has two problems. The first is that you have to remember to write `f.close()` at the end or else the file will stay open. That increases the risk of file corruption. That's not too hard in this example, but the more code between the `open` function and the `close` method, the more likely it is that you will forget.\n",
    "\n",
    "The second problem is that even if you remember to write the teardown code to close the file, it won't run if the code throws an exception before it gets there. That also increases the risk of file corruption.\n",
    "\n",
    "Because it is common to need some setup and/or teardown code when working with certain objects, Python has context managers that allow you to apply that code automatically. For example, `TextIOWrapper` objects created by opening text files have teardown code to close the file, so you don't have to invoke the `close` method yourself. Instead, you can use a `with` block to activate the context manager."
   ]
  },
  {
   "cell_type": "code",
   "execution_count": null,
   "metadata": {},
   "outputs": [],
   "source": [
    "with open(\"data.csv\", \"w\") as f:\n",
    "    f.write(\"\\n\".join(rows))"
   ]
  },
  {
   "cell_type": "markdown",
   "metadata": {},
   "source": [
    "The `as f` part of the code creates a name (`f`) that points to an object. This is equivalent to \n",
    "```python\n",
    "f = open(\"data.csv\", \"w\")\n",
    "```\n",
    "\n",
    "Before executing the code inside the `with` block, the context manager executes the setup code defined for that object. As soon as the code inside the `with` block finishes (even if it finished because of an exception), the context manager executes the teardown code defined for the object. \n",
    "\n",
    "Not every object can be used with a context manager. Whoever wrote the code for defining that object had to add special capabilities to the object to enable a context manager. \n",
    "\n",
    "**Big Takeaway:** Context managers let you avoid boilerplate setup/teardown code. Opening files is probably the most common use case for context managers, but pay attention to how they are used in other libraries you work with as well."
   ]
  },
  {
   "cell_type": "markdown",
   "metadata": {},
   "source": [
    "## Exercises"
   ]
  },
  {
   "cell_type": "markdown",
   "metadata": {},
   "source": [
    "The exercises below invite you to practice applying the different strategies outlined above. They follow the order of the concepts presented, but you can attempt them in any order. Start with the ones that seem most applicable to the work you need to do.\n",
    "\n",
    "You can find example answers in the ExerciseAnswers.ipynb notebook."
   ]
  },
  {
   "cell_type": "markdown",
   "metadata": {},
   "source": [
    "### 1) Use unpacking for pretty printing\n",
    "\n",
    "The code below uses a loop to print each value in a collection on a separate line."
   ]
  },
  {
   "cell_type": "code",
   "execution_count": null,
   "metadata": {},
   "outputs": [],
   "source": [
    "counties = [\"Anoka\", \"Dakota\", \"Carver\", \"Hennepin\", \"Ramsey\", \"Scott\", \"Washington\"]\n",
    "for county in counties:\n",
    "    print(county)"
   ]
  },
  {
   "cell_type": "markdown",
   "metadata": {},
   "source": [
    "Write a different implementation that uses unpacking to print each value on a separate line using a single call to the [`print`](https://docs.python.org/3/library/functions.html#print) function instead of a loop.\n",
    "\n",
    "Hint: The `print` function's first parameter is `*objects`, which is accepts any number of positional arguments (similar to `*args` in other functions). These arguments are what will be printed. The second parameter is `sep`, which defines the character to put in between the values to print. The default value of `sep` is a single space (`' '`), but it could be a newline character (`'\\n'`). "
   ]
  },
  {
   "cell_type": "code",
   "execution_count": null,
   "metadata": {},
   "outputs": [],
   "source": []
  },
  {
   "cell_type": "markdown",
   "metadata": {},
   "source": [
    "### 2) Just do things\n",
    "\n",
    "The code below defines three records using a named tuple."
   ]
  },
  {
   "cell_type": "code",
   "execution_count": null,
   "metadata": {},
   "outputs": [],
   "source": [
    "from typing import NamedTuple\n",
    "\n",
    "class Record(NamedTuple):\n",
    "    total_population: int\n",
    "    population_in_poverty: int\n",
    "\n",
    "record1 = Record(5000, 2000)\n",
    "record2 = Record(200, 10)\n",
    "record3 = Record(\"400\", \"30\")"
   ]
  },
  {
   "cell_type": "markdown",
   "metadata": {},
   "source": [
    "The function below calculates the poverty rate. Notice that even though the named tuple specifies `int` as the type, nothing actually stops you from creating a record with the wrong type. The function uses `if` statements to catch incorrect types and convert them to `int`."
   ]
  },
  {
   "cell_type": "code",
   "execution_count": null,
   "metadata": {},
   "outputs": [],
   "source": [
    "def poverty_rate(record):\n",
    "    total_pop, pop_in_poverty = record\n",
    "    if not isinstance(total_pop, int):\n",
    "        total_pop = int(record.total_population)\n",
    "    if not isinstance(pop_in_poverty, int):\n",
    "        pop_in_poverty = int(record.population_in_poverty)\n",
    "    return pop_in_poverty / total_pop\n",
    "\n",
    "for record in (record1, record2, record3):\n",
    "    print(poverty_rate(record))"
   ]
  },
  {
   "cell_type": "markdown",
   "metadata": {},
   "source": [
    "Write a different implementation that doesn't use `if` to check datatypes ahead of time.\n",
    "\n",
    "Hint: You may find it useful to first write the code without any error handling to see what type of error occurs."
   ]
  },
  {
   "cell_type": "code",
   "execution_count": null,
   "metadata": {},
   "outputs": [],
   "source": []
  },
  {
   "cell_type": "markdown",
   "metadata": {},
   "source": [
    "For an even better way to solve this kind of problem, look into [Pydantic](https://docs.pydantic.dev/latest/) models. These models are not built-in or in the standard library, so you have to install the Pydantic library to get them. They are like named tuples that guarantee the records will have the correct data type. "
   ]
  },
  {
   "cell_type": "markdown",
   "metadata": {},
   "source": [
    "### 3) Use standard library data classes\n",
    "\n",
    "The code below uses a dictionary to define a record, then changes one of the values in that record."
   ]
  },
  {
   "cell_type": "code",
   "execution_count": null,
   "metadata": {},
   "outputs": [],
   "source": [
    "record = {\n",
    "    \"total_population\": 5000,\n",
    "    \"population_in_poverty\": 200\n",
    "}\n",
    "\n",
    "record[\"total_population\"] = 6000\n",
    "\n",
    "print(record)"
   ]
  },
  {
   "cell_type": "markdown",
   "metadata": {},
   "source": [
    "This pattern cannot be implented using a named tuple, because named tuples are immutable. A [data class](https://docs.python.org/3/library/dataclasses.html) is a standard library class that is similar to a named tuple, but it can be editable. Write a different implementation of the code above to use data classes instead of dictionaries\n",
    "\n",
    "Hint: The official Python documentation may be hard to understand. You may want to search for a tutorial on data classes specifically."
   ]
  },
  {
   "cell_type": "code",
   "execution_count": null,
   "metadata": {},
   "outputs": [],
   "source": []
  },
  {
   "cell_type": "markdown",
   "metadata": {},
   "source": [
    "### 4) Use the built-in min and max functions\n",
    "\n",
    "The code below creates a list of 20 random numbers between -1000 and 1000. "
   ]
  },
  {
   "cell_type": "code",
   "execution_count": null,
   "metadata": {},
   "outputs": [],
   "source": [
    "from random import randint\n",
    "\n",
    "nums = [randint(-1000, 1000) for i in range(20)]"
   ]
  },
  {
   "cell_type": "markdown",
   "metadata": {},
   "source": [
    "The code below finds the maximum and minimum values of `nums` using conditional logic and explicit comparisons to running values."
   ]
  },
  {
   "cell_type": "code",
   "execution_count": null,
   "metadata": {},
   "outputs": [],
   "source": [
    "min_num = 1000\n",
    "max_num = -1000\n",
    "\n",
    "for num in nums:\n",
    "    if num > max_num:\n",
    "        max_num = num\n",
    "    if num < min_num:\n",
    "        min_num = num\n",
    "\n",
    "print(max_num, min_num)"
   ]
  },
  {
   "cell_type": "markdown",
   "metadata": {},
   "source": [
    "Write a different implementation that uses the built-in [`max`](https://docs.python.org/3/library/functions.html#max) and [`min`](https://docs.python.org/3/library/functions.html#min) functions instead."
   ]
  },
  {
   "cell_type": "code",
   "execution_count": null,
   "metadata": {},
   "outputs": [],
   "source": []
  },
  {
   "cell_type": "markdown",
   "metadata": {},
   "source": [
    "### 5) Open a file with a context manager"
   ]
  },
  {
   "cell_type": "markdown",
   "metadata": {},
   "source": [
    "The code below opens a file and writes to it."
   ]
  },
  {
   "cell_type": "code",
   "execution_count": null,
   "metadata": {},
   "outputs": [],
   "source": [
    "f = open(\"exercise.txt\", \"w\")\n",
    "f.write(\"This is example text for an exercise.\")\n",
    "f.close()"
   ]
  },
  {
   "cell_type": "markdown",
   "metadata": {},
   "source": [
    "Rewrite it to use a context manager instead."
   ]
  },
  {
   "cell_type": "code",
   "execution_count": null,
   "metadata": {},
   "outputs": [],
   "source": []
  }
 ],
 "metadata": {
  "kernelspec": {
   "display_name": ".venv",
   "language": "python",
   "name": "python3"
  },
  "language_info": {
   "codemirror_mode": {
    "name": "ipython",
    "version": 3
   },
   "file_extension": ".py",
   "mimetype": "text/x-python",
   "name": "python",
   "nbconvert_exporter": "python",
   "pygments_lexer": "ipython3",
   "version": "3.13.1"
  }
 },
 "nbformat": 4,
 "nbformat_minor": 2
}
