{
 "cells": [
  {
   "cell_type": "markdown",
   "metadata": {},
   "source": [
    "<a href=\"https://colab.research.google.com/github/travisormsby/python-tips-tricks/blob/main/docs/Documentation.ipynb\" target=\"_parent\"><img src=\"https://colab.research.google.com/assets/colab-badge.svg\" alt=\"Open In Colab\"/></a>"
   ]
  },
  {
   "cell_type": "markdown",
   "metadata": {},
   "source": [
    "# Help people understand your code"
   ]
  },
  {
   "cell_type": "markdown",
   "metadata": {},
   "source": [
    "Even if you use Pythonic idioms, your code probably won't be perfectly understandable by itself. But with all the time you save by writing code that is more Pythonic, you can spend more time documenting your code. That way other people can figure it out."
   ]
  },
  {
   "cell_type": "markdown",
   "metadata": {},
   "source": [
    "## Docstrings"
   ]
  },
  {
   "cell_type": "markdown",
   "metadata": {},
   "source": [
    "An analyst has a function that calculates the distance from a given point to the origin in three dimensions."
   ]
  },
  {
   "cell_type": "code",
   "execution_count": null,
   "metadata": {},
   "outputs": [],
   "source": [
    "def distance_from_origin(x, y, z):\n",
    "    return (x**2 + y**2 + z**2) ** 0.5"
   ]
  },
  {
   "cell_type": "markdown",
   "metadata": {},
   "source": [
    "One option is to say that it is perfectly obvious what this function does from its name and parameters. But your functions are much more obvious to you than they are to other people. \"Other people\" includes future you. You do not want future you mad at current you for not explaining what your code does.\n",
    "\n",
    "A better option is to write down explicity what this function does, what kind of arguments you can pass to it, and what kind of value it will return. For example, you might have a text file, or a web page, or a Word doc. Hopefully not a sticky note on your monitor, but even that's better than nothing. Something like:\n",
    "\n",
    "```\n",
    "Calculates the distance from a given point in three dimensions to the origin (0, 0, 0). \n",
    "\n",
    "Args: \n",
    "    x (float): The x-axis coordinate.\n",
    "    y (float): The y-axis coordinate.\n",
    "    z (float): The z-axis coordinate.\n",
    "\n",
    "Returns:\n",
    "    float: The distance.\n",
    "```"
   ]
  },
  {
   "cell_type": "markdown",
   "metadata": {},
   "source": [
    "That works OK, but separating your code from your documentation forces people to look in two places. It also means that the built-in `help` function is mostly useless for learning about your function. "
   ]
  },
  {
   "cell_type": "code",
   "execution_count": null,
   "metadata": {},
   "outputs": [],
   "source": [
    "help(distance_from_origin)"
   ]
  },
  {
   "cell_type": "markdown",
   "metadata": {},
   "source": [
    "A better way to document your code is to include the information as a docstring. You can use docstrings with modules, function, classes, and methods that you create. "
   ]
  },
  {
   "cell_type": "code",
   "execution_count": null,
   "metadata": {},
   "outputs": [],
   "source": [
    "def distance_from_origin_docstring(x, y, z):\n",
    "    \"\"\"\n",
    "    Calculates the distance from a given point in three dimensions to the origin (0, 0, 0). \n",
    "\n",
    "    Args: \n",
    "        x (float): The x-axis coordinate.\n",
    "        y (float): The y-axis coordinate.\n",
    "        z (float): The z-axis coordinate.\n",
    "\n",
    "    Returns:\n",
    "        float: The distance.\n",
    "    \"\"\"\n",
    "\n",
    "    return (x**2 + y**2 + z**2) ** 0.5"
   ]
  },
  {
   "cell_type": "markdown",
   "metadata": {},
   "source": [
    "By including a docstring, people can use the built-in `help` function to see the information without having to open the source code file."
   ]
  },
  {
   "cell_type": "code",
   "execution_count": null,
   "metadata": {},
   "outputs": [],
   "source": [
    "help(distance_from_origin_docstring)"
   ]
  },
  {
   "cell_type": "markdown",
   "metadata": {},
   "source": [
    "Many IDEs will even show the information when you hover over the function name."
   ]
  },
  {
   "cell_type": "markdown",
   "metadata": {},
   "source": [
    "## Type hints"
   ]
  },
  {
   "cell_type": "markdown",
   "metadata": {},
   "source": [
    "An analyst tries using the `distance_from_origin_docstring` function, but is getting an error"
   ]
  },
  {
   "cell_type": "code",
   "execution_count": null,
   "metadata": {},
   "outputs": [],
   "source": [
    "coordinates = [2, 5, 4]\n",
    "distance = distance_from_origin_docstring(*coordinates)\n",
    "info_string = \"The point is \" + distance + \" meters from the origin\"\n",
    "print(info_string)"
   ]
  },
  {
   "cell_type": "markdown",
   "metadata": {},
   "source": [
    "The error is reasonably informative, and the analyst can use it to fix their code. But the problem only showed up after the analyst ran the code. It would be nice to get that information beforehand. Type hints are a way to pass information to type checkers and IDEs that can help ensure that you're using the correct types, without having to actually run the code."
   ]
  },
  {
   "cell_type": "code",
   "execution_count": null,
   "metadata": {},
   "outputs": [],
   "source": [
    "def distance_from_origin_typehints(x: float, y: float, z: float) -> float:\n",
    "    \"\"\"\n",
    "    Calculates the distance from a given point in three dimensions to the origin (0, 0, 0). \n",
    "\n",
    "    Args: \n",
    "        x (float): The x-axis coordinate.\n",
    "        y (float): The y-axis coordinate.\n",
    "        z (float): The z-axis coordinate.\n",
    "\n",
    "    Returns:\n",
    "        float: The distance.\n",
    "    \"\"\"\n",
    "\n",
    "    return (x**2 + y**2 + z**2) ** 0.5"
   ]
  },
  {
   "cell_type": "markdown",
   "metadata": {},
   "source": [
    "If the analyst had used this function, type checkers like Mypy would have flagged the use of the `distance` name as incorrect usage. Then the analyst could have corrected their code before running it and seeing the error."
   ]
  },
  {
   "cell_type": "code",
   "execution_count": null,
   "metadata": {},
   "outputs": [],
   "source": [
    "coordinates = [2, 5, 4]\n",
    "distance = distance_from_origin_typehints(*coordinates)\n",
    "info_string = \"The point is \" + distance + \" meters from the origin\"\n",
    "print(info_string)"
   ]
  },
  {
   "cell_type": "markdown",
   "metadata": {},
   "source": [
    "\n",
    "Type *hints* are well-named. They do not force you to use the right types. They will not cause Python to throw an error if you use the wrong types. They give you a hint that you are not using a value correctly. \n",
    "\n",
    "For example, the `distance_from_origin_typehints` function still executes without an error when you pass it a `complex` number as an argument, even though a `complex` is not a `float`."
   ]
  },
  {
   "cell_type": "code",
   "execution_count": null,
   "metadata": {},
   "outputs": [],
   "source": [
    "coordinates = [2j, 5, 4]\n",
    "distance = distance_from_origin_typehints(*coordinates)\n",
    "info_string = f\"The point is {distance} meters from the origin\"\n",
    "print(info_string)"
   ]
  },
  {
   "cell_type": "markdown",
   "metadata": {},
   "source": [
    "Type hints can be used for more complex types, like if you need to have a particular container type and you also need to specify the type of the values inside the container.\n",
    "\n",
    "- `Iterable` is for containers that you want to use in a `for` loop.\n",
    "- `Sequence` is an `Iterable` that lets you know the length and access an element by index.\n",
    "- `MutableSequence` is a `Sequence` that you might need to change.\n",
    "- `Mapping` is for dictionary-like objects where you want to get values by key.\n",
    "- `MutableMapping` is a `Mapping` that you might need to change.\n",
    "- If you know you want a specific type, you can also use `dict`, `list`, or `tuple` directly.\n",
    "\n",
    "The code below refactors the distance function to use a single parameter and calculates the distance in any number of dimensions."
   ]
  },
  {
   "cell_type": "code",
   "execution_count": null,
   "metadata": {},
   "outputs": [],
   "source": [
    "from collections.abc import Iterable\n",
    "\n",
    "def n_dimension_distance_from_origin(coords: Iterable[float]) -> float:\n",
    "    \"\"\"\n",
    "    Calculates the distance from a given n-dimensional point to the origin. \n",
    "\n",
    "    Args: \n",
    "        coords (Iterable[float]): \n",
    "            An iterable of coordinate values, one for each dimension.\n",
    "\n",
    "    Returns:\n",
    "        float: The distance.\n",
    "    \"\"\"\n",
    "\n",
    "    sum_of_squares = sum(d ** 2 for d in coords)\n",
    "    return sum_of_squares ** 0.5\n",
    "\n",
    "n_dimension_distance_from_origin((1, 1, 1, 1))\n",
    "n_dimension_distance_from_origin([1, 1, 1, 1])\n",
    "n_dimension_distance_from_origin((\"1\", \"1\", \"1\", \"1\"))\n",
    "\n"
   ]
  },
  {
   "cell_type": "markdown",
   "metadata": {},
   "source": [
    "## Exercises"
   ]
  },
  {
   "cell_type": "markdown",
   "metadata": {},
   "source": [
    "The exercises below invite you to practice applying the different strategies outlined above. They follow the order of the concepts presented, but you can attempt them in any order. Start with the ones that seem most applicable to the work you need to do.\n",
    "\n",
    "You can find example answers in the ExerciseAnswers.ipynb notebook."
   ]
  },
  {
   "cell_type": "markdown",
   "metadata": {},
   "source": [
    "### 1) Use type hints\n",
    "\n",
    "Determine the input and output types of the function below, then add type hints.\n",
    "\n",
    "Hint: The correct type for `vertices` is very complex. It is passed to the `cycle` function, which means you need to be able to loop over it.  The containers inside `vertices` unpack their values to `x` and `y`, so you also need to be able to loop over them and they must contain exactly two values. Finally, you need to be able to perform arithmetic on those `x` and `y` values.\n",
    "\n",
    "To help reduce complexity in the type hint, consider creating a new `Vertex` type that is a `NamedTuple` specifying the right number of fields and their type. If you do so, consider whether you need to alter any other parts of the code."
   ]
  },
  {
   "cell_type": "code",
   "execution_count": null,
   "metadata": {},
   "outputs": [],
   "source": [
    "from itertools import cycle\n",
    "\n",
    "def calculate_area(vertices):\n",
    "    subtotals = []\n",
    "    vertex_cycle = cycle(vertices)\n",
    "    next(vertex_cycle)\n",
    "    for vertex in vertices:\n",
    "        x, y = vertex\n",
    "        nextx, nexty = next(vertex_cycle)\n",
    "        subtotal = x * nexty - y * nextx\n",
    "        subtotals.append(subtotal)\n",
    "    area = abs(sum(subtotals) / 2)\n",
    "    return area\n",
    "\n",
    "vertices = ((4, 10), (9, 7), (11, 2), (2, 2))\n",
    "calculate_area(vertices)"
   ]
  },
  {
   "cell_type": "markdown",
   "metadata": {},
   "source": [
    "### 2) Add a docstring to a function\n",
    "\n",
    "Determine what the `calculate area` function does, then add a docstring.\n",
    "\n",
    "The examples above use Google-style docstrings, which are a common standard. You may also want to look at [other common formats](https://joshdimella.com/blog/python-docstring-formats-best-practices).\n",
    "\n",
    "Hint: It is not actually necessary to understand the shoelace algorithm implemented by this function. You can still write an excellent doc string explaining what it does how to use it.\n"
   ]
  }
 ],
 "metadata": {
  "kernelspec": {
   "display_name": ".venv",
   "language": "python",
   "name": "python3"
  },
  "language_info": {
   "codemirror_mode": {
    "name": "ipython",
    "version": 3
   },
   "file_extension": ".py",
   "mimetype": "text/x-python",
   "name": "python",
   "nbconvert_exporter": "python",
   "pygments_lexer": "ipython3",
   "version": "3.13.1"
  }
 },
 "nbformat": 4,
 "nbformat_minor": 2
}
