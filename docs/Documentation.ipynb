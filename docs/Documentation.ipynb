{
 "cells": [
  {
   "cell_type": "markdown",
   "metadata": {},
   "source": [
    "Even if you use Pythonic idioms, your code probably won't be perfectly understandable by itself. With all the time you save writing more Python code, however, you can spend more time documenting your code. That way other people can figure it out."
   ]
  },
  {
   "cell_type": "markdown",
   "metadata": {},
   "source": [
    "## Doc strings"
   ]
  },
  {
   "cell_type": "markdown",
   "metadata": {},
   "source": [
    "An analyst has a function that calculates the distance from a given point to the origin in three dimensions."
   ]
  },
  {
   "cell_type": "code",
   "execution_count": 9,
   "metadata": {},
   "outputs": [],
   "source": [
    "def distance_from_origin(x, y, z):\n",
    "    return (x**2 + y**2 + z**2) ** 0.5"
   ]
  },
  {
   "cell_type": "markdown",
   "metadata": {},
   "source": [
    "One option is to say that it is perfectly obvious what this function does from its name and parameters. But the way a function that you just wrote works is must more obvious to you than it is to other people. Other people very much includes future you, and you do not want future you mad at current you for not explaining what you code does.\n",
    "\n",
    "A better option is to write down explicity what this function does, what kind of arguments you can pass to it, and what kind of value it will return. For example, you might have a text file, or a web page, or a Word doc. Hopefully not a sticky note on your monitor. But something like:\n",
    "\n",
    "```\n",
    "Calculates the distance from a given point in three dimensions to the origin (0, 0, 0). \n",
    "\n",
    "Args: \n",
    "    x (float): The x-axis coordinate.\n",
    "    y (float): The y-axis coordinate.\n",
    "    z (float): The z-axis coordinate.\n",
    "\n",
    "Returns:\n",
    "    float: The distance.\n",
    "```"
   ]
  },
  {
   "cell_type": "markdown",
   "metadata": {},
   "source": [
    "That works OK, but separating your code from your documentation forces people to look in two places. A better way is to include the information in the function definition itself as a doc string. You can use doc strings with modules, function, classes, and methods that you create. "
   ]
  },
  {
   "cell_type": "code",
   "execution_count": 10,
   "metadata": {},
   "outputs": [],
   "source": [
    "def distance_from_origin_docstring(x, y, z):\n",
    "    \"\"\"\n",
    "    Calculates the distance from a given point in three dimensions to the origin (0, 0, 0). \n",
    "\n",
    "    Args: \n",
    "        x (float): The x-axis coordinate.\n",
    "        y (float): The y-axis coordinate.\n",
    "        z (float): The z-axis coordinate.\n",
    "\n",
    "    Returns:\n",
    "        float: The distance.\n",
    "    \"\"\"\n",
    "\n",
    "    return (x**2 + y**2 + z**2) ** 0.5"
   ]
  },
  {
   "cell_type": "markdown",
   "metadata": {},
   "source": [
    "By including a doc string, people can use the built-in `help` function to see the information without having to open the source code file."
   ]
  },
  {
   "cell_type": "code",
   "execution_count": 11,
   "metadata": {},
   "outputs": [
    {
     "name": "stdout",
     "output_type": "stream",
     "text": [
      "Help on function distance_from_origin in module __main__:\n",
      "\n",
      "distance_from_origin(x, y, z)\n",
      "\n"
     ]
    }
   ],
   "source": [
    "help(distance_from_origin)"
   ]
  },
  {
   "cell_type": "code",
   "execution_count": 12,
   "metadata": {},
   "outputs": [
    {
     "name": "stdout",
     "output_type": "stream",
     "text": [
      "Help on function distance_from_origin_docstring in module __main__:\n",
      "\n",
      "distance_from_origin_docstring(x, y, z)\n",
      "    Calculates the distance from a given point in three dimensions to the origin (0, 0, 0).\n",
      "\n",
      "    Args:\n",
      "        x (float): The x-axis coordinate.\n",
      "        y (float): The y-axis coordinate.\n",
      "        z (float): The z-axis coordinate.\n",
      "\n",
      "    Returns:\n",
      "        float: The distance.\n",
      "\n"
     ]
    }
   ],
   "source": [
    "help(distance_from_origin_docstring)"
   ]
  },
  {
   "cell_type": "markdown",
   "metadata": {},
   "source": [
    "Many IDEs will even show the information when you hover over the function name."
   ]
  },
  {
   "cell_type": "markdown",
   "metadata": {},
   "source": [
    "## Type hints"
   ]
  },
  {
   "cell_type": "markdown",
   "metadata": {},
   "source": [
    "An analyst tries using the `distance_from_origin_docstring` function, but is getting an error"
   ]
  },
  {
   "cell_type": "code",
   "execution_count": 15,
   "metadata": {},
   "outputs": [
    {
     "ename": "TypeError",
     "evalue": "can only concatenate str (not \"float\") to str",
     "output_type": "error",
     "traceback": [
      "\u001b[31m---------------------------------------------------------------------------\u001b[39m",
      "\u001b[31mTypeError\u001b[39m                                 Traceback (most recent call last)",
      "\u001b[36mCell\u001b[39m\u001b[36m \u001b[39m\u001b[32mIn[15]\u001b[39m\u001b[32m, line 3\u001b[39m\n\u001b[32m      1\u001b[39m coordinates = [\u001b[32m2\u001b[39m, \u001b[32m5\u001b[39m, \u001b[32m4\u001b[39m]\n\u001b[32m      2\u001b[39m distance = distance_from_origin_docstring(*coordinates)\n\u001b[32m----> \u001b[39m\u001b[32m3\u001b[39m info_string = \u001b[33;43m\"\u001b[39;49m\u001b[33;43mThe point is \u001b[39;49m\u001b[33;43m\"\u001b[39;49m\u001b[43m \u001b[49m\u001b[43m+\u001b[49m\u001b[43m \u001b[49m\u001b[43mdistance\u001b[49m + \u001b[33m\"\u001b[39m\u001b[33m meters from the origin\u001b[39m\u001b[33m\"\u001b[39m\n\u001b[32m      4\u001b[39m \u001b[38;5;28mprint\u001b[39m(info_string)\n",
      "\u001b[31mTypeError\u001b[39m: can only concatenate str (not \"float\") to str"
     ]
    }
   ],
   "source": [
    "coordinates = [2, 5, 4]\n",
    "distance = distance_from_origin_docstring(*coordinates)\n",
    "info_string = \"The point is \" + distance + \" meters from the origin\"\n",
    "print(info_string)\n",
    "\n"
   ]
  },
  {
   "cell_type": "markdown",
   "metadata": {},
   "source": [
    "The error is reasonably informative, and the analyst can use it to fix their code. But the problem only showed up after the analyst ran the code. It would be nice to get that information beforehand. Type hints are a way to pass information to type checkers and IDEs that can help ensure that you're using the correct types, without having to actually run the code."
   ]
  },
  {
   "cell_type": "code",
   "execution_count": 17,
   "metadata": {},
   "outputs": [],
   "source": [
    "def distance_from_origin_typehints(x: float, y: float, z: float) -> float:\n",
    "    \"\"\"\n",
    "    Calculates the distance from a given point in three dimensions to the origin (0, 0, 0). \n",
    "\n",
    "    Args: \n",
    "        x (float): The x-axis coordinate.\n",
    "        y (float): The y-axis coordinate.\n",
    "        z (float): The z-axis coordinate.\n",
    "\n",
    "    Returns:\n",
    "        float: The distance.\n",
    "    \"\"\"\n",
    "\n",
    "    return (x**2 + y**2 + z**2) ** 0.5"
   ]
  },
  {
   "cell_type": "markdown",
   "metadata": {},
   "source": [
    "If the analyst has used this function, type checkers like Mypy would have flagged the use of the `distance` name as incorrect usage. Then they could have corrected their code immediately.\n",
    "\n",
    "Type hints are well-named. They do not force you to use the right types. They will not cause Python to throw an error if you use the wrong types. They give you a hint that you are not using a value correctly. For example, the `distance_from_origin_typehints` function executes successfully when you pass it a `complex` number as an argument, even though a `complex` is not a `float`."
   ]
  },
  {
   "cell_type": "code",
   "execution_count": null,
   "metadata": {},
   "outputs": [
    {
     "name": "stdout",
     "output_type": "stream",
     "text": [
      "The point is (6.082762530298219+0j) meters from the origin\n"
     ]
    }
   ],
   "source": [
    "coordinates = [2j, 5, 4]\n",
    "distance = distance_from_origin_typehints(*coordinates)\n",
    "info_string = f\"The point is {distance} meters from the origin\"\n",
    "print(info_string)"
   ]
  }
 ],
 "metadata": {
  "kernelspec": {
   "display_name": ".venv",
   "language": "python",
   "name": "python3"
  },
  "language_info": {
   "codemirror_mode": {
    "name": "ipython",
    "version": 3
   },
   "file_extension": ".py",
   "mimetype": "text/x-python",
   "name": "python",
   "nbconvert_exporter": "python",
   "pygments_lexer": "ipython3",
   "version": "3.13.1"
  }
 },
 "nbformat": 4,
 "nbformat_minor": 2
}
