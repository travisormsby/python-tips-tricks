{
 "cells": [
  {
   "cell_type": "markdown",
   "metadata": {},
   "source": [
    "# Use more iterators and fewer lists for loops"
   ]
  },
  {
   "cell_type": "markdown",
   "metadata": {},
   "source": [
    "Regardless of whether you use a list or a tuple, you need to store a reference to every value in memory. Both lists and tuples take up more memory the bigger they get."
   ]
  },
  {
   "cell_type": "code",
   "execution_count": 13,
   "metadata": {},
   "outputs": [
    {
     "data": {
      "text/plain": [
       "120"
      ]
     },
     "execution_count": 13,
     "metadata": {},
     "output_type": "execute_result"
    }
   ],
   "source": [
    "from sys import getsizeof\n",
    "\n",
    "little_tuple = tuple(range(10))\n",
    "getsizeof(little_tuple)"
   ]
  },
  {
   "cell_type": "code",
   "execution_count": 14,
   "metadata": {},
   "outputs": [
    {
     "data": {
      "text/plain": [
       "80040"
      ]
     },
     "execution_count": 14,
     "metadata": {},
     "output_type": "execute_result"
    }
   ],
   "source": [
    "big_tuple = tuple(range(10000))\n",
    "getsizeof(big_tuple)"
   ]
  },
  {
   "cell_type": "markdown",
   "metadata": {},
   "source": [
    "Lists and tuples are iterables because you can iterate over their values. Iterators are a special type of iterable that evaluate their values lazily, only when the values are needed. They don't hold references to all the values in memory. That means iterators have constant size in memory. For example, `enumerate` produces an iterator. ArcPy cursors also produce iterators\n"
   ]
  },
  {
   "cell_type": "code",
   "execution_count": 15,
   "metadata": {},
   "outputs": [
    {
     "data": {
      "text/plain": [
       "72"
      ]
     },
     "execution_count": 15,
     "metadata": {},
     "output_type": "execute_result"
    }
   ],
   "source": [
    "little_tuple_iterator = enumerate(little_tuple)\n",
    "getsizeof(little_tuple_iterator)"
   ]
  },
  {
   "cell_type": "code",
   "execution_count": 16,
   "metadata": {},
   "outputs": [
    {
     "data": {
      "text/plain": [
       "72"
      ]
     },
     "execution_count": 16,
     "metadata": {},
     "output_type": "execute_result"
    }
   ],
   "source": [
    "big_tuple_iterator = enumerate(big_tuple)\n",
    "getsizeof(big_tuple_iterator)"
   ]
  },
  {
   "cell_type": "markdown",
   "metadata": {},
   "source": [
    "An iterator is any object that implements both the `__iter__` and `__next__` methods. You can make your own iterators by creating a custom class that implements those methods (or a class that inherits from `collections.abc.Iterator`). An easier way to create your own iterators is to create a special type of iterator called a generator. Generators are functions that use a yield statement to produce values lazily, one at a time (instead of all at once like a list or tuple). For example, you could use a generator to produce infinite sequential ObjectID numbers."
   ]
  },
  {
   "cell_type": "code",
   "execution_count": 18,
   "metadata": {},
   "outputs": [
    {
     "name": "stdout",
     "output_type": "stream",
     "text": [
      "At first the size of oid is 184 bytes\n",
      "The first value produced by oid is 1000\n",
      "After 10,000 iterations, the next value produced by oid is 11001\n",
      "After 10,000 iterations, the size of oid is 184 bytes\n"
     ]
    }
   ],
   "source": [
    "def make_oids(start):\n",
    "    while True:\n",
    "        yield start\n",
    "        start += 1\n",
    "\n",
    "oid = make_oids(start=1000)\n",
    "\n",
    "# Every time you want a new oid, just call next(oid). The size of oid never changes\n",
    "print(f\"At first the size of oid is {getsizeof(oid)} bytes\")\n",
    "print(f\"The first value produced by oid is {next(oid)}\")\n",
    "\n",
    "for i in range(10000):\n",
    "    new_oid = next(oid)\n",
    "\n",
    "print(f\"After 10,000 iterations, the next value produced by oid is {next(oid)}\")\n",
    "print(f\"After 10,000 iterations, the size of oid is {getsizeof(oid)} bytes\")"
   ]
  },
  {
   "cell_type": "markdown",
   "metadata": {},
   "source": [
    "Iterators (inlcuding generators) are useful for enabling better separation of concerns. Maybe you need to create many records and assign each of them an ObjectID. You could do that in a loop."
   ]
  },
  {
   "cell_type": "code",
   "execution_count": 10,
   "metadata": {},
   "outputs": [
    {
     "data": {
      "text/plain": [
       "[{'OID': 1000, 'value': 0},\n",
       " {'OID': 1001, 'value': 1},\n",
       " {'OID': 1002, 'value': 2},\n",
       " {'OID': 1003, 'value': 3},\n",
       " {'OID': 1004, 'value': 4},\n",
       " {'OID': 1005, 'value': 5},\n",
       " {'OID': 1006, 'value': 6},\n",
       " {'OID': 1007, 'value': 7},\n",
       " {'OID': 1008, 'value': 8},\n",
       " {'OID': 1009, 'value': 9}]"
      ]
     },
     "execution_count": 10,
     "metadata": {},
     "output_type": "execute_result"
    }
   ],
   "source": [
    "records = []\n",
    "oid = 1000\n",
    "for value in range(10):\n",
    "    record = {\n",
    "        'OID':  oid,\n",
    "        'value': value,\n",
    "    }\n",
    "    oid += 1\n",
    "    records.append(record)\n",
    "records"
   ]
  },
  {
   "cell_type": "markdown",
   "metadata": {},
   "source": [
    "That works, but the loop is doing two things: making a record and making an OID value. It would be better if those things were separated. That way if we later need to change the way OID values are generated, we don't have to change the code in the loop."
   ]
  },
  {
   "cell_type": "code",
   "execution_count": 11,
   "metadata": {},
   "outputs": [
    {
     "data": {
      "text/plain": [
       "[{'OID': 1000, 'value': 0},\n",
       " {'OID': 1001, 'value': 1},\n",
       " {'OID': 1002, 'value': 2},\n",
       " {'OID': 1003, 'value': 3},\n",
       " {'OID': 1004, 'value': 4},\n",
       " {'OID': 1005, 'value': 5},\n",
       " {'OID': 1006, 'value': 6},\n",
       " {'OID': 1007, 'value': 7},\n",
       " {'OID': 1008, 'value': 8},\n",
       " {'OID': 1009, 'value': 9}]"
      ]
     },
     "execution_count": 11,
     "metadata": {},
     "output_type": "execute_result"
    }
   ],
   "source": [
    "records = []\n",
    "oid = make_oids(1000)\n",
    "for value in range(10):\n",
    "    record = {\n",
    "        'OID':  next(oid),\n",
    "        'value': value,\n",
    "    }\n",
    "    records.append(record)\n",
    "records"
   ]
  }
 ],
 "metadata": {
  "kernelspec": {
   "display_name": ".venv",
   "language": "python",
   "name": "python3"
  },
  "language_info": {
   "codemirror_mode": {
    "name": "ipython",
    "version": 3
   },
   "file_extension": ".py",
   "mimetype": "text/x-python",
   "name": "python",
   "nbconvert_exporter": "python",
   "pygments_lexer": "ipython3",
   "version": "3.13.1"
  }
 },
 "nbformat": 4,
 "nbformat_minor": 2
}
