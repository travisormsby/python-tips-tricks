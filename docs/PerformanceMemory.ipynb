{
  "cells": [
    {
      "cell_type": "markdown",
      "metadata": {
        "colab_type": "text",
        "id": "view-in-github"
      },
      "source": [
        "<a href=\"https://colab.research.google.com/github/travisormsby/python-tips-tricks/blob/main/docs/PerformanceMemory.ipynb\" target=\"_parent\"><img src=\"https://colab.research.google.com/assets/colab-badge.svg\" alt=\"Open In Colab\"/></a>"
      ]
    },
    {
      "cell_type": "markdown",
      "metadata": {
        "id": "e-_2hR6yZLIl"
      },
      "source": [
        "# Optimize Performance and Memory Use"
      ]
    },
    {
      "cell_type": "markdown",
      "metadata": {
        "id": "VogyfkL7ZLIq"
      },
      "source": [
        "When you begin to use Python regularly in your work, you'll start noticing bottlenecks in your code. Some workflows may run at lightning speed, while others take hours of processing time to complete, or even crash.\n",
        "\n",
        "Avoiding bloat is invaluable as you move toward using code for automation, bigger data, and working with APIs. Code efficiency means:\n",
        "- Less chance of a slowdown or crash: the dreaded MemoryError.\n",
        "- Quicker response time and fewer bottlenecks for the larger workflow.\n",
        "- Better scaling.\n",
        "- Efficient code is often (but not always!) cleaner and more readable.\n",
        "\n",
        "Let's look at some ways you can reduce bloat in your code."
      ]
    },
    {
      "cell_type": "markdown",
      "metadata": {
        "id": "v_P41638ZLIw"
      },
      "source": [
        "\n",
        "Access and store only what you need, no more.\n",
        "- __Storage__: avoid a list where you could use a tuple\n",
        "- __Membership look-up__: avoid a list (or tuple) where you could use a set (or dictionary)\n",
        "- __Iteration__: avoid a function (or list comprehension) where you could use a generator (or generator expression)\n",
        "- __Profile__: make time for performance checks by profiling your code for bottlenecks"
      ]
    },
    {
      "cell_type": "markdown",
      "metadata": {
        "heading_collapsed": true,
        "id": "Yu9yyeYPZLIx"
      },
      "source": [
        "## Use fewer lists"
      ]
    },
    {
      "cell_type": "markdown",
      "metadata": {
        "hidden": true,
        "id": "IqMfe4DUZLIx"
      },
      "source": [
        "If you have a collection of values, your first thought may be to store them in a list."
      ]
    },
    {
      "cell_type": "code",
      "execution_count": 83,
      "metadata": {
        "hidden": true,
        "id": "oVG7ozejZLIy"
      },
      "outputs": [],
      "source": [
        "data_list = [17999712, 2015, 'Hawkins Road', 'Linden ', 'NC', 28356]"
      ]
    },
    {
      "cell_type": "markdown",
      "metadata": {
        "hidden": true,
        "id": "vPGEfGsKZLIz"
      },
      "source": [
        "Lists are nice because they are very flexible. You can change the values in the list, including appending and removing values. But that flexibility comes at a cost. Lists are less efficient than tuples. For example, they use more memory."
      ]
    },
    {
      "cell_type": "code",
      "execution_count": 84,
      "metadata": {
        "colab": {
          "base_uri": "https://localhost:8080/"
        },
        "hidden": true,
        "id": "kzw4GFpYZLI1",
        "outputId": "d5183381-eb99-49c9-ab82-6de44f1a146d"
      },
      "outputs": [
        {
          "name": "stdout",
          "output_type": "stream",
          "text": [
            "104\n",
            "88\n"
          ]
        }
      ],
      "source": [
        "import sys\n",
        "\n",
        "data_tuple = tuple(data_list)\n",
        "\n",
        "print(sys.getsizeof(data_list))\n",
        "print(sys.getsizeof(data_tuple))"
      ]
    },
    {
      "cell_type": "markdown",
      "metadata": {
        "hidden": true,
        "id": "SncGVcIiZLI3"
      },
      "source": [
        "Note that `sys.getsizeof` doesn't include the size of data in a container, just the size of the container. You can use it to compare data structures that have the same data in them, but not to compare different data. "
      ]
    },
    {
      "cell_type": "markdown",
      "metadata": {
        "heading_collapsed": true,
        "id": "YdLJhldrZLI3"
      },
      "source": [
        "### Membership look-up: sequential vs. hashable"
      ]
    },
    {
      "cell_type": "markdown",
      "metadata": {
        "id": "x9vIWqKJESyn"
      },
      "source": [
        "When you want to see if an element _already exists_ in a collection of elements, neither lists nor tuples are the best choice."
      ]
    },
    {
      "cell_type": "markdown",
      "metadata": {
        "id": "0VCAv3ZUxOXY"
      },
      "source": [
        "- List and tuple lookup is **sequential**. The bigger the list, the longer look-up takes. This is called O(n) time complexity.\n",
        "- Set and dictionary lookups are **hashable**, which means a lookup goes directly to the correct value. Lookup always takes the same amount of time, now matter how much data there is. This is called O(1) time complexity"
      ]
    },
    {
      "cell_type": "markdown",
      "metadata": {},
      "source": [
        "For example, imagine an analyst has a dataset of 1 million addresses. They also have a smaller dataset of 10,000 zip codes. They want to know which of the zip codes are associated with at least 1 of the addresses.\n",
        "\n",
        "One way to do that is with a list"
      ]
    },
    {
      "cell_type": "code",
      "execution_count": null,
      "metadata": {},
      "outputs": [],
      "source": [
        "from random import randint\n",
        "addresses_zips = [randint(10000, 99950) for _ in range(1_000_000)]\n",
        "zips_of_interest = [randint(10000, 99950) for _ in range(10_000)]"
      ]
    },
    {
      "cell_type": "code",
      "execution_count": null,
      "metadata": {},
      "outputs": [],
      "source": [
        "zips_with_address_match_from_list = []\n",
        "\n",
        "for address_zip in addresses_zips:\n",
        "    if address_zip in zips_of_interest:\n",
        "        zips_with_address_match_from_list.append(address_zip)\n",
        "\n",
        "print(len(zips_with_address_match_from_list))"
      ]
    },
    {
      "cell_type": "markdown",
      "metadata": {},
      "source": [
        "A faster way is to use a set."
      ]
    },
    {
      "cell_type": "code",
      "execution_count": null,
      "metadata": {},
      "outputs": [],
      "source": [
        "zips_of_interest_set = set(zips_of_interest)"
      ]
    },
    {
      "cell_type": "code",
      "execution_count": null,
      "metadata": {},
      "outputs": [],
      "source": [
        "zips_with_address_match_from_set = []\n",
        "\n",
        "for address_zip in addresses_zips:\n",
        "    if address_zip in zips_of_interest_set:\n",
        "        zips_with_address_match_from_set.append(address_zip)\n",
        "\n",
        "print(len(zips_with_address_match_from_set))\n",
        "zips_with_address_match_from_set == zips_with_address_match_from_list"
      ]
    },
    {
      "cell_type": "markdown",
      "metadata": {},
      "source": [
        "**Big takeaway**: Lists are appropriate when you need a collection where you can change the values, but they aren't the best choice for everything. Use a tuple if you don't need to change the values. Use a dictionary or set if you need to check if a value is in the collection."
      ]
    },
    {
      "cell_type": "markdown",
      "metadata": {
        "heading_collapsed": true,
        "id": "da9ChQAwZLI7"
      },
      "source": [
        "## Use more generators"
      ]
    },
    {
      "cell_type": "markdown",
      "metadata": {
        "id": "59BbxRiDuYVg"
      },
      "source": [
        "**Regular functions and comprehensions** typically store outputs into containers, like lists or dictionaries. This can take up unnecessary memory, especially when we're creating multi-step workflows with many intermediate outputs.\n",
        "\n",
        "In contrast, **generators** only hold one data item in memory at a time. A generator is a type of iterator that produces results on-demand (lazily), maintaining its state between iterations."
      ]
    },
    {
      "cell_type": "code",
      "execution_count": null,
      "metadata": {
        "id": "IOV9hZd1EY-W"
      },
      "outputs": [],
      "source": [
        "def massive_func():\n",
        "  \"\"\"A function that attempts to produce an infinitely long list of even numbers.\"\"\"\n",
        "  x_list = []\n",
        "  x = 0\n",
        "  while True:\n",
        "    x_list.append(x)\n",
        "    x += 2\n",
        "  return x_list"
      ]
    },
    {
      "cell_type": "code",
      "execution_count": null,
      "metadata": {},
      "outputs": [],
      "source": [
        "# Calling this function will run out of space\n",
        "for x in massive_func():\n",
        "    print(x)"
      ]
    },
    {
      "cell_type": "code",
      "execution_count": null,
      "metadata": {
        "id": "s3y-FYmQE860"
      },
      "outputs": [],
      "source": [
        "def massive_gen():\n",
        "  \"\"\"A generator that produces an infinitely long stream of even numbers.\"\"\"\n",
        "  x = 0\n",
        "  while True:\n",
        "    yield x\n",
        "    x += 2\n",
        "\n",
        "# Calling this function will run out of time\n",
        "for x in massive_gen():\n",
        "  print(x)"
      ]
    },
    {
      "cell_type": "markdown",
      "metadata": {},
      "source": [
        "What goes for functions, also goes for list comprehensions. You can often use a generator expression in place of a list comprehension. We've already seen an example of a generator expression in the n-dimensional distance function:"
      ]
    },
    {
      "cell_type": "code",
      "execution_count": null,
      "metadata": {},
      "outputs": [],
      "source": [
        "coords = (1, 1, 1, 1)\n",
        "sum(d ** 2 for d in coords)\n"
      ]
    },
    {
      "cell_type": "markdown",
      "metadata": {},
      "source": [
        "Compare that example to one that uses a list comprehension:"
      ]
    },
    {
      "cell_type": "code",
      "execution_count": null,
      "metadata": {},
      "outputs": [],
      "source": [
        "coords = (1, 1, 1, 1)\n",
        "sum([d ** 2 for d in coords])"
      ]
    },
    {
      "cell_type": "markdown",
      "metadata": {},
      "source": [
        "The `sum` function operates by looping over an iterable and adding the value to a running total. In the first case, the iterable is a generator that produces a single value at a time. \n",
        "\n",
        "In the second case, the list comprension loops over `coords` to produce a list where every value is stored in memory. Then the `sum` function loops over that list. \n",
        "\n",
        "An important limitation of generators is that because they produce a single value at a time and then forget about it, you cannot reuse them."
      ]
    },
    {
      "cell_type": "code",
      "execution_count": null,
      "metadata": {},
      "outputs": [],
      "source": [
        "generator = (d ** 2 for d in coords)\n",
        "sum(generator)"
      ]
    },
    {
      "cell_type": "code",
      "execution_count": null,
      "metadata": {},
      "outputs": [],
      "source": [
        "max(generator)"
      ]
    },
    {
      "cell_type": "markdown",
      "metadata": {},
      "source": [
        "**Big Takeaway**: If you're only going to use a value once, you should probably use a generator. If you need to use it again, you probabably need to store it in something like a tuple or list."
      ]
    },
    {
      "cell_type": "markdown",
      "metadata": {
        "id": "1HhMLyvGZLI8"
      },
      "source": [
        "## Profile, don't guess"
      ]
    },
    {
      "cell_type": "markdown",
      "metadata": {
        "id": "4vwEgO0TZLI8"
      },
      "source": [
        "Profiling is any technique used to measure the performance of your code, such as its speed or resource usage. There are dozens of tools available for profiling, but we'll focus on two:\n",
        "1. **Check memory use:** Use `tracemalloc` to check the memory usage of code.\n",
        "1. **Spot-profile your code:** Use the `timeit` notebook magic to perform some basic profiling by cell or by line.\n",
        "\n",
        "To make profiling easier, the cell below defines functions for calculating a sum on a generator expression and on a list comprehension. Both functions will be called with a very large number of coordinates to make profile differences more obvious."
      ]
    },
    {
      "cell_type": "code",
      "execution_count": null,
      "metadata": {},
      "outputs": [],
      "source": [
        "coords = (1, 1) * 1_000_000\n",
        "def sum_generator(coords):\n",
        "    return sum(d ** 2 for d in coords)\n",
        "\n",
        "def sum_list_comprehension(coords):\n",
        "    return sum([d ** 2 for d in coords])"
      ]
    },
    {
      "cell_type": "markdown",
      "metadata": {},
      "source": [
        "### Check memory use"
      ]
    },
    {
      "cell_type": "markdown",
      "metadata": {},
      "source": [
        "The cells below uses `tracemalloc` to capture information about memory usage for the the two versions of the function. \n",
        "\n",
        "You do need to restart the kernel between runs of these cells, to ensure `tracemalloc` isn't counting information stored in memory from a previous cell run. \n",
        " "
      ]
    },
    {
      "cell_type": "code",
      "execution_count": null,
      "metadata": {},
      "outputs": [],
      "source": [
        "import tracemalloc\n",
        "\n",
        "tracemalloc.start()\n",
        "\n",
        "sum_generator(coords)\n",
        "\n",
        "current, peak = tracemalloc.get_traced_memory()\n",
        "print(peak)"
      ]
    },
    {
      "cell_type": "code",
      "execution_count": null,
      "metadata": {},
      "outputs": [],
      "source": [
        "import tracemalloc\n",
        "\n",
        "tracemalloc.start()\n",
        "\n",
        "sum_list_comprehension(coords)\n",
        "\n",
        "current, peak = tracemalloc.get_traced_memory()\n",
        "print(peak)"
      ]
    },
    {
      "cell_type": "markdown",
      "metadata": {
        "id": "FbgVHcXAXg2T"
      },
      "source": [
        "### Spot-check speed with `%%timeit`"
      ]
    },
    {
      "cell_type": "markdown",
      "metadata": {
        "id": "oGY2BHZ0BqGu"
      },
      "source": [
        "The `timeit` module measures the execution time of a selection of code. Among the ways you'll see it written are \"magic\" commands in notebooks.\n",
        "\n",
        "`%%timeit` is a form of cell magic. It measures the execution time of the entire notebook cell."
      ]
    },
    {
      "cell_type": "code",
      "execution_count": null,
      "metadata": {
        "colab": {
          "base_uri": "https://localhost:8080/"
        },
        "id": "zIfZwYVtCDdG",
        "outputId": "a6a25084-3a2d-414f-da4c-361f700a4ebf"
      },
      "outputs": [],
      "source": [
        "%%timeit\n",
        "sum_generator(coords)"
      ]
    },
    {
      "cell_type": "code",
      "execution_count": null,
      "metadata": {
        "colab": {
          "base_uri": "https://localhost:8080/"
        },
        "id": "8nMQau84oQho",
        "outputId": "e786ca2e-5577-46ba-e5b0-3cec7a92a064"
      },
      "outputs": [],
      "source": [
        "%%timeit\n",
        "sum_list_comprehension(coords)"
      ]
    },
    {
      "cell_type": "markdown",
      "metadata": {},
      "source": [
        "If you just want to check the timeing for a single line, you can use the `%timeit` line magic. That's useful if you have some code that takes some time to run, but you don't want it affecting the `timeit` results. Compare the use of cell magic and line magic in the next two cells."
      ]
    },
    {
      "cell_type": "code",
      "execution_count": null,
      "metadata": {},
      "outputs": [],
      "source": [
        "%%timeit\n",
        "from time import sleep\n",
        "\n",
        "sleep(1)\n",
        "\n",
        "sum_list_comprehension(coords)"
      ]
    },
    {
      "cell_type": "code",
      "execution_count": null,
      "metadata": {},
      "outputs": [],
      "source": [
        "from time import sleep\n",
        "\n",
        "sleep(1)\n",
        "\n",
        "%timeit sum_list_comprehension(coords)"
      ]
    },
    {
      "cell_type": "markdown",
      "metadata": {},
      "source": [
        "**Big takeaway**: You can use your knowledge of Python to make some predictions about where performance bottlenecks are occuring in your code. But you should check to be sure, because those bottlenecks frequently show up in unexpected places."
      ]
    },
    {
      "cell_type": "markdown",
      "metadata": {
        "id": "3sUv2pKSZLI9"
      },
      "source": [
        "## Exercises"
      ]
    },
    {
      "cell_type": "markdown",
      "metadata": {},
      "source": [
        "The exercises below invite you to practice applying the different strategies outlined above. They follow the order of the concepts presented, and you'll need to at least run the code in #3 before you attempt #4 or #5, since they rely on the function definitions in #3. You can otherwise attempt them in any order. Start with the ones that seem most applicable to the work you need to do.\n",
        "\n",
        "You can find example answers in the ExerciseAnswers.ipynb notebook."
      ]
    },
    {
      "cell_type": "markdown",
      "metadata": {
        "id": "Ykg1mVcYVZuC"
      },
      "source": [
        "### 1) Use the right data structure for immutable sequences"
      ]
    },
    {
      "cell_type": "markdown",
      "metadata": {
        "id": "WUmh3e24Zer8"
      },
      "source": [
        "The code below creates a list containing all years in a research study timeframe, from 1900 to 2030.\n",
        "\n",
        "The values in this collection will not need to be changed because the study will always use this timeframe."
      ]
    },
    {
      "cell_type": "code",
      "execution_count": null,
      "metadata": {
        "colab": {
          "base_uri": "https://localhost:8080/"
        },
        "id": "qG63J0nNZfSI",
        "outputId": "712eb0de-adbb-4e13-a7a1-cf9b731876cd"
      },
      "outputs": [],
      "source": [
        "import sys\n",
        "\n",
        "def list_from_range(start, end):\n",
        "  \"\"\"Create a list from a range of values\"\"\"\n",
        "  return list(range(start, end + 1))\n",
        "\n",
        "start = 1900\n",
        "end = 2030\n",
        "\n",
        "studyYears = list_from_range(start, end)\n",
        "\n",
        "print(studyYears)\n",
        "print(\"Bytes used: \", sys.getsizeof(studyYears))"
      ]
    },
    {
      "cell_type": "markdown",
      "metadata": {
        "id": "n9hddRDnfozQ"
      },
      "source": [
        "Write a different implementation using a different storage option and demonstrate that option uses less memory."
      ]
    },
    {
      "cell_type": "code",
      "execution_count": null,
      "metadata": {
        "id": "0lYpXIl8cLHD"
      },
      "outputs": [],
      "source": []
    },
    {
      "cell_type": "markdown",
      "metadata": {
        "id": "rSm-NycOy052"
      },
      "source": [
        "### 2) Use the right data structure for membership lookup"
      ]
    },
    {
      "cell_type": "markdown",
      "metadata": {
        "id": "LQaHbpuyFyQ-"
      },
      "source": [
        "The code below assigns a collection of placenames to a list. Then, it checks whether a placename is in the list. If not, the placename is reported missing.\n",
        "\n",
        "If you have 1 million placenames to look up and 6 names in the list, that’s up to 6 million checks."
      ]
    },
    {
      "cell_type": "code",
      "execution_count": null,
      "metadata": {
        "id": "3vq81k2CEoRN"
      },
      "outputs": [],
      "source": [
        "placeNames_list = [\"Kinshasa\", \"Duluth\", \"Uruguay\"] * 1_000_000\n",
        "\n",
        "# O(n) list look-up\n",
        "if \"Dinkytown\" not in placeNames_list:\n",
        "    print(\"Missing.\")  "
      ]
    },
    {
      "cell_type": "markdown",
      "metadata": {
        "id": "Uhr9kf53GY6h"
      },
      "source": [
        "Write a different implementation using a storage option that allows quicker checks for membership at scale."
      ]
    },
    {
      "cell_type": "code",
      "execution_count": null,
      "metadata": {
        "id": "RS-8xOt3Erps"
      },
      "outputs": [],
      "source": []
    },
    {
      "cell_type": "markdown",
      "metadata": {
        "id": "P8pkQyQE50aL"
      },
      "source": [
        "### 3) Use generators"
      ]
    },
    {
      "cell_type": "markdown",
      "metadata": {},
      "source": [
        "The code below uses a generator to create vertices for triangles from a random selection. It also defines a function for calculating the area of a polygon from its vertices."
      ]
    },
    {
      "cell_type": "code",
      "execution_count": null,
      "metadata": {},
      "outputs": [],
      "source": [
        "from itertools import cycle\n",
        "from random import randint\n",
        "\n",
        "class Random_Vertex:\n",
        "    def __init__(self):\n",
        "        self.x = randint(0, 100)\n",
        "        self.y = randint(0, 100)\n",
        "    \n",
        "def generate_polygon_vertices(num_polygons, num_sides):\n",
        "    for _ in range(num_polygons):\n",
        "        vertices = (Random_Vertex() for _ in range(num_sides))\n",
        "        yield vertices\n",
        "\n",
        "def calculate_area(vertices):\n",
        "    subtotals = []\n",
        "    vertex_cycle = cycle(vertices)\n",
        "    next(vertex_cycle)\n",
        "    for vertex in vertices:\n",
        "        next_vertex = next(vertex_cycle)\n",
        "        subtotal = vertex.x * next_vertex.y - vertex.y * next_vertex.x\n",
        "        subtotals.append(subtotal)\n",
        "    area = abs(sum(subtotals) / 2)\n",
        "    return area"
      ]
    },
    {
      "cell_type": "markdown",
      "metadata": {
        "id": "0OglO3ijPip1"
      },
      "source": [
        "The code below uses the code above to generate 1 million triangles. You want to find out the area of the largest triangle. The code below does this with a list comprehension, which holds all 1 million area values in memory."
      ]
    },
    {
      "cell_type": "code",
      "execution_count": null,
      "metadata": {},
      "outputs": [],
      "source": [
        "triangles = generate_polygon_vertices(1_000_000, 3)\n",
        "max([calculate_area(triangle) for triangle in triangles])\n"
      ]
    },
    {
      "cell_type": "markdown",
      "metadata": {},
      "source": [
        "Rewrite the code above to use less memory. \n",
        "\n",
        "Hint: The easiest fix is to replace the list comprehension with a generator expression. Harder would be writing your own generator using the `yield` statement"
      ]
    },
    {
      "cell_type": "code",
      "execution_count": null,
      "metadata": {},
      "outputs": [],
      "source": []
    },
    {
      "cell_type": "markdown",
      "metadata": {
        "id": "SyY72o5RZLJS"
      },
      "source": [
        "### 4) Check memory use of lists vs. generators"
      ]
    },
    {
      "cell_type": "markdown",
      "metadata": {
        "id": "cvkCZLEeZLJS"
      },
      "source": [
        "Change both cells below to use `tracemalloc` to compare their memory use.\n",
        "\n",
        "Hint: Because the notebook keeps many variables in memory, you will want to restart the notebook kernel between running the cell to get a valid comparison. That means you will need to re-run the cell that defines the `generate_polygon_vertices` generator and `calculate_area` function."
      ]
    },
    {
      "cell_type": "code",
      "execution_count": null,
      "metadata": {},
      "outputs": [],
      "source": [
        "# Using lists\n",
        "triangles = generate_polygon_vertices(1_000, 3)\n",
        "max([calculate_area(triangle) for triangle in triangles])"
      ]
    },
    {
      "cell_type": "code",
      "execution_count": null,
      "metadata": {},
      "outputs": [],
      "source": [
        "# Using a generator expression\n",
        "triangles = generate_polygon_vertices(1_000, 3)\n",
        "max(calculate_area(triangle) for triangle in triangles)"
      ]
    },
    {
      "cell_type": "markdown",
      "metadata": {
        "id": "QkfkhHtBZLJN"
      },
      "source": [
        "### 5) Compare execution speed of lists vs. generators"
      ]
    },
    {
      "cell_type": "markdown",
      "metadata": {
        "id": "YBPP5scfZLJP"
      },
      "source": [
        "Change both cells below to use `timeit` to compare their execution time."
      ]
    },
    {
      "cell_type": "code",
      "execution_count": null,
      "metadata": {},
      "outputs": [],
      "source": [
        "# Using a list\n",
        "triangles = generate_polygon_vertices(1_000, 3)\n",
        "max([calculate_area(triangle) for triangle in triangles])"
      ]
    },
    {
      "cell_type": "code",
      "execution_count": null,
      "metadata": {},
      "outputs": [],
      "source": [
        "# Using a generator expression\n",
        "triangles = generate_polygon_vertices(1_000, 3)\n",
        "max(calculate_area(triangle) for triangle in triangles)"
      ]
    },
    {
      "cell_type": "markdown",
      "metadata": {
        "id": "JCqB6sAr6Tdo"
      },
      "source": [
        "\n",
        "\n",
        "---\n",
        "\n"
      ]
    }
  ],
  "metadata": {
    "colab": {
      "include_colab_link": true,
      "provenance": []
    },
    "kernelspec": {
      "display_name": ".venv",
      "language": "python",
      "name": "python3"
    },
    "language_info": {
      "codemirror_mode": {
        "name": "ipython",
        "version": 3
      },
      "file_extension": ".py",
      "mimetype": "text/x-python",
      "name": "python",
      "nbconvert_exporter": "python",
      "pygments_lexer": "ipython3",
      "version": "3.13.1"
    }
  },
  "nbformat": 4,
  "nbformat_minor": 0
}
