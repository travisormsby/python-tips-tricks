{
  "cells": [
    {
      "cell_type": "markdown",
      "metadata": {
        "id": "view-in-github",
        "colab_type": "text"
      },
      "source": [
        "<a href=\"https://colab.research.google.com/github/travisormsby/python-tips-tricks/blob/main/docs/PerformanceMemory.ipynb\" target=\"_parent\"><img src=\"https://colab.research.google.com/assets/colab-badge.svg\" alt=\"Open In Colab\"/></a>"
      ]
    },
    {
      "cell_type": "markdown",
      "metadata": {
        "id": "e-_2hR6yZLIl"
      },
      "source": [
        "# Optimize Performance and Memory Use"
      ]
    },
    {
      "cell_type": "markdown",
      "metadata": {
        "id": "VogyfkL7ZLIq"
      },
      "source": [
        "When you begin to use Python regularly in your work, you'll start noticing bottlenecks in your code. Some workflows may run at lightning speed, while others take hours of processing time to complete, or even crash.\n",
        "\n",
        "Avoiding bloat is invaluable as you move toward using code for automation, bigger data, and working with APIs. Code efficiency means:\n",
        "- Less chance of a slowdown or crash: the dreaded MemoryError.\n",
        "- Quicker response time and fewer bottlenecks for the larger workflow.\n",
        "- Better scaling.\n",
        "- Efficient code is often (but not always!) cleaner and more readable.\n",
        "\n",
        "Let's look at some ways you can reduce bloat in your code."
      ]
    },
    {
      "cell_type": "markdown",
      "metadata": {
        "id": "v_P41638ZLIw"
      },
      "source": [
        "tl;dr\n",
        "<br>Access and store only what you need, no more.\n",
        "- __Storage__: avoid a list where you could use a tuple\n",
        "- __Membership look-up__: avoid a list (or tuple) where you could use a set (or dictionary)\n",
        "- __Iteration__: avoid a function (or list comprehension) where you could use a generator (or generator expression)\n",
        "- __Profile__: make time for performance checks by profiling your code for bottlenecks"
      ]
    },
    {
      "cell_type": "markdown",
      "metadata": {
        "heading_collapsed": true,
        "id": "Yu9yyeYPZLIx"
      },
      "source": [
        "## Storage: lists vs. tuples"
      ]
    },
    {
      "cell_type": "markdown",
      "metadata": {
        "hidden": true,
        "id": "IqMfe4DUZLIx"
      },
      "source": [
        "If you have a collection of values, your first thought may be to store them in a list."
      ]
    },
    {
      "cell_type": "code",
      "execution_count": 2,
      "metadata": {
        "hidden": true,
        "id": "oVG7ozejZLIy"
      },
      "outputs": [],
      "source": [
        "data_list = [17999712, 2015, 'Hawkins Road', 'Linden ', 'NC', 28356]"
      ]
    },
    {
      "cell_type": "markdown",
      "metadata": {
        "hidden": true,
        "id": "vPGEfGsKZLIz"
      },
      "source": [
        "Lists are nice because they are very flexible. You can change the values in the list, including appending and removing values. But that flexibility comes at a cost. Lists are less efficient than tuples. For example, they use more memory."
      ]
    },
    {
      "cell_type": "code",
      "execution_count": 3,
      "metadata": {
        "hidden": true,
        "id": "kzw4GFpYZLI1",
        "outputId": "d5183381-eb99-49c9-ab82-6de44f1a146d",
        "colab": {
          "base_uri": "https://localhost:8080/"
        }
      },
      "outputs": [
        {
          "output_type": "stream",
          "name": "stdout",
          "text": [
            "104\n",
            "88\n"
          ]
        }
      ],
      "source": [
        "import sys\n",
        "\n",
        "data_tuple = (17999712, 2015, 'Hawkins Road', 'Linden ', 'NC', 28356)\n",
        "\n",
        "print(sys.getsizeof(data_list))\n",
        "print(sys.getsizeof(data_tuple))"
      ]
    },
    {
      "cell_type": "markdown",
      "metadata": {
        "hidden": true,
        "id": "SncGVcIiZLI3"
      },
      "source": [
        "If you aren't going to be changing the values in a collection, use a tuple instead of a list."
      ]
    },
    {
      "cell_type": "markdown",
      "metadata": {
        "heading_collapsed": true,
        "id": "YdLJhldrZLI3"
      },
      "source": [
        "### Membership look-up: sequential vs. hashable"
      ]
    },
    {
      "cell_type": "markdown",
      "source": [
        "However, when you want to see if an element _already exists_ in a collection of elements, use a set or dictionary to store that collection if possible."
      ],
      "metadata": {
        "id": "x9vIWqKJESyn"
      }
    },
    {
      "cell_type": "markdown",
      "source": [
        "- List and tuple look-up is **sequential**, going at the speed of *O(n): linear time*.\n",
        "    - With lists, Python scans the entire list until it finds the match (or reaches the end).\n",
        "    - Worst case: it has to look at every element.\n",
        "- Set and dictionary look-up are **hashable**: mapping keys to values. These go at the speed of *O(1): constant time*.\n",
        "    - No matter how big the collection is, the set only ever has to check 1 value.\n",
        "    - Sets are built on hash tables. Python computes the hash of the element and jumps straight to where it should be stored."
      ],
      "metadata": {
        "id": "0VCAv3ZUxOXY"
      }
    },
    {
      "cell_type": "markdown",
      "metadata": {
        "hidden": true,
        "id": "oVdOgTk1ZLI4"
      },
      "source": [
        "The example below shows that a set is over 100x faster than a list in calculating the first 10,000 values of [Recaman's sequence](https://oeis.org/search?q=recaman&language=english&go=Search)."
      ]
    },
    {
      "cell_type": "code",
      "execution_count": 4,
      "metadata": {
        "hidden": true,
        "id": "WpTGEYfyZLI5"
      },
      "outputs": [],
      "source": [
        "def recaman_check(cur, i, visited):\n",
        "    return (cur - i) < 0 or (cur - i) in visited\n",
        "\n",
        "def recaman_list(n: int) -> list[int]:\n",
        "    \"\"\"\n",
        "    return a list of the first n numbers of the Recaman series\n",
        "    \"\"\"\n",
        "\n",
        "    visited_list = [0]\n",
        "    current = 0\n",
        "    for i in range(1, n):\n",
        "        if recaman_check(current, i, visited_list):\n",
        "            current += i\n",
        "        else:\n",
        "            current -= i\n",
        "        visited_list.append(current)\n",
        "    return visited_list"
      ]
    },
    {
      "cell_type": "code",
      "execution_count": 6,
      "metadata": {
        "hidden": true,
        "id": "nZDnh3iWZLI6",
        "outputId": "298e8699-86a1-4659-b3c9-35feda9e8166",
        "colab": {
          "base_uri": "https://localhost:8080/"
        }
      },
      "outputs": [
        {
          "output_type": "stream",
          "name": "stdout",
          "text": [
            "386 ms ± 36.5 ms per loop (mean ± std. dev. of 7 runs, 1 loop each)\n"
          ]
        }
      ],
      "source": [
        "%%timeit\n",
        "recaman_list(10000)"
      ]
    },
    {
      "cell_type": "code",
      "execution_count": 7,
      "metadata": {
        "hidden": true,
        "id": "vvLVZGkKZLI6"
      },
      "outputs": [],
      "source": [
        "def recaman_set(n: int) -> list[int]:\n",
        "    \"\"\"\n",
        "    return a set of the first n numbers of the Recaman series\n",
        "    \"\"\"\n",
        "    visited_set = {0}\n",
        "    current = 0\n",
        "    for i in range(1, n):\n",
        "        if recaman_check(current, i, visited_set):\n",
        "            current += i\n",
        "        else:\n",
        "            current -= i\n",
        "        visited_set.add(current)\n",
        "    return visited_set"
      ]
    },
    {
      "cell_type": "code",
      "execution_count": 8,
      "metadata": {
        "hidden": true,
        "id": "wFaIMHJlZLI7",
        "outputId": "d6887b89-103f-48a1-ab09-32f91fe26cb1",
        "colab": {
          "base_uri": "https://localhost:8080/"
        }
      },
      "outputs": [
        {
          "output_type": "stream",
          "name": "stdout",
          "text": [
            "2.06 ms ± 61.4 µs per loop (mean ± std. dev. of 7 runs, 100 loops each)\n"
          ]
        }
      ],
      "source": [
        "%%timeit\n",
        "recaman_set(10000)"
      ]
    },
    {
      "cell_type": "markdown",
      "source": [
        "When you add an element to a set...\n",
        "1. Python calls the element’s __hash__() method to get a hash value (an integer);\n",
        "1. That hash value determines where the element will be stored in the set's internal structure; and\n",
        "1. When checking if an element is in the set, Python uses the hash to quickly find it."
      ],
      "metadata": {
        "id": "cmwf-LTNLk2o"
      }
    },
    {
      "cell_type": "markdown",
      "metadata": {
        "heading_collapsed": true,
        "id": "da9ChQAwZLI7"
      },
      "source": [
        "## Iteration: functions vs. generators"
      ]
    },
    {
      "cell_type": "markdown",
      "source": [
        "We often use functions to operate on data, but generators can be more memory-efficient and faster for certain tasks."
      ],
      "metadata": {
        "id": "59BbxRiDuYVg"
      }
    },
    {
      "cell_type": "markdown",
      "metadata": {
        "hidden": true,
        "id": "AES7kqT2ZLI8"
      },
      "source": [
        "**Regular functions and comprehensions** typically store outputs into containers, like lists or dictionaries. This can take up unnecessary memory, especially when we're creating multi-step workflows with many intermediate outputs.\n",
        "\n",
        "In contrast, **generators** only hold one data item in memory at a time. A generator is a type of iterator that produces results on-demand (lazily), maintaining its state between iterations."
      ]
    },
    {
      "cell_type": "markdown",
      "source": [
        "Under the hood, a generator's syntax is similar to a function. Generally, you:\n",
        "- define a process(),\n",
        "- provide the logic, and\n",
        "- ask for the result, either with a return statement (for functions) or a yield statement (for generators)."
      ],
      "metadata": {
        "id": "8GIGiBI1Ea3p"
      }
    },
    {
      "cell_type": "markdown",
      "source": [
        "Imagine you have a large dataset containing millions of employee records. You want to calculate the combined hourly rates of all employees on an annual salary."
      ],
      "metadata": {
        "id": "td-sjAbZuk_2"
      }
    },
    {
      "cell_type": "code",
      "source": [
        "# For the sake of simplicity, we'll represent the dataset with a small sample.\n",
        "employeeDatabase = [\n",
        "  {'lastName': 'Knope', 'rate': 72000, 'pay_class': 'annual'},\n",
        "  {'lastName': 'Gergich', 'rate': 17, 'pay_class': 'hourly'},\n",
        "  {'lastName': 'Ludgate', 'rate': 60000, 'pay_class': 'annual'},\n",
        "  {'lastName': 'Swanson', 'rate': 'redacted', 'pay_class': 'redacted'},\n",
        "  {'lastName': 'Haverford', 'rate': 52000, 'pay_class': 'annual'}\n",
        "]"
      ],
      "metadata": {
        "id": "GDO3A1pWKpyl"
      },
      "execution_count": 9,
      "outputs": []
    },
    {
      "cell_type": "markdown",
      "source": [
        "You can use a function for this, but it means the entire input dataset will be held in memory."
      ],
      "metadata": {
        "id": "KA88LP3UMn6a"
      }
    },
    {
      "cell_type": "code",
      "source": [
        "def hourly_rate(payments):\n",
        "  \"\"\"Function that returns each salaried worker's hourly rate.\"\"\"\n",
        "  hourlyRates = []\n",
        "  for worker in payments:\n",
        "    if worker.get('pay_class') == 'annual':\n",
        "      hourly = worker['rate'] / 2080\n",
        "      hourlyRates.append(hourly)\n",
        "  return hourlyRates\n",
        "\n",
        "# Sum hourly rates for those receiving an annual salary.\n",
        "salariesPerHour = sum(hourly_rate(employeeDatabase))\n",
        "\n",
        "print(f\"Total dispersments per hour for salaried employees: ${salariesPerHour:.2f}\")"
      ],
      "metadata": {
        "id": "vi6duXe_ujwK",
        "colab": {
          "base_uri": "https://localhost:8080/"
        },
        "outputId": "56bdaa26-91f1-4d8a-9da9-8290da5bed36"
      },
      "execution_count": 10,
      "outputs": [
        {
          "output_type": "stream",
          "name": "stdout",
          "text": [
            "Total dispersments per hour for salaried employees: $88.46\n"
          ]
        }
      ]
    },
    {
      "cell_type": "markdown",
      "source": [
        "If the input dataset is huge, this eats up a ton of space. Instead, what if we process data lazily, storing one row in memory at a time?"
      ],
      "metadata": {
        "id": "w06e15kmuppV"
      }
    },
    {
      "cell_type": "code",
      "source": [
        "def hourly_rate_gen(payments):\n",
        "  \"\"\"Generator that yields each salaried worker's hourly rate.\"\"\"\n",
        "  for worker in payments:\n",
        "    if worker.get('pay_class') == 'annual':\n",
        "      hourly = worker['rate'] / 2080\n",
        "      yield hourly\n",
        "\n",
        "# Sum hourly rates for those receiving an annual salary.\n",
        "salariesPerHour = sum(hourly_rate_gen(employeeDatabase))\n",
        "\n",
        "print(f\"Total dispersments per hour for salaried employees: ${salariesPerHour:.2f}\")"
      ],
      "metadata": {
        "id": "chy2TtgYuzUr",
        "colab": {
          "base_uri": "https://localhost:8080/"
        },
        "outputId": "31122ce5-ce1b-4951-961d-0be20c00be73"
      },
      "execution_count": 11,
      "outputs": [
        {
          "output_type": "stream",
          "name": "stdout",
          "text": [
            "Total dispersments per hour for salaried employees: $88.46\n"
          ]
        }
      ]
    },
    {
      "cell_type": "markdown",
      "source": [
        "A return statement is your signal that every output being produced will be *held in memory at the same time* and provided (returned) all at once.\n",
        "- If a function returns a list of 1 thousand items, all 1 thousand are stored in memory before the end of execution.\n",
        "\n",
        "In a generator, the yield statement signals that execution can proceed *one at a time*. When yield is executed, the generator pauses, retaining the generator's state until the next time it is called.\n",
        "- **Lazy outputs:** Each output that a generator produces is yielded, then discarded before the next output is yielded.\n",
        "- **Lazy inputs:** A generator *can* also stream input data, but you have to write it that way. For example, with a for loop:\n",
        "```\n",
        "# Stream data in a csv by reading it line-by-line\n",
        "for row in csvFile:\n",
        "    yield something\n",
        "```\n",
        "\n",
        "\n",
        "\n",
        "Tip: **Generator pipelines** are a powerful workflow for GIS and remote sensing. Use multiple generators to string tasks together lazily. These are hugely helpful for complex spatial analysis workflows, such as raster processing."
      ],
      "metadata": {
        "id": "xTMEqiH9Ey7k"
      }
    },
    {
      "cell_type": "markdown",
      "source": [
        "### Iteration, continued: List comprehension vs. generator expression"
      ],
      "metadata": {
        "id": "_pGJfpCV7jhM"
      }
    },
    {
      "cell_type": "markdown",
      "source": [
        "Generator expressions (aka generator comprehensions) are concise, one-line generators. Generator expressions can be a handy replacement for list comprehensions."
      ],
      "metadata": {
        "id": "uOLOSXSr7tkY"
      }
    },
    {
      "cell_type": "markdown",
      "source": [
        "Let's look at how the analysis above would appear in list comprehension format."
      ],
      "metadata": {
        "id": "D5m6C64A79gY"
      }
    },
    {
      "cell_type": "code",
      "source": [
        "hourly = [worker['rate'] / 2080 for worker in employeeDatabase if worker.get('pay_class') == 'annual']\n",
        "salariesPerHour = sum(hourly)\n",
        "\n",
        "print(f\"${salariesPerHour:.2f}\")"
      ],
      "metadata": {
        "id": "Gl7HPqkj8Irs",
        "colab": {
          "base_uri": "https://localhost:8080/"
        },
        "outputId": "5fb33e2f-befe-4fe5-f40b-c9a91b0484aa"
      },
      "execution_count": 12,
      "outputs": [
        {
          "output_type": "stream",
          "name": "stdout",
          "text": [
            "$88.46\n"
          ]
        }
      ]
    },
    {
      "cell_type": "markdown",
      "source": [
        "As with the function, the list comprehension constructs a list of n values. Then, we use sum() to add all values in the list together.\n",
        "\n",
        "A generator expression looks almost identical to a list comprehension: simply swap out square brackets with parentheses.\n",
        "\n",
        "*Here's a fun tip: When a generator expression is the only argument in a function (in this case, sum()), you can drop the inner parentheses.*"
      ],
      "metadata": {
        "id": "QvQfm_l7xhbH"
      }
    },
    {
      "cell_type": "code",
      "source": [
        "hourly = (worker['rate'] / 2080 for worker in employeeDatabase if worker.get('pay_class') == 'annual')\n",
        "salariesPerHour = sum(hourly)\n",
        "\n",
        "print(f\"${salariesPerHour:.2f}\")"
      ],
      "metadata": {
        "id": "XgcJrFNF8KoF",
        "colab": {
          "base_uri": "https://localhost:8080/"
        },
        "outputId": "f41f27c8-2983-4e8d-b1ef-53a77c6c63a5"
      },
      "execution_count": 13,
      "outputs": [
        {
          "output_type": "stream",
          "name": "stdout",
          "text": [
            "$88.46\n"
          ]
        }
      ]
    },
    {
      "cell_type": "markdown",
      "metadata": {
        "id": "1HhMLyvGZLI8"
      },
      "source": [
        "## Profiling: finding bottlenecks"
      ]
    },
    {
      "cell_type": "markdown",
      "metadata": {
        "id": "4vwEgO0TZLI8"
      },
      "source": [
        "Profiling is any technique used to measure the performance of your code, in particular its speed. There are dozens of tools available for profiling. We'll use a few to:\n",
        "1. **Check memory use:** Use `sys.getsizeof()` to check the memory size of variables.\n",
        "1. **Spot-profile your code:** Use the `timeit` notebook magic to perform some basic profiling by cell or by line.\n",
        "1. **Profile your script comprehensively:** The `cProfile` module has the ability to break down call by call to determine the number of calls and the total time spent on each."
      ]
    },
    {
      "cell_type": "markdown",
      "source": [
        "### Check memory use with `getsizeof()`"
      ],
      "metadata": {
        "id": "v3FpT1i-4CVk"
      }
    },
    {
      "cell_type": "markdown",
      "source": [
        "Use this tool to quickly check how much memory a variable is taking up on your system."
      ],
      "metadata": {
        "id": "Hxb9i6zQ4Lta"
      }
    },
    {
      "cell_type": "code",
      "source": [
        "import sys\n",
        "\n",
        "tract1 = {\n",
        "    \"area\": 100,\n",
        "    \"area_water\": 20,\n",
        "    \"population\": 1000\n",
        "}\n",
        "\n",
        "print(f\"Bytes: {sys.getsizeof(tract1)}\")"
      ],
      "metadata": {
        "colab": {
          "base_uri": "https://localhost:8080/"
        },
        "id": "6vdqysmf4WRb",
        "outputId": "5b911169-a2bc-4052-ac5f-89d5da1eb454"
      },
      "execution_count": 14,
      "outputs": [
        {
          "output_type": "stream",
          "name": "stdout",
          "text": [
            "Bytes: 184\n"
          ]
        }
      ]
    },
    {
      "cell_type": "code",
      "source": [
        "print(f\"Bytes: {sys.getsizeof(recaman_list(1000))}\")\n",
        "print(f\"Bytes: {sys.getsizeof(recaman_set(1000))}\")"
      ],
      "metadata": {
        "colab": {
          "base_uri": "https://localhost:8080/"
        },
        "id": "RoQzuBLA7yfO",
        "outputId": "98ef4484-4583-4ac0-cc1f-3fa82b76bc72"
      },
      "execution_count": 15,
      "outputs": [
        {
          "output_type": "stream",
          "name": "stdout",
          "text": [
            "Bytes: 8856\n",
            "Bytes: 32984\n"
          ]
        }
      ]
    },
    {
      "cell_type": "markdown",
      "source": [
        "\"You said sets were better than lists!\"\n",
        "\n",
        "Remember, sets are preferred over lists for membership lookup because they are faster, not slimmer.\n",
        "- If you care more about *output size*, make a list; it takes up less memory.\n",
        "- If you care more about *task speed*, make a set."
      ],
      "metadata": {
        "id": "nMFWNsLD9s5w"
      }
    },
    {
      "cell_type": "markdown",
      "source": [
        "### Spot-check speed with `%%timeit`"
      ],
      "metadata": {
        "id": "FbgVHcXAXg2T"
      }
    },
    {
      "cell_type": "markdown",
      "source": [
        "The `timeit` module measures the execution time of a selection of code. Among the many ways you'll see it written are \"magic\" commands:\n",
        "- `%timeit` is a form of _line magic_. Line magic arguments only extend to the end of the current line.\n",
        "- `%%timeit` is a form of _cell magic_. It measures the execution time of the entire notebook cell.\n",
        "\n",
        "With both of these commands, the notebook will test your code multiple times and print the average speed of those calls."
      ],
      "metadata": {
        "id": "oGY2BHZ0BqGu"
      }
    },
    {
      "cell_type": "code",
      "source": [
        "%%timeit\n",
        "# Cell magic example\n",
        "from typing import NamedTuple\n",
        "\n",
        "class Tract(NamedTuple):\n",
        "    population: int\n",
        "    households: int\n",
        "\n",
        "tract1 = Tract(1000, 500)\n",
        "tract2 = Tract(2000, 800)\n",
        "tract3 = Tract(5000, 3000)\n",
        "\n",
        "tract1.households"
      ],
      "metadata": {
        "colab": {
          "base_uri": "https://localhost:8080/"
        },
        "id": "zIfZwYVtCDdG",
        "outputId": "a6a25084-3a2d-414f-da4c-361f700a4ebf"
      },
      "execution_count": 16,
      "outputs": [
        {
          "output_type": "stream",
          "name": "stdout",
          "text": [
            "113 µs ± 24.1 µs per loop (mean ± std. dev. of 7 runs, 10000 loops each)\n"
          ]
        }
      ]
    },
    {
      "cell_type": "code",
      "source": [
        "# Line magic example\n",
        "%timeit sum(hourly_rate(employeeDatabase))\n",
        "%timeit sum(hourly_rate_gen(employeeDatabase))"
      ],
      "metadata": {
        "colab": {
          "base_uri": "https://localhost:8080/"
        },
        "id": "8nMQau84oQho",
        "outputId": "e786ca2e-5577-46ba-e5b0-3cec7a92a064"
      },
      "execution_count": 17,
      "outputs": [
        {
          "output_type": "stream",
          "name": "stdout",
          "text": [
            "859 ns ± 222 ns per loop (mean ± std. dev. of 7 runs, 1000000 loops each)\n",
            "712 ns ± 10.8 ns per loop (mean ± std. dev. of 7 runs, 1000000 loops each)\n"
          ]
        }
      ]
    },
    {
      "cell_type": "markdown",
      "source": [
        "\"Wait! You said the generator would be faster!\"\n",
        "\n",
        "With small datasets (like this sample), a function might be slightly, negligibly faster than a generator. Increase the input size by 10x, 100x, or 100000x to see the generator outpace its competitors."
      ],
      "metadata": {
        "id": "preWxyj8AGWf"
      }
    },
    {
      "cell_type": "markdown",
      "source": [
        "`timeit` tip: Optionally, you can limit the number of calls and repetitions with:\n",
        "- -n (number of times to execute the main statement) and\n",
        "- -r (number of times to repeat the timer)."
      ],
      "metadata": {
        "id": "aSCVbkSc5vd1"
      }
    },
    {
      "cell_type": "code",
      "source": [
        "%timeit -n 1 -r 5 sum(hourly_rate_gen(employeeDatabase))"
      ],
      "metadata": {
        "colab": {
          "base_uri": "https://localhost:8080/"
        },
        "id": "gQw83pVuCcyU",
        "outputId": "9049c9fe-79e8-496d-8fcc-38e0f93270a1"
      },
      "execution_count": 18,
      "outputs": [
        {
          "output_type": "stream",
          "name": "stdout",
          "text": [
            "The slowest run took 5.31 times longer than the fastest. This could mean that an intermediate result is being cached.\n",
            "2.66 µs ± 1.91 µs per loop (mean ± std. dev. of 5 runs, 1 loop each)\n"
          ]
        }
      ]
    },
    {
      "cell_type": "markdown",
      "source": [
        "### Profile with `cProfile`"
      ],
      "metadata": {
        "id": "WC9MI7cXXlBA"
      }
    },
    {
      "cell_type": "markdown",
      "source": [
        "Whereas `timeit` is a quick way to test speed, `cProfile` is useful as a comprehensive and holistic code profiler. Some perks of `cProfile`:\n",
        " - Compare which lines take longest to execute\n",
        " - See how often a function is executed\n",
        " - Sort profiling results by time\n",
        " - See the respective data the function interacts with\n",
        " - Print detailed reports with multiple statistics"
      ],
      "metadata": {
        "id": "GMrkd59CAz9o"
      }
    },
    {
      "cell_type": "markdown",
      "source": [
        "Let's take a look:"
      ],
      "metadata": {
        "id": "UQCg-9YGHYSm"
      }
    },
    {
      "cell_type": "code",
      "source": [
        "import cProfile\n",
        "\n",
        "cProfile.run('recaman_list(10000)')"
      ],
      "metadata": {
        "colab": {
          "base_uri": "https://localhost:8080/"
        },
        "id": "m5zpw36CIoqf",
        "outputId": "49d9b232-66b3-4971-9618-8f757a4e989a"
      },
      "execution_count": 19,
      "outputs": [
        {
          "output_type": "stream",
          "name": "stdout",
          "text": [
            "         20002 function calls in 0.406 seconds\n",
            "\n",
            "   Ordered by: standard name\n",
            "\n",
            "   ncalls  tottime  percall  cumtime  percall filename:lineno(function)\n",
            "     9999    0.394    0.000    0.394    0.000 <ipython-input-4-1cfc8d8a116c>:1(recaman_check)\n",
            "        1    0.011    0.011    0.406    0.406 <ipython-input-4-1cfc8d8a116c>:4(recaman_list)\n",
            "        1    0.000    0.000    0.406    0.406 <string>:1(<module>)\n",
            "        1    0.000    0.000    0.406    0.406 {built-in method builtins.exec}\n",
            "     9999    0.001    0.000    0.001    0.000 {method 'append' of 'list' objects}\n",
            "        1    0.000    0.000    0.000    0.000 {method 'disable' of '_lsprof.Profiler' objects}\n",
            "\n",
            "\n"
          ]
        }
      ]
    },
    {
      "cell_type": "markdown",
      "source": [
        "Above the table, you are given the number of function calls and how long the code took overall.\n",
        "\n",
        "The field cumtime is the cumulative time it took to call a given function, including all of its subfunctions."
      ],
      "metadata": {
        "id": "TNPCWCHHLl0Y"
      }
    },
    {
      "cell_type": "code",
      "source": [
        "cProfile.run('recaman_set(10000)')"
      ],
      "metadata": {
        "colab": {
          "base_uri": "https://localhost:8080/"
        },
        "id": "4pJC0ntgLgIS",
        "outputId": "3201af8b-79e7-46a9-948c-cd41034b57f1"
      },
      "execution_count": 20,
      "outputs": [
        {
          "output_type": "stream",
          "name": "stdout",
          "text": [
            "         20002 function calls in 0.010 seconds\n",
            "\n",
            "   Ordered by: standard name\n",
            "\n",
            "   ncalls  tottime  percall  cumtime  percall filename:lineno(function)\n",
            "     9999    0.003    0.000    0.003    0.000 <ipython-input-4-1cfc8d8a116c>:1(recaman_check)\n",
            "        1    0.006    0.006    0.010    0.010 <ipython-input-7-c2c0edd0cc91>:1(recaman_set)\n",
            "        1    0.000    0.000    0.010    0.010 <string>:1(<module>)\n",
            "        1    0.000    0.000    0.010    0.010 {built-in method builtins.exec}\n",
            "     9999    0.001    0.000    0.001    0.000 {method 'add' of 'set' objects}\n",
            "        1    0.000    0.000    0.000    0.000 {method 'disable' of '_lsprof.Profiler' objects}\n",
            "\n",
            "\n"
          ]
        }
      ]
    },
    {
      "cell_type": "markdown",
      "source": [
        "These results show that the set-based function executed the same number of calls (200002), but ran 40x faster."
      ],
      "metadata": {
        "id": "jx9-hUgzIqEw"
      }
    },
    {
      "cell_type": "markdown",
      "source": [
        "`cProfile` tip: Use cProfile.Profile() as a context manager!"
      ],
      "metadata": {
        "id": "ZaMcAWZ7IjXV"
      }
    },
    {
      "cell_type": "code",
      "source": [
        "with cProfile.Profile() as pr:\n",
        "  def recaman_check(cur, i, visited):\n",
        "    return (cur - i) < 0 or (cur - i) in visited\n",
        "\n",
        "  def recaman_set(n: int) -> list[int]:\n",
        "      \"\"\"\n",
        "      return a set of the first n numbers of the Recaman series\n",
        "      \"\"\"\n",
        "      visited_set = {0}\n",
        "      current = 0\n",
        "      for i in range(1, n):\n",
        "          if recaman_check(current, i, visited_set):\n",
        "              current += i\n",
        "          else:\n",
        "              current -= i\n",
        "          visited_set.add(current)\n",
        "      return visited_set\n",
        "\n",
        "  recaman_set(1000)\n",
        "\n",
        "  pr.print_stats('line') # Order by line number."
      ],
      "metadata": {
        "colab": {
          "base_uri": "https://localhost:8080/"
        },
        "id": "czyKgWRXHZ-_",
        "outputId": "999d0334-8ffd-44f3-a024-6024dc6811fb"
      },
      "execution_count": 22,
      "outputs": [
        {
          "output_type": "stream",
          "name": "stdout",
          "text": [
            "         2008 function calls in 0.001 seconds\n",
            "\n",
            "   Ordered by: line number\n",
            "\n",
            "   ncalls  tottime  percall  cumtime  percall filename:lineno(function)\n",
            "      999    0.000    0.000    0.000    0.000 {method 'add' of 'set' objects}\n",
            "        1    0.000    0.000    0.000    0.000 {built-in method builtins.hasattr}\n",
            "        1    0.000    0.000    0.000    0.000 {built-in method builtins.isinstance}\n",
            "        1    0.000    0.000    0.000    0.000 {built-in method builtins.len}\n",
            "        1    0.000    0.000    0.000    0.000 {method 'disable' of '_lsprof.Profiler' objects}\n",
            "      999    0.000    0.000    0.000    0.000 <ipython-input-22-3b8d66b9f081>:2(recaman_check)\n",
            "        1    0.001    0.001    0.001    0.001 <ipython-input-22-3b8d66b9f081>:5(recaman_set)\n",
            "        1    0.000    0.000    0.000    0.000 cProfile.py:41(print_stats)\n",
            "        1    0.000    0.000    0.000    0.000 cProfile.py:51(create_stats)\n",
            "        1    0.000    0.000    0.000    0.000 pstats.py:108(__init__)\n",
            "        1    0.000    0.000    0.000    0.000 pstats.py:118(init)\n",
            "        1    0.000    0.000    0.000    0.000 pstats.py:137(load_stats)\n",
            "\n",
            "\n"
          ]
        }
      ]
    },
    {
      "cell_type": "markdown",
      "metadata": {
        "id": "_OWtmmQ5ZLI9"
      },
      "source": [
        "---"
      ]
    },
    {
      "cell_type": "markdown",
      "metadata": {
        "id": "3sUv2pKSZLI9"
      },
      "source": [
        "# Exercises"
      ]
    },
    {
      "cell_type": "markdown",
      "metadata": {
        "id": "pV96G_TkZLI-"
      },
      "source": [
        "__Section 2 exercises summary__\n",
        "1. Tuple-based storage\n",
        "1. Set-based look-up\n",
        "1. Generator expression\n",
        "1. Generator\n",
        "1. Compare differences in speed with `timeit`\n",
        "  1. `%timeit` line magic\n",
        "  1. `%%timeit` cell magic\n",
        "1. Check for speed bottlenecks in detail with `cProfile`\n",
        "1. Stretch goal: Raster generator"
      ]
    },
    {
      "cell_type": "markdown",
      "source": [
        "## 1) Tuple-based storage"
      ],
      "metadata": {
        "id": "Ykg1mVcYVZuC"
      }
    },
    {
      "cell_type": "markdown",
      "source": [
        "The code below creates a list containing all years in a research study timeframe, from 1900 to 2030.\n",
        "\n",
        "The values in this collection will not need to be changed because the study will always use this timeframe."
      ],
      "metadata": {
        "id": "WUmh3e24Zer8"
      }
    },
    {
      "cell_type": "code",
      "source": [
        "import sys\n",
        "\n",
        "def listFromRange(r1, r2):\n",
        "  \"\"\"Create a list from a range of values\"\"\"\n",
        "  return [item for item in range(r1, r2+1)]\n",
        "\n",
        "start = 1900\n",
        "end = 2030\n",
        "\n",
        "studyYears = listFromRange(start, end)\n",
        "\n",
        "print(studyYears)\n",
        "print(\"Bytes used: \", sys.getsizeof(studyYears))"
      ],
      "metadata": {
        "id": "qG63J0nNZfSI",
        "outputId": "712eb0de-adbb-4e13-a7a1-cf9b731876cd",
        "colab": {
          "base_uri": "https://localhost:8080/"
        }
      },
      "execution_count": null,
      "outputs": [
        {
          "output_type": "stream",
          "name": "stdout",
          "text": [
            "[range(1900, 2031)]\n",
            "Bytes used:  64\n"
          ]
        }
      ]
    },
    {
      "cell_type": "markdown",
      "source": [
        "**Your turn:** For the same timeframe, write a different implementation using a storage option that takes up less memory."
      ],
      "metadata": {
        "id": "n9hddRDnfozQ"
      }
    },
    {
      "cell_type": "code",
      "source": [],
      "metadata": {
        "id": "0lYpXIl8cLHD"
      },
      "execution_count": null,
      "outputs": []
    },
    {
      "cell_type": "markdown",
      "source": [
        "## 2) Set-based look-up"
      ],
      "metadata": {
        "id": "rSm-NycOy052"
      }
    },
    {
      "cell_type": "markdown",
      "source": [
        "The code below assigns a collection of placenames to a list. Then, it checks whether a placename is in the list. If not, the placename is reported missing.\n",
        "\n",
        "If you have 1 million placenames to look up and 6 names in the list, that’s up to 6 million checks."
      ],
      "metadata": {
        "id": "LQaHbpuyFyQ-"
      }
    },
    {
      "cell_type": "code",
      "source": [
        "placeNames_list = [\"Kinshasa\", \"Duluth\", \"Uruguay\", \"Doherty Residence\", \"Dinkytown\", \"Khazad-dum\"]\n",
        "\n",
        "# List look-up\n",
        "if \"Dinkytown\" not in placeNames_list:\n",
        "    print(\"Missing.\")  # O(n) look-up"
      ],
      "metadata": {
        "id": "3vq81k2CEoRN"
      },
      "execution_count": null,
      "outputs": []
    },
    {
      "cell_type": "markdown",
      "source": [
        "**Your turn:** Write a different implementation using a storage option that allows quicker checks for membership at scale."
      ],
      "metadata": {
        "id": "Uhr9kf53GY6h"
      }
    },
    {
      "cell_type": "code",
      "source": [],
      "metadata": {
        "id": "RS-8xOt3Erps"
      },
      "execution_count": null,
      "outputs": []
    },
    {
      "cell_type": "markdown",
      "source": [
        "## 3) Generator expression"
      ],
      "metadata": {
        "id": "P8pkQyQE50aL"
      }
    },
    {
      "cell_type": "markdown",
      "source": [
        "You have a list of random strings which contain a combination of upper and lowercase letters. You have written a list comprehension, lowerCase, to rewrite all of these strings into lowercase."
      ],
      "metadata": {
        "id": "0OglO3ijPip1"
      }
    },
    {
      "cell_type": "code",
      "source": [
        "import random\n",
        "import string\n",
        "\n",
        "# Input dataset: A list of random strings. Each string is 8 letters long.\n",
        "randomStrings = [''.join(random.choices(string.ascii_letters, k=8)) for i in range(10)]\n",
        "print(randomStrings)\n",
        "\n",
        "# Convert all strings to lowercase\n",
        "lowerCase = [x.lower() for x in randomStrings]\n",
        "print(lowerCase)"
      ],
      "metadata": {
        "colab": {
          "base_uri": "https://localhost:8080/"
        },
        "id": "7E-ROg2-QozD",
        "outputId": "f3b981ad-0449-4e65-916c-a52c7b97ebaa"
      },
      "execution_count": null,
      "outputs": [
        {
          "output_type": "stream",
          "name": "stdout",
          "text": [
            "['quCxGiYN', 'cUDXcQBk', 'yOVxBjyl', 'QKznqHJV', 'KwkxAbra', 'hjLXVdAh', 'lppRGHIB', 'VoDgKHws', 'mCzLrskq', 'ovkTIIYS']\n",
            "['qucxgiyn', 'cudxcqbk', 'yovxbjyl', 'qkznqhjv', 'kwkxabra', 'hjlxvdah', 'lpprghib', 'vodgkhws', 'mczlrskq', 'ovktiiys']\n"
          ]
        }
      ]
    },
    {
      "cell_type": "markdown",
      "source": [
        "**Your turn**: Write a different implementation that still prints all the lowercase results, but operates faster than a list comprehension (when used with a large dataset)."
      ],
      "metadata": {
        "id": "CLhih8nESug8"
      }
    },
    {
      "cell_type": "code",
      "source": [],
      "metadata": {
        "id": "1Hd_WnBaRqfW"
      },
      "execution_count": null,
      "outputs": []
    },
    {
      "cell_type": "markdown",
      "source": [
        "## 4) Generator"
      ],
      "metadata": {
        "id": "365CDf1kdcgU"
      }
    },
    {
      "cell_type": "markdown",
      "source": [
        "The following function compares the length of each input dataset to that of a primary list. If the input and primary lists are the same length, the function calculates their difference and returns the result."
      ],
      "metadata": {
        "id": "7EOanicTDwoy"
      }
    },
    {
      "cell_type": "code",
      "source": [
        "# The list that each dataset will be compared to.\n",
        "primary = [4, 7, 140, 55, 7, 91, 6]\n",
        "\n",
        "# Input datasets\n",
        "inputs = (\n",
        " [0, 3, 40, 55, 6, 98, 4],\n",
        " [5, 4, 3, 45, 1, 67, 2],\n",
        " [7, 150, 0.5, 1]\n",
        " )\n",
        "\n",
        "def matchingStructure(inputsList, primList):\n",
        "  \"\"\"\n",
        "  This function compares the length of each input collection to the primary\n",
        "  list. An input that matches in length gets multiplied by the primary list and\n",
        "  appended to the results list.\n",
        "  \"\"\"\n",
        "  results = []\n",
        "  for item in inputsList:\n",
        "    if len(item) == len(primList):\n",
        "      difference = [b - a for a, b in zip(item, primList)]\n",
        "      results.append(difference)\n",
        "  return results\n",
        "\n",
        "print(matchingStructure(inputs, primary))"
      ],
      "metadata": {
        "id": "M-BrleFVdzAO",
        "colab": {
          "base_uri": "https://localhost:8080/"
        },
        "outputId": "42b8c19b-09f5-4cb2-c3a3-bcab3d9c64b0"
      },
      "execution_count": null,
      "outputs": [
        {
          "output_type": "stream",
          "name": "stdout",
          "text": [
            "[[4, 4, 100, 0, 1, -7, 2], [-1, 3, 137, 10, 6, 24, 4]]\n"
          ]
        }
      ]
    },
    {
      "cell_type": "markdown",
      "source": [
        "**Your turn**: Write a different implementation that uses a generator instead of a function to compare lengths and calculate results."
      ],
      "metadata": {
        "id": "1e8sW3D-haHQ"
      }
    },
    {
      "cell_type": "code",
      "source": [],
      "metadata": {
        "id": "lhErXvcZdzSy"
      },
      "execution_count": null,
      "outputs": []
    },
    {
      "cell_type": "markdown",
      "metadata": {
        "id": "QkfkhHtBZLJN"
      },
      "source": [
        "## 5) Compare differences in speed using `timeit`"
      ]
    },
    {
      "cell_type": "markdown",
      "source": [
        "### 5.1) `%timeit` line magic"
      ],
      "metadata": {
        "id": "Bu9OHiWo2qZ5"
      }
    },
    {
      "cell_type": "markdown",
      "metadata": {
        "id": "FN57nQonZLJO"
      },
      "source": [
        "Using `%timeit` line magic, compare the time it takes each comprehension below to run."
      ]
    },
    {
      "cell_type": "code",
      "execution_count": null,
      "metadata": {
        "id": "4maIX64mZLJO"
      },
      "outputs": [],
      "source": [
        "[i for i in range(50) if i % 2 == 0]\n",
        "(i for i in range(50) if i % 2 == 0)"
      ]
    },
    {
      "cell_type": "markdown",
      "source": [
        "### 5.2) `%%timeit` cell magic"
      ],
      "metadata": {
        "id": "BRyIN9a-2t4R"
      }
    },
    {
      "cell_type": "markdown",
      "metadata": {
        "id": "YBPP5scfZLJP"
      },
      "source": [
        "Using `%%timeit` cell magic, calculate the time it takes this cell to run.\n",
        "\n",
        "Set the command to *execute the main statement only once and repeat the timer only once*."
      ]
    },
    {
      "cell_type": "code",
      "execution_count": null,
      "metadata": {
        "id": "iEPxsZ0fZLJP"
      },
      "outputs": [],
      "source": [
        "employeeDatabase = [\n",
        "  {'lastName': 'Knope', 'rate': 72000, 'pay_class': 'annual'},\n",
        "  {'lastName': 'Gergich', 'rate': 17, 'pay_class': 'hourly'},\n",
        "  {'lastName': 'Ludgate', 'rate': 60000, 'pay_class': 'annual'},\n",
        "  {'lastName': 'Swanson', 'rate': 'redacted', 'pay_class': 'redacted'},\n",
        "  {'lastName': 'Haverford', 'rate': 52000, 'pay_class': 'annual'}\n",
        "]\n",
        "\n",
        "def hourly_rate(payments):\n",
        "  \"\"\"Function that returns each salaried workers' hourly rate.\"\"\"\n",
        "  hourlyRates = []\n",
        "  for worker in payments:\n",
        "    if worker.get('pay_class') == 'annual':\n",
        "      hourly = worker['rate'] / 2080\n",
        "      hourlyRates.append(hourly)\n",
        "  return hourlyRates\n",
        "\n",
        "# Sum hourly rates for those receiving an annual salary.\n",
        "salariesPerHour = sum(hourly_rate(employeeDatabase))\n",
        "\n",
        "print(f\"Total dispersments per hour for salaried employees: ${salariesPerHour:.2f}\")"
      ]
    },
    {
      "cell_type": "markdown",
      "metadata": {
        "id": "SyY72o5RZLJS"
      },
      "source": [
        "## 6) Check for speed bottlenecks in detail using `cProfile`"
      ]
    },
    {
      "cell_type": "markdown",
      "metadata": {
        "id": "cvkCZLEeZLJS"
      },
      "source": [
        "Using `cProfile`, answer these questions about the following lines of code:\n",
        "1. How long does everything in this cell take to execute?\n",
        "1. Which item takes the longest time to execute? *Tip: Sort by cumtime find hotspots more easily.*"
      ]
    },
    {
      "cell_type": "code",
      "execution_count": null,
      "metadata": {
        "id": "rQKz2fJFZLJT"
      },
      "outputs": [],
      "source": [
        "dataList = [x for x in range(1, 10_000_000)]\n",
        "dataTuple = tuple(x for x in range(1, 10_000_000))\n",
        "\n",
        "listFromList = []\n",
        "listFromTuple = []\n",
        "\n",
        "for item in dataList:\n",
        "  new = item + 1\n",
        "  listFromList.append(new)\n",
        "\n",
        "for item in dataTuple:\n",
        "  new = item + 1\n",
        "  listFromTuple.append(new)"
      ]
    },
    {
      "cell_type": "markdown",
      "source": [
        "\n",
        "\n",
        "---\n",
        "\n"
      ],
      "metadata": {
        "id": "JCqB6sAr6Tdo"
      }
    },
    {
      "cell_type": "markdown",
      "source": [
        "## 7) Stretch Goal: Raster generator"
      ],
      "metadata": {
        "id": "l9xzVCANWcC6"
      }
    },
    {
      "cell_type": "markdown",
      "source": [
        "Let's say you have a raster depicting 500 square meter population density (people per 500m²) across a country. That's a huge dataset! You want to resample the raster down to 1 square kilometer (people per 1km²) to make it easier to work with.\n",
        "\n",
        "To do this, you have written a function that creates a new raster of 1km² grid cells. Each 1km² cell contains the total population of all 500m² cells within it."
      ],
      "metadata": {
        "id": "THKZfbDyfuCx"
      }
    },
    {
      "cell_type": "code",
      "source": [
        "import numpy as np\n",
        "\n",
        "# Starting dataset: 80x80 grid of people per 500m².\n",
        "highResPop = np.ones((80, 80)) * 5"
      ],
      "metadata": {
        "id": "MkMTXU48fgxi"
      },
      "execution_count": null,
      "outputs": []
    },
    {
      "cell_type": "markdown",
      "source": [
        "*Note: The example here uses arrays to represent the rasters for simplicity, and each 500m² cell contains exactly 5 people.*"
      ],
      "metadata": {
        "id": "raRyXVdEuG7U"
      }
    },
    {
      "cell_type": "code",
      "source": [
        "def densityKM(popArray):\n",
        "    \"\"\"\n",
        "    Function that returns population density per km² cell from a\n",
        "    500 m² resolution population source.\n",
        "\n",
        "    Input:  500x500m 2D array\n",
        "    Output: 1x1km 2D array, covering the same area of interest.\n",
        "    \"\"\"\n",
        "    group_size = 20 # Every 20x20 group of 500m² cells equals 1km².\n",
        "    rows, cols = popArray.shape\n",
        "\n",
        "    # Aggregate\n",
        "    kmArray = popArray.reshape(\n",
        "        rows // group_size, group_size,\n",
        "        cols // group_size, group_size\n",
        "    )\n",
        "\n",
        "    # Sum over each group\n",
        "    kmDensity = kmArray.sum(axis=(1, 3))\n",
        "\n",
        "    # Output\n",
        "    return kmDensity"
      ],
      "metadata": {
        "id": "-BkMSEV1x0Kz"
      },
      "execution_count": null,
      "outputs": []
    },
    {
      "cell_type": "code",
      "source": [
        "densityKM(highResPop)"
      ],
      "metadata": {
        "colab": {
          "base_uri": "https://localhost:8080/"
        },
        "id": "1XwjMylDzY2v",
        "outputId": "aae076e2-185b-4b87-e340-12035b3a5970"
      },
      "execution_count": null,
      "outputs": [
        {
          "output_type": "execute_result",
          "data": {
            "text/plain": [
              "array([[2000., 2000., 2000., 2000.],\n",
              "       [2000., 2000., 2000., 2000.],\n",
              "       [2000., 2000., 2000., 2000.],\n",
              "       [2000., 2000., 2000., 2000.]])"
            ]
          },
          "metadata": {},
          "execution_count": 5
        }
      ]
    },
    {
      "cell_type": "markdown",
      "source": [
        "**Your turn**: Convert this function into a generator.\n",
        "\n",
        "As an extra challenge, try to find a way to avoid storing your entire km² array in memory. (Instead, process one group of 20x20 cells at a time)."
      ],
      "metadata": {
        "id": "QZKKAigBfMWl"
      }
    },
    {
      "cell_type": "code",
      "source": [],
      "metadata": {
        "id": "jkmFh6-ts5gX"
      },
      "execution_count": null,
      "outputs": []
    }
  ],
  "metadata": {
    "kernelspec": {
      "display_name": "ArcGISPro",
      "language": "Python",
      "name": "python3"
    },
    "language_info": {
      "file_extension": ".py",
      "name": "python",
      "version": "3"
    },
    "colab": {
      "provenance": [],
      "include_colab_link": true
    }
  },
  "nbformat": 4,
  "nbformat_minor": 0
}