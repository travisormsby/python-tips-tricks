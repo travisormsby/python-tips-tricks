{
  "cells": [
    {
      "cell_type": "markdown",
      "metadata": {
        "id": "view-in-github",
        "colab_type": "text"
      },
      "source": [
        "<a href=\"https://colab.research.google.com/github/travisormsby/python-tips-tricks/blob/main/docs/PerformanceMemory.ipynb\" target=\"_parent\"><img src=\"https://colab.research.google.com/assets/colab-badge.svg\" alt=\"Open In Colab\"/></a>"
      ]
    },
    {
      "cell_type": "markdown",
      "metadata": {
        "id": "e-_2hR6yZLIl"
      },
      "source": [
        "# Performance and Memory"
      ]
    },
    {
      "cell_type": "markdown",
      "metadata": {
        "id": "VogyfkL7ZLIq"
      },
      "source": [
        "When you begin to use Python regularly in your work, you'll start noticing bottlenecks in your code. Some workflows may run at lightning speed, while others take hours of processing time to complete, or even crash.\n",
        "\n",
        "Avoiding bloat is invaluable as you move toward using code for automation, bigger data, and working with APIs. Code efficiency means:\n",
        "- Less chance of a slowdown or crash: the dreaded MemoryError.\n",
        "- Quicker response time and fewer bottlenecks for the larger workflow.\n",
        "- Better scaling.\n",
        "- Efficient code is often (but not always!) cleaner and more readable.\n",
        "\n",
        "Let's look at some ways you can reduce bloat in your code."
      ]
    },
    {
      "cell_type": "markdown",
      "metadata": {
        "id": "k2BFe18pZLIr"
      },
      "source": [
        "## Choosing the efficient code alternative"
      ]
    },
    {
      "cell_type": "markdown",
      "metadata": {
        "id": "v_P41638ZLIw"
      },
      "source": [
        "tl;dr\n",
        "<br>Access and store only what you need, no more.\n",
        "- __Storage__: avoid a list where you could use a tuple\n",
        "- __Membership look-up__: avoid a list (or tuple) where you could use a set (or dictionary)\n",
        "- __Iteration__: avoid a function where you could use a generator\n",
        "- __Calculation__: avoid a loop where you could use vector operations"
      ]
    },
    {
      "cell_type": "markdown",
      "metadata": {
        "heading_collapsed": true,
        "id": "Yu9yyeYPZLIx"
      },
      "source": [
        "### Storage: lists vs. tuples"
      ]
    },
    {
      "cell_type": "markdown",
      "metadata": {
        "hidden": true,
        "id": "IqMfe4DUZLIx"
      },
      "source": [
        "If you have a collection of values, your first thought may be to store them in a list."
      ]
    },
    {
      "cell_type": "code",
      "execution_count": null,
      "metadata": {
        "hidden": true,
        "id": "oVG7ozejZLIy"
      },
      "outputs": [],
      "source": [
        "data_list = [17999712, 2015, 'Hawkins Road', 'Linden ', 'NC', 28356]"
      ]
    },
    {
      "cell_type": "markdown",
      "metadata": {
        "hidden": true,
        "id": "vPGEfGsKZLIz"
      },
      "source": [
        "Lists are nice because they are very flexible. You can change the values in the list, including appending and removing values. But that flexibility comes at a cost. Lists are less efficient than tuples. For example, they use more memory."
      ]
    },
    {
      "cell_type": "code",
      "execution_count": null,
      "metadata": {
        "hidden": true,
        "id": "kzw4GFpYZLI1",
        "outputId": "e0138832-159c-4fed-9f17-69e93ebd8899",
        "colab": {
          "base_uri": "https://localhost:8080/"
        }
      },
      "outputs": [
        {
          "output_type": "stream",
          "name": "stdout",
          "text": [
            "104\n",
            "88\n"
          ]
        }
      ],
      "source": [
        "import sys\n",
        "\n",
        "data_tuple = (17999712, 2015, 'Hawkins Road', 'Linden ', 'NC', 28356)\n",
        "\n",
        "print(sys.getsizeof(data_list))\n",
        "print(sys.getsizeof(data_tuple))"
      ]
    },
    {
      "cell_type": "markdown",
      "metadata": {
        "hidden": true,
        "id": "SncGVcIiZLI3"
      },
      "source": [
        "If you aren't going to be changing the values in a collection, use a tuple instead of a list."
      ]
    },
    {
      "cell_type": "markdown",
      "metadata": {
        "heading_collapsed": true,
        "id": "YdLJhldrZLI3"
      },
      "source": [
        "### Membership look-up: lists vs. sets and dictionaries"
      ]
    },
    {
      "cell_type": "markdown",
      "source": [
        "However, when you want to see if an element _already exists_ in a collection of elements, use a set or dictionary to store that collection if possible."
      ],
      "metadata": {
        "id": "x9vIWqKJESyn"
      }
    },
    {
      "cell_type": "markdown",
      "source": [
        "- List and tuple look-up is **sequential**, going at the speed of *O(n): linear time*.\n",
        "    - With lists, Python scans the entire list until it finds the match (or reaches the end).\n",
        "    - Worst case: it has to look at every element.\n",
        "- Set and dictionary look-up instead **maps keys to values**, going at the speed of *O(1): constant time*.\n",
        "    - No matter how big the collection is, the set only ever has to check 1 value.\n",
        "    - Sets are built on hash tables. Python computes the hash of the element and jumps straight to where it should be stored."
      ],
      "metadata": {
        "id": "0VCAv3ZUxOXY"
      }
    },
    {
      "cell_type": "markdown",
      "metadata": {
        "hidden": true,
        "id": "oVdOgTk1ZLI4"
      },
      "source": [
        "The example below shows that a set is over 1000x faster than a list in calculating the first 100,000 values of [Recaman's sequence](https://oeis.org/search?q=recaman&language=english&go=Search)."
      ]
    },
    {
      "cell_type": "code",
      "execution_count": null,
      "metadata": {
        "hidden": true,
        "id": "WpTGEYfyZLI5"
      },
      "outputs": [],
      "source": [
        "def recaman_check(cur, i, visited):\n",
        "    return (cur - i) < 0 or (cur - i) in visited\n",
        "\n",
        "def recaman_list(n: int) -> list[int]:\n",
        "    \"\"\"\n",
        "    return a list of the first n numbers of the Recaman series\n",
        "    \"\"\"\n",
        "\n",
        "    visited_list = [0]\n",
        "    current = 0\n",
        "    for i in range(1, n):\n",
        "        if recaman_check(current, i, visited_list):\n",
        "            current += i\n",
        "        else:\n",
        "            current -= i\n",
        "        visited_list.append(current)\n",
        "    return visited_list"
      ]
    },
    {
      "cell_type": "code",
      "execution_count": null,
      "metadata": {
        "hidden": true,
        "id": "nZDnh3iWZLI6",
        "outputId": "abbebfc7-0557-46f3-dc5f-a3ae2ee46830",
        "colab": {
          "base_uri": "https://localhost:8080/"
        }
      },
      "outputs": [
        {
          "output_type": "stream",
          "name": "stdout",
          "text": [
            "33.6 s ± 1.62 s per loop (mean ± std. dev. of 7 runs, 1 loop each)\n"
          ]
        }
      ],
      "source": [
        "%%timeit\n",
        "recaman_list(100000)"
      ]
    },
    {
      "cell_type": "code",
      "execution_count": null,
      "metadata": {
        "hidden": true,
        "id": "vvLVZGkKZLI6"
      },
      "outputs": [],
      "source": [
        "def recaman_set(n: int) -> list[int]:\n",
        "    visited_set = {0}\n",
        "    current = 0\n",
        "    for i in range(1, 100_000):\n",
        "        if recaman_check(current, i, visited_set):\n",
        "            current += i\n",
        "        else:\n",
        "            current -= i\n",
        "        visited_set.add(current)\n",
        "    return visited_set"
      ]
    },
    {
      "cell_type": "code",
      "execution_count": null,
      "metadata": {
        "hidden": true,
        "id": "wFaIMHJlZLI7",
        "outputId": "ca3f5f2d-1a70-428e-a8ba-90ab4015b9b2",
        "colab": {
          "base_uri": "https://localhost:8080/"
        }
      },
      "outputs": [
        {
          "output_type": "stream",
          "name": "stdout",
          "text": [
            "23.7 ms ± 1.15 ms per loop (mean ± std. dev. of 7 runs, 10 loops each)\n"
          ]
        }
      ],
      "source": [
        "%%timeit\n",
        "recaman_set(100000)"
      ]
    },
    {
      "cell_type": "markdown",
      "source": [
        "When you add an element to a set...\n",
        "1. Python calls the element’s __hash__() method to get a hash value (an integer);\n",
        "1. That hash value determines where the element will be stored in the set's internal structure; and\n",
        "1. When checking if an element is in the set, Python uses the hash to quickly find it."
      ],
      "metadata": {
        "id": "cmwf-LTNLk2o"
      }
    },
    {
      "cell_type": "markdown",
      "metadata": {
        "heading_collapsed": true,
        "id": "da9ChQAwZLI7"
      },
      "source": [
        "### Iteration: functions vs. generators"
      ]
    },
    {
      "cell_type": "markdown",
      "source": [
        "When working with dataframes, we often use functions to operate on data, but generators can be more memory-efficient and faster for certain tasks."
      ],
      "metadata": {
        "id": "59BbxRiDuYVg"
      }
    },
    {
      "cell_type": "markdown",
      "metadata": {
        "hidden": true,
        "id": "AES7kqT2ZLI8"
      },
      "source": [
        "**Regular functions and comprehensions** typically store outputs into containers, like lists or dictionaries. This can take up unnecessary memory, especially when we're creating multi-step workflows with many intermediate outputs.\n",
        "\n",
        "In contrast, **generators** only hold one data item in memory at a time. A generator is a type of iterator that produces results on-demand (lazily), maintaining its state between iterations."
      ]
    },
    {
      "cell_type": "markdown",
      "source": [
        "Under the hood, a generator looks similar to a function. In most cases, you:\n",
        "- define a process(),\n",
        "- provide the logic, and\n",
        "- ask for the result, either with a return statement (for functions) or a yield statement (for generators)."
      ],
      "metadata": {
        "id": "8GIGiBI1Ea3p"
      }
    },
    {
      "cell_type": "markdown",
      "source": [
        "Imagine you have a large dataset containing millions of employee records. You want to calculate the combined hourly rates of all employees on an annual salary."
      ],
      "metadata": {
        "id": "td-sjAbZuk_2"
      }
    },
    {
      "cell_type": "code",
      "source": [
        "# For the sake of simplicity, we'll represent the dataset with a small sample.\n",
        "employeeDatabase = [\n",
        "  {'lastName': 'Knope', 'rate': 52000, 'pay_class': 'annual'},\n",
        "  {'lastName': 'Gergich', 'rate': 9, 'pay_class': 'hourly'},\n",
        "  {'lastName': 'Ludgate', 'rate': 50000, 'pay_class': 'annual'},\n",
        "  {'lastName': 'Swanson', 'rate': 'redacted', 'pay_class': 'redacted'},\n",
        "  {'lastName': 'Haverford', 'rate': 42000, 'pay_class': 'annual'}\n",
        "]"
      ],
      "metadata": {
        "id": "GDO3A1pWKpyl"
      },
      "execution_count": 21,
      "outputs": []
    },
    {
      "cell_type": "markdown",
      "source": [
        "You can use a function for this, but it means the entire dataset will be held in memory."
      ],
      "metadata": {
        "id": "KA88LP3UMn6a"
      }
    },
    {
      "cell_type": "code",
      "source": [
        "def hourly_rate(payments):\n",
        "  \"\"\"Function that yields a worker's hourly rate based on annual salary.\"\"\"\n",
        "  hourlyRates = []\n",
        "  for worker in payments:\n",
        "    if worker.get('pay_class') == 'annual':\n",
        "      hourly = worker['rate'] / 2080\n",
        "      hourlyRates.append(hourly)\n",
        "  return hourlyRates\n",
        "\n",
        "# Use the function to sum hourly rates for those receiving an annual salary.\n",
        "salariesPerHour = sum(hourly_rate(employeeDatabase))\n",
        "\n",
        "print(f\"Total dispersments per hour for salaried employees: ${salariesPerHour:.2f}\")"
      ],
      "metadata": {
        "id": "vi6duXe_ujwK",
        "colab": {
          "base_uri": "https://localhost:8080/"
        },
        "outputId": "391dcaed-2c0c-448f-b693-6e09cd165e52"
      },
      "execution_count": 33,
      "outputs": [
        {
          "output_type": "stream",
          "name": "stdout",
          "text": [
            "Total dispersments per hour for salaried employees: $69.23\n"
          ]
        }
      ]
    },
    {
      "cell_type": "markdown",
      "source": [
        "If the input dataset is huge, this eats up a ton of space. Instead, what if we process data lazily, storing one row in memory at a time?"
      ],
      "metadata": {
        "id": "w06e15kmuppV"
      }
    },
    {
      "cell_type": "code",
      "source": [
        "def hourly_rate_gen(payments):\n",
        "  \"\"\"Generator that yields a worker's hourly rate based on annual salary.\"\"\"\n",
        "  for worker in payments:\n",
        "    if worker.get('pay_class') == 'annual':\n",
        "      hourly = worker['rate'] / 2080\n",
        "      yield hourly\n",
        "\n",
        "# Use the generator to sum hourly rates for those receiving an annual salary.\n",
        "salariesPerHour = sum(hourly_rate_gen(employeeDatabase))\n",
        "\n",
        "print(f\"Total dispersments per hour for salaried employees: ${salariesPerHour:.2f}\")"
      ],
      "metadata": {
        "id": "chy2TtgYuzUr",
        "colab": {
          "base_uri": "https://localhost:8080/"
        },
        "outputId": "7e39c3b5-c740-419b-c471-12b124a614e8"
      },
      "execution_count": 34,
      "outputs": [
        {
          "output_type": "stream",
          "name": "stdout",
          "text": [
            "Total dispersments per hour for salaried employees: $69.23\n"
          ]
        }
      ]
    },
    {
      "cell_type": "markdown",
      "source": [
        "In a function, the return statement signals that the function can execute from start to finish, *holding every value in memory*.\n",
        "\n",
        "In a generator, the yield statement signals that execution can proceed *one at a time*; when yield is executed, the generator pauses, retaining the generator's state until the next time it is called."
      ],
      "metadata": {
        "id": "xTMEqiH9Ey7k"
      }
    },
    {
      "cell_type": "markdown",
      "source": [
        "Generators are a powerful tool for GIS and remote sensing. You can set up **generator pipelines** to string multiple tasks together lazily. These are hugely helpful for complex spatial analysis workflows, such as raster processing."
      ],
      "metadata": {
        "id": "edWHs8Ug8fLY"
      }
    },
    {
      "cell_type": "markdown",
      "source": [
        "#### Iteration, continued: List comprehension vs. generator expression"
      ],
      "metadata": {
        "id": "_pGJfpCV7jhM"
      }
    },
    {
      "cell_type": "markdown",
      "source": [
        "Generator expressions (also known as generator comprehensions) are concise, one-line generators. Generator expressions can be a handy replacement for list comprehensions."
      ],
      "metadata": {
        "id": "uOLOSXSr7tkY"
      }
    },
    {
      "cell_type": "markdown",
      "source": [
        "Let's look at how the function above would appear in list comprehension format."
      ],
      "metadata": {
        "id": "D5m6C64A79gY"
      }
    },
    {
      "cell_type": "code",
      "source": [
        "results = sum([worker['rate'] / 2080 for worker in employeeDatabase if worker.get('pay_class') == 'annual'])\n",
        "print(sys.getsizeof(results))\n",
        "\n",
        "print(f\"${salariesPerHour:.2f}\")"
      ],
      "metadata": {
        "id": "Gl7HPqkj8Irs",
        "colab": {
          "base_uri": "https://localhost:8080/"
        },
        "outputId": "fec3b07d-3d8b-4387-a29b-56c829e33c30"
      },
      "execution_count": 48,
      "outputs": [
        {
          "output_type": "stream",
          "name": "stdout",
          "text": [
            "88\n",
            "$69.23\n"
          ]
        }
      ]
    },
    {
      "cell_type": "markdown",
      "source": [
        "As with the function, the list comprehension constructs a list of n values. Then, we use sum() to add all values in the list together.\n",
        "\n",
        "A generator expression looks almost identical to a list comprehension: simply swap out square brackets with parentheses.\n",
        "\n",
        "*Here's a fun tip: When a generator expression is the only argument in a function (in this case, sum()), you can drop the inner parentheses.*"
      ],
      "metadata": {
        "id": "QvQfm_l7xhbH"
      }
    },
    {
      "cell_type": "code",
      "source": [
        "salariesPerHour = sum(worker['rate'] / 2080 for worker in employeeDatabase if worker.get('pay_class') == 'annual')\n",
        "print(sys.getsizeof(salariesPerHour))\n",
        "\n",
        "print(f\"${salariesPerHour:.2f}\")"
      ],
      "metadata": {
        "id": "XgcJrFNF8KoF",
        "colab": {
          "base_uri": "https://localhost:8080/"
        },
        "outputId": "23369b94-0326-45df-a4c8-278d352dd3eb"
      },
      "execution_count": 47,
      "outputs": [
        {
          "output_type": "stream",
          "name": "stdout",
          "text": [
            "24\n",
            "$69.23\n"
          ]
        }
      ]
    },
    {
      "cell_type": "markdown",
      "source": [
        "### Calculation: loop versus vector operations"
      ],
      "metadata": {
        "id": "0vGWLh-mBnAY"
      }
    },
    {
      "cell_type": "markdown",
      "metadata": {
        "id": "1HhMLyvGZLI8"
      },
      "source": [
        "## Profiling: finding bottlenecks"
      ]
    },
    {
      "cell_type": "markdown",
      "metadata": {
        "id": "4vwEgO0TZLI8"
      },
      "source": [
        "tl;dr\n",
        "<br>Make time for performance checks.\n",
        "\n",
        "Resources:\n",
        "1. __Spot-profile your code.__ Use the `timeit` notebook magic to perform some basic profiling by cell or by line.\n",
        "1. __Profile your script comprehensively.__ The `cProfile` module has the ability to break down call by call to determine the number of calls and the total time spent on each.\n",
        "\n",
        "_Note: You also saw `sys.getsizeof()` earlier, which you can use to check memory size of variables. Memory and performance are interrelated._"
      ]
    },
    {
      "cell_type": "markdown",
      "source": [
        "### Spot-check with `%%timeit`"
      ],
      "metadata": {
        "id": "FbgVHcXAXg2T"
      }
    },
    {
      "cell_type": "markdown",
      "source": [
        " `%timeit` is a form of _line magic_. Line magic arguments only extend to the end of the current line.\n",
        "\n",
        " `%%timeit` is a form of _cell magic_. It measures the execution time of the entire notebook cell.\n",
        "\n",
        " Two parameters to consider:\n",
        " - -n is the number of\n",
        " - -r is the repeats"
      ],
      "metadata": {
        "id": "oGY2BHZ0BqGu"
      }
    },
    {
      "cell_type": "markdown",
      "source": [
        "In line mode you can time a single-line statement (though multiple\n",
        "ones can be chained with using semicolons).\n",
        "\n",
        "\n",
        "In cell mode, the statement in the first line is used as setup code\n",
        "(executed but not timed) and the body of the cell is timed.  The cell\n",
        "body has access to any variables created in the setup code."
      ],
      "metadata": {
        "id": "YAFizX9CBbgz"
      }
    },
    {
      "cell_type": "code",
      "source": [
        "%timeit sum(hourly_rate(employeeDatabase))\n",
        "%timeit sum(hourly_rate_gen(employeeDatabase))"
      ],
      "metadata": {
        "colab": {
          "base_uri": "https://localhost:8080/"
        },
        "id": "8nMQau84oQho",
        "outputId": "e58df76c-e664-4554-93cc-20e59389f171"
      },
      "execution_count": 25,
      "outputs": [
        {
          "output_type": "stream",
          "name": "stdout",
          "text": [
            "1.04 µs ± 245 ns per loop (mean ± std. dev. of 7 runs, 1000000 loops each)\n",
            "888 ns ± 10.3 ns per loop (mean ± std. dev. of 7 runs, 1000000 loops each)\n"
          ]
        }
      ]
    },
    {
      "cell_type": "markdown",
      "source": [
        "### Profile with `cProfile`"
      ],
      "metadata": {
        "id": "WC9MI7cXXlBA"
      }
    },
    {
      "cell_type": "markdown",
      "source": [
        " But `%%timeit` isn't precise enough to tell which calls in each cell are taking the longest to execute."
      ],
      "metadata": {
        "id": "GMrkd59CAz9o"
      }
    },
    {
      "cell_type": "markdown",
      "metadata": {
        "id": "_OWtmmQ5ZLI9"
      },
      "source": [
        "---"
      ]
    },
    {
      "cell_type": "markdown",
      "metadata": {
        "id": "3sUv2pKSZLI9"
      },
      "source": [
        "# Exercises"
      ]
    },
    {
      "cell_type": "markdown",
      "metadata": {
        "id": "pV96G_TkZLI-"
      },
      "source": [
        "__Exercises summary__\n",
        "1. Replace lists with efficient alternatives\n",
        "    1. Storage: List to tuple\n",
        "    1. Look-up: List to set\n",
        "1. Replace sequences with efficient alternatives\n",
        "    1. Iteration: List comprehension to generator expression\n",
        "    1. Calculation: Loop to vector math\n",
        "1. Check for speed bottlenecks\n",
        "    1. Compare differences in speed with `timeit`\n",
        "    1. Check for speed bottlenecks in detail with `cProfile`"
      ]
    },
    {
      "cell_type": "markdown",
      "metadata": {
        "id": "8D-B-eEmZLI_"
      },
      "source": [
        "## 1) Replace lists with efficient alternatives"
      ]
    },
    {
      "cell_type": "markdown",
      "source": [
        "### 1a) Tuple-based storage"
      ],
      "metadata": {
        "id": "Ykg1mVcYVZuC"
      }
    },
    {
      "cell_type": "markdown",
      "source": [
        "The code below creates a list containing all years in a research study timeframe, from 1900 to 2030.\n",
        "\n",
        "The values in this collection will not need to be changed because the study will always use this timeframe."
      ],
      "metadata": {
        "id": "WUmh3e24Zer8"
      }
    },
    {
      "cell_type": "code",
      "source": [
        "import sys\n",
        "\n",
        "def listFromRange(r1, r2):\n",
        "  \"\"\"Create a list from a range of values\"\"\"\n",
        "  return [item for item in range(r1, r2+1)]\n",
        "\n",
        "start = 1900\n",
        "end = 2030\n",
        "\n",
        "studyYears = listFromRange(start, end)\n",
        "\n",
        "print(studyYears)\n",
        "print(\"Bytes used: \", sys.getsizeof(studyYears))"
      ],
      "metadata": {
        "id": "qG63J0nNZfSI",
        "outputId": "712eb0de-adbb-4e13-a7a1-cf9b731876cd",
        "colab": {
          "base_uri": "https://localhost:8080/"
        }
      },
      "execution_count": null,
      "outputs": [
        {
          "output_type": "stream",
          "name": "stdout",
          "text": [
            "[range(1900, 2031)]\n",
            "Bytes used:  64\n"
          ]
        }
      ]
    },
    {
      "cell_type": "markdown",
      "source": [
        "**Your turn:** For the same timeframe, write a different implementation using a storage option that takes up less memory."
      ],
      "metadata": {
        "id": "n9hddRDnfozQ"
      }
    },
    {
      "cell_type": "code",
      "source": [
        "# # # Exercise solution # # #\n",
        "\n",
        "def tupleFromRange(r1, r2):\n",
        "  \"\"\"Create a tuple from a range of values\"\"\"\n",
        "  return tuple(range(r1, r2+1))\n",
        "\n",
        "start = 1900\n",
        "end = 2030\n",
        "\n",
        "studyYears = tupleFromRange(start, end)\n",
        "\n",
        "print(studyYears)\n",
        "print(\"Bytes used: \", sys.getsizeof(studyYears))"
      ],
      "metadata": {
        "id": "0lYpXIl8cLHD",
        "outputId": "a2ec159c-1dee-49fc-8a39-cffde9915577",
        "colab": {
          "base_uri": "https://localhost:8080/"
        }
      },
      "execution_count": null,
      "outputs": [
        {
          "output_type": "stream",
          "name": "stdout",
          "text": [
            "(1900, 1901, 1902, 1903, 1904, 1905, 1906, 1907, 1908, 1909, 1910, 1911, 1912, 1913, 1914, 1915, 1916, 1917, 1918, 1919, 1920, 1921, 1922, 1923, 1924, 1925, 1926, 1927, 1928, 1929, 1930, 1931, 1932, 1933, 1934, 1935, 1936, 1937, 1938, 1939, 1940, 1941, 1942, 1943, 1944, 1945, 1946, 1947, 1948, 1949, 1950, 1951, 1952, 1953, 1954, 1955, 1956, 1957, 1958, 1959, 1960, 1961, 1962, 1963, 1964, 1965, 1966, 1967, 1968, 1969, 1970, 1971, 1972, 1973, 1974, 1975, 1976, 1977, 1978, 1979, 1980, 1981, 1982, 1983, 1984, 1985, 1986, 1987, 1988, 1989, 1990, 1991, 1992, 1993, 1994, 1995, 1996, 1997, 1998, 1999, 2000, 2001, 2002, 2003, 2004, 2005, 2006, 2007, 2008, 2009, 2010, 2011, 2012, 2013, 2014, 2015, 2016, 2017, 2018, 2019, 2020, 2021, 2022, 2023, 2024, 2025, 2026, 2027, 2028, 2029, 2030)\n",
            "Bytes used:  1088\n"
          ]
        }
      ]
    },
    {
      "cell_type": "markdown",
      "source": [
        "### 1b) Set-based look-up"
      ],
      "metadata": {
        "id": "rSm-NycOy052"
      }
    },
    {
      "cell_type": "markdown",
      "source": [
        "The code below assigns a collection of placenames to a list. Then, it checks whether a placename is in the list. If not, the placename is reported missing.\n",
        "\n",
        "If you have 1 million placenames to look up and 6 names in the list, that’s up to 6 million checks."
      ],
      "metadata": {
        "id": "LQaHbpuyFyQ-"
      }
    },
    {
      "cell_type": "code",
      "source": [
        "placeNames_list = [\"Kinshasa\", \"Duluth\", \"Uruguay\", \"Doherty Residence\", \"Dinkytown\", \"Khazad-dum\"]\n",
        "\n",
        "# List look-up\n",
        "if \"Dinkytown\" not in placeNames_list:\n",
        "    print(\"Missing.\")  # O(n) look-up"
      ],
      "metadata": {
        "id": "3vq81k2CEoRN"
      },
      "execution_count": null,
      "outputs": []
    },
    {
      "cell_type": "markdown",
      "source": [
        "**Your turn:** Write a different implementation using a storage option that allows quicker checks for membership."
      ],
      "metadata": {
        "id": "Uhr9kf53GY6h"
      }
    },
    {
      "cell_type": "code",
      "source": [
        "# # # Exercise solution # # #\n",
        "\n",
        "placeNames_set = set(placeNames_list)\n",
        "\n",
        "# Set look-up\n",
        "if \"Dinkytown\" not in placeNames_set:\n",
        "    print(\"Missing.\")  # O(1) look-up"
      ],
      "metadata": {
        "id": "RS-8xOt3Erps"
      },
      "execution_count": null,
      "outputs": []
    },
    {
      "cell_type": "markdown",
      "source": [
        "## 2) Replace sequences with efficient alternatives"
      ],
      "metadata": {
        "id": "rfYFgIiJW1yA"
      }
    },
    {
      "cell_type": "markdown",
      "source": [
        "### 2a) Generator expression"
      ],
      "metadata": {
        "id": "l9xzVCANWcC6"
      }
    },
    {
      "cell_type": "markdown",
      "source": [
        "### 2b) Vector math"
      ],
      "metadata": {
        "id": "UvNRut3rWfPk"
      }
    },
    {
      "cell_type": "markdown",
      "source": [
        "## 3) Check for speed bottlenecks"
      ],
      "metadata": {
        "id": "n2N4_JqzUqL4"
      }
    },
    {
      "cell_type": "markdown",
      "metadata": {
        "id": "QkfkhHtBZLJN"
      },
      "source": [
        "### 3a) Compare differences in speed using `timeit`"
      ]
    },
    {
      "cell_type": "markdown",
      "metadata": {
        "id": "FN57nQonZLJO"
      },
      "source": [
        "Using `%%timeit`, compare the time it took to create myDataPaths as a list (original code) versus as a tuple (exercise solution)."
      ]
    },
    {
      "cell_type": "code",
      "execution_count": null,
      "metadata": {
        "id": "4maIX64mZLJO"
      },
      "outputs": [],
      "source": [
        "%%timeit\n",
        "print([filePath for file in directory])"
      ]
    },
    {
      "cell_type": "code",
      "execution_count": null,
      "metadata": {
        "id": "b1m7iEWTZLJP"
      },
      "outputs": [],
      "source": [
        "%%timeit\n",
        "## Your solution here ##"
      ]
    },
    {
      "cell_type": "markdown",
      "metadata": {
        "id": "YBPP5scfZLJP"
      },
      "source": [
        "Use `%%timeit` again to compare list-based lookup to set intersection."
      ]
    },
    {
      "cell_type": "code",
      "execution_count": null,
      "metadata": {
        "id": "iEPxsZ0fZLJP"
      },
      "outputs": [],
      "source": [
        "%%timeit\n",
        "def meetsCriteria(filePaths):\n",
        "    \"\"\"\n",
        "    Dataframe must have a 'lat' field to be included.\n",
        "    \"\"\"\n",
        "    members = []\n",
        "    criterium = 'lat'\n",
        "\n",
        "    for filePath in filePaths:\n",
        "        with open(filePath) as fPath:\n",
        "            headerList = csv.DictReader(fPath).fieldnames\n",
        "            if criterium in headerList:\n",
        "                members.append(filePath)\n",
        "    return members\n",
        "\n",
        "\n",
        "# Print all matching file paths\n",
        "print(meetsCriteria(myDataPaths))"
      ]
    },
    {
      "cell_type": "code",
      "execution_count": null,
      "metadata": {
        "id": "6L0PleqtZLJQ"
      },
      "outputs": [],
      "source": [
        "%%timeit\n",
        "## Your solution here ##"
      ]
    },
    {
      "cell_type": "markdown",
      "metadata": {
        "id": "xJn4y8mLZLJQ"
      },
      "source": [
        "Finally, compare the second list vs. set change that you made."
      ]
    },
    {
      "cell_type": "code",
      "execution_count": null,
      "metadata": {
        "id": "j4Vxyvf0ZLJQ"
      },
      "outputs": [],
      "source": [
        "%%timeit\n",
        "def meetsCriteria(filePaths):\n",
        "    \"\"\"\n",
        "    Dataframe must have a 'lat' field to be included.\n",
        "    \"\"\"\n",
        "    members = []\n",
        "    criterium = 'lat'\n",
        "\n",
        "    for filePath in filePaths:\n",
        "        with open(filePath) as fPath:\n",
        "            headerList = csv.DictReader(fPath).fieldnames\n",
        "            if criterium in headerList:\n",
        "                members.append(filePath)\n",
        "    return members\n",
        "\n",
        "\n",
        "# Print all matching file paths\n",
        "print(meetsCriteria(myDataPaths))"
      ]
    },
    {
      "cell_type": "code",
      "execution_count": null,
      "metadata": {
        "id": "XnEhPSJ1ZLJQ"
      },
      "outputs": [],
      "source": [
        "%%timeit\n",
        "## Your solution here ##"
      ]
    },
    {
      "cell_type": "markdown",
      "metadata": {
        "id": "SyY72o5RZLJS"
      },
      "source": [
        "### 3b) Check for speed bottlenecks in detail using `cProfile`"
      ]
    },
    {
      "cell_type": "markdown",
      "metadata": {
        "id": "cvkCZLEeZLJS"
      },
      "source": [
        "Use cProfile to locate the slowest calls in your improved script.\n",
        "\n",
        "Hint: Sort by tottime instead of name to find hotspots more easily."
      ]
    },
    {
      "cell_type": "code",
      "execution_count": null,
      "metadata": {
        "id": "rQKz2fJFZLJT"
      },
      "outputs": [],
      "source": []
    }
  ],
  "metadata": {
    "kernelspec": {
      "display_name": "ArcGISPro",
      "language": "Python",
      "name": "python3"
    },
    "language_info": {
      "file_extension": ".py",
      "name": "python",
      "version": "3"
    },
    "colab": {
      "provenance": [],
      "include_colab_link": true
    }
  },
  "nbformat": 4,
  "nbformat_minor": 0
}