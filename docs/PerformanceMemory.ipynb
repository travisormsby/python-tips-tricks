{
  "cells": [
    {
      "cell_type": "markdown",
      "metadata": {
        "colab_type": "text",
        "id": "view-in-github"
      },
      "source": [
        "<a href=\"https://colab.research.google.com/github/travisormsby/python-tips-tricks/blob/main/docs/PerformanceMemory.ipynb\" target=\"_parent\"><img src=\"https://colab.research.google.com/assets/colab-badge.svg\" alt=\"Open In Colab\"/></a>"
      ]
    },
    {
      "cell_type": "markdown",
      "metadata": {
        "id": "e-_2hR6yZLIl"
      },
      "source": [
        "# Optimize Performance and Memory Use"
      ]
    },
    {
      "cell_type": "markdown",
      "metadata": {
        "id": "VogyfkL7ZLIq"
      },
      "source": [
        "When you begin to use Python regularly in your work, you'll start noticing bottlenecks in your code. Some workflows may run at lightning speed, while others take hours of processing time to complete, or even crash.\n",
        "\n",
        "Avoiding bloat is invaluable as you move toward using code for automation, bigger data, and working with APIs. Code efficiency means:\n",
        "- Less chance of a slowdown or crash: the dreaded MemoryError.\n",
        "- Quicker response time and fewer bottlenecks for the larger workflow.\n",
        "- Better scaling.\n",
        "- Efficient code is often (but not always!) cleaner and more readable.\n",
        "\n",
        "Let's look at some ways you can reduce bloat in your code."
      ]
    },
    {
      "cell_type": "markdown",
      "metadata": {
        "id": "v_P41638ZLIw"
      },
      "source": [
        "\n",
        "Access and store only what you need, no more.\n",
        "- __Storage__: avoid a list where you could use a tuple\n",
        "- __Membership look-up__: avoid a list (or tuple) where you could use a set (or dictionary)\n",
        "- __Iteration__: avoid a function (or list comprehension) where you could use a generator (or generator expression)\n",
        "- __Profile__: make time for performance checks by profiling your code for bottlenecks"
      ]
    },
    {
      "cell_type": "markdown",
      "metadata": {
        "heading_collapsed": true,
        "id": "Yu9yyeYPZLIx"
      },
      "source": [
        "## Use more tuples and fewer lists"
      ]
    },
    {
      "cell_type": "markdown",
      "metadata": {
        "hidden": true,
        "id": "IqMfe4DUZLIx"
      },
      "source": [
        "If you have a collection of values, your first thought may be to store them in a list."
      ]
    },
    {
      "cell_type": "code",
      "execution_count": 2,
      "metadata": {
        "hidden": true,
        "id": "oVG7ozejZLIy"
      },
      "outputs": [],
      "source": [
        "data_list = [17999712, 2015, 'Hawkins Road', 'Linden ', 'NC', 28356]"
      ]
    },
    {
      "cell_type": "markdown",
      "metadata": {
        "hidden": true,
        "id": "vPGEfGsKZLIz"
      },
      "source": [
        "Lists are nice because they are very flexible. You can change the values in the list, including appending and removing values. But that flexibility comes at a cost. Lists are less efficient than tuples. For example, they use more memory."
      ]
    },
    {
      "cell_type": "code",
      "execution_count": 3,
      "metadata": {
        "colab": {
          "base_uri": "https://localhost:8080/"
        },
        "hidden": true,
        "id": "kzw4GFpYZLI1",
        "outputId": "d5183381-eb99-49c9-ab82-6de44f1a146d"
      },
      "outputs": [
        {
          "name": "stdout",
          "output_type": "stream",
          "text": [
            "104\n",
            "88\n"
          ]
        }
      ],
      "source": [
        "import sys\n",
        "\n",
        "data_tuple = (17999712, 2015, 'Hawkins Road', 'Linden ', 'NC', 28356)\n",
        "\n",
        "print(sys.getsizeof(data_list))\n",
        "print(sys.getsizeof(data_tuple))"
      ]
    },
    {
      "cell_type": "markdown",
      "metadata": {
        "hidden": true,
        "id": "SncGVcIiZLI3"
      },
      "source": [
        "If you aren't going to be changing the values in a collection, use a tuple instead of a list."
      ]
    },
    {
      "cell_type": "markdown",
      "metadata": {
        "heading_collapsed": true,
        "id": "YdLJhldrZLI3"
      },
      "source": [
        "### Membership look-up: sequential vs. hashable"
      ]
    },
    {
      "cell_type": "markdown",
      "metadata": {
        "id": "x9vIWqKJESyn"
      },
      "source": [
        "However, when you want to see if an element _already exists_ in a collection of elements, use a set or dictionary to store that collection if possible."
      ]
    },
    {
      "cell_type": "markdown",
      "metadata": {
        "id": "0VCAv3ZUxOXY"
      },
      "source": [
        "- List and tuple lookup is **sequential**. The bigger the list, the longer look-up takes.\n",
        "- Set and dictionary lookups are **hashable**: mapping keys to values. Lookup always takes the same amount of time, now matter how much data there is."
      ]
    },
    {
      "cell_type": "markdown",
      "metadata": {
        "hidden": true,
        "id": "oVdOgTk1ZLI4"
      },
      "source": [
        "The example below shows that a set is over 100x faster than a list in calculating the first 10,000 values of [Recaman's sequence](https://oeis.org/search?q=recaman&language=english&go=Search)."
      ]
    },
    {
      "cell_type": "code",
      "execution_count": null,
      "metadata": {
        "hidden": true,
        "id": "WpTGEYfyZLI5"
      },
      "outputs": [
        {
          "name": "stderr",
          "output_type": "stream",
          "text": [
            "UsageError: Line magic function `%%timeit` not found.\n"
          ]
        }
      ],
      "source": [
        "def recaman_check(cur, i, visited):\n",
        "    return (cur - i) < 0 or (cur - i) in visited\n",
        "\n",
        "def recaman_list(n: int) -> list[int]:\n",
        "    \"\"\"\n",
        "    return a list of the first n numbers of the Recaman series\n",
        "    \"\"\"\n",
        "\n",
        "    visited_list = [0]\n",
        "    current = 0\n",
        "    for i in range(1, n):\n",
        "        if recaman_check(current, i, visited_list):\n",
        "            current += i\n",
        "        else:\n",
        "            current -= i\n",
        "        visited_list.append(current)\n",
        "    return visited_list"
      ]
    },
    {
      "cell_type": "code",
      "execution_count": null,
      "metadata": {
        "colab": {
          "base_uri": "https://localhost:8080/"
        },
        "hidden": true,
        "id": "nZDnh3iWZLI6",
        "outputId": "298e8699-86a1-4659-b3c9-35feda9e8166"
      },
      "outputs": [
        {
          "name": "stdout",
          "output_type": "stream",
          "text": [
            "94 ms ± 655 μs per loop (mean ± std. dev. of 7 runs, 10 loops each)\n"
          ]
        }
      ],
      "source": [
        "%%timeit\n",
        "recaman_list(10000)"
      ]
    },
    {
      "cell_type": "code",
      "execution_count": 6,
      "metadata": {
        "hidden": true,
        "id": "vvLVZGkKZLI6"
      },
      "outputs": [],
      "source": [
        "def recaman_set(n: int) -> list[int]:\n",
        "    \"\"\"\n",
        "    return a set of the first n numbers of the Recaman series\n",
        "    \"\"\"\n",
        "    visited_set = {0}\n",
        "    current = 0\n",
        "    for i in range(1, n):\n",
        "        if recaman_check(current, i, visited_set):\n",
        "            current += i\n",
        "        else:\n",
        "            current -= i\n",
        "        visited_set.add(current)\n",
        "    return visited_set"
      ]
    },
    {
      "cell_type": "code",
      "execution_count": 7,
      "metadata": {
        "colab": {
          "base_uri": "https://localhost:8080/"
        },
        "hidden": true,
        "id": "wFaIMHJlZLI7",
        "outputId": "d6887b89-103f-48a1-ab09-32f91fe26cb1"
      },
      "outputs": [
        {
          "name": "stdout",
          "output_type": "stream",
          "text": [
            "913 μs ± 5.31 μs per loop (mean ± std. dev. of 7 runs, 1,000 loops each)\n"
          ]
        }
      ],
      "source": [
        "%%timeit\n",
        "recaman_set(10000)"
      ]
    },
    {
      "cell_type": "markdown",
      "metadata": {
        "heading_collapsed": true,
        "id": "da9ChQAwZLI7"
      },
      "source": [
        "## Use more generators"
      ]
    },
    {
      "cell_type": "markdown",
      "metadata": {
        "id": "59BbxRiDuYVg"
      },
      "source": [
        "We often use functions to operate on data, but generators can be more memory-efficient and faster for certain tasks."
      ]
    },
    {
      "cell_type": "markdown",
      "metadata": {
        "hidden": true,
        "id": "AES7kqT2ZLI8"
      },
      "source": [
        "**Regular functions and comprehensions** typically store outputs into containers, like lists or dictionaries. This can take up unnecessary memory, especially when we're creating multi-step workflows with many intermediate outputs.\n",
        "\n",
        "In contrast, **generators** only hold one data item in memory at a time. A generator is a type of iterator that produces results on-demand (lazily), maintaining its state between iterations."
      ]
    },
    {
      "cell_type": "code",
      "execution_count": 9,
      "metadata": {
        "id": "IOV9hZd1EY-W"
      },
      "outputs": [],
      "source": [
        "def massive_rf():\n",
        "  \"\"\"A regular function that produces even numbers, endlessly.\"\"\"\n",
        "  x_list = []\n",
        "  x = 0\n",
        "  while True:\n",
        "    x_list.append(x)\n",
        "    x += 2"
      ]
    },
    {
      "cell_type": "code",
      "execution_count": null,
      "metadata": {},
      "outputs": [],
      "source": [
        "# Eventually x_list will be bigger than memory\n",
        "massive_rf()"
      ]
    },
    {
      "cell_type": "code",
      "execution_count": null,
      "metadata": {
        "id": "s3y-FYmQE860"
      },
      "outputs": [],
      "source": [
        "def massive_gen():\n",
        "  \"\"\"A generator that produces even numbers, endlessly.\"\"\"\n",
        "  x = 0\n",
        "  while True:\n",
        "    yield x\n",
        "    x += 2\n",
        "\n",
        "# This will run until the machine loses power\n",
        "for x in massive_gen():\n",
        "  print(x)"
      ]
    },
    {
      "cell_type": "markdown",
      "metadata": {},
      "source": [
        "What goes for functions, also goes for list comprehensions. You can often use a generator expression in place of a list comprehension. We've already seen an example of a generator expression in the n-dimensional distance function:"
      ]
    },
    {
      "cell_type": "code",
      "execution_count": 17,
      "metadata": {},
      "outputs": [
        {
          "data": {
            "text/plain": [
              "4"
            ]
          },
          "execution_count": 17,
          "metadata": {},
          "output_type": "execute_result"
        }
      ],
      "source": [
        "coords = (1, 1, 1, 1)\n",
        "sum(d ** 2 for d in coords)\n"
      ]
    },
    {
      "cell_type": "markdown",
      "metadata": {},
      "source": [
        "Compare that example to one that uses a list comprehension:"
      ]
    },
    {
      "cell_type": "code",
      "execution_count": 18,
      "metadata": {},
      "outputs": [
        {
          "data": {
            "text/plain": [
              "4"
            ]
          },
          "execution_count": 18,
          "metadata": {},
          "output_type": "execute_result"
        }
      ],
      "source": [
        "coords = (1, 1, 1, 1)\n",
        "sum([d ** 2 for d in coords])"
      ]
    },
    {
      "cell_type": "markdown",
      "metadata": {},
      "source": [
        "The `sum` function operates by looping over an iterable and adding the value to a running total. In the first case, the iterable is a generator that produces a single value at a time. \n",
        "\n",
        "In the second case, the list comprension loops over `coords` to produce a list where every value is stored in memory. Then the `sum` function loops over that list. \n",
        "\n",
        "An important limitation of generators is that because they produce a single value at a time and then forget about it, you cannot reuse them."
      ]
    },
    {
      "cell_type": "code",
      "execution_count": 45,
      "metadata": {},
      "outputs": [
        {
          "data": {
            "text/plain": [
              "2000000"
            ]
          },
          "execution_count": 45,
          "metadata": {},
          "output_type": "execute_result"
        }
      ],
      "source": [
        "generator = (d ** 2 for d in coords)\n",
        "sum(generator)"
      ]
    },
    {
      "cell_type": "code",
      "execution_count": 46,
      "metadata": {},
      "outputs": [
        {
          "ename": "ValueError",
          "evalue": "max() iterable argument is empty",
          "output_type": "error",
          "traceback": [
            "\u001b[31m---------------------------------------------------------------------------\u001b[39m",
            "\u001b[31mValueError\u001b[39m                                Traceback (most recent call last)",
            "\u001b[36mCell\u001b[39m\u001b[36m \u001b[39m\u001b[32mIn[46]\u001b[39m\u001b[32m, line 1\u001b[39m\n\u001b[32m----> \u001b[39m\u001b[32m1\u001b[39m \u001b[38;5;28;43mmax\u001b[39;49m\u001b[43m(\u001b[49m\u001b[43mgenerator\u001b[49m\u001b[43m)\u001b[49m\n",
            "\u001b[31mValueError\u001b[39m: max() iterable argument is empty"
          ]
        }
      ],
      "source": [
        "max(generator)"
      ]
    },
    {
      "cell_type": "markdown",
      "metadata": {},
      "source": [
        "**Big Takeaway**: If you're only going to use a value once, you should probably use a generator. If you need to use it again, you probabably need to store it in something like a list or tuple."
      ]
    },
    {
      "cell_type": "markdown",
      "metadata": {
        "id": "1HhMLyvGZLI8"
      },
      "source": [
        "## Profile, don't guess."
      ]
    },
    {
      "cell_type": "markdown",
      "metadata": {
        "id": "4vwEgO0TZLI8"
      },
      "source": [
        "Profiling is any technique used to measure the performance of your code, in particular its speed. There are dozens of tools available for profiling. We'll use a few to:\n",
        "1. **Check memory use:** Use `tracemalloc` to check the memory usage of code.\n",
        "1. **Spot-profile your code:** Use the `timeit` notebook magic to perform some basic profiling by cell or by line.\n",
        "1. **Profile your script comprehensively:** The `cProfile` module has the ability to break down call by call to determine the number of calls and the total time spent on each.\n",
        "\n",
        "To make profiling easier, the cell below defines functions for calculating a sum on a generator expression and on a list comprehension. Both functions will be called with a very large number of coordinates to make profile differences more obvious."
      ]
    },
    {
      "cell_type": "code",
      "execution_count": 1,
      "metadata": {},
      "outputs": [],
      "source": [
        "coords = (1, 1) * 1_000_000\n",
        "def sum_generator(coords):\n",
        "    return sum(d ** 2 for d in coords)\n",
        "\n",
        "def sum_list_comprehension(coords):\n",
        "    return sum([d ** 2 for d in coords])"
      ]
    },
    {
      "cell_type": "markdown",
      "metadata": {},
      "source": [
        "### Check memory use"
      ]
    },
    {
      "cell_type": "markdown",
      "metadata": {},
      "source": [
        "The cells below uses `tracemalloc` to capture information about memory usage for the the two versions of the function.\n",
        " "
      ]
    },
    {
      "cell_type": "code",
      "execution_count": 2,
      "metadata": {},
      "outputs": [
        {
          "name": "stdout",
          "output_type": "stream",
          "text": [
            "22542\n"
          ]
        }
      ],
      "source": [
        "import tracemalloc\n",
        "\n",
        "tracemalloc.start()\n",
        "\n",
        "sum_generator(coords)\n",
        "\n",
        "current, peak = tracemalloc.get_traced_memory()\n",
        "print(peak)"
      ]
    },
    {
      "cell_type": "code",
      "execution_count": 2,
      "metadata": {},
      "outputs": [
        {
          "name": "stdout",
          "output_type": "stream",
          "text": [
            "17129595\n"
          ]
        }
      ],
      "source": [
        "import tracemalloc\n",
        "\n",
        "tracemalloc.start()\n",
        "\n",
        "sum_list_comprehension(coords)\n",
        "\n",
        "current, peak = tracemalloc.get_traced_memory()\n",
        "print(peak)"
      ]
    },
    {
      "cell_type": "markdown",
      "metadata": {
        "id": "FbgVHcXAXg2T"
      },
      "source": [
        "### Spot-check speed with `%%timeit`"
      ]
    },
    {
      "cell_type": "markdown",
      "metadata": {
        "id": "oGY2BHZ0BqGu"
      },
      "source": [
        "The `timeit` module measures the execution time of a selection of code. Among the many ways you'll see it written are \"magic\" commands\n",
        "\n",
        "`%%timeit` is a form of cell magic. It measures the execution time of the entire notebook cell."
      ]
    },
    {
      "cell_type": "code",
      "execution_count": 3,
      "metadata": {
        "colab": {
          "base_uri": "https://localhost:8080/"
        },
        "id": "zIfZwYVtCDdG",
        "outputId": "a6a25084-3a2d-414f-da4c-361f700a4ebf"
      },
      "outputs": [
        {
          "name": "stdout",
          "output_type": "stream",
          "text": [
            "49.6 ms ± 277 μs per loop (mean ± std. dev. of 7 runs, 10 loops each)\n"
          ]
        }
      ],
      "source": [
        "%%timeit\n",
        "sum_generator(coords)"
      ]
    },
    {
      "cell_type": "code",
      "execution_count": 4,
      "metadata": {
        "colab": {
          "base_uri": "https://localhost:8080/"
        },
        "id": "8nMQau84oQho",
        "outputId": "e786ca2e-5577-46ba-e5b0-3cec7a92a064"
      },
      "outputs": [
        {
          "name": "stdout",
          "output_type": "stream",
          "text": [
            "31.1 ms ± 430 μs per loop (mean ± std. dev. of 7 runs, 10 loops each)\n"
          ]
        }
      ],
      "source": [
        "%%timeit\n",
        "sum_list_comprehension(coords)"
      ]
    },
    {
      "cell_type": "markdown",
      "metadata": {},
      "source": [
        "If you just want to check the timeing for a single line, you can use the `%timeit` line magic. That's useful if you have some code that takes some time to run, but you don't want it affecting the `timeit` results. Compare the use of cell magic and line magic in the next two cells."
      ]
    },
    {
      "cell_type": "code",
      "execution_count": 30,
      "metadata": {},
      "outputs": [
        {
          "name": "stdout",
          "output_type": "stream",
          "text": [
            "1.05 s ± 1.19 ms per loop (mean ± std. dev. of 7 runs, 1 loop each)\n"
          ]
        }
      ],
      "source": [
        "%%timeit\n",
        "from time import sleep\n",
        "\n",
        "sleep(1)\n",
        "\n",
        "sum_list_comprehension(coords)"
      ]
    },
    {
      "cell_type": "code",
      "execution_count": 31,
      "metadata": {},
      "outputs": [
        {
          "name": "stdout",
          "output_type": "stream",
          "text": [
            "30.9 ms ± 134 μs per loop (mean ± std. dev. of 7 runs, 10 loops each)\n"
          ]
        }
      ],
      "source": [
        "from time import sleep\n",
        "\n",
        "sleep(1)\n",
        "\n",
        "%timeit sum_list_comprehension(coords)"
      ]
    },
    {
      "cell_type": "markdown",
      "metadata": {
        "id": "WC9MI7cXXlBA"
      },
      "source": [
        "### Profile with `cProfile`"
      ]
    },
    {
      "cell_type": "markdown",
      "metadata": {
        "id": "GMrkd59CAz9o"
      },
      "source": [
        "While `timeit` is a quick way to test speed, `cProfile` is useful as a comprehensive and holistic code profiler. Some perks of `cProfile`:\n",
        " - Compare which lines take longest to execute\n",
        " - See how often a function is executed\n",
        " - Sort profiling results by time\n",
        " - See the respective data the function interacts with\n",
        " - Print detailed reports with multiple statistics"
      ]
    },
    {
      "cell_type": "code",
      "execution_count": 9,
      "metadata": {
        "colab": {
          "base_uri": "https://localhost:8080/"
        },
        "id": "m5zpw36CIoqf",
        "outputId": "49d9b232-66b3-4971-9618-8f757a4e989a"
      },
      "outputs": [
        {
          "name": "stdout",
          "output_type": "stream",
          "text": [
            "         2000672 function calls (2000662 primitive calls) in 0.272 seconds\n",
            "\n",
            "   Ordered by: internal time\n",
            "\n",
            "   ncalls  tottime  percall  cumtime  percall filename:lineno(function)\n",
            "        1    0.136    0.136    0.232    0.232 {built-in method builtins.sum}\n",
            "  2000001    0.109    0.000    0.109    0.000 1708522561.py:3(<genexpr>)\n",
            "        2    0.006    0.003    0.010    0.005 socket.py:700(send_multipart)\n",
            "        2    0.005    0.003    0.016    0.008 iostream.py:276(<lambda>)\n",
            "        2    0.005    0.002    0.008    0.004 {method '__exit__' of 'sqlite3.Connection' objects}\n",
            "        3    0.004    0.001    0.031    0.010 base_events.py:1953(_run_once)\n",
            "       14    0.003    0.000    0.005    0.000 socket.py:623(send)\n",
            "        2    0.003    0.002    0.005    0.003 {method 'recv' of '_socket.socket' objects}\n",
            "      5/3    0.000    0.000    0.006    0.002 events.py:87(_run)\n",
            "        1    0.000    0.000    0.000    0.000 inspect.py:3120(_bind)\n",
            "        1    0.000    0.000    0.000    0.000 {method 'disable' of '_lsprof.Profiler' objects}\n",
            "       15    0.000    0.000    0.000    0.000 enum.py:1592(__or__)\n",
            "        1    0.000    0.000    0.000    0.000 traitlets.py:1527(_notify_observers)\n",
            "  143/139    0.000    0.000    0.000    0.000 {built-in method builtins.isinstance}\n",
            "        1    0.000    0.000    0.034    0.034 history.py:92(only_when_enabled)\n",
            "       66    0.000    0.000    0.000    0.000 enum.py:1585(_get_value)\n",
            "        5    0.000    0.000    0.000    0.000 attrsettr.py:66(_get_attr_opt)\n",
            "        5    0.000    0.000    0.000    0.000 attrsettr.py:43(__getattr__)\n",
            "        2    0.000    0.000    0.021    0.011 zmqstream.py:546(_run_callback)\n",
            "        1    0.000    0.000    0.005    0.005 kernelbase.py:302(poll_control_queue)\n",
            "        2    0.000    0.000    0.000    0.000 socket.py:771(recv_multipart)\n",
            "        5    0.000    0.000    0.000    0.000 <frozen importlib._bootstrap>:1390(_handle_fromlist)\n",
            "        1    0.000    0.000    0.034    0.034 history.py:1024(writeout_cache)\n",
            "       29    0.000    0.000    0.000    0.000 enum.py:695(__call__)\n",
            "        1    0.000    0.000    0.008    0.008 history.py:1008(_writeout_input_cache)\n",
            "       20    0.000    0.000    0.000    0.000 {built-in method builtins.len}\n",
            "        3    0.000    0.000    0.000    0.000 zmqstream.py:653(_rebuild_io_state)\n",
            "        3    0.000    0.000    0.000    0.000 queue.py:115(empty)\n",
            "      2/1    0.000    0.000    0.000    0.000 selectors.py:435(select)\n",
            "        2    0.000    0.000    0.022    0.011 zmqstream.py:573(_handle_events)\n",
            "        2    0.000    0.000    0.010    0.005 iostream.py:278(_really_send)\n",
            "      4/2    0.000    0.000    0.022    0.011 {method 'run' of '_contextvars.Context' objects}\n",
            "        3    0.000    0.000    0.000    0.000 events.py:36(__init__)\n",
            "        2    0.000    0.000    0.000    0.000 traitlets.py:727(_cross_validate)\n",
            "        1    0.000    0.000    0.000    0.000 {method 'send' of '_socket.socket' objects}\n",
            "        7    0.000    0.000    0.000    0.000 enum.py:1603(__and__)\n",
            "        1    0.000    0.000    0.000    0.000 inspect.py:2934(apply_defaults)\n",
            "        2    0.000    0.000    0.000    0.000 traitlets.py:3631(set)\n",
            "        1    0.000    0.000    0.232    0.232 1708522561.py:2(sum_generator)\n",
            "        1    0.000    0.000    0.000    0.000 asyncio.py:225(add_callback)\n",
            "        3    0.000    0.000    0.000    0.000 base_events.py:847(_call_soon)\n",
            "        1    0.000    0.000    0.005    0.005 selector_events.py:141(_write_to_self)\n",
            "        2    0.000    0.000    0.000    0.000 traitlets.py:689(set)\n",
            "        1    0.000    0.000    0.000    0.000 selector_events.py:129(_read_from_self)\n",
            "        2    0.000    0.000    0.000    0.000 queues.py:322(_consume_expired)\n",
            "        8    0.000    0.000    0.000    0.000 {method 'popleft' of 'collections.deque' objects}\n",
            "        1    0.000    0.000    0.005    0.005 _base.py:537(set_result)\n",
            "        1    0.000    0.000    0.000    0.000 queues.py:225(get)\n",
            "       29    0.000    0.000    0.000    0.000 enum.py:1152(__new__)\n",
            "       10    0.000    0.000    0.000    0.000 {built-in method builtins.hasattr}\n",
            "        1    0.000    0.000    0.000    0.000 queues.py:209(put_nowait)\n",
            "        6    0.000    0.000    0.000    0.000 typing.py:426(inner)\n",
            "        8    0.000    0.000    0.000    0.000 {built-in method builtins.next}\n",
            "        2    0.000    0.000    0.000    0.000 traitlets.py:718(_validate)\n",
            "        2    0.000    0.000    0.000    0.000 typing.py:1665(__subclasscheck__)\n",
            "        2    0.000    0.000    0.000    0.000 traitlets.py:3474(validate)\n",
            "        5    0.000    0.000    0.000    0.000 {method 'get' of 'dict' objects}\n",
            "        2    0.000    0.000    0.000    0.000 traitlets.py:3624(validate_elements)\n",
            "      2/1    0.000    0.000    0.000    0.000 {method 'poll' of 'select.epoll' objects}\n",
            "        3    0.000    0.000    0.000    0.000 zmqstream.py:676(_update_handler)\n",
            "        1    0.000    0.000    0.000    0.000 queues.py:186(put)\n",
            "        1    0.000    0.000    0.000    0.000 concurrent.py:182(future_set_result_unless_cancelled)\n",
            "        3    0.000    0.000    0.000    0.000 threading.py:303(__enter__)\n",
            "        1    0.000    0.000    0.000    0.000 traitlets.py:1512(_notify_trait)\n",
            "        1    0.000    0.000    0.000    0.000 inspect.py:2881(args)\n",
            "        2    0.000    0.000    0.021    0.011 zmqstream.py:614(_handle_recv)\n",
            "        1    0.000    0.000    0.000    0.000 {method 'execute' of 'sqlite3.Connection' objects}\n",
            "        2    0.000    0.000    0.016    0.008 iostream.py:157(_handle_event)\n",
            "        1    0.000    0.000    0.000    0.000 decorator.py:200(fix)\n",
            "        1    0.000    0.000    0.000    0.000 threading.py:315(_acquire_restore)\n",
            "        4    0.000    0.000    0.000    0.000 base_events.py:767(time)\n",
            "        1    0.000    0.000    0.000    0.000 queues.py:256(get_nowait)\n",
            "        4    0.000    0.000    0.000    0.000 traitlets.py:676(__get__)\n",
            "        3    0.000    0.000    0.000    0.000 selector_events.py:740(_process_events)\n",
            "        2    0.000    0.000    0.000    0.000 traitlets.py:708(__set__)\n",
            "        6    0.000    0.000    0.000    0.000 {built-in method builtins.getattr}\n",
            "        2    0.000    0.000    0.000    0.000 traitlets.py:2304(validate)\n",
            "        1    0.000    0.000    0.000    0.000 history.py:1016(_writeout_output_cache)\n",
            "        1    0.000    0.000    0.000    0.000 contextlib.py:136(__enter__)\n",
            "        1    0.000    0.000    0.232    0.232 <string>:1(<module>)\n",
            "        2    0.000    0.000    0.000    0.000 base_events.py:818(call_soon)\n",
            "        1    0.000    0.000    0.000    0.000 contextlib.py:303(helper)\n",
            "        1    0.000    0.000    0.000    0.000 threading.py:312(_release_save)\n",
            "        1    0.000    0.000    0.000    0.000 contextlib.py:145(__exit__)\n",
            "        1    0.000    0.000    0.005    0.005 futures.py:391(_call_set_state)\n",
            "        4    0.000    0.000    0.000    0.000 {built-in method time.monotonic}\n",
            "        3    0.000    0.000    0.000    0.000 threading.py:306(__exit__)\n",
            "        5    0.000    0.000    0.000    0.000 {method 'append' of 'list' objects}\n",
            "        2    0.000    0.000    0.000    0.000 {method 'set_result' of '_asyncio.Future' objects}\n",
            "        4    0.000    0.000    0.000    0.000 typing.py:1443(__hash__)\n",
            "        1    0.000    0.000    0.000    0.000 contextlib.py:108(__init__)\n",
            "        7    0.000    0.000    0.000    0.000 {method '__exit__' of '_thread.lock' objects}\n",
            "        5    0.000    0.000    0.000    0.000 {method 'upper' of 'str' objects}\n",
            "        1    0.000    0.000    0.005    0.005 base_events.py:871(call_soon_threadsafe)\n",
            "        1    0.000    0.000    0.005    0.005 _base.py:337(_invoke_callbacks)\n",
            "        1    0.000    0.000    0.000    0.000 traitlets.py:1523(notify_change)\n",
            "        2    0.000    0.000    0.000    0.000 {method 'extend' of 'list' objects}\n",
            "        2    0.000    0.000    0.000    0.000 iostream.py:213(_is_master_process)\n",
            "        4    0.000    0.000    0.000    0.000 traitlets.py:629(get)\n",
            "        1    0.000    0.000    0.000    0.000 threading.py:631(clear)\n",
            "        1    0.000    0.000    0.022    0.022 asyncio.py:200(_handle_events)\n",
            "        1    0.000    0.000    0.000    0.000 base_events.py:1938(_add_callback)\n",
            "        1    0.000    0.000    0.000    0.000 threading.py:398(notify)\n",
            "        2    0.000    0.000    0.000    0.000 {built-in method builtins.issubclass}\n",
            "        3    0.000    0.000    0.000    0.000 {method 'items' of 'mappingproxy' objects}\n",
            "        3    0.000    0.000    0.000    0.000 zmqstream.py:532(sending)\n",
            "        7    0.000    0.000    0.000    0.000 {method 'append' of 'collections.deque' objects}\n",
            "        1    0.000    0.000    0.000    0.000 inspect.py:2904(kwargs)\n",
            "        2    0.000    0.000    0.000    0.000 <frozen abc>:121(__subclasscheck__)\n",
            "        1    0.000    0.000    0.000    0.000 queues.py:317(__put_internal)\n",
            "        1    0.000    0.000    0.000    0.000 threading.py:428(notify_all)\n",
            "        2    0.000    0.000    0.000    0.000 traitlets.py:3486(validate_elements)\n",
            "        2    0.000    0.000    0.000    0.000 typing.py:1374(__instancecheck__)\n",
            "        1    0.000    0.000    0.000    0.000 inspect.py:3259(bind)\n",
            "        1    0.000    0.000    0.000    0.000 queues.py:312(_put)\n",
            "        3    0.000    0.000    0.000    0.000 {method 'acquire' of '_thread.lock' objects}\n",
            "        2    0.000    0.000    0.000    0.000 {built-in method _contextvars.copy_context}\n",
            "        3    0.000    0.000    0.000    0.000 queue.py:267(_qsize)\n",
            "        2    0.000    0.000    0.000    0.000 iostream.py:216(_check_mp_mode)\n",
            "        1    0.000    0.000    0.000    0.000 unix_events.py:83(_process_self_data)\n",
            "        1    0.000    0.000    0.000    0.000 {method 'values' of 'mappingproxy' objects}\n",
            "        1    0.000    0.000    0.000    0.000 ioloop.py:742(_run_callback)\n",
            "        2    0.000    0.000    0.000    0.000 {built-in method _abc._abc_subclasscheck}\n",
            "       20    0.000    0.000    0.000    0.000 typing.py:2367(cast)\n",
            "        1    0.000    0.000    0.000    0.000 {built-in method math.ceil}\n",
            "        2    0.000    0.000    0.000    0.000 {built-in method builtins.iter}\n",
            "        1    0.000    0.000    0.000    0.000 threading.py:318(_is_owned)\n",
            "        4    0.000    0.000    0.000    0.000 {built-in method builtins.hash}\n",
            "        2    0.000    0.000    0.000    0.000 {built-in method posix.getpid}\n",
            "        1    0.000    0.000    0.000    0.000 {method 'done' of '_asyncio.Future' objects}\n",
            "        1    0.000    0.000    0.000    0.000 queues.py:309(_get)\n",
            "        1    0.000    0.000    0.000    0.000 {method '__enter__' of '_thread.RLock' objects}\n",
            "        2    0.000    0.000    0.000    0.000 {method '__enter__' of '_thread.lock' objects}\n",
            "        5    0.000    0.000    0.000    0.000 zmqstream.py:528(receiving)\n",
            "        2    0.000    0.000    0.000    0.000 history.py:1065(hold)\n",
            "        1    0.000    0.000    0.000    0.000 queues.py:173(qsize)\n",
            "        2    0.000    0.000    0.000    0.000 {method 'cancelled' of '_asyncio.Future' objects}\n",
            "       10    0.000    0.000    0.000    0.000 inspect.py:2791(kind)\n",
            "        1    0.000    0.000    0.000    0.000 zmqstream.py:684(<lambda>)\n",
            "        4    0.000    0.000    0.000    0.000 inspect.py:2779(name)\n",
            "        1    0.000    0.000    0.000    0.000 {built-in method _thread.allocate_lock}\n",
            "        5    0.000    0.000    0.000    0.000 base_events.py:2051(get_debug)\n",
            "        1    0.000    0.000    0.000    0.000 {built-in method _asyncio.get_running_loop}\n",
            "        1    0.000    0.000    0.000    0.000 queues.py:177(empty)\n",
            "        1    0.000    0.000    0.000    0.000 {method 'release' of '_thread.lock' objects}\n",
            "        2    0.000    0.000    0.000    0.000 iostream.py:255(closed)\n",
            "        1    0.000    0.000    0.000    0.000 queues.py:59(_set_timeout)\n",
            "        3    0.000    0.000    0.000    0.000 base_events.py:549(_check_closed)\n",
            "        4    0.000    0.000    0.000    0.000 inspect.py:3074(parameters)\n",
            "        1    0.000    0.000    0.000    0.000 inspect.py:2873(__init__)\n",
            "        1    0.000    0.000    0.000    0.000 locks.py:224(clear)\n",
            "        1    0.000    0.000    0.000    0.000 {method '_is_owned' of '_thread.RLock' objects}\n",
            "        1    0.000    0.000    0.000    0.000 {method '__exit__' of '_thread.RLock' objects}\n",
            "        1    0.000    0.000    0.000    0.000 base_events.py:753(is_closed)\n",
            "\n",
            "\n"
          ]
        }
      ],
      "source": [
        "import cProfile\n",
        "\n",
        "cProfile.run('sum_generator(coords)', sort='tottime')"
      ]
    },
    {
      "cell_type": "code",
      "execution_count": 8,
      "metadata": {},
      "outputs": [
        {
          "name": "stdout",
          "output_type": "stream",
          "text": [
            "         387 function calls (378 primitive calls) in 0.041 seconds\n",
            "\n",
            "   Ordered by: internal time\n",
            "\n",
            "   ncalls  tottime  percall  cumtime  percall filename:lineno(function)\n",
            "        4    0.015    0.004    0.015    0.004 socket.py:623(send)\n",
            "        1    0.006    0.006    0.006    0.006 {built-in method builtins.sum}\n",
            "      2/1    0.005    0.003    0.026    0.026 history.py:92(only_when_enabled)\n",
            "        2    0.005    0.003    0.005    0.003 {method 'recv' of '_socket.socket' objects}\n",
            "        1    0.005    0.005    0.005    0.005 {method 'poll' of 'select.epoll' objects}\n",
            "        1    0.002    0.002    0.008    0.008 1708522561.py:5(sum_list_comprehension)\n",
            "      2/1    0.000    0.000    0.015    0.015 history.py:1008(_writeout_input_cache)\n",
            "      4/1    0.000    0.000    0.034    0.034 events.py:87(_run)\n",
            "        1    0.000    0.000    0.000    0.000 inspect.py:3120(_bind)\n",
            "        1    0.000    0.000    0.000    0.000 {method 'disable' of '_lsprof.Profiler' objects}\n",
            "        2    0.000    0.000    0.000    0.000 attrsettr.py:43(__getattr__)\n",
            "       24    0.000    0.000    0.000    0.000 enum.py:1585(_get_value)\n",
            "        1    0.000    0.000    0.005    0.005 base_events.py:1953(_run_once)\n",
            "        6    0.000    0.000    0.000    0.000 enum.py:1592(__or__)\n",
            "        2    0.000    0.000    0.000    0.000 attrsettr.py:66(_get_attr_opt)\n",
            "        2    0.000    0.000    0.000    0.000 <frozen importlib._bootstrap>:1390(_handle_fromlist)\n",
            "      3/1    0.000    0.000    0.034    0.034 {method 'run' of '_contextvars.Context' objects}\n",
            "        1    0.000    0.000    0.000    0.000 queues.py:209(put_nowait)\n",
            "       57    0.000    0.000    0.000    0.000 {built-in method builtins.isinstance}\n",
            "        1    0.000    0.000    0.000    0.000 kernelbase.py:302(poll_control_queue)\n",
            "        1    0.000    0.000    0.005    0.005 selector_events.py:129(_read_from_self)\n",
            "        1    0.000    0.000    0.005    0.005 selectors.py:435(select)\n",
            "        1    0.000    0.000    0.034    0.034 zmqstream.py:573(_handle_events)\n",
            "        1    0.000    0.000    0.000    0.000 zmqstream.py:653(_rebuild_io_state)\n",
            "       11    0.000    0.000    0.000    0.000 enum.py:695(__call__)\n",
            "        1    0.000    0.000    0.000    0.000 socket.py:771(recv_multipart)\n",
            "        1    0.000    0.000    0.000    0.000 traitlets.py:1527(_notify_observers)\n",
            "        6    0.000    0.000    0.000    0.000 {method 'popleft' of 'collections.deque' objects}\n",
            "        2    0.000    0.000    0.000    0.000 queues.py:322(_consume_expired)\n",
            "        1    0.000    0.000    0.000    0.000 inspect.py:2934(apply_defaults)\n",
            "      2/1    0.000    0.000    0.026    0.026 decorator.py:232(fun)\n",
            "        1    0.000    0.000    0.000    0.000 concurrent.py:182(future_set_result_unless_cancelled)\n",
            "        1    0.000    0.000    0.000    0.000 _base.py:537(set_result)\n",
            "        1    0.000    0.000    0.000    0.000 inspect.py:2881(args)\n",
            "        2    0.000    0.000    0.000    0.000 base_events.py:847(_call_soon)\n",
            "        1    0.000    0.000    0.000    0.000 queues.py:186(put)\n",
            "        1    0.000    0.000    0.000    0.000 queue.py:115(empty)\n",
            "      2/1    0.000    0.000    0.015    0.015 history.py:1024(writeout_cache)\n",
            "        1    0.000    0.000    0.000    0.000 queues.py:225(get)\n",
            "        1    0.000    0.000    0.008    0.008 <string>:1(<module>)\n",
            "        2    0.000    0.000    0.000    0.000 enum.py:1603(__and__)\n",
            "        8    0.000    0.000    0.000    0.000 {built-in method builtins.next}\n",
            "        2    0.000    0.000    0.000    0.000 events.py:36(__init__)\n",
            "        3    0.000    0.000    0.000    0.000 threading.py:303(__enter__)\n",
            "        1    0.000    0.000    0.000    0.000 zmqstream.py:676(_update_handler)\n",
            "        5    0.000    0.000    0.000    0.000 {method 'append' of 'list' objects}\n",
            "        1    0.000    0.000    0.000    0.000 {method 'execute' of 'sqlite3.Connection' objects}\n",
            "       11    0.000    0.000    0.000    0.000 enum.py:1152(__new__)\n",
            "        1    0.000    0.000    0.000    0.000 queue.py:267(_qsize)\n",
            "        1    0.000    0.000    0.000    0.000 threading.py:315(_acquire_restore)\n",
            "        2    0.000    0.000    0.000    0.000 traitlets.py:727(_cross_validate)\n",
            "        1    0.000    0.000    0.000    0.000 {method 'send' of '_socket.socket' objects}\n",
            "        2    0.000    0.000    0.000    0.000 base_events.py:767(time)\n",
            "        2    0.000    0.000    0.000    0.000 {method 'set_result' of '_asyncio.Future' objects}\n",
            "        4    0.000    0.000    0.000    0.000 traitlets.py:676(__get__)\n",
            "        1    0.000    0.000    0.000    0.000 queues.py:312(_put)\n",
            "        1    0.000    0.000    0.000    0.000 decorator.py:200(fix)\n",
            "        7    0.000    0.000    0.000    0.000 {built-in method builtins.hasattr}\n",
            "        3    0.000    0.000    0.000    0.000 typing.py:426(inner)\n",
            "        1    0.000    0.000    0.000    0.000 queues.py:256(get_nowait)\n",
            "       12    0.000    0.000    0.000    0.000 {built-in method builtins.len}\n",
            "        2    0.000    0.000    0.000    0.000 traitlets.py:3631(set)\n",
            "        5    0.000    0.000    0.000    0.000 {method 'get' of 'dict' objects}\n",
            "        3    0.000    0.000    0.000    0.000 threading.py:306(__exit__)\n",
            "        2    0.000    0.000    0.000    0.000 selector_events.py:740(_process_events)\n",
            "        1    0.000    0.000    0.000    0.000 contextlib.py:136(__enter__)\n",
            "        2    0.000    0.000    0.000    0.000 {method '__exit__' of 'sqlite3.Connection' objects}\n",
            "        1    0.000    0.000    0.000    0.000 inspect.py:2904(kwargs)\n",
            "        2    0.000    0.000    0.000    0.000 traitlets.py:689(set)\n",
            "        2    0.000    0.000    0.000    0.000 typing.py:1443(__hash__)\n",
            "        1    0.000    0.000    0.000    0.000 contextlib.py:303(helper)\n",
            "        2    0.000    0.000    0.000    0.000 traitlets.py:718(_validate)\n",
            "        1    0.000    0.000    0.000    0.000 futures.py:391(_call_set_state)\n",
            "        1    0.000    0.000    0.000    0.000 queues.py:317(__put_internal)\n",
            "        1    0.000    0.000    0.000    0.000 selector_events.py:141(_write_to_self)\n",
            "        1    0.000    0.000    0.000    0.000 base_events.py:818(call_soon)\n",
            "        1    0.000    0.000    0.000    0.000 iostream.py:213(_is_master_process)\n",
            "        1    0.000    0.000    0.008    0.008 {built-in method builtins.exec}\n",
            "        1    0.000    0.000    0.034    0.034 asyncio.py:200(_handle_events)\n",
            "        2    0.000    0.000    0.000    0.000 traitlets.py:3624(validate_elements)\n",
            "        1    0.000    0.000    0.000    0.000 traitlets.py:1512(_notify_trait)\n",
            "        4    0.000    0.000    0.000    0.000 traitlets.py:629(get)\n",
            "        2    0.000    0.000    0.000    0.000 traitlets.py:3474(validate)\n",
            "        6    0.000    0.000    0.000    0.000 {method 'append' of 'collections.deque' objects}\n",
            "        1    0.000    0.000    0.000    0.000 contextlib.py:108(__init__)\n",
            "        1    0.000    0.000    0.000    0.000 threading.py:631(clear)\n",
            "        1    0.000    0.000    0.000    0.000 threading.py:398(notify)\n",
            "        3    0.000    0.000    0.000    0.000 {built-in method builtins.getattr}\n",
            "        1    0.000    0.000    0.000    0.000 queues.py:309(_get)\n",
            "        1    0.000    0.000    0.000    0.000 threading.py:428(notify_all)\n",
            "        1    0.000    0.000    0.000    0.000 base_events.py:871(call_soon_threadsafe)\n",
            "        3    0.000    0.000    0.000    0.000 {method 'items' of 'mappingproxy' objects}\n",
            "        1    0.000    0.000    0.000    0.000 _base.py:337(_invoke_callbacks)\n",
            "        2    0.000    0.000    0.000    0.000 {method 'upper' of 'str' objects}\n",
            "        2    0.000    0.000    0.000    0.000 traitlets.py:708(__set__)\n",
            "        1    0.000    0.000    0.000    0.000 inspect.py:3259(bind)\n",
            "        1    0.000    0.000    0.000    0.000 zmqstream.py:532(sending)\n",
            "        2    0.000    0.000    0.000    0.000 traitlets.py:2304(validate)\n",
            "        1    0.000    0.000    0.000    0.000 unix_events.py:83(_process_self_data)\n",
            "        1    0.000    0.000    0.000    0.000 {method 'done' of '_asyncio.Future' objects}\n",
            "        5    0.000    0.000    0.000    0.000 {method '__exit__' of '_thread.lock' objects}\n",
            "        1    0.000    0.000    0.000    0.000 contextlib.py:145(__exit__)\n",
            "        1    0.000    0.000    0.000    0.000 history.py:1016(_writeout_output_cache)\n",
            "        1    0.000    0.000    0.000    0.000 threading.py:312(_release_save)\n",
            "        2    0.000    0.000    0.000    0.000 {method 'extend' of 'list' objects}\n",
            "        3    0.000    0.000    0.000    0.000 {method 'acquire' of '_thread.lock' objects}\n",
            "        1    0.000    0.000    0.000    0.000 traitlets.py:1523(notify_change)\n",
            "        1    0.000    0.000    0.000    0.000 base_events.py:1938(_add_callback)\n",
            "        1    0.000    0.000    0.000    0.000 {method 'values' of 'mappingproxy' objects}\n",
            "       10    0.000    0.000    0.000    0.000 inspect.py:2791(kind)\n",
            "        1    0.000    0.000    0.000    0.000 iostream.py:216(_check_mp_mode)\n",
            "        2    0.000    0.000    0.000    0.000 {built-in method time.monotonic}\n",
            "       19    0.000    0.000    0.000    0.000 typing.py:2367(cast)\n",
            "        2    0.000    0.000    0.000    0.000 {built-in method builtins.iter}\n",
            "        1    0.000    0.000    0.000    0.000 {method '__enter__' of '_thread.RLock' objects}\n",
            "        2    0.000    0.000    0.000    0.000 {built-in method builtins.hash}\n",
            "        2    0.000    0.000    0.000    0.000 {method 'cancelled' of '_asyncio.Future' objects}\n",
            "        2    0.000    0.000    0.000    0.000 {method '__enter__' of '_thread.lock' objects}\n",
            "        1    0.000    0.000    0.000    0.000 queues.py:173(qsize)\n",
            "        2    0.000    0.000    0.000    0.000 traitlets.py:3486(validate_elements)\n",
            "        1    0.000    0.000    0.000    0.000 {built-in method posix.getpid}\n",
            "        4    0.000    0.000    0.000    0.000 base_events.py:2051(get_debug)\n",
            "        1    0.000    0.000    0.000    0.000 {built-in method _contextvars.copy_context}\n",
            "        2    0.000    0.000    0.000    0.000 history.py:1065(hold)\n",
            "        1    0.000    0.000    0.000    0.000 queues.py:177(empty)\n",
            "        2    0.000    0.000    0.000    0.000 zmqstream.py:528(receiving)\n",
            "        4    0.000    0.000    0.000    0.000 inspect.py:3074(parameters)\n",
            "        1    0.000    0.000    0.000    0.000 threading.py:318(_is_owned)\n",
            "        2    0.000    0.000    0.000    0.000 base_events.py:549(_check_closed)\n",
            "        4    0.000    0.000    0.000    0.000 inspect.py:2779(name)\n",
            "        1    0.000    0.000    0.000    0.000 {built-in method _thread.allocate_lock}\n",
            "        1    0.000    0.000    0.000    0.000 locks.py:224(clear)\n",
            "        1    0.000    0.000    0.000    0.000 iostream.py:255(closed)\n",
            "        1    0.000    0.000    0.000    0.000 {method 'release' of '_thread.lock' objects}\n",
            "        1    0.000    0.000    0.000    0.000 {method '__exit__' of '_thread.RLock' objects}\n",
            "        1    0.000    0.000    0.000    0.000 {method '_is_owned' of '_thread.RLock' objects}\n",
            "        1    0.000    0.000    0.000    0.000 inspect.py:2873(__init__)\n",
            "        1    0.000    0.000    0.000    0.000 queues.py:59(_set_timeout)\n",
            "        1    0.000    0.000    0.000    0.000 base_events.py:753(is_closed)\n",
            "\n",
            "\n"
          ]
        }
      ],
      "source": [
        "cProfile.run('sum_list_comprehension(coords)', sort='tottime')"
      ]
    },
    {
      "cell_type": "markdown",
      "metadata": {
        "id": "3sUv2pKSZLI9"
      },
      "source": [
        "## Exercises"
      ]
    },
    {
      "cell_type": "markdown",
      "metadata": {
        "id": "Ykg1mVcYVZuC"
      },
      "source": [
        "### 1) Use tuples"
      ]
    },
    {
      "cell_type": "markdown",
      "metadata": {
        "id": "WUmh3e24Zer8"
      },
      "source": [
        "The code below creates a list containing all years in a research study timeframe, from 1900 to 2030.\n",
        "\n",
        "The values in this collection will not need to be changed because the study will always use this timeframe."
      ]
    },
    {
      "cell_type": "code",
      "execution_count": 11,
      "metadata": {
        "colab": {
          "base_uri": "https://localhost:8080/"
        },
        "id": "qG63J0nNZfSI",
        "outputId": "712eb0de-adbb-4e13-a7a1-cf9b731876cd"
      },
      "outputs": [
        {
          "name": "stdout",
          "output_type": "stream",
          "text": [
            "[1900, 1901, 1902, 1903, 1904, 1905, 1906, 1907, 1908, 1909, 1910, 1911, 1912, 1913, 1914, 1915, 1916, 1917, 1918, 1919, 1920, 1921, 1922, 1923, 1924, 1925, 1926, 1927, 1928, 1929, 1930, 1931, 1932, 1933, 1934, 1935, 1936, 1937, 1938, 1939, 1940, 1941, 1942, 1943, 1944, 1945, 1946, 1947, 1948, 1949, 1950, 1951, 1952, 1953, 1954, 1955, 1956, 1957, 1958, 1959, 1960, 1961, 1962, 1963, 1964, 1965, 1966, 1967, 1968, 1969, 1970, 1971, 1972, 1973, 1974, 1975, 1976, 1977, 1978, 1979, 1980, 1981, 1982, 1983, 1984, 1985, 1986, 1987, 1988, 1989, 1990, 1991, 1992, 1993, 1994, 1995, 1996, 1997, 1998, 1999, 2000, 2001, 2002, 2003, 2004, 2005, 2006, 2007, 2008, 2009, 2010, 2011, 2012, 2013, 2014, 2015, 2016, 2017, 2018, 2019, 2020, 2021, 2022, 2023, 2024, 2025, 2026, 2027, 2028, 2029, 2030]\n",
            "Bytes used:  1112\n"
          ]
        }
      ],
      "source": [
        "import sys\n",
        "\n",
        "def listFromRange(r1, r2):\n",
        "  \"\"\"Create a list from a range of values\"\"\"\n",
        "  return list(range(r1, r2+1))\n",
        "\n",
        "start = 1900\n",
        "end = 2030\n",
        "\n",
        "studyYears = listFromRange(start, end)\n",
        "\n",
        "print(studyYears)\n",
        "print(\"Bytes used: \", sys.getsizeof(studyYears))"
      ]
    },
    {
      "cell_type": "markdown",
      "metadata": {
        "id": "n9hddRDnfozQ"
      },
      "source": [
        "Write a different implementation using a storage option that takes up less memory."
      ]
    },
    {
      "cell_type": "code",
      "execution_count": null,
      "metadata": {
        "id": "0lYpXIl8cLHD"
      },
      "outputs": [],
      "source": []
    },
    {
      "cell_type": "markdown",
      "metadata": {
        "id": "rSm-NycOy052"
      },
      "source": [
        "## 2) Use sets"
      ]
    },
    {
      "cell_type": "markdown",
      "metadata": {
        "id": "LQaHbpuyFyQ-"
      },
      "source": [
        "The code below assigns a collection of placenames to a list. Then, it checks whether a placename is in the list. If not, the placename is reported missing.\n",
        "\n",
        "If you have 1 million placenames to look up and 6 names in the list, that’s up to 6 million checks."
      ]
    },
    {
      "cell_type": "code",
      "execution_count": 12,
      "metadata": {
        "id": "3vq81k2CEoRN"
      },
      "outputs": [],
      "source": [
        "placeNames_list = [\"Kinshasa\", \"Duluth\", \"Uruguay\", \"Doherty Residence\", \"Dinkytown\", \"Khazad-dum\"]\n",
        "\n",
        "# List look-up\n",
        "if \"Dinkytown\" not in placeNames_list:\n",
        "    print(\"Missing.\")  # O(n) look-up"
      ]
    },
    {
      "cell_type": "markdown",
      "metadata": {
        "id": "Uhr9kf53GY6h"
      },
      "source": [
        "Write a different implementation using a storage option that allows quicker checks for membership at scale."
      ]
    },
    {
      "cell_type": "code",
      "execution_count": null,
      "metadata": {
        "id": "RS-8xOt3Erps"
      },
      "outputs": [],
      "source": []
    },
    {
      "cell_type": "markdown",
      "metadata": {
        "id": "P8pkQyQE50aL"
      },
      "source": [
        "### 3) Use generators"
      ]
    },
    {
      "cell_type": "markdown",
      "metadata": {},
      "source": [
        "The code below uses a generator to create vertices for triangles from a random selection. It also defines a function for calculating the area of a polygon from its vertices."
      ]
    },
    {
      "cell_type": "code",
      "execution_count": null,
      "metadata": {},
      "outputs": [],
      "source": [
        "from itertools import cycle\n",
        "from random import choice\n",
        "\n",
        "def generate_triangles(num_triangles):\n",
        "    vertex_a_options = ((0, 0), (1, 1), (2, 2))\n",
        "    vertex_b_options = ((0, 10), (1, 11), (2, 12))\n",
        "    vertex_c_options = ((10, 0), (11, 1), (12, 2))\n",
        "\n",
        "    for _ in range(num_triangles):\n",
        "        vertex_a = choice(vertex_a_options)\n",
        "        vertex_b = choice(vertex_b_options)\n",
        "        vertex_c = choice(vertex_c_options)\n",
        "        yield (vertex_a, vertex_b, vertex_c)\n",
        "\n",
        "def calculate_area(vertices):\n",
        "    subtotals = []\n",
        "    vertex_cycle = cycle(vertices)\n",
        "    next(vertex_cycle)\n",
        "    for vertex in vertices:\n",
        "        x, y = vertex\n",
        "        nextx, nexty = next(vertex_cycle)\n",
        "        subtotal = x * nexty - y * nextx\n",
        "        subtotals.append(subtotal)\n",
        "    area = abs(sum(subtotals) / 2)\n",
        "    return area"
      ]
    },
    {
      "cell_type": "markdown",
      "metadata": {
        "id": "0OglO3ijPip1"
      },
      "source": [
        "The code below generates 1 million triangles. You want to find out the area of the largest triangle. The code below does this with a list comprehension."
      ]
    },
    {
      "cell_type": "code",
      "execution_count": 44,
      "metadata": {},
      "outputs": [
        {
          "data": {
            "text/plain": [
              "70.0"
            ]
          },
          "execution_count": 44,
          "metadata": {},
          "output_type": "execute_result"
        }
      ],
      "source": [
        "triangles = generate_triangles(1_000_000)\n",
        "max([calculate_area(triangle) for triangle in triangles])\n"
      ]
    },
    {
      "cell_type": "markdown",
      "metadata": {},
      "source": [
        "Rewrite the code above to use less memory. \n",
        "\n",
        "Hint: The easiest fix is to replace the list comprehension with a generator expression. Harder would be writing a generator using the `yield` statement"
      ]
    },
    {
      "cell_type": "code",
      "execution_count": null,
      "metadata": {},
      "outputs": [],
      "source": []
    },
    {
      "cell_type": "markdown",
      "metadata": {
        "id": "QkfkhHtBZLJN"
      },
      "source": [
        "### 4) Compare execution speed"
      ]
    },
    {
      "cell_type": "markdown",
      "metadata": {
        "id": "YBPP5scfZLJP"
      },
      "source": [
        "Using `timeit`, compare the execution time of the two versions of the maximum polygon area code.\n",
        "\n",
        "Hint: Think about whether you should use the `%%timeit` cell magic or the `%timeit` line magic."
      ]
    },
    {
      "cell_type": "markdown",
      "metadata": {
        "id": "SyY72o5RZLJS"
      },
      "source": [
        "### 5) Check memory usage"
      ]
    },
    {
      "cell_type": "markdown",
      "metadata": {
        "id": "cvkCZLEeZLJS"
      },
      "source": [
        "Using `tracemalloc`, compare the memory usage of the two versions of the two versions of the maximum polygon area code.\n",
        "\n",
        "Hint: Because the notebook keeps many variables in memory, you will want to restart the notebook kernel between running the cell to get a valid comparison."
      ]
    },
    {
      "cell_type": "markdown",
      "metadata": {
        "id": "JCqB6sAr6Tdo"
      },
      "source": [
        "\n",
        "\n",
        "---\n",
        "\n"
      ]
    }
  ],
  "metadata": {
    "colab": {
      "include_colab_link": true,
      "provenance": []
    },
    "kernelspec": {
      "display_name": ".venv",
      "language": "python",
      "name": "python3"
    },
    "language_info": {
      "codemirror_mode": {
        "name": "ipython",
        "version": 3
      },
      "file_extension": ".py",
      "mimetype": "text/x-python",
      "name": "python",
      "nbconvert_exporter": "python",
      "pygments_lexer": "ipython3",
      "version": "3.13.1"
    }
  },
  "nbformat": 4,
  "nbformat_minor": 0
}
