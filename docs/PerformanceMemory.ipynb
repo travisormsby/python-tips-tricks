{
  "cells": [
    {
      "cell_type": "markdown",
      "metadata": {
        "id": "view-in-github",
        "colab_type": "text"
      },
      "source": [
        "<a href=\"https://colab.research.google.com/github/travisormsby/python-tips-tricks/blob/main/docs/PerformanceMemory.ipynb\" target=\"_parent\"><img src=\"https://colab.research.google.com/assets/colab-badge.svg\" alt=\"Open In Colab\"/></a>"
      ]
    },
    {
      "cell_type": "markdown",
      "metadata": {
        "id": "e-_2hR6yZLIl"
      },
      "source": [
        "# Optimize Performance and Memory Use"
      ]
    },
    {
      "cell_type": "markdown",
      "metadata": {
        "id": "VogyfkL7ZLIq"
      },
      "source": [
        "When you begin to use Python regularly in your work, you'll start noticing bottlenecks in your code. Some workflows may run at lightning speed, while others take hours of processing time to complete, or even crash.\n",
        "\n",
        "Avoiding bloat is invaluable as you move toward using code for automation, bigger data, and working with APIs. Code efficiency means:\n",
        "- Less chance of a slowdown or crash: the dreaded MemoryError.\n",
        "- Quicker response time and fewer bottlenecks for the larger workflow.\n",
        "- Better scaling.\n",
        "- Efficient code is often (but not always!) cleaner and more readable.\n",
        "\n",
        "Let's look at some ways you can reduce bloat in your code."
      ]
    },
    {
      "cell_type": "markdown",
      "metadata": {
        "id": "v_P41638ZLIw"
      },
      "source": [
        "tl;dr\n",
        "<br>Access and store only what you need, no more.\n",
        "- __Storage__: avoid a list where you could use a tuple\n",
        "- __Membership look-up__: avoid a list (or tuple) where you could use a set (or dictionary)\n",
        "- __Iteration__: avoid a function (or list comprehension) where you could use a generator (or generator expression)\n",
        "- __Profile__: make time for performance checks by profiling your code for bottlenecks"
      ]
    },
    {
      "cell_type": "markdown",
      "metadata": {
        "heading_collapsed": true,
        "id": "Yu9yyeYPZLIx"
      },
      "source": [
        "## Storage: lists vs. tuples"
      ]
    },
    {
      "cell_type": "markdown",
      "metadata": {
        "hidden": true,
        "id": "IqMfe4DUZLIx"
      },
      "source": [
        "If you have a collection of values, your first thought may be to store them in a list."
      ]
    },
    {
      "cell_type": "code",
      "execution_count": null,
      "metadata": {
        "hidden": true,
        "id": "oVG7ozejZLIy"
      },
      "outputs": [],
      "source": [
        "data_list = [17999712, 2015, 'Hawkins Road', 'Linden ', 'NC', 28356]"
      ]
    },
    {
      "cell_type": "markdown",
      "metadata": {
        "hidden": true,
        "id": "vPGEfGsKZLIz"
      },
      "source": [
        "Lists are nice because they are very flexible. You can change the values in the list, including appending and removing values. But that flexibility comes at a cost. Lists are less efficient than tuples. For example, they use more memory."
      ]
    },
    {
      "cell_type": "code",
      "execution_count": null,
      "metadata": {
        "hidden": true,
        "id": "kzw4GFpYZLI1",
        "outputId": "b7c111b4-509f-4b3e-bc91-8d7c5a9ff0e4",
        "colab": {
          "base_uri": "https://localhost:8080/"
        }
      },
      "outputs": [
        {
          "output_type": "stream",
          "name": "stdout",
          "text": [
            "104\n",
            "88\n"
          ]
        }
      ],
      "source": [
        "import sys\n",
        "\n",
        "data_tuple = (17999712, 2015, 'Hawkins Road', 'Linden ', 'NC', 28356)\n",
        "\n",
        "print(sys.getsizeof(data_list))\n",
        "print(sys.getsizeof(data_tuple))"
      ]
    },
    {
      "cell_type": "markdown",
      "metadata": {
        "hidden": true,
        "id": "SncGVcIiZLI3"
      },
      "source": [
        "If you aren't going to be changing the values in a collection, use a tuple instead of a list."
      ]
    },
    {
      "cell_type": "markdown",
      "metadata": {
        "heading_collapsed": true,
        "id": "YdLJhldrZLI3"
      },
      "source": [
        "### Membership look-up: sequential vs. hashable"
      ]
    },
    {
      "cell_type": "markdown",
      "source": [
        "However, when you want to see if an element _already exists_ in a collection of elements, use a set or dictionary to store that collection if possible."
      ],
      "metadata": {
        "id": "x9vIWqKJESyn"
      }
    },
    {
      "cell_type": "markdown",
      "source": [
        "- List and tuple look-up is **sequential**, going at the speed of *O(n): linear time*.\n",
        "    - With lists, Python scans the entire list until it finds the match (or reaches the end).\n",
        "    - Worst case: it has to look at every element.\n",
        "- Set and dictionary look-up are **hashable**: mapping keys to values. These go at the speed of *O(1): constant time*.\n",
        "    - No matter how big the collection is, the set only ever has to check 1 value.\n",
        "    - Sets are built on hash tables. Python computes the hash of the element and jumps straight to where it should be stored."
      ],
      "metadata": {
        "id": "0VCAv3ZUxOXY"
      }
    },
    {
      "cell_type": "markdown",
      "metadata": {
        "hidden": true,
        "id": "oVdOgTk1ZLI4"
      },
      "source": [
        "The example below shows that a set is over 1000x faster than a list in calculating the first 10,000 values of [Recaman's sequence](https://oeis.org/search?q=recaman&language=english&go=Search)."
      ]
    },
    {
      "cell_type": "code",
      "execution_count": null,
      "metadata": {
        "hidden": true,
        "id": "WpTGEYfyZLI5"
      },
      "outputs": [],
      "source": [
        "def recaman_check(cur, i, visited):\n",
        "    return (cur - i) < 0 or (cur - i) in visited\n",
        "\n",
        "def recaman_list(n: int) -> list[int]:\n",
        "    \"\"\"\n",
        "    return a list of the first n numbers of the Recaman series\n",
        "    \"\"\"\n",
        "\n",
        "    visited_list = [0]\n",
        "    current = 0\n",
        "    for i in range(1, n):\n",
        "        if recaman_check(current, i, visited_list):\n",
        "            current += i\n",
        "        else:\n",
        "            current -= i\n",
        "        visited_list.append(current)\n",
        "    return visited_list"
      ]
    },
    {
      "cell_type": "code",
      "execution_count": null,
      "metadata": {
        "hidden": true,
        "id": "nZDnh3iWZLI6"
      },
      "outputs": [],
      "source": [
        "%%timeit\n",
        "recaman_list(10000)"
      ]
    },
    {
      "cell_type": "code",
      "execution_count": null,
      "metadata": {
        "hidden": true,
        "id": "vvLVZGkKZLI6"
      },
      "outputs": [],
      "source": [
        "def recaman_set(n: int) -> list[int]:\n",
        "    \"\"\"\n",
        "    return a set of the first n numbers of the Recaman series\n",
        "    \"\"\"\n",
        "    visited_set = {0}\n",
        "    current = 0\n",
        "    for i in range(1, 100_000):\n",
        "        if recaman_check(current, i, visited_set):\n",
        "            current += i\n",
        "        else:\n",
        "            current -= i\n",
        "        visited_set.add(current)\n",
        "    return visited_set"
      ]
    },
    {
      "cell_type": "code",
      "execution_count": null,
      "metadata": {
        "hidden": true,
        "id": "wFaIMHJlZLI7"
      },
      "outputs": [],
      "source": [
        "%%timeit\n",
        "recaman_set(10000)"
      ]
    },
    {
      "cell_type": "markdown",
      "source": [
        "When you add an element to a set...\n",
        "1. Python calls the element’s __hash__() method to get a hash value (an integer);\n",
        "1. That hash value determines where the element will be stored in the set's internal structure; and\n",
        "1. When checking if an element is in the set, Python uses the hash to quickly find it."
      ],
      "metadata": {
        "id": "cmwf-LTNLk2o"
      }
    },
    {
      "cell_type": "markdown",
      "metadata": {
        "heading_collapsed": true,
        "id": "da9ChQAwZLI7"
      },
      "source": [
        "## Iteration: functions vs. generators"
      ]
    },
    {
      "cell_type": "markdown",
      "source": [
        "We often use functions to operate on data, but generators can be more memory-efficient and faster for certain tasks."
      ],
      "metadata": {
        "id": "59BbxRiDuYVg"
      }
    },
    {
      "cell_type": "markdown",
      "metadata": {
        "hidden": true,
        "id": "AES7kqT2ZLI8"
      },
      "source": [
        "**Regular functions and comprehensions** typically store outputs into containers, like lists or dictionaries. This can take up unnecessary memory, especially when we're creating multi-step workflows with many intermediate outputs.\n",
        "\n",
        "In contrast, **generators** only hold one data item in memory at a time. A generator is a type of iterator that produces results on-demand (lazily), maintaining its state between iterations."
      ]
    },
    {
      "cell_type": "markdown",
      "source": [
        "Under the hood, a generator's syntax is similar to a function. Generally, you:\n",
        "- define a process(),\n",
        "- provide the logic, and\n",
        "- ask for the result, either with a return statement (for functions) or a yield statement (for generators)."
      ],
      "metadata": {
        "id": "8GIGiBI1Ea3p"
      }
    },
    {
      "cell_type": "markdown",
      "source": [
        "Imagine you have a large dataset containing millions of employee records. You want to calculate the combined hourly rates of all employees on an annual salary."
      ],
      "metadata": {
        "id": "td-sjAbZuk_2"
      }
    },
    {
      "cell_type": "code",
      "source": [
        "# For the sake of simplicity, we'll represent the dataset with a small sample.\n",
        "employeeDatabase = [\n",
        "  {'lastName': 'Knope', 'rate': 72000, 'pay_class': 'annual'},\n",
        "  {'lastName': 'Gergich', 'rate': 17, 'pay_class': 'hourly'},\n",
        "  {'lastName': 'Ludgate', 'rate': 60000, 'pay_class': 'annual'},\n",
        "  {'lastName': 'Swanson', 'rate': 'redacted', 'pay_class': 'redacted'},\n",
        "  {'lastName': 'Haverford', 'rate': 52000, 'pay_class': 'annual'}\n",
        "]"
      ],
      "metadata": {
        "id": "GDO3A1pWKpyl"
      },
      "execution_count": null,
      "outputs": []
    },
    {
      "cell_type": "markdown",
      "source": [
        "You can use a function for this, but it means the entire input dataset will be held in memory."
      ],
      "metadata": {
        "id": "KA88LP3UMn6a"
      }
    },
    {
      "cell_type": "code",
      "source": [
        "def hourly_rate(payments):\n",
        "  \"\"\"Function that returns each salaried workers' hourly rate.\"\"\"\n",
        "  hourlyRates = []\n",
        "  for worker in payments:\n",
        "    if worker.get('pay_class') == 'annual':\n",
        "      hourly = worker['rate'] / 2080\n",
        "      hourlyRates.append(hourly)\n",
        "  return hourlyRates\n",
        "\n",
        "# Sum hourly rates for those receiving an annual salary.\n",
        "salariesPerHour = sum(hourly_rate(employeeDatabase))\n",
        "\n",
        "print(f\"Total dispersments per hour for salaried employees: ${salariesPerHour:.2f}\")"
      ],
      "metadata": {
        "id": "vi6duXe_ujwK",
        "colab": {
          "base_uri": "https://localhost:8080/"
        },
        "outputId": "b3e09711-8b71-42f2-df94-e935cf6f0b8f"
      },
      "execution_count": null,
      "outputs": [
        {
          "output_type": "stream",
          "name": "stdout",
          "text": [
            "Total dispersments per hour for salaried employees: $88.46\n"
          ]
        }
      ]
    },
    {
      "cell_type": "markdown",
      "source": [
        "If the input dataset is huge, this eats up a ton of space. Instead, what if we process data lazily, storing one row in memory at a time?"
      ],
      "metadata": {
        "id": "w06e15kmuppV"
      }
    },
    {
      "cell_type": "code",
      "source": [
        "def hourly_rate_gen(payments):\n",
        "  \"\"\"Generator that yields each salaried worker's hourly rate.\"\"\"\n",
        "  for worker in payments:\n",
        "    if worker.get('pay_class') == 'annual':\n",
        "      hourly = worker['rate'] / 2080\n",
        "      yield hourly\n",
        "\n",
        "# Sum hourly rates for those receiving an annual salary.\n",
        "salariesPerHour = sum(hourly_rate_gen(employeeDatabase))\n",
        "\n",
        "print(f\"Total dispersments per hour for salaried employees: ${salariesPerHour:.2f}\")"
      ],
      "metadata": {
        "id": "chy2TtgYuzUr",
        "colab": {
          "base_uri": "https://localhost:8080/"
        },
        "outputId": "75a1450b-cd27-45dc-f228-902956f4a1c2"
      },
      "execution_count": null,
      "outputs": [
        {
          "output_type": "stream",
          "name": "stdout",
          "text": [
            "Total dispersments per hour for salaried employees: $88.46\n"
          ]
        }
      ]
    },
    {
      "cell_type": "markdown",
      "source": [
        "In a function, the return statement signals that the function can execute from start to finish.\n",
        "- Every output that a function produces is *held in memory at the same time*.\n",
        "\n",
        "In a generator, the yield statement signals that execution can proceed *one at a time*; when yield is executed, the generator pauses, retaining the generator's state until the next time it is called.\n",
        "- Each output that a generator produces can be yielded, *then discarded* before the next output is yielded.\n",
        "- A generator also makes it easier to stream input data: Each input (such as a row in a CSV) can be yielded, *then discarded* before the next input is yielded.\n",
        "\n",
        "Note: **Generator pipelines** are a powerful tool for GIS and remote sensing. Use multiple generators to string tasks together lazily. These are hugely helpful for complex spatial analysis workflows, such as raster processing."
      ],
      "metadata": {
        "id": "xTMEqiH9Ey7k"
      }
    },
    {
      "cell_type": "markdown",
      "source": [
        "### Iteration, continued: List comprehension vs. generator expression"
      ],
      "metadata": {
        "id": "_pGJfpCV7jhM"
      }
    },
    {
      "cell_type": "markdown",
      "source": [
        "Generator expressions (aka generator comprehensions) are concise, one-line generators. Generator expressions can be a handy replacement for list comprehensions."
      ],
      "metadata": {
        "id": "uOLOSXSr7tkY"
      }
    },
    {
      "cell_type": "markdown",
      "source": [
        "Let's look at how the analysis above would appear in list comprehension format."
      ],
      "metadata": {
        "id": "D5m6C64A79gY"
      }
    },
    {
      "cell_type": "code",
      "source": [
        "hourly = [worker['rate'] / 2080 for worker in employeeDatabase if worker.get('pay_class') == 'annual']\n",
        "salariesPerHour = sum(hourly)\n",
        "\n",
        "print(f\"${salariesPerHour:.2f}\")"
      ],
      "metadata": {
        "id": "Gl7HPqkj8Irs",
        "colab": {
          "base_uri": "https://localhost:8080/"
        },
        "outputId": "54c85997-6449-4673-c202-46caa24e7e37"
      },
      "execution_count": null,
      "outputs": [
        {
          "output_type": "stream",
          "name": "stdout",
          "text": [
            "$88.46\n"
          ]
        }
      ]
    },
    {
      "cell_type": "markdown",
      "source": [
        "As with the function, the list comprehension constructs a list of n values. Then, we use sum() to add all values in the list together.\n",
        "\n",
        "A generator expression looks almost identical to a list comprehension: simply swap out square brackets with parentheses.\n",
        "\n",
        "*Here's a fun tip: When a generator expression is the only argument in a function (in this case, sum()), you can drop the inner parentheses.*"
      ],
      "metadata": {
        "id": "QvQfm_l7xhbH"
      }
    },
    {
      "cell_type": "code",
      "source": [
        "hourly = (worker['rate'] / 2080 for worker in employeeDatabase if worker.get('pay_class') == 'annual')\n",
        "salariesPerHour = sum(hourly)\n",
        "\n",
        "print(f\"${salariesPerHour:.2f}\")"
      ],
      "metadata": {
        "id": "XgcJrFNF8KoF",
        "colab": {
          "base_uri": "https://localhost:8080/"
        },
        "outputId": "1f26f1e9-8dda-47e7-f468-7307d42d501c"
      },
      "execution_count": null,
      "outputs": [
        {
          "output_type": "stream",
          "name": "stdout",
          "text": [
            "$88.46\n"
          ]
        }
      ]
    },
    {
      "cell_type": "markdown",
      "metadata": {
        "id": "1HhMLyvGZLI8"
      },
      "source": [
        "## Profiling: finding bottlenecks"
      ]
    },
    {
      "cell_type": "markdown",
      "metadata": {
        "id": "4vwEgO0TZLI8"
      },
      "source": [
        "Profiling is any technique used to measure the performance of your code, in particular its speed. There are dozens of tools available for profiling. We'll use a few to:\n",
        "1. **Check memory use:** Use `sys.getsizeof()` to check the memory size of variables.\n",
        "1. **Spot-profile your code:** Use the `timeit` notebook magic to perform some basic profiling by cell or by line.\n",
        "1. **Profile your script comprehensively:** The `cProfile` module has the ability to break down call by call to determine the number of calls and the total time spent on each."
      ]
    },
    {
      "cell_type": "markdown",
      "source": [
        "### Check memory use with `getsizeof()`"
      ],
      "metadata": {
        "id": "v3FpT1i-4CVk"
      }
    },
    {
      "cell_type": "markdown",
      "source": [
        "Use this tool to quickly check how much memory a variable is taking up on your system."
      ],
      "metadata": {
        "id": "Hxb9i6zQ4Lta"
      }
    },
    {
      "cell_type": "code",
      "source": [
        "import sys\n",
        "\n",
        "tract1 = {\n",
        "    \"area\": 100,\n",
        "    \"area_water\": 20,\n",
        "    \"population\": 1000\n",
        "}\n",
        "\n",
        "print(f\"Bytes: {sys.getsizeof(tract1)}\")"
      ],
      "metadata": {
        "colab": {
          "base_uri": "https://localhost:8080/"
        },
        "id": "6vdqysmf4WRb",
        "outputId": "c9235382-7972-4294-985b-a797599c4a73"
      },
      "execution_count": null,
      "outputs": [
        {
          "output_type": "stream",
          "name": "stdout",
          "text": [
            "Bytes: 184\n"
          ]
        }
      ]
    },
    {
      "cell_type": "code",
      "source": [
        "print(f\"Bytes: {sys.getsizeof(recaman_list(1000))}\")\n",
        "print(f\"Bytes: {sys.getsizeof(recaman_set(1000))}\")"
      ],
      "metadata": {
        "colab": {
          "base_uri": "https://localhost:8080/"
        },
        "id": "RoQzuBLA7yfO",
        "outputId": "4c54ffb1-578e-4fb9-9519-6aa184ebec81"
      },
      "execution_count": null,
      "outputs": [
        {
          "output_type": "stream",
          "name": "stdout",
          "text": [
            "Bytes: 8856\n",
            "Bytes: 2097368\n"
          ]
        }
      ]
    },
    {
      "cell_type": "markdown",
      "source": [
        "\"You said sets were better than lists!\"\n",
        "\n",
        "Remember, sets are preferred over lists for membership lookup because they are faster, not slimmer.\n",
        "- If you care more about *output size*, make a list; it takes up less memory.\n",
        "- If you care more about *task speed*, make a set."
      ],
      "metadata": {
        "id": "nMFWNsLD9s5w"
      }
    },
    {
      "cell_type": "markdown",
      "source": [
        "### Spot-check speed with `%%timeit`"
      ],
      "metadata": {
        "id": "FbgVHcXAXg2T"
      }
    },
    {
      "cell_type": "markdown",
      "source": [
        "The `timeit` module measures the execution time of a selection of code. Among the many ways you'll see it written are \"magic\" commands:\n",
        "- `%timeit` is a form of _line magic_. Line magic arguments only extend to the end of the current line.\n",
        "- `%%timeit` is a form of _cell magic_. It measures the execution time of the entire notebook cell.\n",
        "\n",
        "With both of these commands, the notebook will test your code multiple times and print the average speed of those calls."
      ],
      "metadata": {
        "id": "oGY2BHZ0BqGu"
      }
    },
    {
      "cell_type": "code",
      "source": [
        "%%timeit\n",
        "# Cell magic example\n",
        "from typing import NamedTuple\n",
        "\n",
        "class Tract(NamedTuple):\n",
        "    population: int\n",
        "    households: int\n",
        "\n",
        "tract1 = Tract(1000, 500)\n",
        "tract2 = Tract(2000, 800)\n",
        "tract3 = Tract(5000, 3000)\n",
        "\n",
        "tract1.households"
      ],
      "metadata": {
        "colab": {
          "base_uri": "https://localhost:8080/"
        },
        "id": "zIfZwYVtCDdG",
        "outputId": "95fea7ca-3ff6-4eb0-c735-8afdf64aaff8"
      },
      "execution_count": null,
      "outputs": [
        {
          "output_type": "stream",
          "name": "stdout",
          "text": [
            "117 µs ± 22.1 µs per loop (mean ± std. dev. of 7 runs, 10000 loops each)\n"
          ]
        }
      ]
    },
    {
      "cell_type": "code",
      "source": [
        "# Line magic example\n",
        "%timeit sum(hourly_rate(employeeDatabase))\n",
        "%timeit sum(hourly_rate_gen(employeeDatabase))"
      ],
      "metadata": {
        "colab": {
          "base_uri": "https://localhost:8080/"
        },
        "id": "8nMQau84oQho",
        "outputId": "7202fe08-cbe5-46ce-c1e3-a356ec09dad6"
      },
      "execution_count": null,
      "outputs": [
        {
          "output_type": "stream",
          "name": "stdout",
          "text": [
            "3.56 µs ± 118 ns per loop (mean ± std. dev. of 7 runs, 100000 loops each)\n",
            "5.34 µs ± 1.38 µs per loop (mean ± std. dev. of 7 runs, 100000 loops each)\n"
          ]
        }
      ]
    },
    {
      "cell_type": "markdown",
      "source": [
        "\"Wait! You said the generator would be faster!\"\n",
        "\n",
        "With small datasets (like this sample), a function might be slightly, negligibly faster than a generator. Increase the input size by 10x, 100x, or 100000x to see the generator outpace its competitors."
      ],
      "metadata": {
        "id": "preWxyj8AGWf"
      }
    },
    {
      "cell_type": "markdown",
      "source": [
        "`timeit` tip: Optionally, you can limit the number of calls and repetitions with:\n",
        "- -n (number of times to execute the main statement) and\n",
        "- -r (number of times to repeat the timer)."
      ],
      "metadata": {
        "id": "aSCVbkSc5vd1"
      }
    },
    {
      "cell_type": "code",
      "source": [
        "%timeit -n 1 -r 5 sum(hourly_rate_gen(employeeDatabase))"
      ],
      "metadata": {
        "colab": {
          "base_uri": "https://localhost:8080/"
        },
        "id": "gQw83pVuCcyU",
        "outputId": "433ffea8-12d1-433a-920e-876b7df1fa7f"
      },
      "execution_count": null,
      "outputs": [
        {
          "output_type": "stream",
          "name": "stdout",
          "text": [
            "The slowest run took 8.05 times longer than the fastest. This could mean that an intermediate result is being cached.\n",
            "3.08 µs ± 2.65 µs per loop (mean ± std. dev. of 5 runs, 1 loop each)\n"
          ]
        }
      ]
    },
    {
      "cell_type": "markdown",
      "source": [
        "### Profile with `cProfile`"
      ],
      "metadata": {
        "id": "WC9MI7cXXlBA"
      }
    },
    {
      "cell_type": "markdown",
      "source": [
        "Whereas `timeit` is a quick way to test speed, `cProfile` is useful as a comprehensive and holistic code profiler. Some perks of `cProfile`:\n",
        " - Compare which lines take longest to execute\n",
        " - See how often a function is executed\n",
        " - Sort profiling results by time\n",
        " - See the respective data the function interacts with\n",
        " - Print detailed reports with multiple statistics"
      ],
      "metadata": {
        "id": "GMrkd59CAz9o"
      }
    },
    {
      "cell_type": "markdown",
      "source": [
        "Let's take a look:"
      ],
      "metadata": {
        "id": "UQCg-9YGHYSm"
      }
    },
    {
      "cell_type": "code",
      "source": [
        "import cProfile\n",
        "\n",
        "cProfile.run('recaman_list(10000)')"
      ],
      "metadata": {
        "colab": {
          "base_uri": "https://localhost:8080/"
        },
        "id": "m5zpw36CIoqf",
        "outputId": "fb748a75-7db0-4331-fd18-d816b3d84333"
      },
      "execution_count": null,
      "outputs": [
        {
          "output_type": "stream",
          "name": "stdout",
          "text": [
            "         20002 function calls in 0.383 seconds\n",
            "\n",
            "   Ordered by: standard name\n",
            "\n",
            "   ncalls  tottime  percall  cumtime  percall filename:lineno(function)\n",
            "     9999    0.371    0.000    0.371    0.000 <ipython-input-61-1cfc8d8a116c>:1(recaman_check)\n",
            "        1    0.011    0.011    0.383    0.383 <ipython-input-61-1cfc8d8a116c>:4(recaman_list)\n",
            "        1    0.000    0.000    0.383    0.383 <string>:1(<module>)\n",
            "        1    0.000    0.000    0.383    0.383 {built-in method builtins.exec}\n",
            "     9999    0.001    0.000    0.001    0.000 {method 'append' of 'list' objects}\n",
            "        1    0.000    0.000    0.000    0.000 {method 'disable' of '_lsprof.Profiler' objects}\n",
            "\n",
            "\n"
          ]
        }
      ]
    },
    {
      "cell_type": "markdown",
      "source": [
        "Some of the most useful outputs from a `cProfile` statement:\n",
        "- Above the table, you are given the number of function calls and how long the code took overall.\n",
        "- cumtime: The cumulative time it took to call a given function, including all of its subfunctions.\n",
        "- filename: The data that the function interacted with"
      ],
      "metadata": {
        "id": "TNPCWCHHLl0Y"
      }
    },
    {
      "cell_type": "code",
      "source": [
        "cProfile.run('recaman_set(10000)')"
      ],
      "metadata": {
        "colab": {
          "base_uri": "https://localhost:8080/"
        },
        "id": "4pJC0ntgLgIS",
        "outputId": "bae3a062-1ec3-4cfe-d936-c26dda2c2873"
      },
      "execution_count": null,
      "outputs": [
        {
          "output_type": "stream",
          "name": "stdout",
          "text": [
            "         200002 function calls in 0.102 seconds\n",
            "\n",
            "   Ordered by: standard name\n",
            "\n",
            "   ncalls  tottime  percall  cumtime  percall filename:lineno(function)\n",
            "    99999    0.028    0.000    0.028    0.000 <ipython-input-61-1cfc8d8a116c>:1(recaman_check)\n",
            "        1    0.059    0.059    0.101    0.101 <ipython-input-63-f612dc588057>:1(recaman_set)\n",
            "        1    0.002    0.002    0.102    0.102 <string>:1(<module>)\n",
            "        1    0.000    0.000    0.102    0.102 {built-in method builtins.exec}\n",
            "    99999    0.014    0.000    0.014    0.000 {method 'add' of 'set' objects}\n",
            "        1    0.000    0.000    0.000    0.000 {method 'disable' of '_lsprof.Profiler' objects}\n",
            "\n",
            "\n"
          ]
        }
      ]
    },
    {
      "cell_type": "markdown",
      "source": [
        "These results show that the set-based function executed 10x more calls (200002), but ran 4x faster (0.086 seconds)."
      ],
      "metadata": {
        "id": "jx9-hUgzIqEw"
      }
    },
    {
      "cell_type": "markdown",
      "source": [
        "`cProfile` tip: Use cProfile.Profile() as a context manager!"
      ],
      "metadata": {
        "id": "ZaMcAWZ7IjXV"
      }
    },
    {
      "cell_type": "code",
      "source": [
        "import cProfile\n",
        "\n",
        "with cProfile.Profile() as pr:\n",
        "  def recaman_check(cur, i, visited):\n",
        "    return (cur - i) < 0 or (cur - i) in visited\n",
        "\n",
        "  def recaman_set(n: int) -> list[int]:\n",
        "      \"\"\"\n",
        "      return a set of the first n numbers of the Recaman series\n",
        "      \"\"\"\n",
        "      visited_set = {0}\n",
        "      current = 0\n",
        "      for i in range(1, 100_000):\n",
        "          if recaman_check(current, i, visited_set):\n",
        "              current += i\n",
        "          else:\n",
        "              current -= i\n",
        "          visited_set.add(current)\n",
        "      return visited_set\n",
        "\n",
        "  recaman_set(1000)\n",
        "\n",
        "  pr.print_stats('line') # Order by line number."
      ],
      "metadata": {
        "colab": {
          "base_uri": "https://localhost:8080/"
        },
        "id": "czyKgWRXHZ-_",
        "outputId": "fe1f462b-db0b-46e7-89c7-84ba436b2194"
      },
      "execution_count": 7,
      "outputs": [
        {
          "output_type": "stream",
          "name": "stdout",
          "text": [
            "         200008 function calls in 0.090 seconds\n",
            "\n",
            "   Ordered by: line number\n",
            "\n",
            "   ncalls  tottime  percall  cumtime  percall filename:lineno(function)\n",
            "    99999    0.012    0.000    0.012    0.000 {method 'add' of 'set' objects}\n",
            "        1    0.000    0.000    0.000    0.000 {built-in method builtins.hasattr}\n",
            "        1    0.000    0.000    0.000    0.000 {built-in method builtins.isinstance}\n",
            "        1    0.000    0.000    0.000    0.000 {built-in method builtins.len}\n",
            "        1    0.000    0.000    0.000    0.000 {method 'disable' of '_lsprof.Profiler' objects}\n",
            "    99999    0.025    0.000    0.025    0.000 <ipython-input-7-b276f05b123d>:4(recaman_check)\n",
            "        1    0.053    0.053    0.090    0.090 <ipython-input-7-b276f05b123d>:7(recaman_set)\n",
            "        1    0.000    0.000    0.000    0.000 cProfile.py:41(print_stats)\n",
            "        1    0.000    0.000    0.000    0.000 cProfile.py:51(create_stats)\n",
            "        1    0.000    0.000    0.000    0.000 pstats.py:108(__init__)\n",
            "        1    0.000    0.000    0.000    0.000 pstats.py:118(init)\n",
            "        1    0.000    0.000    0.000    0.000 pstats.py:137(load_stats)\n",
            "\n",
            "\n"
          ]
        }
      ]
    },
    {
      "cell_type": "markdown",
      "metadata": {
        "id": "_OWtmmQ5ZLI9"
      },
      "source": [
        "---"
      ]
    },
    {
      "cell_type": "markdown",
      "metadata": {
        "id": "3sUv2pKSZLI9"
      },
      "source": [
        "# Exercises"
      ]
    },
    {
      "cell_type": "markdown",
      "metadata": {
        "id": "pV96G_TkZLI-"
      },
      "source": [
        "__Exercises summary__\n",
        "1. Replace lists with efficient alternatives\n",
        "    1. Storage: List to tuple\n",
        "    1. Look-up: List to set\n",
        "1. Replace iterables with efficient alternatives\n",
        "    1. Iteration: List comprehension to generator expression\n",
        "    1. Iteration: Function to generator\n",
        "1. Check for speed bottlenecks\n",
        "    1. Compare differences in speed with `timeit`\n",
        "    1. Check for speed bottlenecks in detail with `cProfile`"
      ]
    },
    {
      "cell_type": "markdown",
      "metadata": {
        "id": "8D-B-eEmZLI_"
      },
      "source": [
        "## 1) Replace lists with efficient alternatives"
      ]
    },
    {
      "cell_type": "markdown",
      "source": [
        "### 1a) Tuple-based storage"
      ],
      "metadata": {
        "id": "Ykg1mVcYVZuC"
      }
    },
    {
      "cell_type": "markdown",
      "source": [
        "The code below creates a list containing all years in a research study timeframe, from 1900 to 2030.\n",
        "\n",
        "The values in this collection will not need to be changed because the study will always use this timeframe."
      ],
      "metadata": {
        "id": "WUmh3e24Zer8"
      }
    },
    {
      "cell_type": "code",
      "source": [
        "import sys\n",
        "\n",
        "def listFromRange(r1, r2):\n",
        "  \"\"\"Create a list from a range of values\"\"\"\n",
        "  return [item for item in range(r1, r2+1)]\n",
        "\n",
        "start = 1900\n",
        "end = 2030\n",
        "\n",
        "studyYears = listFromRange(start, end)\n",
        "\n",
        "print(studyYears)\n",
        "print(\"Bytes used: \", sys.getsizeof(studyYears))"
      ],
      "metadata": {
        "id": "qG63J0nNZfSI",
        "outputId": "712eb0de-adbb-4e13-a7a1-cf9b731876cd",
        "colab": {
          "base_uri": "https://localhost:8080/"
        }
      },
      "execution_count": null,
      "outputs": [
        {
          "output_type": "stream",
          "name": "stdout",
          "text": [
            "[range(1900, 2031)]\n",
            "Bytes used:  64\n"
          ]
        }
      ]
    },
    {
      "cell_type": "markdown",
      "source": [
        "**Your turn:** For the same timeframe, write a different implementation using a storage option that takes up less memory."
      ],
      "metadata": {
        "id": "n9hddRDnfozQ"
      }
    },
    {
      "cell_type": "code",
      "source": [
        "# # # Exercise solution # # #\n",
        "\n",
        "def tupleFromRange(r1, r2):\n",
        "  \"\"\"Create a tuple from a range of values\"\"\"\n",
        "  return tuple(range(r1, r2+1))\n",
        "\n",
        "start = 1900\n",
        "end = 2030\n",
        "\n",
        "studyYears = tupleFromRange(start, end)\n",
        "\n",
        "print(studyYears)\n",
        "print(\"Bytes used: \", sys.getsizeof(studyYears))"
      ],
      "metadata": {
        "id": "0lYpXIl8cLHD",
        "outputId": "a2ec159c-1dee-49fc-8a39-cffde9915577",
        "colab": {
          "base_uri": "https://localhost:8080/"
        }
      },
      "execution_count": null,
      "outputs": [
        {
          "output_type": "stream",
          "name": "stdout",
          "text": [
            "(1900, 1901, 1902, 1903, 1904, 1905, 1906, 1907, 1908, 1909, 1910, 1911, 1912, 1913, 1914, 1915, 1916, 1917, 1918, 1919, 1920, 1921, 1922, 1923, 1924, 1925, 1926, 1927, 1928, 1929, 1930, 1931, 1932, 1933, 1934, 1935, 1936, 1937, 1938, 1939, 1940, 1941, 1942, 1943, 1944, 1945, 1946, 1947, 1948, 1949, 1950, 1951, 1952, 1953, 1954, 1955, 1956, 1957, 1958, 1959, 1960, 1961, 1962, 1963, 1964, 1965, 1966, 1967, 1968, 1969, 1970, 1971, 1972, 1973, 1974, 1975, 1976, 1977, 1978, 1979, 1980, 1981, 1982, 1983, 1984, 1985, 1986, 1987, 1988, 1989, 1990, 1991, 1992, 1993, 1994, 1995, 1996, 1997, 1998, 1999, 2000, 2001, 2002, 2003, 2004, 2005, 2006, 2007, 2008, 2009, 2010, 2011, 2012, 2013, 2014, 2015, 2016, 2017, 2018, 2019, 2020, 2021, 2022, 2023, 2024, 2025, 2026, 2027, 2028, 2029, 2030)\n",
            "Bytes used:  1088\n"
          ]
        }
      ]
    },
    {
      "cell_type": "markdown",
      "source": [
        "### 1b) Set-based look-up"
      ],
      "metadata": {
        "id": "rSm-NycOy052"
      }
    },
    {
      "cell_type": "markdown",
      "source": [
        "The code below assigns a collection of placenames to a list. Then, it checks whether a placename is in the list. If not, the placename is reported missing.\n",
        "\n",
        "If you have 1 million placenames to look up and 6 names in the list, that’s up to 6 million checks."
      ],
      "metadata": {
        "id": "LQaHbpuyFyQ-"
      }
    },
    {
      "cell_type": "code",
      "source": [
        "placeNames_list = [\"Kinshasa\", \"Duluth\", \"Uruguay\", \"Doherty Residence\", \"Dinkytown\", \"Khazad-dum\"]\n",
        "\n",
        "# List look-up\n",
        "if \"Dinkytown\" not in placeNames_list:\n",
        "    print(\"Missing.\")  # O(n) look-up"
      ],
      "metadata": {
        "id": "3vq81k2CEoRN"
      },
      "execution_count": null,
      "outputs": []
    },
    {
      "cell_type": "markdown",
      "source": [
        "**Your turn:** Write a different implementation using a storage option that allows quicker checks for membership at scale."
      ],
      "metadata": {
        "id": "Uhr9kf53GY6h"
      }
    },
    {
      "cell_type": "code",
      "source": [
        "# # # Exercise solution # # #\n",
        "\n",
        "placeNames_set = set(placeNames_list)\n",
        "\n",
        "# Set look-up\n",
        "if \"Dinkytown\" not in placeNames_set:\n",
        "    print(\"Missing.\")  # O(1) look-up"
      ],
      "metadata": {
        "id": "RS-8xOt3Erps"
      },
      "execution_count": null,
      "outputs": []
    },
    {
      "cell_type": "markdown",
      "source": [
        "## 2) Replace iterables with efficient alternatives"
      ],
      "metadata": {
        "id": "rfYFgIiJW1yA"
      }
    },
    {
      "cell_type": "markdown",
      "source": [
        "### 2a) Generator expression"
      ],
      "metadata": {
        "id": "P8pkQyQE50aL"
      }
    },
    {
      "cell_type": "markdown",
      "source": [
        "You have a list of random strings which contain a combination of upper and lowercase letters. You have written a list comprehension, lowerCase, to rewrite all of these strings into lowercase."
      ],
      "metadata": {
        "id": "0OglO3ijPip1"
      }
    },
    {
      "cell_type": "code",
      "source": [
        "import random\n",
        "import string\n",
        "\n",
        "# Input dataset: A list of random strings. Each string is 8 letters long.\n",
        "randomStrings = [''.join(random.choices(string.ascii_letters, k=8)) for i in range(50)]\n",
        "print(randomStrings)\n",
        "\n",
        "# Convert all strings to lowercase\n",
        "lowerCase = [x.lower() for x in randomStrings]\n",
        "print(lowerCase)"
      ],
      "metadata": {
        "colab": {
          "base_uri": "https://localhost:8080/"
        },
        "id": "7E-ROg2-QozD",
        "outputId": "d6be730b-a792-4b91-93dd-730b76037a43"
      },
      "execution_count": 16,
      "outputs": [
        {
          "output_type": "stream",
          "name": "stdout",
          "text": [
            "['DOhEEWyq', 'LwTpaYti', 'hISzIpVu', 'zVEOxAzd', 'kmYdVWrR', 'ZQUqNUen', 'uheqBKMt', 'HhXVDwcZ', 'NTzjXLTf', 'FweGNqLW', 'duhrAAyk', 'VWItTMOR', 'ysfectKt', 'hWtPjfsv', 'KaSGdbdN', 'xOcbxIcH', 'TBXlgafL', 'rXSpEuqM', 'guouEKoF', 'qgGIqSub', 'vuqfcXMB', 'ZTRNGwJs', 'AbNtBCHp', 'lgpjstts', 'xeTTpjpt', 'xIPhPuhZ', 'ZAilJHHh', 'EuguGHpD', 'dKvgFHQM', 'osrezGNR', 'MmSfpuWx', 'HkMDCSSL', 'IEyiLxZM', 'WrYweAcu', 'lvcJGTNl', 'efMKzQEY', 'qevCMkoo', 'ZsLBcASU', 'HmiiGMQb', 'ZceAavfS', 'pkHTOnwK', 'WnjLYTuA', 'xJLvJlue', 'YyEmyaKm', 'xjVOacdI', 'ulivhxvV', 'lLWNKRgh', 'mbDIxYuD', 'BALBErLW', 'xvZZKxOX']\n",
            "['doheewyq', 'lwtpayti', 'hiszipvu', 'zveoxazd', 'kmydvwrr', 'zquqnuen', 'uheqbkmt', 'hhxvdwcz', 'ntzjxltf', 'fwegnqlw', 'duhraayk', 'vwittmor', 'ysfectkt', 'hwtpjfsv', 'kasgdbdn', 'xocbxich', 'tbxlgafl', 'rxspeuqm', 'guouekof', 'qggiqsub', 'vuqfcxmb', 'ztrngwjs', 'abntbchp', 'lgpjstts', 'xettpjpt', 'xiphpuhz', 'zailjhhh', 'eugughpd', 'dkvgfhqm', 'osrezgnr', 'mmsfpuwx', 'hkmdcssl', 'ieyilxzm', 'wryweacu', 'lvcjgtnl', 'efmkzqey', 'qevcmkoo', 'zslbcasu', 'hmiigmqb', 'zceaavfs', 'pkhtonwk', 'wnjlytua', 'xjlvjlue', 'yyemyakm', 'xjvoacdi', 'ulivhxvv', 'llwnkrgh', 'mbdixyud', 'balberlw', 'xvzzkxox']\n"
          ]
        }
      ]
    },
    {
      "cell_type": "markdown",
      "source": [
        "**Your turn**: Write a different implementation that still prints all the lowercase results, but operates faster than a list comprehension (when used with a large dataset)."
      ],
      "metadata": {
        "id": "CLhih8nESug8"
      }
    },
    {
      "cell_type": "code",
      "source": [
        "# # # Exercise solution # # #\n",
        "\n",
        "lowerCase_gen = (x.lower() for x in randomStrings)\n",
        "for x in lowerCase_gen:\n",
        "  print(x)"
      ],
      "metadata": {
        "colab": {
          "base_uri": "https://localhost:8080/"
        },
        "id": "1Hd_WnBaRqfW",
        "outputId": "f99aaf20-cebc-464f-e83f-61680d3c3f42"
      },
      "execution_count": 19,
      "outputs": [
        {
          "output_type": "stream",
          "name": "stdout",
          "text": [
            "doheewyq\n",
            "lwtpayti\n",
            "hiszipvu\n",
            "zveoxazd\n",
            "kmydvwrr\n",
            "zquqnuen\n",
            "uheqbkmt\n",
            "hhxvdwcz\n",
            "ntzjxltf\n",
            "fwegnqlw\n",
            "duhraayk\n",
            "vwittmor\n",
            "ysfectkt\n",
            "hwtpjfsv\n",
            "kasgdbdn\n",
            "xocbxich\n",
            "tbxlgafl\n",
            "rxspeuqm\n",
            "guouekof\n",
            "qggiqsub\n",
            "vuqfcxmb\n",
            "ztrngwjs\n",
            "abntbchp\n",
            "lgpjstts\n",
            "xettpjpt\n",
            "xiphpuhz\n",
            "zailjhhh\n",
            "eugughpd\n",
            "dkvgfhqm\n",
            "osrezgnr\n",
            "mmsfpuwx\n",
            "hkmdcssl\n",
            "ieyilxzm\n",
            "wryweacu\n",
            "lvcjgtnl\n",
            "efmkzqey\n",
            "qevcmkoo\n",
            "zslbcasu\n",
            "hmiigmqb\n",
            "zceaavfs\n",
            "pkhtonwk\n",
            "wnjlytua\n",
            "xjlvjlue\n",
            "yyemyakm\n",
            "xjvoacdi\n",
            "ulivhxvv\n",
            "llwnkrgh\n",
            "mbdixyud\n",
            "balberlw\n",
            "xvzzkxox\n"
          ]
        }
      ]
    },
    {
      "cell_type": "markdown",
      "source": [
        "### 2b) Generator"
      ],
      "metadata": {
        "id": "365CDf1kdcgU"
      }
    },
    {
      "cell_type": "code",
      "source": [
        "# The data that a collection must match in order to proceed:\n",
        "primList = [4, 7, 140]\n",
        "\n",
        "# The collections that we are comparing to primList:\n",
        "inputs = (\n",
        " [0, 3, 0],\n",
        " [5, 4, 3],\n",
        " [7, 150, 0.5, 1]\n",
        " )"
      ],
      "metadata": {
        "id": "C0XfAoUxdiwz"
      },
      "execution_count": 50,
      "outputs": []
    },
    {
      "cell_type": "code",
      "source": [
        "def matchingStructure(collections, primList):\n",
        "  \"\"\"\n",
        "  This function compares the length of each input collection to the primary list\n",
        "  (primList). An input that matches in length gets multiplied by the primary\n",
        "  list and returned.\n",
        "  \"\"\"\n",
        "  results = []\n",
        "  for item in collections:\n",
        "    if len(item) == len(primList):\n",
        "      multiplied = [a * b for a, b in zip(item, primList)]\n",
        "      results.append(multiplied)\n",
        "  return results\n",
        "\n",
        "print(matchingStructure(inputs, primList))"
      ],
      "metadata": {
        "id": "M-BrleFVdzAO",
        "colab": {
          "base_uri": "https://localhost:8080/"
        },
        "outputId": "2689c1e7-01f0-4615-f22b-e5efbed22787"
      },
      "execution_count": 51,
      "outputs": [
        {
          "output_type": "stream",
          "name": "stdout",
          "text": [
            "[[0, 21, 0], [20, 28, 420]]\n"
          ]
        }
      ]
    },
    {
      "cell_type": "markdown",
      "source": [
        "Your turn: Write a different implementation that uses a generator instead of a function to compare each list's shape."
      ],
      "metadata": {
        "id": "1e8sW3D-haHQ"
      }
    },
    {
      "cell_type": "code",
      "source": [
        "# # # Exercise solution # # #\n",
        "\n",
        "def matchingStructure_gen(collections, primList):\n",
        "  \"\"\"\n",
        "  This generator compares the shape of each input list to the primary list\n",
        "  (primList). An input that matches all conditions is multiplied by the\n",
        "  primary list and yielded. An input that fails any condition is skipped.\n",
        "  \"\"\"\n",
        "  for item in collections:\n",
        "    if len(item) == len(primList):\n",
        "      multiplied = [a * b for a, b in zip(item, primList)]\n",
        "      yield multiplied\n",
        "\n",
        "for item in matchingStructure_gen(inputs, primList):\n",
        "  print(item)"
      ],
      "metadata": {
        "id": "lhErXvcZdzSy",
        "colab": {
          "base_uri": "https://localhost:8080/"
        },
        "outputId": "b46ea1e3-0676-4a0a-d3c5-79a1e82a409c"
      },
      "execution_count": 52,
      "outputs": [
        {
          "output_type": "stream",
          "name": "stdout",
          "text": [
            "[0, 21, 0]\n",
            "[20, 28, 420]\n"
          ]
        }
      ]
    },
    {
      "cell_type": "markdown",
      "source": [
        "## 3) Check for speed bottlenecks"
      ],
      "metadata": {
        "id": "n2N4_JqzUqL4"
      }
    },
    {
      "cell_type": "markdown",
      "metadata": {
        "id": "QkfkhHtBZLJN"
      },
      "source": [
        "### 3a) Compare differences in speed using `timeit`"
      ]
    },
    {
      "cell_type": "markdown",
      "metadata": {
        "id": "FN57nQonZLJO"
      },
      "source": [
        "Using `%%timeit`, compare the time it took to create myDataPaths as a list (original code) versus as a tuple (exercise solution)."
      ]
    },
    {
      "cell_type": "code",
      "execution_count": null,
      "metadata": {
        "id": "4maIX64mZLJO"
      },
      "outputs": [],
      "source": [
        "%%timeit\n"
      ]
    },
    {
      "cell_type": "code",
      "execution_count": null,
      "metadata": {
        "id": "b1m7iEWTZLJP"
      },
      "outputs": [],
      "source": [
        "%%timeit\n",
        "## Your solution here ##"
      ]
    },
    {
      "cell_type": "markdown",
      "metadata": {
        "id": "YBPP5scfZLJP"
      },
      "source": [
        "Use `%%timeit` again to compare list-based lookup to set intersection."
      ]
    },
    {
      "cell_type": "code",
      "execution_count": null,
      "metadata": {
        "id": "iEPxsZ0fZLJP"
      },
      "outputs": [],
      "source": [
        "%%timeit\n"
      ]
    },
    {
      "cell_type": "code",
      "execution_count": null,
      "metadata": {
        "id": "6L0PleqtZLJQ"
      },
      "outputs": [],
      "source": [
        "%%timeit\n",
        "## Your solution here ##"
      ]
    },
    {
      "cell_type": "markdown",
      "metadata": {
        "id": "xJn4y8mLZLJQ"
      },
      "source": [
        "Finally, compare the second list vs. set change that you made."
      ]
    },
    {
      "cell_type": "code",
      "execution_count": null,
      "metadata": {
        "id": "j4Vxyvf0ZLJQ"
      },
      "outputs": [],
      "source": [
        "%%timeit\n"
      ]
    },
    {
      "cell_type": "code",
      "execution_count": null,
      "metadata": {
        "id": "XnEhPSJ1ZLJQ"
      },
      "outputs": [],
      "source": [
        "%%timeit\n",
        "## Your solution here ##"
      ]
    },
    {
      "cell_type": "markdown",
      "metadata": {
        "id": "SyY72o5RZLJS"
      },
      "source": [
        "### 3b) Check for speed bottlenecks in detail using `cProfile`"
      ]
    },
    {
      "cell_type": "markdown",
      "metadata": {
        "id": "cvkCZLEeZLJS"
      },
      "source": [
        "Use cProfile to locate the slowest calls in your improved script.\n",
        "\n",
        "Hint: Sort by tottime instead of name to find hotspots more easily."
      ]
    },
    {
      "cell_type": "code",
      "execution_count": null,
      "metadata": {
        "id": "rQKz2fJFZLJT"
      },
      "outputs": [],
      "source": []
    },
    {
      "cell_type": "markdown",
      "source": [
        "\n",
        "\n",
        "---\n",
        "\n"
      ],
      "metadata": {
        "id": "JCqB6sAr6Tdo"
      }
    },
    {
      "cell_type": "markdown",
      "source": [
        "## Stretch Goal"
      ],
      "metadata": {
        "id": "l9xzVCANWcC6"
      }
    },
    {
      "cell_type": "markdown",
      "source": [
        "### Raster Generator"
      ],
      "metadata": {
        "id": "ezJHrr3F6QIV"
      }
    },
    {
      "cell_type": "markdown",
      "source": [
        "Let's say you have a raster depicting 500 square meter population density (people per 500m²) across a country. That's a huge dataset! You want to resample the raster down to 1 square kilometer (people per 1km²) to make it easier to work with.\n",
        "\n",
        "To do this, you have written a function that creates a new raster of 1km² grid cells. Each 1km² cell contains the total population of all 500m² cells within it."
      ],
      "metadata": {
        "id": "THKZfbDyfuCx"
      }
    },
    {
      "cell_type": "code",
      "source": [
        "import numpy as np\n",
        "\n",
        "# Starting dataset: 80x80 grid of people per 500m².\n",
        "highResPop = np.ones((80, 80)) * 5"
      ],
      "metadata": {
        "id": "MkMTXU48fgxi"
      },
      "execution_count": null,
      "outputs": []
    },
    {
      "cell_type": "markdown",
      "source": [
        "*Note: The example here uses arrays to represent the rasters for simplicity, and each 500m² cell contains exactly 5 people.*"
      ],
      "metadata": {
        "id": "raRyXVdEuG7U"
      }
    },
    {
      "cell_type": "code",
      "source": [
        "def densityKM(popArray):\n",
        "    \"\"\"\n",
        "    Function that returns population density per km² cell from a\n",
        "    500 m² resolution population source.\n",
        "\n",
        "    Input:  500x500m 2D array\n",
        "    Output: 1x1km 2D array, covering the same area of interest.\n",
        "    \"\"\"\n",
        "    group_size = 20 # Every 20x20 group of 500m² cells equals 1km².\n",
        "    rows, cols = popArray.shape\n",
        "\n",
        "    # Aggregate\n",
        "    kmArray = popArray.reshape(\n",
        "        rows // group_size, group_size,\n",
        "        cols // group_size, group_size\n",
        "    )\n",
        "\n",
        "    # Sum over each group\n",
        "    kmDensity = kmArray.sum(axis=(1, 3))\n",
        "\n",
        "    # Output\n",
        "    return kmDensity"
      ],
      "metadata": {
        "id": "-BkMSEV1x0Kz"
      },
      "execution_count": null,
      "outputs": []
    },
    {
      "cell_type": "code",
      "source": [
        "densityKM(highResPop)"
      ],
      "metadata": {
        "colab": {
          "base_uri": "https://localhost:8080/"
        },
        "id": "1XwjMylDzY2v",
        "outputId": "f719a60d-4398-46a4-d15a-81f21fe02f83"
      },
      "execution_count": null,
      "outputs": [
        {
          "output_type": "execute_result",
          "data": {
            "text/plain": [
              "array([[2000., 2000., 2000., 2000.],\n",
              "       [2000., 2000., 2000., 2000.],\n",
              "       [2000., 2000., 2000., 2000.],\n",
              "       [2000., 2000., 2000., 2000.]])"
            ]
          },
          "metadata": {},
          "execution_count": 46
        }
      ]
    },
    {
      "cell_type": "markdown",
      "source": [
        "Your turn: Convert this function into a generator."
      ],
      "metadata": {
        "id": "QZKKAigBfMWl"
      }
    },
    {
      "cell_type": "code",
      "source": [
        "# # # Exercise solution, version 1 # # #\n",
        "def densityKM_gen(popArray):\n",
        "    \"\"\"\n",
        "    Generator that yields rows of population density per km² cells from a\n",
        "    500 m² resolution population source.\n",
        "\n",
        "    Input:  500x500m 2D array\n",
        "    Output: Each yield output is a 1D array representing one row of densities.\n",
        "    \"\"\"\n",
        "    group_size = 20\n",
        "    rows, cols = popArray.shape\n",
        "\n",
        "    # Aggregate\n",
        "    kmArray = popArray.reshape(\n",
        "        rows // group_size, group_size,\n",
        "        cols // group_size, group_size\n",
        "    )\n",
        "\n",
        "    # Sum over each group\n",
        "    kmDensity = kmArray.sum(axis=(1, 3))\n",
        "\n",
        "    for row in kmDensity:\n",
        "        yield row  # Now yields an array"
      ],
      "metadata": {
        "id": "jkmFh6-ts5gX"
      },
      "execution_count": null,
      "outputs": []
    },
    {
      "cell_type": "code",
      "source": [
        "for row in densityKM_gen(highResPop):\n",
        "    print(row)"
      ],
      "metadata": {
        "colab": {
          "base_uri": "https://localhost:8080/"
        },
        "id": "WofFsTBwv15k",
        "outputId": "3bcb6cba-6a59-498c-a7e1-3eace3d38d1f"
      },
      "execution_count": null,
      "outputs": [
        {
          "output_type": "stream",
          "name": "stdout",
          "text": [
            "[2000. 2000. 2000. 2000.]\n",
            "[2000. 2000. 2000. 2000.]\n",
            "[2000. 2000. 2000. 2000.]\n",
            "[2000. 2000. 2000. 2000.]\n"
          ]
        }
      ]
    },
    {
      "cell_type": "code",
      "source": [
        "# # # Exercise solution, version 2 (more memory efficient) # # #\n",
        "def densityKM_gen2(popArray):\n",
        "    \"\"\"\n",
        "    Generator that yields rows of population density per km² cells from a\n",
        "    500 m² resolution population source.\n",
        "    Unlike Solution Version 1, this generator does not create the entire km²\n",
        "    array in memory. It saves memory by processing one group of 20x20\n",
        "    cells at a time.\n",
        "\n",
        "    Input:  500x500m 2D array\n",
        "    Output: Each yield is a 1D NumPy array representing one row of km²\n",
        "    densities, processed group by group.\n",
        "    \"\"\"\n",
        "    import numpy as np\n",
        "\n",
        "    group_size = 20\n",
        "    rows, cols = popArray.shape\n",
        "\n",
        "    num_row_blocks = rows // group_size\n",
        "    num_col_blocks = cols // group_size\n",
        "\n",
        "    for i in range(num_row_blocks):\n",
        "        row_densities = []\n",
        "        row_start = i * group_size\n",
        "\n",
        "        for j in range(num_col_blocks):\n",
        "            col_start = j * group_size\n",
        "            block = popArray[row_start:row_start + group_size,\n",
        "                             col_start:col_start + group_size]\n",
        "            density = block.sum()\n",
        "            row_densities.append(density)\n",
        "\n",
        "        yield np.array(row_densities)"
      ],
      "metadata": {
        "id": "nJ1tTr1D2_p2"
      },
      "execution_count": null,
      "outputs": []
    },
    {
      "cell_type": "code",
      "source": [
        "for row in densityKM_gen2(highResPop):\n",
        "    print(row)"
      ],
      "metadata": {
        "colab": {
          "base_uri": "https://localhost:8080/"
        },
        "id": "hnBV7OJg4ecF",
        "outputId": "64278de5-4c51-48f5-b5c1-548a7b4ee0ed"
      },
      "execution_count": null,
      "outputs": [
        {
          "output_type": "stream",
          "name": "stdout",
          "text": [
            "[2000. 2000. 2000. 2000.]\n",
            "[2000. 2000. 2000. 2000.]\n",
            "[2000. 2000. 2000. 2000.]\n",
            "[2000. 2000. 2000. 2000.]\n"
          ]
        }
      ]
    }
  ],
  "metadata": {
    "kernelspec": {
      "display_name": "ArcGISPro",
      "language": "Python",
      "name": "python3"
    },
    "language_info": {
      "file_extension": ".py",
      "name": "python",
      "version": "3"
    },
    "colab": {
      "provenance": [],
      "include_colab_link": true
    }
  },
  "nbformat": 4,
  "nbformat_minor": 0
}