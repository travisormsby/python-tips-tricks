{
  "nbformat": 4,
  "nbformat_minor": 0,
  "metadata": {
    "colab": {
      "provenance": [],
      "authorship_tag": "ABX9TyMDHhlQ57b2xK0nkZ3h6C+I",
      "include_colab_link": true
    },
    "kernelspec": {
      "name": "python3",
      "display_name": "Python 3"
    },
    "language_info": {
      "name": "python"
    }
  },
  "cells": [
    {
      "cell_type": "markdown",
      "metadata": {
        "id": "view-in-github",
        "colab_type": "text"
      },
      "source": [
        "<a href=\"https://colab.research.google.com/github/travisormsby/python-tips-tricks/blob/main/docs/GeospatialExamples.ipynb\" target=\"_parent\"><img src=\"https://colab.research.google.com/assets/colab-badge.svg\" alt=\"Open In Colab\"/></a>"
      ]
    },
    {
      "cell_type": "markdown",
      "source": [
        "# Geospatial examples of Python Tips & Tricks\n",
        "For the sake of efficiency, our workshop focused on toy examples that do not use GIS. Here are some examples that do. Note: These snippets have not been rigorously tested!"
      ],
      "metadata": {
        "id": "M6b2hkvNc4UT"
      }
    },
    {
      "cell_type": "markdown",
      "source": [
        "## Tip: Avoid a list where you could use a tuple"
      ],
      "metadata": {
        "id": "Ec1a_4ZVY1d6"
      }
    },
    {
      "cell_type": "markdown",
      "source": [
        "### 1a) Tuple-based storage"
      ],
      "metadata": {
        "id": "Ykg1mVcYVZuC"
      }
    },
    {
      "cell_type": "markdown",
      "source": [],
      "metadata": {
        "id": "pM_jHnIHY-lz"
      }
    },
    {
      "cell_type": "markdown",
      "metadata": {
        "id": "PgHboiP5ZLI_"
      },
      "source": [
        "Scenario: You have CSVs stored in a subdirectory. Some of these CSVs can be converted to point shapefiles. For every CSV in the folder, you need to determine whether it contains a field called 'lat', which would indicate it has point coordinates."
      ]
    },
    {
      "cell_type": "code",
      "execution_count": null,
      "metadata": {
        "id": "ho6G9kbEZLI_"
      },
      "outputs": [],
      "source": [
        "# Create list of file paths where the data is stored.\n",
        "myDataPaths = [filePath for file in directory]\n",
        "\n",
        "\n",
        "# Define a function for determining if a file meets your criteria.\n",
        "def meetsCriteria(filePaths):\n",
        "    \"\"\"\n",
        "    Dataframe must have a 'lat' field to be included.\n",
        "    \"\"\"\n",
        "    members = []\n",
        "    criterium = 'lat'\n",
        "\n",
        "    for filePath in filePaths:\n",
        "        with open(filePath) as fPath:\n",
        "            headerList = csv.DictReader(fPath).fieldnames\n",
        "            if criterium in headerList:\n",
        "                members.append(filePath)\n",
        "    return members\n",
        "\n",
        "\n",
        "# Print all matching file paths\n",
        "print(meetsCriteria(myDataPaths))"
      ]
    },
    {
      "cell_type": "markdown",
      "source": [
        "Action: Change the file paths collection to a tuple."
      ],
      "metadata": {
        "id": "KgEwFHo2Y-fm"
      }
    },
    {
      "cell_type": "code",
      "execution_count": null,
      "metadata": {
        "id": "umxtX3qTZLJA"
      },
      "outputs": [],
      "source": [
        "# Exercise solution\n",
        "myDataPaths = (filePath for file in directory)"
      ]
    },
    {
      "cell_type": "markdown",
      "source": [
        "## Tip: Use vectorized operations instead of updating line-by-line\n",
        "We’ll look at how vectorized operations can improve script efficiency compared to line-by-line workflows like loops or cursors. We'll compare a loop using `pandas.DataFrame.apply()` to a vector-based workflow that relies on the geopandas built-in, `geopandas.GeoSeries.distance()`.\n",
        "\n",
        "Vectorized operations—especially with GeoPandas or NumPy—are significantly more efficient than line-by-line processing. They leverage optimized C/NumPy backends, which makes them faster and more concise."
      ],
      "metadata": {
        "id": "KxwrID6VZy_f"
      }
    },
    {
      "cell_type": "markdown",
      "source": [
        "### Set up\n",
        "Imagine you have a GeoDataFrame of points (e.g., city centers), and you want to compute the distance to a fixed location (e.g., a capital city or infrastructure hub)."
      ],
      "metadata": {
        "id": "uLK-ZYdLbvu_"
      }
    },
    {
      "cell_type": "code",
      "source": [
        "# Set up workspace\n",
        "import geopandas as gpd\n",
        "from shapely.geometry import Point\n",
        "\n",
        "# Sample points: city centers\n",
        "gdf = gpd.GeoDataFrame({\n",
        "    'city': ['A', 'B', 'C'],\n",
        "    'geometry': [Point(0, 0), Point(1, 1), Point(2, 2)]\n",
        "}, crs='EPSG:4326')\n",
        "\n",
        "# Fixed location (e.g., capital)\n",
        "capital = Point(0, 1)"
      ],
      "metadata": {
        "id": "34IVSVTwbILr"
      },
      "execution_count": null,
      "outputs": []
    },
    {
      "cell_type": "markdown",
      "source": [
        "### Line-by-line using `.apply()`\n",
        "With thousands of points, .apply() becomes dramatically slower because:\n",
        "- It loops in Python (slow).\n",
        "- It calls .distance() one-by-one (slow).\n",
        "- No spatial index or batch processing (inefficient)."
      ],
      "metadata": {
        "id": "uvS5tmMNar4a"
      }
    },
    {
      "cell_type": "code",
      "source": [
        "# Line-by-line using apply\n",
        "%%timeit\n",
        "gdf['dist_to_capital'] = gdf['geometry'].apply(lambda x: x.distance(capital))"
      ],
      "metadata": {
        "colab": {
          "base_uri": "https://localhost:8080/"
        },
        "id": "ZLZX4GkwZ7SP",
        "outputId": "632174ec-1460-4929-e6b3-ae59bfcc5cf5"
      },
      "execution_count": null,
      "outputs": [
        {
          "output_type": "stream",
          "name": "stdout",
          "text": [
            "185 µs ± 17.9 µs per loop (mean ± std. dev. of 7 runs, 1000 loops each)\n"
          ]
        }
      ]
    },
    {
      "cell_type": "markdown",
      "source": [
        "### Vectorized operation using `.distance()`\n",
        "Why this works:\n",
        "- GeoPandas vectorized methods (e.g., .distance(), .within(), .intersects(), .buffer()) are backed by NumPy, Shapely, and GEOS—which means they use optimized C code.\n",
        "- Much faster under the hood because GeoSeries.distance() is implemented in compiled code using spatial indexing and NumPy.\n",
        "- You also avoid the overhead of Python loops and function calls."
      ],
      "metadata": {
        "id": "mD9tQPpGa0rv"
      }
    },
    {
      "cell_type": "code",
      "source": [
        "# Vectorized version\n",
        "%%timeit\n",
        "gdf['dist_to_capital_fast'] = gdf.distance(capital)"
      ],
      "metadata": {
        "colab": {
          "base_uri": "https://localhost:8080/"
        },
        "id": "lZt7YBjVanc8",
        "outputId": "6b5dab93-d823-4d03-8942-eebcaf3d81db"
      },
      "execution_count": null,
      "outputs": [
        {
          "output_type": "stream",
          "name": "stderr",
          "text": [
            "<magic-timeit>:1: UserWarning: Geometry is in a geographic CRS. Results from 'distance' are likely incorrect. Use 'GeoSeries.to_crs()' to re-project geometries to a projected CRS before this operation.\n",
            "\n",
            "<magic-timeit>:1: UserWarning: Geometry is in a geographic CRS. Results from 'distance' are likely incorrect. Use 'GeoSeries.to_crs()' to re-project geometries to a projected CRS before this operation.\n",
            "\n"
          ]
        },
        {
          "output_type": "stream",
          "name": "stdout",
          "text": [
            "18.5 ms ± 544 µs per loop (mean ± std. dev. of 7 runs, 10 loops each)\n"
          ]
        }
      ]
    },
    {
      "cell_type": "markdown",
      "source": [
        "## Tip: Use generators instead of functions to save memory\n",
        "Has your script ever crashed from working on a single raster? Generators are often better when working on very large datasets, such as high resolution or multi-band rasters. Instead of loading the entire raster file into memory, a generator can help in chunking out your processing."
      ],
      "metadata": {
        "id": "aXNxqA7irAAJ"
      }
    },
    {
      "cell_type": "markdown",
      "source": [
        "### Set up\n",
        "Let’s look at nighttime lights raster data, like from the VIIRS or DMSP-OLS satellites. These rasters typically represent light intensity per pixel, which is great for analyzing urbanization, economic activity, or electricity access.\n",
        "\n",
        "Say you want to compute the total light intensity or the mean light intensity over the whole raster. This can be done two ways: with a regular function or a generator-based approach."
      ],
      "metadata": {
        "id": "Kbcb7B-osNXU"
      }
    },
    {
      "cell_type": "code",
      "source": [
        "# Set up workspace\n",
        "import rasterio\n",
        "from rasterio.windows import Window"
      ],
      "metadata": {
        "id": "djZBOIR3rbGt"
      },
      "execution_count": null,
      "outputs": []
    },
    {
      "cell_type": "markdown",
      "source": [
        "### Function\n",
        "Reads the entire raster into memory.\n",
        "\n",
        "Risk of crashing or memory exhaustion with large rasters (e.g., 30,000 x 30,000 px)."
      ],
      "metadata": {
        "id": "fpdpFmZftS9R"
      }
    },
    {
      "cell_type": "code",
      "source": [
        "# Load the raster and calculate the total light intensity\n",
        "def read_all_and_sum(path):\n",
        "    with rasterio.open(path) as src:\n",
        "        data = src.read(1)  # Loads the entire band\n",
        "        total = data.sum()\n",
        "        count = data.size\n",
        "        return total / count  # mean light intensity"
      ],
      "metadata": {
        "id": "8gMHQ_gjrip2"
      },
      "execution_count": null,
      "outputs": []
    },
    {
      "cell_type": "markdown",
      "source": [
        "### Generator\n",
        "Efficient: Reads only a piece of the image at a time.\n",
        "\n",
        "Scalable: Handles giant files with constant memory usage.\n",
        "\n",
        "Composable: You can plug the generator into a pipeline—e.g., cloud masking, NDVI, etc. Easy to chain.\n",
        "\n",
        "Better scalability of code: while you may develop your script first on a small area of interest, you may quickly want to replicate it to larger areas."
      ],
      "metadata": {
        "id": "h42nN2ixtLVU"
      }
    },
    {
      "cell_type": "code",
      "source": [
        "def lights_block_generator(path, block_size=512):\n",
        "    with rasterio.open(path) as src:\n",
        "        for y in range(0, src.height, block_size):\n",
        "            for x in range(0, src.width, block_size):\n",
        "                w = min(block_size, src.width - x)\n",
        "                h = min(block_size, src.height - y)\n",
        "                window = Window(x, y, w, h)\n",
        "                block = src.read(1, window=window)\n",
        "                yield block\n",
        "\n",
        "def mean_light_from_generator(path):\n",
        "    total = 0\n",
        "    count = 0\n",
        "    for block in lights_block_generator(path):\n",
        "        total += block.sum()\n",
        "        count += block.size\n",
        "    return total / count\n"
      ],
      "metadata": {
        "id": "qDAP559ortbE"
      },
      "execution_count": null,
      "outputs": []
    },
    {
      "cell_type": "markdown",
      "source": [],
      "metadata": {
        "id": "VejJN7fcsNK-"
      }
    }
  ]
}