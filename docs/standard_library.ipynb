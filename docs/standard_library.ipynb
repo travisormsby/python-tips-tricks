{
 "cells": [
  {
   "cell_type": "markdown",
   "metadata": {},
   "source": [
    "# Use existing standard library capabilities instead of rolling your own solutions"
   ]
  },
  {
   "cell_type": "code",
   "execution_count": 2,
   "metadata": {},
   "outputs": [
    {
     "data": {
      "text/plain": [
       "[('address', '123 Fake St.'),\n",
       " ('city', 'St. Paul'),\n",
       " ('state', 'MN'),\n",
       " ('zip', '55101')]"
      ]
     },
     "execution_count": 2,
     "metadata": {},
     "output_type": "execute_result"
    }
   ],
   "source": [
    "headers = ('address', 'city', 'state', 'zip')\n",
    "data = ('123 Fake St.', 'St. Paul', 'MN', '55101')\n",
    "\n",
    "data_pairs = []\n",
    "for i, field in enumerate(headers):\n",
    "    data_pair = (field, data[i])\n",
    "    data_pairs.append(data_pair)\n",
    "\n",
    "data_pairs"
   ]
  },
  {
   "cell_type": "code",
   "execution_count": 3,
   "metadata": {},
   "outputs": [
    {
     "data": {
      "text/plain": [
       "[('address', '123 Fake St.'),\n",
       " ('city', 'St. Paul'),\n",
       " ('state', 'MN'),\n",
       " ('zip', '55101')]"
      ]
     },
     "execution_count": 3,
     "metadata": {},
     "output_type": "execute_result"
    }
   ],
   "source": [
    "list(zip(headers, data))"
   ]
  },
  {
   "cell_type": "code",
   "execution_count": null,
   "metadata": {},
   "outputs": [],
   "source": []
  }
 ],
 "metadata": {
  "kernelspec": {
   "display_name": ".venv",
   "language": "python",
   "name": "python3"
  },
  "language_info": {
   "codemirror_mode": {
    "name": "ipython",
    "version": 3
   },
   "file_extension": ".py",
   "mimetype": "text/x-python",
   "name": "python",
   "nbconvert_exporter": "python",
   "pygments_lexer": "ipython3",
   "version": "3.13.1"
  }
 },
 "nbformat": 4,
 "nbformat_minor": 2
}
