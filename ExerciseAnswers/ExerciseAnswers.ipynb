{
  "cells": [
    {
      "cell_type": "markdown",
      "metadata": {
        "id": "c6wrfd48wn0C"
      },
      "source": [
        "<a href=\"https://colab.research.google.com/github/travisormsby/python-tips-tricks/blob/main/docs/ExerciseAnswers.ipynb\" target=\"_parent\"><img src=\"https://colab.research.google.com/assets/colab-badge.svg\" alt=\"Open In Colab\"/></a>"
      ]
    },
    {
      "cell_type": "markdown",
      "metadata": {
        "id": "gDijWs6_wn0D"
      },
      "source": [
        "# Exercise Answers"
      ]
    },
    {
      "cell_type": "markdown",
      "metadata": {
        "id": "JmQ9r_bqwn0E"
      },
      "source": [
        "The code cells below are example answers to the workshop exercises. They are useful if you get stuck and need a hint or if you want to use them as a comparison with your own attempts"
      ]
    },
    {
      "cell_type": "markdown",
      "metadata": {
        "id": "gpUrQn55wn0E"
      },
      "source": [
        "## 1.1) Use unpacking for pretty printing"
      ]
    },
    {
      "cell_type": "code",
      "execution_count": null,
      "metadata": {
        "id": "kdWpAi9twn0E",
        "outputId": "2b29a425-9900-4677-afc9-44413d26b14e"
      },
      "outputs": [
        {
          "name": "stdout",
          "output_type": "stream",
          "text": [
            "Anoka\n",
            "Dakota\n",
            "Carver\n",
            "Hennepin\n",
            "Ramsey\n",
            "Scott\n",
            "Washington\n"
          ]
        }
      ],
      "source": [
        "counties = [\"Anoka\", \"Dakota\", \"Carver\", \"Hennepin\", \"Ramsey\", \"Scott\", \"Washington\"]\n",
        "print(*counties, sep='\\n')"
      ]
    },
    {
      "cell_type": "markdown",
      "metadata": {
        "id": "6kcVy6-uwn0F"
      },
      "source": [
        "## 1.2) Use standard library data classes"
      ]
    },
    {
      "cell_type": "code",
      "execution_count": null,
      "metadata": {
        "id": "XhzGMhIIwn0F",
        "outputId": "c61ea3c6-34c1-446c-8269-d1760c40620e"
      },
      "outputs": [
        {
          "name": "stdout",
          "output_type": "stream",
          "text": [
            "Record(total_population=6000, population_in_poverty=200)\n"
          ]
        }
      ],
      "source": [
        "from dataclasses import dataclass\n",
        "\n",
        "@dataclass\n",
        "class Record:\n",
        "    total_population: int\n",
        "    population_in_poverty: int\n",
        "\n",
        "record = Record(5000, 200)\n",
        "record.total_population = 6000\n",
        "print(record)"
      ]
    },
    {
      "cell_type": "markdown",
      "metadata": {
        "id": "26AzguB7wn0F"
      },
      "source": [
        "## 1.3) Use the built-in min and max functions"
      ]
    },
    {
      "cell_type": "code",
      "execution_count": null,
      "metadata": {
        "id": "8F3Tax2Swn0G",
        "outputId": "62ec3983-c7a9-4541-910b-ef3de8c60bb3"
      },
      "outputs": [
        {
          "name": "stdout",
          "output_type": "stream",
          "text": [
            "891 -899\n"
          ]
        }
      ],
      "source": [
        "from random import randint\n",
        "\n",
        "nums = [randint(-1000, 1000) for i in range(20)]\n",
        "\n",
        "print(max(nums), min(nums))"
      ]
    },
    {
      "cell_type": "markdown",
      "metadata": {},
      "source": [
        "## 1.4) Just do things"
      ]
    },
    {
      "cell_type": "code",
      "execution_count": null,
      "metadata": {},
      "outputs": [
        {
          "name": "stdout",
          "output_type": "stream",
          "text": [
            "0.4\n",
            "0.05\n",
            "0.075\n"
          ]
        }
      ],
      "source": [
        "from typing import NamedTuple\n",
        "\n",
        "class Record(NamedTuple):\n",
        "    total_population: int\n",
        "    population_in_poverty: int\n",
        "\n",
        "record1 = Record(5000, 2000)\n",
        "record2 = Record(200, 10)\n",
        "record3 = Record(\"400\", \"30\")\n",
        "\n",
        "def poverty_rate(record):\n",
        "    total_pop, pop_in_poverty = record\n",
        "    return int(pop_in_poverty) / int(total_pop)\n",
        "\n",
        "for record in (record1, record2, record3):\n",
        "    print(poverty_rate(record))"
      ]
    },
    {
      "cell_type": "markdown",
      "metadata": {},
      "source": [
        "## 1.5) Use Pythonic patterns for setup and teardown boilerplate"
      ]
    },
    {
      "cell_type": "code",
      "execution_count": 3,
      "metadata": {},
      "outputs": [
        {
          "ename": "ValueError",
          "evalue": "",
          "output_type": "error",
          "traceback": [
            "\u001b[31m---------------------------------------------------------------------------\u001b[39m",
            "\u001b[31mValueError\u001b[39m                                Traceback (most recent call last)",
            "\u001b[36mCell\u001b[39m\u001b[36m \u001b[39m\u001b[32mIn[3]\u001b[39m\u001b[32m, line 3\u001b[39m\n\u001b[32m      1\u001b[39m \u001b[38;5;28;01mwith\u001b[39;00m \u001b[38;5;28mopen\u001b[39m(\u001b[33m\"\u001b[39m\u001b[33mdata.csv\u001b[39m\u001b[33m\"\u001b[39m, \u001b[33m\"\u001b[39m\u001b[33mw\u001b[39m\u001b[33m\"\u001b[39m) \u001b[38;5;28;01mas\u001b[39;00m f:\n\u001b[32m      2\u001b[39m     f.write(\u001b[33m\"\u001b[39m\u001b[33mImportant data\u001b[39m\u001b[33m\"\u001b[39m)\n\u001b[32m----> \u001b[39m\u001b[32m3\u001b[39m     \u001b[38;5;28;01mraise\u001b[39;00m \u001b[38;5;167;01mValueError\u001b[39;00m\n",
            "\u001b[31mValueError\u001b[39m: "
          ]
        }
      ],
      "source": [
        "with open(\"data.csv\", \"w\") as f:\n",
        "    f.write(\"Important data\")\n",
        "    raise ValueError"
      ]
    },
    {
      "cell_type": "markdown",
      "metadata": {},
      "source": [
        "## 2.1) Use type hints"
      ]
    },
    {
      "cell_type": "code",
      "execution_count": null,
      "metadata": {},
      "outputs": [],
      "source": [
        "from itertools import cycle\n",
        "from collections.abc import Iterable\n",
        "from typing import NamedTuple\n",
        "\n",
        "class Vertex(NamedTuple):\n",
        "    x: float\n",
        "    y: float\n",
        "\n",
        "def calculate_area(vertices: Iterable[Vertex]) -> float:\n",
        "    subtotals = []\n",
        "    vertex_cycle = cycle(vertices)\n",
        "    next(vertex_cycle)\n",
        "    for vertex in vertices:\n",
        "        next_vertex = next(vertex_cycle)\n",
        "        subtotal = vertex.x * next_vertex.y - vertex.y * next_vertex.x\n",
        "        subtotals.append(subtotal)\n",
        "    area = abs(sum(subtotals) / 2)\n",
        "    return area\n",
        "\n",
        "vertices = (Vertex(4, 10), Vertex(9, 7), Vertex(11, 2), Vertex(2, 2))\n",
        "calculate_area(vertices)\n"
      ]
    },
    {
      "cell_type": "markdown",
      "metadata": {},
      "source": [
        "## 2.2) Add a docstring to a function"
      ]
    },
    {
      "cell_type": "code",
      "execution_count": null,
      "metadata": {},
      "outputs": [
        {
          "data": {
            "text/plain": [
              "45.5"
            ]
          },
          "execution_count": 4,
          "metadata": {},
          "output_type": "execute_result"
        }
      ],
      "source": [
        "def calculate_area(vertices: Iterable[Vertex]) -> float:\n",
        "    \"\"\"\n",
        "    Calculate the area of a polygon given the coordinates of its vertices\n",
        "\n",
        "    Args:\n",
        "        vertices (Iterable[Vertex]): \n",
        "            An iterable, such as a list or tuple, of Vertex objects\n",
        "            holding the (x, y) coordinates of each vertex\n",
        "    Returns:\n",
        "        float: The area of the polygon\n",
        "    \"\"\"\n",
        "    subtotals = []\n",
        "    vertex_cycle = cycle(vertices)\n",
        "    next(vertex_cycle)\n",
        "    for vertex in vertices:\n",
        "        next_vertex = next(vertex_cycle)\n",
        "        subtotal = vertex.x * next_vertex.y - vertex.y * next_vertex.x\n",
        "        subtotals.append(subtotal)\n",
        "    area = abs(sum(subtotals) / 2)\n",
        "    return area\n",
        "\n",
        "vertices = (Vertex(4, 10), Vertex(9, 7), Vertex(11, 2), Vertex(2, 2))\n",
        "calculate_area(vertices)"
      ]
    },
    {
      "cell_type": "markdown",
      "metadata": {
        "id": "MB3VpUcLwn0G"
      },
      "source": [
        "## 3.1) Use the right data structure for immutable sequences"
      ]
    },
    {
      "cell_type": "code",
      "execution_count": null,
      "metadata": {
        "colab": {
          "base_uri": "https://localhost:8080/"
        },
        "id": "_EAH39RBwn0G",
        "outputId": "a6f733b2-a4e3-43e3-c673-afb2e5607d2f"
      },
      "outputs": [
        {
          "name": "stdout",
          "output_type": "stream",
          "text": [
            "(1900, 1901, 1902, 1903, 1904, 1905, 1906, 1907, 1908, 1909, 1910, 1911, 1912, 1913, 1914, 1915, 1916, 1917, 1918, 1919, 1920, 1921, 1922, 1923, 1924, 1925, 1926, 1927, 1928, 1929, 1930, 1931, 1932, 1933, 1934, 1935, 1936, 1937, 1938, 1939, 1940, 1941, 1942, 1943, 1944, 1945, 1946, 1947, 1948, 1949, 1950, 1951, 1952, 1953, 1954, 1955, 1956, 1957, 1958, 1959, 1960, 1961, 1962, 1963, 1964, 1965, 1966, 1967, 1968, 1969, 1970, 1971, 1972, 1973, 1974, 1975, 1976, 1977, 1978, 1979, 1980, 1981, 1982, 1983, 1984, 1985, 1986, 1987, 1988, 1989, 1990, 1991, 1992, 1993, 1994, 1995, 1996, 1997, 1998, 1999, 2000, 2001, 2002, 2003, 2004, 2005, 2006, 2007, 2008, 2009, 2010, 2011, 2012, 2013, 2014, 2015, 2016, 2017, 2018, 2019, 2020, 2021, 2022, 2023, 2024, 2025, 2026, 2027, 2028, 2029, 2030)\n",
            "Bytes used:  1088\n"
          ]
        }
      ],
      "source": [
        "import sys\n",
        "\n",
        "def tuple_from_range(start, end):\n",
        "  \"\"\"Create a tuple from a range of values\"\"\"\n",
        "  return tuple(range(start, end + 1))\n",
        "\n",
        "start = 1900\n",
        "end = 2030\n",
        "\n",
        "studyYears = tuple_from_range(start, end)\n",
        "\n",
        "print(studyYears)\n",
        "print(\"Bytes used: \", sys.getsizeof(studyYears))"
      ]
    },
    {
      "cell_type": "markdown",
      "metadata": {
        "id": "XfTJT-mwwn0G"
      },
      "source": [
        "## 3.2) Use the right data structure for membership lookup"
      ]
    },
    {
      "cell_type": "code",
      "execution_count": null,
      "metadata": {
        "id": "QkWbGutFwn0G"
      },
      "outputs": [],
      "source": [
        "placeNames_list = [\"Kinshasa\", \"Duluth\", \"Uruguay\"] * 1_000_000\n",
        "placeNames_set = set(placeNames_list)\n",
        "\n",
        "# O(1) set look-up\n",
        "if \"Dinkytown\" not in placeNames_set:\n",
        "    print(\"Missing.\")  "
      ]
    },
    {
      "cell_type": "markdown",
      "metadata": {
        "id": "GEZbK6hUwn0G"
      },
      "source": [
        "## 3.3) Use generators"
      ]
    },
    {
      "cell_type": "code",
      "execution_count": 1,
      "metadata": {},
      "outputs": [],
      "source": [
        "from itertools import cycle\n",
        "from random import randint\n",
        "\n",
        "class Random_Vertex:\n",
        "    def __init__(self):\n",
        "        self.x = randint(0, 100)\n",
        "        self.y = randint(0, 100)\n",
        "    \n",
        "def generate_polygon_vertices(num_polygons, num_sides):\n",
        "    for _ in range(num_polygons):\n",
        "        vertices = (Random_Vertex() for _ in range(num_sides))\n",
        "        yield vertices\n",
        "\n",
        "def calculate_area(vertices):\n",
        "    subtotals = []\n",
        "    vertex_cycle = cycle(vertices)\n",
        "    next(vertex_cycle)\n",
        "    for vertex in vertices:\n",
        "        next_vertex = next(vertex_cycle)\n",
        "        subtotal = vertex.x * next_vertex.y - vertex.y * next_vertex.x\n",
        "        subtotals.append(subtotal)\n",
        "    area = abs(sum(subtotals) / 2)\n",
        "    return area"
      ]
    },
    {
      "cell_type": "markdown",
      "metadata": {},
      "source": [
        "Easier: Use a generator expression to find the triangle with the maximum area instead of a list comprehension"
      ]
    },
    {
      "cell_type": "code",
      "execution_count": 5,
      "metadata": {
        "colab": {
          "base_uri": "https://localhost:8080/"
        },
        "id": "X95o7WA7wn0G",
        "outputId": "cba7f526-d764-41e6-bbac-a43bb69e9ab4"
      },
      "outputs": [
        {
          "data": {
            "text/plain": [
              "5000.0"
            ]
          },
          "execution_count": 5,
          "metadata": {},
          "output_type": "execute_result"
        }
      ],
      "source": [
        "triangles = generate_polygon_vertices(1_000_000, 3)\n",
        "max([calculate_area(triangle) for triangle in triangles])"
      ]
    },
    {
      "cell_type": "markdown",
      "metadata": {},
      "source": [
        "Harder: Write a generator to replace the list comprehension instead of using a generator expression."
      ]
    },
    {
      "cell_type": "code",
      "execution_count": 6,
      "metadata": {},
      "outputs": [
        {
          "data": {
            "text/plain": [
              "5000.0"
            ]
          },
          "execution_count": 6,
          "metadata": {},
          "output_type": "execute_result"
        }
      ],
      "source": [
        "def calculate_areas(polygons):\n",
        "    for polygon in polygons:\n",
        "        yield(calculate_area(polygon))\n",
        "        \n",
        "triangles = generate_polygon_vertices(1_000_000, 3)\n",
        "max(calculate_areas(triangles))\n"
      ]
    },
    {
      "cell_type": "markdown",
      "metadata": {
        "id": "E8Imgplmwn0G"
      },
      "source": [
        "## 3.4) Compare memory use of lists vs. generators"
      ]
    },
    {
      "cell_type": "code",
      "execution_count": 2,
      "metadata": {},
      "outputs": [
        {
          "name": "stdout",
          "output_type": "stream",
          "text": [
            "32452069\n"
          ]
        }
      ],
      "source": [
        "import tracemalloc\n",
        "\n",
        "tracemalloc.start()\n",
        "\n",
        "triangles = generate_polygon_vertices(1_000_000, 3)\n",
        "max([calculate_area(triangle) for triangle in triangles])\n",
        "\n",
        "current, peak = tracemalloc.get_traced_memory()\n",
        "print(peak)"
      ]
    },
    {
      "cell_type": "code",
      "execution_count": 2,
      "metadata": {},
      "outputs": [
        {
          "name": "stdout",
          "output_type": "stream",
          "text": [
            "31073\n"
          ]
        }
      ],
      "source": [
        "import tracemalloc\n",
        "\n",
        "tracemalloc.start()\n",
        "\n",
        "triangles = generate_polygon_vertices(1_000_000, 3)\n",
        "max(calculate_area(triangle) for triangle in triangles)\n",
        "\n",
        "current, peak = tracemalloc.get_traced_memory()\n",
        "print(peak)"
      ]
    },
    {
      "cell_type": "markdown",
      "metadata": {},
      "source": [
        "## 3.5) Check execution speed of lists vs. generators"
      ]
    },
    {
      "cell_type": "code",
      "execution_count": 8,
      "metadata": {},
      "outputs": [
        {
          "name": "stdout",
          "output_type": "stream",
          "text": [
            "7.55 ms ± 40.6 μs per loop (mean ± std. dev. of 7 runs, 100 loops each)\n"
          ]
        }
      ],
      "source": [
        "%%timeit\n",
        "triangles = generate_polygon_vertices(1_000, 3)\n",
        "max([calculate_area(triangle) for triangle in triangles])"
      ]
    },
    {
      "cell_type": "code",
      "execution_count": 9,
      "metadata": {},
      "outputs": [
        {
          "name": "stdout",
          "output_type": "stream",
          "text": [
            "7.54 ms ± 32.5 μs per loop (mean ± std. dev. of 7 runs, 100 loops each)\n"
          ]
        }
      ],
      "source": [
        "\n",
        "%%timeit \n",
        "triangles = generate_polygon_vertices(1_000, 3)\n",
        "max(calculate_area(triangle) for triangle in triangles)"
      ]
    }
  ],
  "metadata": {
    "colab": {
      "provenance": []
    },
    "kernelspec": {
      "display_name": ".venv",
      "language": "python",
      "name": "python3"
    },
    "language_info": {
      "codemirror_mode": {
        "name": "ipython",
        "version": 3
      },
      "file_extension": ".py",
      "mimetype": "text/x-python",
      "name": "python",
      "nbconvert_exporter": "python",
      "pygments_lexer": "ipython3",
      "version": "3.13.1"
    }
  },
  "nbformat": 4,
  "nbformat_minor": 0
}
